{
 "cells": [
  {
   "cell_type": "markdown",
   "metadata": {
    "colab_type": "text",
    "id": "zfsiaKcDho8W"
   },
   "source": [
    "### The data set has information about features of silhouette extracted from the images of different cars\n",
    "\n",
    "Four \"Corgie\" model vehicles were used for the experiment: a double decker bus, Cheverolet van, Saab 9000 and an Opel Manta 400 cars. This particular combination of vehicles was chosen with the expectation that the bus, van and either one of the cars would be readily distinguishable, but it would be more difficult to distinguish between the cars.\n",
    "\n"
   ]
  },
  {
   "cell_type": "code",
   "execution_count": 277,
   "metadata": {},
   "outputs": [],
   "source": [
    "# To enable plotting graphs in Jupyter notebook\n",
    "%matplotlib inline \n",
    "# Numerical libraries\n",
    "import numpy as np   \n",
    "from sklearn.cluster import KMeans\n",
    "# to handle data in form of rows and columns \n",
    "import pandas as pd    \n",
    "# importing ploting libraries\n",
    "import matplotlib.pyplot as plt   \n",
    "from sklearn import metrics\n",
    "from sklearn.cluster import KMeans\n",
    "from sklearn.cluster import AgglomerativeClustering\n",
    "import matplotlib.pyplot as plt\n",
    "import scipy.cluster.hierarchy as sch\n",
    "from scipy.cluster.hierarchy import cophenet, dendrogram, linkage\n",
    "from scipy.spatial.distance import pdist"
   ]
  },
  {
   "cell_type": "markdown",
   "metadata": {
    "colab_type": "text",
    "id": "kVtZqLhGho8c"
   },
   "source": [
    "### 1. Read the dataset using function .dropna() - to avoid dealing with NAs as of now"
   ]
  },
  {
   "cell_type": "code",
   "execution_count": 216,
   "metadata": {
    "colab": {},
    "colab_type": "code",
    "id": "VbKTspg4ho8g"
   },
   "outputs": [],
   "source": [
    "data = pd.read_csv(\"vehicle.csv\")"
   ]
  },
  {
   "cell_type": "code",
   "execution_count": 217,
   "metadata": {},
   "outputs": [
    {
     "name": "stdout",
     "output_type": "stream",
     "text": [
      "<class 'pandas.core.frame.DataFrame'>\n",
      "RangeIndex: 846 entries, 0 to 845\n",
      "Data columns (total 19 columns):\n",
      "compactness                    846 non-null int64\n",
      "circularity                    841 non-null float64\n",
      "distance_circularity           842 non-null float64\n",
      "radius_ratio                   840 non-null float64\n",
      "pr.axis_aspect_ratio           844 non-null float64\n",
      "max.length_aspect_ratio        846 non-null int64\n",
      "scatter_ratio                  845 non-null float64\n",
      "elongatedness                  845 non-null float64\n",
      "pr.axis_rectangularity         843 non-null float64\n",
      "max.length_rectangularity      846 non-null int64\n",
      "scaled_variance                843 non-null float64\n",
      "scaled_variance.1              844 non-null float64\n",
      "scaled_radius_of_gyration      844 non-null float64\n",
      "scaled_radius_of_gyration.1    842 non-null float64\n",
      "skewness_about                 840 non-null float64\n",
      "skewness_about.1               845 non-null float64\n",
      "skewness_about.2               845 non-null float64\n",
      "hollows_ratio                  846 non-null int64\n",
      "class                          846 non-null object\n",
      "dtypes: float64(14), int64(4), object(1)\n",
      "memory usage: 125.7+ KB\n"
     ]
    }
   ],
   "source": [
    "data.info()"
   ]
  },
  {
   "cell_type": "code",
   "execution_count": 218,
   "metadata": {},
   "outputs": [
    {
     "name": "stdout",
     "output_type": "stream",
     "text": [
      "<class 'pandas.core.frame.DataFrame'>\n",
      "Int64Index: 813 entries, 0 to 845\n",
      "Data columns (total 19 columns):\n",
      "compactness                    813 non-null int64\n",
      "circularity                    813 non-null float64\n",
      "distance_circularity           813 non-null float64\n",
      "radius_ratio                   813 non-null float64\n",
      "pr.axis_aspect_ratio           813 non-null float64\n",
      "max.length_aspect_ratio        813 non-null int64\n",
      "scatter_ratio                  813 non-null float64\n",
      "elongatedness                  813 non-null float64\n",
      "pr.axis_rectangularity         813 non-null float64\n",
      "max.length_rectangularity      813 non-null int64\n",
      "scaled_variance                813 non-null float64\n",
      "scaled_variance.1              813 non-null float64\n",
      "scaled_radius_of_gyration      813 non-null float64\n",
      "scaled_radius_of_gyration.1    813 non-null float64\n",
      "skewness_about                 813 non-null float64\n",
      "skewness_about.1               813 non-null float64\n",
      "skewness_about.2               813 non-null float64\n",
      "hollows_ratio                  813 non-null int64\n",
      "class                          813 non-null object\n",
      "dtypes: float64(14), int64(4), object(1)\n",
      "memory usage: 127.0+ KB\n"
     ]
    }
   ],
   "source": [
    "data.dropna(inplace=True)\n",
    "data.info()"
   ]
  },
  {
   "cell_type": "code",
   "execution_count": 219,
   "metadata": {},
   "outputs": [
    {
     "data": {
      "text/html": [
       "<div>\n",
       "<style scoped>\n",
       "    .dataframe tbody tr th:only-of-type {\n",
       "        vertical-align: middle;\n",
       "    }\n",
       "\n",
       "    .dataframe tbody tr th {\n",
       "        vertical-align: top;\n",
       "    }\n",
       "\n",
       "    .dataframe thead th {\n",
       "        text-align: right;\n",
       "    }\n",
       "</style>\n",
       "<table border=\"1\" class=\"dataframe\">\n",
       "  <thead>\n",
       "    <tr style=\"text-align: right;\">\n",
       "      <th></th>\n",
       "      <th>compactness</th>\n",
       "      <th>circularity</th>\n",
       "      <th>distance_circularity</th>\n",
       "      <th>radius_ratio</th>\n",
       "      <th>pr.axis_aspect_ratio</th>\n",
       "      <th>max.length_aspect_ratio</th>\n",
       "      <th>scatter_ratio</th>\n",
       "      <th>elongatedness</th>\n",
       "      <th>pr.axis_rectangularity</th>\n",
       "      <th>max.length_rectangularity</th>\n",
       "      <th>scaled_variance</th>\n",
       "      <th>scaled_variance.1</th>\n",
       "      <th>scaled_radius_of_gyration</th>\n",
       "      <th>scaled_radius_of_gyration.1</th>\n",
       "      <th>skewness_about</th>\n",
       "      <th>skewness_about.1</th>\n",
       "      <th>skewness_about.2</th>\n",
       "      <th>hollows_ratio</th>\n",
       "      <th>class</th>\n",
       "    </tr>\n",
       "  </thead>\n",
       "  <tbody>\n",
       "    <tr>\n",
       "      <th>0</th>\n",
       "      <td>95</td>\n",
       "      <td>48.0</td>\n",
       "      <td>83.0</td>\n",
       "      <td>178.0</td>\n",
       "      <td>72.0</td>\n",
       "      <td>10</td>\n",
       "      <td>162.0</td>\n",
       "      <td>42.0</td>\n",
       "      <td>20.0</td>\n",
       "      <td>159</td>\n",
       "      <td>176.0</td>\n",
       "      <td>379.0</td>\n",
       "      <td>184.0</td>\n",
       "      <td>70.0</td>\n",
       "      <td>6.0</td>\n",
       "      <td>16.0</td>\n",
       "      <td>187.0</td>\n",
       "      <td>197</td>\n",
       "      <td>van</td>\n",
       "    </tr>\n",
       "    <tr>\n",
       "      <th>1</th>\n",
       "      <td>91</td>\n",
       "      <td>41.0</td>\n",
       "      <td>84.0</td>\n",
       "      <td>141.0</td>\n",
       "      <td>57.0</td>\n",
       "      <td>9</td>\n",
       "      <td>149.0</td>\n",
       "      <td>45.0</td>\n",
       "      <td>19.0</td>\n",
       "      <td>143</td>\n",
       "      <td>170.0</td>\n",
       "      <td>330.0</td>\n",
       "      <td>158.0</td>\n",
       "      <td>72.0</td>\n",
       "      <td>9.0</td>\n",
       "      <td>14.0</td>\n",
       "      <td>189.0</td>\n",
       "      <td>199</td>\n",
       "      <td>van</td>\n",
       "    </tr>\n",
       "    <tr>\n",
       "      <th>2</th>\n",
       "      <td>104</td>\n",
       "      <td>50.0</td>\n",
       "      <td>106.0</td>\n",
       "      <td>209.0</td>\n",
       "      <td>66.0</td>\n",
       "      <td>10</td>\n",
       "      <td>207.0</td>\n",
       "      <td>32.0</td>\n",
       "      <td>23.0</td>\n",
       "      <td>158</td>\n",
       "      <td>223.0</td>\n",
       "      <td>635.0</td>\n",
       "      <td>220.0</td>\n",
       "      <td>73.0</td>\n",
       "      <td>14.0</td>\n",
       "      <td>9.0</td>\n",
       "      <td>188.0</td>\n",
       "      <td>196</td>\n",
       "      <td>car</td>\n",
       "    </tr>\n",
       "    <tr>\n",
       "      <th>3</th>\n",
       "      <td>93</td>\n",
       "      <td>41.0</td>\n",
       "      <td>82.0</td>\n",
       "      <td>159.0</td>\n",
       "      <td>63.0</td>\n",
       "      <td>9</td>\n",
       "      <td>144.0</td>\n",
       "      <td>46.0</td>\n",
       "      <td>19.0</td>\n",
       "      <td>143</td>\n",
       "      <td>160.0</td>\n",
       "      <td>309.0</td>\n",
       "      <td>127.0</td>\n",
       "      <td>63.0</td>\n",
       "      <td>6.0</td>\n",
       "      <td>10.0</td>\n",
       "      <td>199.0</td>\n",
       "      <td>207</td>\n",
       "      <td>van</td>\n",
       "    </tr>\n",
       "    <tr>\n",
       "      <th>4</th>\n",
       "      <td>85</td>\n",
       "      <td>44.0</td>\n",
       "      <td>70.0</td>\n",
       "      <td>205.0</td>\n",
       "      <td>103.0</td>\n",
       "      <td>52</td>\n",
       "      <td>149.0</td>\n",
       "      <td>45.0</td>\n",
       "      <td>19.0</td>\n",
       "      <td>144</td>\n",
       "      <td>241.0</td>\n",
       "      <td>325.0</td>\n",
       "      <td>188.0</td>\n",
       "      <td>127.0</td>\n",
       "      <td>9.0</td>\n",
       "      <td>11.0</td>\n",
       "      <td>180.0</td>\n",
       "      <td>183</td>\n",
       "      <td>bus</td>\n",
       "    </tr>\n",
       "  </tbody>\n",
       "</table>\n",
       "</div>"
      ],
      "text/plain": [
       "   compactness  circularity  distance_circularity  radius_ratio  \\\n",
       "0           95         48.0                  83.0         178.0   \n",
       "1           91         41.0                  84.0         141.0   \n",
       "2          104         50.0                 106.0         209.0   \n",
       "3           93         41.0                  82.0         159.0   \n",
       "4           85         44.0                  70.0         205.0   \n",
       "\n",
       "   pr.axis_aspect_ratio  max.length_aspect_ratio  scatter_ratio  \\\n",
       "0                  72.0                       10          162.0   \n",
       "1                  57.0                        9          149.0   \n",
       "2                  66.0                       10          207.0   \n",
       "3                  63.0                        9          144.0   \n",
       "4                 103.0                       52          149.0   \n",
       "\n",
       "   elongatedness  pr.axis_rectangularity  max.length_rectangularity  \\\n",
       "0           42.0                    20.0                        159   \n",
       "1           45.0                    19.0                        143   \n",
       "2           32.0                    23.0                        158   \n",
       "3           46.0                    19.0                        143   \n",
       "4           45.0                    19.0                        144   \n",
       "\n",
       "   scaled_variance  scaled_variance.1  scaled_radius_of_gyration  \\\n",
       "0            176.0              379.0                      184.0   \n",
       "1            170.0              330.0                      158.0   \n",
       "2            223.0              635.0                      220.0   \n",
       "3            160.0              309.0                      127.0   \n",
       "4            241.0              325.0                      188.0   \n",
       "\n",
       "   scaled_radius_of_gyration.1  skewness_about  skewness_about.1  \\\n",
       "0                         70.0             6.0              16.0   \n",
       "1                         72.0             9.0              14.0   \n",
       "2                         73.0            14.0               9.0   \n",
       "3                         63.0             6.0              10.0   \n",
       "4                        127.0             9.0              11.0   \n",
       "\n",
       "   skewness_about.2  hollows_ratio class  \n",
       "0             187.0            197   van  \n",
       "1             189.0            199   van  \n",
       "2             188.0            196   car  \n",
       "3             199.0            207   van  \n",
       "4             180.0            183   bus  "
      ]
     },
     "execution_count": 219,
     "metadata": {},
     "output_type": "execute_result"
    }
   ],
   "source": [
    "data.head(5)"
   ]
  },
  {
   "cell_type": "markdown",
   "metadata": {
    "colab_type": "text",
    "id": "Ku4eS0ZAho8s"
   },
   "source": [
    "### 2. Print/ Plot the dependent (categorical variable) - Class column"
   ]
  },
  {
   "cell_type": "markdown",
   "metadata": {
    "colab_type": "text",
    "id": "R1mfF_hiho8v"
   },
   "source": [
    "Since the variable is categorical, you can use value_counts function"
   ]
  },
  {
   "cell_type": "code",
   "execution_count": 220,
   "metadata": {
    "colab": {},
    "colab_type": "code",
    "id": "_dP5-zpUho81"
   },
   "outputs": [
    {
     "data": {
      "text/plain": [
       "car    413\n",
       "bus    205\n",
       "van    195\n",
       "Name: class, dtype: int64"
      ]
     },
     "execution_count": 220,
     "metadata": {},
     "output_type": "execute_result"
    }
   ],
   "source": [
    "pd.value_counts(data['class'])"
   ]
  },
  {
   "cell_type": "markdown",
   "metadata": {
    "colab_type": "text",
    "id": "ZFsXYI5qho9E"
   },
   "source": [
    "### Check for any missing values in the data "
   ]
  },
  {
   "cell_type": "code",
   "execution_count": 221,
   "metadata": {
    "colab": {},
    "colab_type": "code",
    "id": "qb77DNfwho9J"
   },
   "outputs": [
    {
     "name": "stdout",
     "output_type": "stream",
     "text": [
      "<class 'pandas.core.frame.DataFrame'>\n",
      "Int64Index: 813 entries, 0 to 845\n",
      "Data columns (total 19 columns):\n",
      "compactness                    813 non-null int64\n",
      "circularity                    813 non-null float64\n",
      "distance_circularity           813 non-null float64\n",
      "radius_ratio                   813 non-null float64\n",
      "pr.axis_aspect_ratio           813 non-null float64\n",
      "max.length_aspect_ratio        813 non-null int64\n",
      "scatter_ratio                  813 non-null float64\n",
      "elongatedness                  813 non-null float64\n",
      "pr.axis_rectangularity         813 non-null float64\n",
      "max.length_rectangularity      813 non-null int64\n",
      "scaled_variance                813 non-null float64\n",
      "scaled_variance.1              813 non-null float64\n",
      "scaled_radius_of_gyration      813 non-null float64\n",
      "scaled_radius_of_gyration.1    813 non-null float64\n",
      "skewness_about                 813 non-null float64\n",
      "skewness_about.1               813 non-null float64\n",
      "skewness_about.2               813 non-null float64\n",
      "hollows_ratio                  813 non-null int64\n",
      "class                          813 non-null object\n",
      "dtypes: float64(14), int64(4), object(1)\n",
      "memory usage: 127.0+ KB\n"
     ]
    }
   ],
   "source": [
    "data.info()"
   ]
  },
  {
   "cell_type": "markdown",
   "metadata": {
    "colab_type": "text",
    "id": "AwUdJm9qho9U"
   },
   "source": [
    "### 3. Standardize the data "
   ]
  },
  {
   "cell_type": "markdown",
   "metadata": {
    "colab_type": "text",
    "id": "x6z10bgjho9j"
   },
   "source": [
    "Since the dimensions of the data are not really known to us, it would be wise to standardize the data using z scores before we go for any clustering methods.\n",
    "You can use zscore function to do this"
   ]
  },
  {
   "cell_type": "code",
   "execution_count": 222,
   "metadata": {},
   "outputs": [],
   "source": [
    "data = data.drop(labels = \"class\", axis = 1)"
   ]
  },
  {
   "cell_type": "code",
   "execution_count": 223,
   "metadata": {},
   "outputs": [
    {
     "data": {
      "text/html": [
       "<div>\n",
       "<style scoped>\n",
       "    .dataframe tbody tr th:only-of-type {\n",
       "        vertical-align: middle;\n",
       "    }\n",
       "\n",
       "    .dataframe tbody tr th {\n",
       "        vertical-align: top;\n",
       "    }\n",
       "\n",
       "    .dataframe thead th {\n",
       "        text-align: right;\n",
       "    }\n",
       "</style>\n",
       "<table border=\"1\" class=\"dataframe\">\n",
       "  <thead>\n",
       "    <tr style=\"text-align: right;\">\n",
       "      <th></th>\n",
       "      <th>compactness</th>\n",
       "      <th>circularity</th>\n",
       "      <th>distance_circularity</th>\n",
       "      <th>radius_ratio</th>\n",
       "      <th>pr.axis_aspect_ratio</th>\n",
       "      <th>max.length_aspect_ratio</th>\n",
       "      <th>scatter_ratio</th>\n",
       "      <th>elongatedness</th>\n",
       "      <th>pr.axis_rectangularity</th>\n",
       "      <th>max.length_rectangularity</th>\n",
       "      <th>scaled_variance</th>\n",
       "      <th>scaled_variance.1</th>\n",
       "      <th>scaled_radius_of_gyration</th>\n",
       "      <th>scaled_radius_of_gyration.1</th>\n",
       "      <th>skewness_about</th>\n",
       "      <th>skewness_about.1</th>\n",
       "      <th>skewness_about.2</th>\n",
       "      <th>hollows_ratio</th>\n",
       "    </tr>\n",
       "  </thead>\n",
       "  <tbody>\n",
       "    <tr>\n",
       "      <th>0</th>\n",
       "      <td>95</td>\n",
       "      <td>48.0</td>\n",
       "      <td>83.0</td>\n",
       "      <td>178.0</td>\n",
       "      <td>72.0</td>\n",
       "      <td>10</td>\n",
       "      <td>162.0</td>\n",
       "      <td>42.0</td>\n",
       "      <td>20.0</td>\n",
       "      <td>159</td>\n",
       "      <td>176.0</td>\n",
       "      <td>379.0</td>\n",
       "      <td>184.0</td>\n",
       "      <td>70.0</td>\n",
       "      <td>6.0</td>\n",
       "      <td>16.0</td>\n",
       "      <td>187.0</td>\n",
       "      <td>197</td>\n",
       "    </tr>\n",
       "    <tr>\n",
       "      <th>1</th>\n",
       "      <td>91</td>\n",
       "      <td>41.0</td>\n",
       "      <td>84.0</td>\n",
       "      <td>141.0</td>\n",
       "      <td>57.0</td>\n",
       "      <td>9</td>\n",
       "      <td>149.0</td>\n",
       "      <td>45.0</td>\n",
       "      <td>19.0</td>\n",
       "      <td>143</td>\n",
       "      <td>170.0</td>\n",
       "      <td>330.0</td>\n",
       "      <td>158.0</td>\n",
       "      <td>72.0</td>\n",
       "      <td>9.0</td>\n",
       "      <td>14.0</td>\n",
       "      <td>189.0</td>\n",
       "      <td>199</td>\n",
       "    </tr>\n",
       "    <tr>\n",
       "      <th>2</th>\n",
       "      <td>104</td>\n",
       "      <td>50.0</td>\n",
       "      <td>106.0</td>\n",
       "      <td>209.0</td>\n",
       "      <td>66.0</td>\n",
       "      <td>10</td>\n",
       "      <td>207.0</td>\n",
       "      <td>32.0</td>\n",
       "      <td>23.0</td>\n",
       "      <td>158</td>\n",
       "      <td>223.0</td>\n",
       "      <td>635.0</td>\n",
       "      <td>220.0</td>\n",
       "      <td>73.0</td>\n",
       "      <td>14.0</td>\n",
       "      <td>9.0</td>\n",
       "      <td>188.0</td>\n",
       "      <td>196</td>\n",
       "    </tr>\n",
       "    <tr>\n",
       "      <th>3</th>\n",
       "      <td>93</td>\n",
       "      <td>41.0</td>\n",
       "      <td>82.0</td>\n",
       "      <td>159.0</td>\n",
       "      <td>63.0</td>\n",
       "      <td>9</td>\n",
       "      <td>144.0</td>\n",
       "      <td>46.0</td>\n",
       "      <td>19.0</td>\n",
       "      <td>143</td>\n",
       "      <td>160.0</td>\n",
       "      <td>309.0</td>\n",
       "      <td>127.0</td>\n",
       "      <td>63.0</td>\n",
       "      <td>6.0</td>\n",
       "      <td>10.0</td>\n",
       "      <td>199.0</td>\n",
       "      <td>207</td>\n",
       "    </tr>\n",
       "    <tr>\n",
       "      <th>4</th>\n",
       "      <td>85</td>\n",
       "      <td>44.0</td>\n",
       "      <td>70.0</td>\n",
       "      <td>205.0</td>\n",
       "      <td>103.0</td>\n",
       "      <td>52</td>\n",
       "      <td>149.0</td>\n",
       "      <td>45.0</td>\n",
       "      <td>19.0</td>\n",
       "      <td>144</td>\n",
       "      <td>241.0</td>\n",
       "      <td>325.0</td>\n",
       "      <td>188.0</td>\n",
       "      <td>127.0</td>\n",
       "      <td>9.0</td>\n",
       "      <td>11.0</td>\n",
       "      <td>180.0</td>\n",
       "      <td>183</td>\n",
       "    </tr>\n",
       "  </tbody>\n",
       "</table>\n",
       "</div>"
      ],
      "text/plain": [
       "   compactness  circularity  distance_circularity  radius_ratio  \\\n",
       "0           95         48.0                  83.0         178.0   \n",
       "1           91         41.0                  84.0         141.0   \n",
       "2          104         50.0                 106.0         209.0   \n",
       "3           93         41.0                  82.0         159.0   \n",
       "4           85         44.0                  70.0         205.0   \n",
       "\n",
       "   pr.axis_aspect_ratio  max.length_aspect_ratio  scatter_ratio  \\\n",
       "0                  72.0                       10          162.0   \n",
       "1                  57.0                        9          149.0   \n",
       "2                  66.0                       10          207.0   \n",
       "3                  63.0                        9          144.0   \n",
       "4                 103.0                       52          149.0   \n",
       "\n",
       "   elongatedness  pr.axis_rectangularity  max.length_rectangularity  \\\n",
       "0           42.0                    20.0                        159   \n",
       "1           45.0                    19.0                        143   \n",
       "2           32.0                    23.0                        158   \n",
       "3           46.0                    19.0                        143   \n",
       "4           45.0                    19.0                        144   \n",
       "\n",
       "   scaled_variance  scaled_variance.1  scaled_radius_of_gyration  \\\n",
       "0            176.0              379.0                      184.0   \n",
       "1            170.0              330.0                      158.0   \n",
       "2            223.0              635.0                      220.0   \n",
       "3            160.0              309.0                      127.0   \n",
       "4            241.0              325.0                      188.0   \n",
       "\n",
       "   scaled_radius_of_gyration.1  skewness_about  skewness_about.1  \\\n",
       "0                         70.0             6.0              16.0   \n",
       "1                         72.0             9.0              14.0   \n",
       "2                         73.0            14.0               9.0   \n",
       "3                         63.0             6.0              10.0   \n",
       "4                        127.0             9.0              11.0   \n",
       "\n",
       "   skewness_about.2  hollows_ratio  \n",
       "0             187.0            197  \n",
       "1             189.0            199  \n",
       "2             188.0            196  \n",
       "3             199.0            207  \n",
       "4             180.0            183  "
      ]
     },
     "execution_count": 223,
     "metadata": {},
     "output_type": "execute_result"
    }
   ],
   "source": [
    "data.head(5)"
   ]
  },
  {
   "cell_type": "code",
   "execution_count": 189,
   "metadata": {},
   "outputs": [],
   "source": [
    "data.to_excel('Cars.xlsx')"
   ]
  },
  {
   "cell_type": "code",
   "execution_count": 225,
   "metadata": {
    "colab": {},
    "colab_type": "code",
    "id": "qed3MlPjho9n"
   },
   "outputs": [
    {
     "name": "stderr",
     "output_type": "stream",
     "text": [
      "C:\\Users\\aakas\\Anaconda3\\lib\\site-packages\\sklearn\\preprocessing\\data.py:645: DataConversionWarning: Data with input dtype int64, float64 were all converted to float64 by StandardScaler.\n",
      "  return self.partial_fit(X, y)\n",
      "C:\\Users\\aakas\\Anaconda3\\lib\\site-packages\\sklearn\\base.py:464: DataConversionWarning: Data with input dtype int64, float64 were all converted to float64 by StandardScaler.\n",
      "  return self.fit(X, **fit_params).transform(X)\n"
     ]
    }
   ],
   "source": [
    "# standardizing the data\n",
    "from sklearn.preprocessing import StandardScaler\n",
    "scaler = StandardScaler()\n",
    "X = scaler.fit_transform(data)"
   ]
  },
  {
   "cell_type": "code",
   "execution_count": 226,
   "metadata": {
    "colab": {},
    "colab_type": "code",
    "id": "pbGN_7mhho9y"
   },
   "outputs": [
    {
     "data": {
      "text/html": [
       "<div>\n",
       "<style scoped>\n",
       "    .dataframe tbody tr th:only-of-type {\n",
       "        vertical-align: middle;\n",
       "    }\n",
       "\n",
       "    .dataframe tbody tr th {\n",
       "        vertical-align: top;\n",
       "    }\n",
       "\n",
       "    .dataframe thead th {\n",
       "        text-align: right;\n",
       "    }\n",
       "</style>\n",
       "<table border=\"1\" class=\"dataframe\">\n",
       "  <thead>\n",
       "    <tr style=\"text-align: right;\">\n",
       "      <th></th>\n",
       "      <th>0</th>\n",
       "      <th>1</th>\n",
       "      <th>2</th>\n",
       "      <th>3</th>\n",
       "      <th>4</th>\n",
       "      <th>5</th>\n",
       "      <th>6</th>\n",
       "      <th>7</th>\n",
       "      <th>8</th>\n",
       "      <th>9</th>\n",
       "      <th>10</th>\n",
       "      <th>11</th>\n",
       "      <th>12</th>\n",
       "      <th>13</th>\n",
       "      <th>14</th>\n",
       "      <th>15</th>\n",
       "      <th>16</th>\n",
       "      <th>17</th>\n",
       "    </tr>\n",
       "  </thead>\n",
       "  <tbody>\n",
       "    <tr>\n",
       "      <th>count</th>\n",
       "      <td>8.130000e+02</td>\n",
       "      <td>8.130000e+02</td>\n",
       "      <td>8.130000e+02</td>\n",
       "      <td>8.130000e+02</td>\n",
       "      <td>8.130000e+02</td>\n",
       "      <td>8.130000e+02</td>\n",
       "      <td>8.130000e+02</td>\n",
       "      <td>8.130000e+02</td>\n",
       "      <td>8.130000e+02</td>\n",
       "      <td>8.130000e+02</td>\n",
       "      <td>8.130000e+02</td>\n",
       "      <td>8.130000e+02</td>\n",
       "      <td>8.130000e+02</td>\n",
       "      <td>8.130000e+02</td>\n",
       "      <td>8.130000e+02</td>\n",
       "      <td>8.130000e+02</td>\n",
       "      <td>8.130000e+02</td>\n",
       "      <td>8.130000e+02</td>\n",
       "    </tr>\n",
       "    <tr>\n",
       "      <th>mean</th>\n",
       "      <td>-2.425284e-16</td>\n",
       "      <td>-4.642999e-16</td>\n",
       "      <td>-2.351542e-16</td>\n",
       "      <td>3.665238e-16</td>\n",
       "      <td>-2.047016e-16</td>\n",
       "      <td>-1.349201e-16</td>\n",
       "      <td>3.714399e-16</td>\n",
       "      <td>-2.062038e-16</td>\n",
       "      <td>-2.651972e-16</td>\n",
       "      <td>-7.398756e-16</td>\n",
       "      <td>-3.031605e-17</td>\n",
       "      <td>-3.550529e-17</td>\n",
       "      <td>3.348422e-16</td>\n",
       "      <td>1.312159e-16</td>\n",
       "      <td>-1.693329e-17</td>\n",
       "      <td>9.845889e-17</td>\n",
       "      <td>-1.169490e-15</td>\n",
       "      <td>3.482249e-16</td>\n",
       "    </tr>\n",
       "    <tr>\n",
       "      <th>std</th>\n",
       "      <td>1.000616e+00</td>\n",
       "      <td>1.000616e+00</td>\n",
       "      <td>1.000616e+00</td>\n",
       "      <td>1.000616e+00</td>\n",
       "      <td>1.000616e+00</td>\n",
       "      <td>1.000616e+00</td>\n",
       "      <td>1.000616e+00</td>\n",
       "      <td>1.000616e+00</td>\n",
       "      <td>1.000616e+00</td>\n",
       "      <td>1.000616e+00</td>\n",
       "      <td>1.000616e+00</td>\n",
       "      <td>1.000616e+00</td>\n",
       "      <td>1.000616e+00</td>\n",
       "      <td>1.000616e+00</td>\n",
       "      <td>1.000616e+00</td>\n",
       "      <td>1.000616e+00</td>\n",
       "      <td>1.000616e+00</td>\n",
       "      <td>1.000616e+00</td>\n",
       "    </tr>\n",
       "    <tr>\n",
       "      <th>min</th>\n",
       "      <td>-2.510344e+00</td>\n",
       "      <td>-1.921444e+00</td>\n",
       "      <td>-2.665447e+00</td>\n",
       "      <td>-1.937757e+00</td>\n",
       "      <td>-1.854258e+00</td>\n",
       "      <td>-1.411767e+00</td>\n",
       "      <td>-1.710835e+00</td>\n",
       "      <td>-1.922008e+00</td>\n",
       "      <td>-1.383740e+00</td>\n",
       "      <td>-2.062109e+00</td>\n",
       "      <td>-1.874279e+00</td>\n",
       "      <td>-1.452266e+00</td>\n",
       "      <td>-2.019423e+00</td>\n",
       "      <td>-1.793474e+00</td>\n",
       "      <td>-1.291420e+00</td>\n",
       "      <td>-1.422141e+00</td>\n",
       "      <td>-2.110457e+00</td>\n",
       "      <td>-1.992013e+00</td>\n",
       "    </tr>\n",
       "    <tr>\n",
       "      <th>25%</th>\n",
       "      <td>-8.089782e-01</td>\n",
       "      <td>-7.819133e-01</td>\n",
       "      <td>-7.635057e-01</td>\n",
       "      <td>-8.363933e-01</td>\n",
       "      <td>-5.992534e-01</td>\n",
       "      <td>-3.420870e-01</td>\n",
       "      <td>-6.824590e-01</td>\n",
       "      <td>-1.024408e+00</td>\n",
       "      <td>-6.060138e-01</td>\n",
       "      <td>-7.513773e-01</td>\n",
       "      <td>-6.863524e-01</td>\n",
       "      <td>-6.872619e-01</td>\n",
       "      <td>-7.815035e-01</td>\n",
       "      <td>-7.227236e-01</td>\n",
       "      <td>-8.847879e-01</td>\n",
       "      <td>-7.496057e-01</td>\n",
       "      <td>-8.096219e-01</td>\n",
       "      <td>-6.396066e-01</td>\n",
       "    </tr>\n",
       "    <tr>\n",
       "      <th>50%</th>\n",
       "      <td>-7.982157e-02</td>\n",
       "      <td>-1.307527e-01</td>\n",
       "      <td>-1.929234e-01</td>\n",
       "      <td>-6.246222e-02</td>\n",
       "      <td>-9.725132e-02</td>\n",
       "      <td>-1.281510e-01</td>\n",
       "      <td>-3.497491e-01</td>\n",
       "      <td>2.578765e-01</td>\n",
       "      <td>-2.171510e-01</td>\n",
       "      <td>-1.305046e-01</td>\n",
       "      <td>-3.010789e-01</td>\n",
       "      <td>-4.246486e-01</td>\n",
       "      <td>-3.875161e-02</td>\n",
       "      <td>-1.873484e-01</td>\n",
       "      <td>-7.152328e-02</td>\n",
       "      <td>-1.891593e-01</td>\n",
       "      <td>3.400092e-03</td>\n",
       "      <td>1.718371e-01</td>\n",
       "    </tr>\n",
       "    <tr>\n",
       "      <th>75%</th>\n",
       "      <td>7.708611e-01</td>\n",
       "      <td>6.831980e-01</td>\n",
       "      <td>1.011639e+00</td>\n",
       "      <td>7.710020e-01</td>\n",
       "      <td>4.047507e-01</td>\n",
       "      <td>2.997208e-01</td>\n",
       "      <td>8.903515e-01</td>\n",
       "      <td>6.425619e-01</td>\n",
       "      <td>9.494376e-01</td>\n",
       "      <td>7.663115e-01</td>\n",
       "      <td>9.189540e-01</td>\n",
       "      <td>8.427456e-01</td>\n",
       "      <td>7.349483e-01</td>\n",
       "      <td>3.480268e-01</td>\n",
       "      <td>5.384252e-01</td>\n",
       "      <td>7.075550e-01</td>\n",
       "      <td>6.538177e-01</td>\n",
       "      <td>7.127995e-01</td>\n",
       "    </tr>\n",
       "    <tr>\n",
       "      <th>max</th>\n",
       "      <td>3.079857e+00</td>\n",
       "      <td>2.311100e+00</td>\n",
       "      <td>1.899212e+00</td>\n",
       "      <td>4.878790e+00</td>\n",
       "      <td>9.566288e+00</td>\n",
       "      <td>9.926837e+00</td>\n",
       "      <td>2.916857e+00</td>\n",
       "      <td>2.565989e+00</td>\n",
       "      <td>3.282615e+00</td>\n",
       "      <td>2.766901e+00</td>\n",
       "      <td>4.225885e+00</td>\n",
       "      <td>3.309026e+00</td>\n",
       "      <td>2.901308e+00</td>\n",
       "      <td>8.378655e+00</td>\n",
       "      <td>3.181535e+00</td>\n",
       "      <td>3.173519e+00</td>\n",
       "      <td>2.767675e+00</td>\n",
       "      <td>2.065206e+00</td>\n",
       "    </tr>\n",
       "  </tbody>\n",
       "</table>\n",
       "</div>"
      ],
      "text/plain": [
       "                 0             1             2             3             4   \\\n",
       "count  8.130000e+02  8.130000e+02  8.130000e+02  8.130000e+02  8.130000e+02   \n",
       "mean  -2.425284e-16 -4.642999e-16 -2.351542e-16  3.665238e-16 -2.047016e-16   \n",
       "std    1.000616e+00  1.000616e+00  1.000616e+00  1.000616e+00  1.000616e+00   \n",
       "min   -2.510344e+00 -1.921444e+00 -2.665447e+00 -1.937757e+00 -1.854258e+00   \n",
       "25%   -8.089782e-01 -7.819133e-01 -7.635057e-01 -8.363933e-01 -5.992534e-01   \n",
       "50%   -7.982157e-02 -1.307527e-01 -1.929234e-01 -6.246222e-02 -9.725132e-02   \n",
       "75%    7.708611e-01  6.831980e-01  1.011639e+00  7.710020e-01  4.047507e-01   \n",
       "max    3.079857e+00  2.311100e+00  1.899212e+00  4.878790e+00  9.566288e+00   \n",
       "\n",
       "                 5             6             7             8             9   \\\n",
       "count  8.130000e+02  8.130000e+02  8.130000e+02  8.130000e+02  8.130000e+02   \n",
       "mean  -1.349201e-16  3.714399e-16 -2.062038e-16 -2.651972e-16 -7.398756e-16   \n",
       "std    1.000616e+00  1.000616e+00  1.000616e+00  1.000616e+00  1.000616e+00   \n",
       "min   -1.411767e+00 -1.710835e+00 -1.922008e+00 -1.383740e+00 -2.062109e+00   \n",
       "25%   -3.420870e-01 -6.824590e-01 -1.024408e+00 -6.060138e-01 -7.513773e-01   \n",
       "50%   -1.281510e-01 -3.497491e-01  2.578765e-01 -2.171510e-01 -1.305046e-01   \n",
       "75%    2.997208e-01  8.903515e-01  6.425619e-01  9.494376e-01  7.663115e-01   \n",
       "max    9.926837e+00  2.916857e+00  2.565989e+00  3.282615e+00  2.766901e+00   \n",
       "\n",
       "                 10            11            12            13            14  \\\n",
       "count  8.130000e+02  8.130000e+02  8.130000e+02  8.130000e+02  8.130000e+02   \n",
       "mean  -3.031605e-17 -3.550529e-17  3.348422e-16  1.312159e-16 -1.693329e-17   \n",
       "std    1.000616e+00  1.000616e+00  1.000616e+00  1.000616e+00  1.000616e+00   \n",
       "min   -1.874279e+00 -1.452266e+00 -2.019423e+00 -1.793474e+00 -1.291420e+00   \n",
       "25%   -6.863524e-01 -6.872619e-01 -7.815035e-01 -7.227236e-01 -8.847879e-01   \n",
       "50%   -3.010789e-01 -4.246486e-01 -3.875161e-02 -1.873484e-01 -7.152328e-02   \n",
       "75%    9.189540e-01  8.427456e-01  7.349483e-01  3.480268e-01  5.384252e-01   \n",
       "max    4.225885e+00  3.309026e+00  2.901308e+00  8.378655e+00  3.181535e+00   \n",
       "\n",
       "                 15            16            17  \n",
       "count  8.130000e+02  8.130000e+02  8.130000e+02  \n",
       "mean   9.845889e-17 -1.169490e-15  3.482249e-16  \n",
       "std    1.000616e+00  1.000616e+00  1.000616e+00  \n",
       "min   -1.422141e+00 -2.110457e+00 -1.992013e+00  \n",
       "25%   -7.496057e-01 -8.096219e-01 -6.396066e-01  \n",
       "50%   -1.891593e-01  3.400092e-03  1.718371e-01  \n",
       "75%    7.075550e-01  6.538177e-01  7.127995e-01  \n",
       "max    3.173519e+00  2.767675e+00  2.065206e+00  "
      ]
     },
     "execution_count": 226,
     "metadata": {},
     "output_type": "execute_result"
    }
   ],
   "source": [
    "# statistics of scaled data\n",
    "pd.DataFrame(X).describe()"
   ]
  },
  {
   "cell_type": "markdown",
   "metadata": {
    "colab_type": "text",
    "id": "weIwi8cxho-C"
   },
   "source": [
    "### K - Means Clustering"
   ]
  },
  {
   "cell_type": "markdown",
   "metadata": {
    "colab_type": "text",
    "id": "YdA5yJ1m61-L"
   },
   "source": [
    "### Assign a dummy array called Cluster_error"
   ]
  },
  {
   "cell_type": "code",
   "execution_count": 227,
   "metadata": {
    "colab": {},
    "colab_type": "code",
    "id": "PRcbAApuho-g"
   },
   "outputs": [],
   "source": [
    "cluster_errors = []"
   ]
  },
  {
   "cell_type": "markdown",
   "metadata": {
    "colab_type": "text",
    "id": "ywuVdFe2ho-t"
   },
   "source": [
    "### 5. Calculate errorrs for each K"
   ]
  },
  {
   "cell_type": "markdown",
   "metadata": {
    "colab_type": "text",
    "id": "PJznnrkc68nf"
   },
   "source": [
    "Iterating values of k from 1 to 10 fit K means model\n",
    "Using inertia"
   ]
  },
  {
   "cell_type": "code",
   "execution_count": 228,
   "metadata": {
    "colab": {},
    "colab_type": "code",
    "id": "uc49grvmho-2"
   },
   "outputs": [
    {
     "data": {
      "text/html": [
       "<div>\n",
       "<style scoped>\n",
       "    .dataframe tbody tr th:only-of-type {\n",
       "        vertical-align: middle;\n",
       "    }\n",
       "\n",
       "    .dataframe tbody tr th {\n",
       "        vertical-align: top;\n",
       "    }\n",
       "\n",
       "    .dataframe thead th {\n",
       "        text-align: right;\n",
       "    }\n",
       "</style>\n",
       "<table border=\"1\" class=\"dataframe\">\n",
       "  <thead>\n",
       "    <tr style=\"text-align: right;\">\n",
       "      <th></th>\n",
       "      <th>num_clusters</th>\n",
       "      <th>cluster_errors</th>\n",
       "    </tr>\n",
       "  </thead>\n",
       "  <tbody>\n",
       "    <tr>\n",
       "      <th>0</th>\n",
       "      <td>1</td>\n",
       "      <td>14634.000000</td>\n",
       "    </tr>\n",
       "    <tr>\n",
       "      <th>1</th>\n",
       "      <td>2</td>\n",
       "      <td>8623.136976</td>\n",
       "    </tr>\n",
       "    <tr>\n",
       "      <th>2</th>\n",
       "      <td>3</td>\n",
       "      <td>7037.467395</td>\n",
       "    </tr>\n",
       "    <tr>\n",
       "      <th>3</th>\n",
       "      <td>4</td>\n",
       "      <td>5740.555574</td>\n",
       "    </tr>\n",
       "    <tr>\n",
       "      <th>4</th>\n",
       "      <td>5</td>\n",
       "      <td>5191.261507</td>\n",
       "    </tr>\n",
       "    <tr>\n",
       "      <th>5</th>\n",
       "      <td>6</td>\n",
       "      <td>4707.860902</td>\n",
       "    </tr>\n",
       "    <tr>\n",
       "      <th>6</th>\n",
       "      <td>7</td>\n",
       "      <td>4425.638070</td>\n",
       "    </tr>\n",
       "    <tr>\n",
       "      <th>7</th>\n",
       "      <td>8</td>\n",
       "      <td>4145.294030</td>\n",
       "    </tr>\n",
       "    <tr>\n",
       "      <th>8</th>\n",
       "      <td>9</td>\n",
       "      <td>3847.666768</td>\n",
       "    </tr>\n",
       "    <tr>\n",
       "      <th>9</th>\n",
       "      <td>10</td>\n",
       "      <td>3652.230188</td>\n",
       "    </tr>\n",
       "  </tbody>\n",
       "</table>\n",
       "</div>"
      ],
      "text/plain": [
       "   num_clusters  cluster_errors\n",
       "0             1    14634.000000\n",
       "1             2     8623.136976\n",
       "2             3     7037.467395\n",
       "3             4     5740.555574\n",
       "4             5     5191.261507\n",
       "5             6     4707.860902\n",
       "6             7     4425.638070\n",
       "7             8     4145.294030\n",
       "8             9     3847.666768\n",
       "9            10     3652.230188"
      ]
     },
     "execution_count": 228,
     "metadata": {},
     "output_type": "execute_result"
    }
   ],
   "source": [
    "cluster_range = range(1, 11)   # expect 3 to four clusters from the pair panel visual inspection hence restricting from 2 to 6\n",
    "\n",
    "for num_clusters in cluster_range:\n",
    "  clusters = KMeans(num_clusters, n_init=5)\n",
    "  clusters.fit(X)\n",
    "  labels = clusters.labels_                     # capture the cluster lables\n",
    "  centroids = clusters.cluster_centers_         # capture the centroids\n",
    "  cluster_errors.append( clusters.inertia_ )    # capture the intertia\n",
    "  \n",
    "# combine the cluster_range and cluster_errors into a dataframe by combining them\n",
    "clusters_df = pd.DataFrame( { \"num_clusters\":cluster_range, \"cluster_errors\": cluster_errors } )\n",
    "clusters_df[0:15]"
   ]
  },
  {
   "cell_type": "markdown",
   "metadata": {
    "colab_type": "text",
    "id": "JIcSiPyoho_a"
   },
   "source": [
    "### 6. Plotting Elbow/ Scree Plot"
   ]
  },
  {
   "cell_type": "markdown",
   "metadata": {
    "colab_type": "text",
    "id": "Z8Yw5XEsho_r"
   },
   "source": [
    "Use Matplotlib to plot the scree plot - Note: Scree plot plots Errors vs the no of clusters"
   ]
  },
  {
   "cell_type": "code",
   "execution_count": 229,
   "metadata": {
    "colab": {},
    "colab_type": "code",
    "id": "sJ5oE4Csho_v"
   },
   "outputs": [
    {
     "data": {
      "text/plain": [
       "[<matplotlib.lines.Line2D at 0x269ec5ef4e0>]"
      ]
     },
     "execution_count": 229,
     "metadata": {},
     "output_type": "execute_result"
    },
    {
     "data": {
      "image/png": "[encoded data removed]",
      "text/plain": [
       "<Figure size 864x432 with 1 Axes>"
      ]
     },
     "metadata": {
      "needs_background": "light"
     },
     "output_type": "display_data"
    }
   ],
   "source": [
    "# Elbow plot to identify number of clusters\n",
    "plt.figure(figsize=(12,6))\n",
    "plt.plot( clusters_df.num_clusters, clusters_df.cluster_errors, marker = \"o\" )"
   ]
  },
  {
   "cell_type": "markdown",
   "metadata": {
    "colab_type": "text",
    "id": "sGx_Q_4Iho_7"
   },
   "source": [
    "### Find out the optimal value of K"
   ]
  },
  {
   "cell_type": "code",
   "execution_count": 195,
   "metadata": {
    "colab": {},
    "colab_type": "code",
    "id": "i2JjEPrcho__"
   },
   "outputs": [],
   "source": [
    "##Since the joint bent is near 3 4 5 k, value. Value 4 is best suitable as taking minimum clustur error"
   ]
  },
  {
   "cell_type": "markdown",
   "metadata": {
    "colab_type": "text",
    "id": "5EoRD5PHhpAT"
   },
   "source": [
    "### Using optimal value of K - Cluster the data. \n",
    "Note: Since the data has more than 2 dimension we cannot visualize the data. As an alternative, we can observe the centroids and note how they are distributed across different dimensions"
   ]
  },
  {
   "cell_type": "code",
   "execution_count": 230,
   "metadata": {
    "colab": {},
    "colab_type": "code",
    "id": "68oQ0c2ThpAZ"
   },
   "outputs": [],
   "source": [
    "# Number of clusters\n",
    "\n",
    "kmeans = KMeans(n_clusters=4)\n",
    "\n",
    "# Fitting the input data\n",
    "\n",
    "kmeans = kmeans.fit(X)\n",
    "\n",
    "# Getting the cluster labels\n",
    "\n",
    "labels = kmeans.predict(X)"
   ]
  },
  {
   "cell_type": "markdown",
   "metadata": {
    "colab_type": "text",
    "id": "fY5IjhFihpAm"
   },
   "source": [
    "You can use kmeans.cluster_centers_ function to pull the centroid information from the instance"
   ]
  },
  {
   "cell_type": "code",
   "execution_count": 231,
   "metadata": {
    "colab": {},
    "colab_type": "code",
    "id": "vS3GhD4UhpAx"
   },
   "outputs": [
    {
     "name": "stdout",
     "output_type": "stream",
     "text": [
      "Centroid values\n",
      "sklearn\n",
      "[[-8.73939377e-01 -4.90666958e-01 -8.19987596e-01 -1.00914774e+00\n",
      "  -4.88356546e-01 -2.75961304e-01 -7.59559699e-01  8.28143534e-01\n",
      "  -7.31863992e-01 -4.54863559e-01 -7.72863866e-01 -7.64634145e-01\n",
      "  -3.79292105e-01  6.60977993e-01 -1.09968514e-01 -2.97172612e-01\n",
      "  -9.41479276e-01 -9.74511472e-01]\n",
      " [-1.77926274e-01 -6.12019616e-01 -2.97587802e-01  2.04512354e-02\n",
      "   2.01668080e-01 -1.80273603e-01 -4.31799185e-01  2.86319889e-01\n",
      "  -4.63195107e-01 -5.74020947e-01 -3.97747522e-01 -4.35651397e-01\n",
      "  -6.41055881e-01 -7.09095913e-01 -2.86420482e-02  5.37687678e-02\n",
      "   9.63652967e-01  8.14107010e-01]\n",
      " [-7.33024343e-01  7.27349604e-02 -2.72170954e-01  2.94768327e+00\n",
      "   6.83665190e+00  8.69670551e+00 -5.35008001e-01  4.66247771e-01\n",
      "  -5.57405972e-01  2.83410527e-01  1.69752769e+00 -5.88068272e-01\n",
      "   2.12700856e-01  4.96563826e+00 -2.74839440e-01 -2.31192779e-01\n",
      "  -7.07994144e-01 -4.53650721e-01]\n",
      " [ 1.15736176e+00  1.18688991e+00  1.21376707e+00  9.73764988e-01\n",
      "   9.46906393e-02  2.19180218e-01  1.30158336e+00 -1.21649970e+00\n",
      "   1.30627647e+00  1.10069002e+00  1.20916828e+00  1.31287479e+00\n",
      "   1.09370231e+00 -1.03892856e-01  1.58104393e-01  2.69747448e-01\n",
      "  -1.70122247e-03  1.87217384e-01]]\n"
     ]
    }
   ],
   "source": [
    "# Centroid values\n",
    "\n",
    "centroids = kmeans.cluster_centers_\n",
    "\n",
    "# Comparing with scikit-learn centroids\n",
    "\n",
    "print(\"Centroid values\")\n",
    "\n",
    "print(\"sklearn\")\n",
    "\n",
    "print(centroids) # From sci-kit learn"
   ]
  },
  {
   "cell_type": "markdown",
   "metadata": {
    "colab_type": "text",
    "id": "A2T8SxBdhpBL"
   },
   "source": [
    "### 7. Store the centroids in a dataframe with column names from the original dataset given "
   ]
  },
  {
   "cell_type": "code",
   "execution_count": 232,
   "metadata": {},
   "outputs": [
    {
     "data": {
      "text/html": [
       "<div>\n",
       "<style scoped>\n",
       "    .dataframe tbody tr th:only-of-type {\n",
       "        vertical-align: middle;\n",
       "    }\n",
       "\n",
       "    .dataframe tbody tr th {\n",
       "        vertical-align: top;\n",
       "    }\n",
       "\n",
       "    .dataframe thead th {\n",
       "        text-align: right;\n",
       "    }\n",
       "</style>\n",
       "<table border=\"1\" class=\"dataframe\">\n",
       "  <thead>\n",
       "    <tr style=\"text-align: right;\">\n",
       "      <th></th>\n",
       "      <th>compactness</th>\n",
       "      <th>circularity</th>\n",
       "      <th>distance_circularity</th>\n",
       "      <th>radius_ratio</th>\n",
       "      <th>pr.axis_aspect_ratio</th>\n",
       "      <th>max.length_aspect_ratio</th>\n",
       "      <th>scatter_ratio</th>\n",
       "      <th>elongatedness</th>\n",
       "      <th>pr.axis_rectangularity</th>\n",
       "      <th>max.length_rectangularity</th>\n",
       "      <th>scaled_variance</th>\n",
       "      <th>scaled_variance.1</th>\n",
       "      <th>scaled_radius_of_gyration</th>\n",
       "      <th>scaled_radius_of_gyration.1</th>\n",
       "      <th>skewness_about</th>\n",
       "      <th>skewness_about.1</th>\n",
       "      <th>skewness_about.2</th>\n",
       "      <th>hollows_ratio</th>\n",
       "    </tr>\n",
       "  </thead>\n",
       "  <tbody>\n",
       "    <tr>\n",
       "      <th>0</th>\n",
       "      <td>-0.873939</td>\n",
       "      <td>-0.490667</td>\n",
       "      <td>-0.819988</td>\n",
       "      <td>-1.009148</td>\n",
       "      <td>-0.488357</td>\n",
       "      <td>-0.275961</td>\n",
       "      <td>-0.759560</td>\n",
       "      <td>0.828144</td>\n",
       "      <td>-0.731864</td>\n",
       "      <td>-0.454864</td>\n",
       "      <td>-0.772864</td>\n",
       "      <td>-0.764634</td>\n",
       "      <td>-0.379292</td>\n",
       "      <td>0.660978</td>\n",
       "      <td>-0.109969</td>\n",
       "      <td>-0.297173</td>\n",
       "      <td>-0.941479</td>\n",
       "      <td>-0.974511</td>\n",
       "    </tr>\n",
       "    <tr>\n",
       "      <th>1</th>\n",
       "      <td>-0.177926</td>\n",
       "      <td>-0.612020</td>\n",
       "      <td>-0.297588</td>\n",
       "      <td>0.020451</td>\n",
       "      <td>0.201668</td>\n",
       "      <td>-0.180274</td>\n",
       "      <td>-0.431799</td>\n",
       "      <td>0.286320</td>\n",
       "      <td>-0.463195</td>\n",
       "      <td>-0.574021</td>\n",
       "      <td>-0.397748</td>\n",
       "      <td>-0.435651</td>\n",
       "      <td>-0.641056</td>\n",
       "      <td>-0.709096</td>\n",
       "      <td>-0.028642</td>\n",
       "      <td>0.053769</td>\n",
       "      <td>0.963653</td>\n",
       "      <td>0.814107</td>\n",
       "    </tr>\n",
       "    <tr>\n",
       "      <th>2</th>\n",
       "      <td>-0.733024</td>\n",
       "      <td>0.072735</td>\n",
       "      <td>-0.272171</td>\n",
       "      <td>2.947683</td>\n",
       "      <td>6.836652</td>\n",
       "      <td>8.696706</td>\n",
       "      <td>-0.535008</td>\n",
       "      <td>0.466248</td>\n",
       "      <td>-0.557406</td>\n",
       "      <td>0.283411</td>\n",
       "      <td>1.697528</td>\n",
       "      <td>-0.588068</td>\n",
       "      <td>0.212701</td>\n",
       "      <td>4.965638</td>\n",
       "      <td>-0.274839</td>\n",
       "      <td>-0.231193</td>\n",
       "      <td>-0.707994</td>\n",
       "      <td>-0.453651</td>\n",
       "    </tr>\n",
       "    <tr>\n",
       "      <th>3</th>\n",
       "      <td>1.157362</td>\n",
       "      <td>1.186890</td>\n",
       "      <td>1.213767</td>\n",
       "      <td>0.973765</td>\n",
       "      <td>0.094691</td>\n",
       "      <td>0.219180</td>\n",
       "      <td>1.301583</td>\n",
       "      <td>-1.216500</td>\n",
       "      <td>1.306276</td>\n",
       "      <td>1.100690</td>\n",
       "      <td>1.209168</td>\n",
       "      <td>1.312875</td>\n",
       "      <td>1.093702</td>\n",
       "      <td>-0.103893</td>\n",
       "      <td>0.158104</td>\n",
       "      <td>0.269747</td>\n",
       "      <td>-0.001701</td>\n",
       "      <td>0.187217</td>\n",
       "    </tr>\n",
       "  </tbody>\n",
       "</table>\n",
       "</div>"
      ],
      "text/plain": [
       "   compactness  circularity  distance_circularity  radius_ratio  \\\n",
       "0    -0.873939    -0.490667             -0.819988     -1.009148   \n",
       "1    -0.177926    -0.612020             -0.297588      0.020451   \n",
       "2    -0.733024     0.072735             -0.272171      2.947683   \n",
       "3     1.157362     1.186890              1.213767      0.973765   \n",
       "\n",
       "   pr.axis_aspect_ratio  max.length_aspect_ratio  scatter_ratio  \\\n",
       "0             -0.488357                -0.275961      -0.759560   \n",
       "1              0.201668                -0.180274      -0.431799   \n",
       "2              6.836652                 8.696706      -0.535008   \n",
       "3              0.094691                 0.219180       1.301583   \n",
       "\n",
       "   elongatedness  pr.axis_rectangularity  max.length_rectangularity  \\\n",
       "0       0.828144               -0.731864                  -0.454864   \n",
       "1       0.286320               -0.463195                  -0.574021   \n",
       "2       0.466248               -0.557406                   0.283411   \n",
       "3      -1.216500                1.306276                   1.100690   \n",
       "\n",
       "   scaled_variance  scaled_variance.1  scaled_radius_of_gyration  \\\n",
       "0        -0.772864          -0.764634                  -0.379292   \n",
       "1        -0.397748          -0.435651                  -0.641056   \n",
       "2         1.697528          -0.588068                   0.212701   \n",
       "3         1.209168           1.312875                   1.093702   \n",
       "\n",
       "   scaled_radius_of_gyration.1  skewness_about  skewness_about.1  \\\n",
       "0                     0.660978       -0.109969         -0.297173   \n",
       "1                    -0.709096       -0.028642          0.053769   \n",
       "2                     4.965638       -0.274839         -0.231193   \n",
       "3                    -0.103893        0.158104          0.269747   \n",
       "\n",
       "   skewness_about.2  hollows_ratio  \n",
       "0         -0.941479      -0.974511  \n",
       "1          0.963653       0.814107  \n",
       "2         -0.707994      -0.453651  \n",
       "3         -0.001701       0.187217  "
      ]
     },
     "execution_count": 232,
     "metadata": {},
     "output_type": "execute_result"
    }
   ],
   "source": [
    "centroid_df = pd.DataFrame(centroids, columns=list(data))\n",
    "centroid_df"
   ]
  },
  {
   "cell_type": "code",
   "execution_count": 213,
   "metadata": {},
   "outputs": [
    {
     "data": {
      "text/html": [
       "<div>\n",
       "<style scoped>\n",
       "    .dataframe tbody tr th:only-of-type {\n",
       "        vertical-align: middle;\n",
       "    }\n",
       "\n",
       "    .dataframe tbody tr th {\n",
       "        vertical-align: top;\n",
       "    }\n",
       "\n",
       "    .dataframe thead th {\n",
       "        text-align: right;\n",
       "    }\n",
       "</style>\n",
       "<table border=\"1\" class=\"dataframe\">\n",
       "  <thead>\n",
       "    <tr style=\"text-align: right;\">\n",
       "      <th></th>\n",
       "      <th>compactness</th>\n",
       "      <th>circularity</th>\n",
       "      <th>distance_circularity</th>\n",
       "      <th>radius_ratio</th>\n",
       "      <th>pr.axis_aspect_ratio</th>\n",
       "      <th>max.length_aspect_ratio</th>\n",
       "      <th>scatter_ratio</th>\n",
       "      <th>elongatedness</th>\n",
       "      <th>pr.axis_rectangularity</th>\n",
       "      <th>max.length_rectangularity</th>\n",
       "      <th>scaled_variance</th>\n",
       "      <th>scaled_variance.1</th>\n",
       "      <th>scaled_radius_of_gyration</th>\n",
       "      <th>scaled_radius_of_gyration.1</th>\n",
       "      <th>skewness_about</th>\n",
       "      <th>skewness_about.1</th>\n",
       "      <th>skewness_about.2</th>\n",
       "      <th>hollows_ratio</th>\n",
       "    </tr>\n",
       "  </thead>\n",
       "  <tbody>\n",
       "    <tr>\n",
       "      <th>0</th>\n",
       "      <td>95</td>\n",
       "      <td>48.0</td>\n",
       "      <td>83.0</td>\n",
       "      <td>178.0</td>\n",
       "      <td>72.0</td>\n",
       "      <td>10</td>\n",
       "      <td>162.0</td>\n",
       "      <td>42.0</td>\n",
       "      <td>20.0</td>\n",
       "      <td>159</td>\n",
       "      <td>176.0</td>\n",
       "      <td>379.0</td>\n",
       "      <td>184.0</td>\n",
       "      <td>70.0</td>\n",
       "      <td>6.0</td>\n",
       "      <td>16.0</td>\n",
       "      <td>187.0</td>\n",
       "      <td>197</td>\n",
       "    </tr>\n",
       "    <tr>\n",
       "      <th>1</th>\n",
       "      <td>91</td>\n",
       "      <td>41.0</td>\n",
       "      <td>84.0</td>\n",
       "      <td>141.0</td>\n",
       "      <td>57.0</td>\n",
       "      <td>9</td>\n",
       "      <td>149.0</td>\n",
       "      <td>45.0</td>\n",
       "      <td>19.0</td>\n",
       "      <td>143</td>\n",
       "      <td>170.0</td>\n",
       "      <td>330.0</td>\n",
       "      <td>158.0</td>\n",
       "      <td>72.0</td>\n",
       "      <td>9.0</td>\n",
       "      <td>14.0</td>\n",
       "      <td>189.0</td>\n",
       "      <td>199</td>\n",
       "    </tr>\n",
       "    <tr>\n",
       "      <th>2</th>\n",
       "      <td>104</td>\n",
       "      <td>50.0</td>\n",
       "      <td>106.0</td>\n",
       "      <td>209.0</td>\n",
       "      <td>66.0</td>\n",
       "      <td>10</td>\n",
       "      <td>207.0</td>\n",
       "      <td>32.0</td>\n",
       "      <td>23.0</td>\n",
       "      <td>158</td>\n",
       "      <td>223.0</td>\n",
       "      <td>635.0</td>\n",
       "      <td>220.0</td>\n",
       "      <td>73.0</td>\n",
       "      <td>14.0</td>\n",
       "      <td>9.0</td>\n",
       "      <td>188.0</td>\n",
       "      <td>196</td>\n",
       "    </tr>\n",
       "    <tr>\n",
       "      <th>3</th>\n",
       "      <td>93</td>\n",
       "      <td>41.0</td>\n",
       "      <td>82.0</td>\n",
       "      <td>159.0</td>\n",
       "      <td>63.0</td>\n",
       "      <td>9</td>\n",
       "      <td>144.0</td>\n",
       "      <td>46.0</td>\n",
       "      <td>19.0</td>\n",
       "      <td>143</td>\n",
       "      <td>160.0</td>\n",
       "      <td>309.0</td>\n",
       "      <td>127.0</td>\n",
       "      <td>63.0</td>\n",
       "      <td>6.0</td>\n",
       "      <td>10.0</td>\n",
       "      <td>199.0</td>\n",
       "      <td>207</td>\n",
       "    </tr>\n",
       "    <tr>\n",
       "      <th>4</th>\n",
       "      <td>85</td>\n",
       "      <td>44.0</td>\n",
       "      <td>70.0</td>\n",
       "      <td>205.0</td>\n",
       "      <td>103.0</td>\n",
       "      <td>52</td>\n",
       "      <td>149.0</td>\n",
       "      <td>45.0</td>\n",
       "      <td>19.0</td>\n",
       "      <td>144</td>\n",
       "      <td>241.0</td>\n",
       "      <td>325.0</td>\n",
       "      <td>188.0</td>\n",
       "      <td>127.0</td>\n",
       "      <td>9.0</td>\n",
       "      <td>11.0</td>\n",
       "      <td>180.0</td>\n",
       "      <td>183</td>\n",
       "    </tr>\n",
       "  </tbody>\n",
       "</table>\n",
       "</div>"
      ],
      "text/plain": [
       "   compactness  circularity  distance_circularity  radius_ratio  \\\n",
       "0           95         48.0                  83.0         178.0   \n",
       "1           91         41.0                  84.0         141.0   \n",
       "2          104         50.0                 106.0         209.0   \n",
       "3           93         41.0                  82.0         159.0   \n",
       "4           85         44.0                  70.0         205.0   \n",
       "\n",
       "   pr.axis_aspect_ratio  max.length_aspect_ratio  scatter_ratio  \\\n",
       "0                  72.0                       10          162.0   \n",
       "1                  57.0                        9          149.0   \n",
       "2                  66.0                       10          207.0   \n",
       "3                  63.0                        9          144.0   \n",
       "4                 103.0                       52          149.0   \n",
       "\n",
       "   elongatedness  pr.axis_rectangularity  max.length_rectangularity  \\\n",
       "0           42.0                    20.0                        159   \n",
       "1           45.0                    19.0                        143   \n",
       "2           32.0                    23.0                        158   \n",
       "3           46.0                    19.0                        143   \n",
       "4           45.0                    19.0                        144   \n",
       "\n",
       "   scaled_variance  scaled_variance.1  scaled_radius_of_gyration  \\\n",
       "0            176.0              379.0                      184.0   \n",
       "1            170.0              330.0                      158.0   \n",
       "2            223.0              635.0                      220.0   \n",
       "3            160.0              309.0                      127.0   \n",
       "4            241.0              325.0                      188.0   \n",
       "\n",
       "   scaled_radius_of_gyration.1  skewness_about  skewness_about.1  \\\n",
       "0                         70.0             6.0              16.0   \n",
       "1                         72.0             9.0              14.0   \n",
       "2                         73.0            14.0               9.0   \n",
       "3                         63.0             6.0              10.0   \n",
       "4                        127.0             9.0              11.0   \n",
       "\n",
       "   skewness_about.2  hollows_ratio  \n",
       "0             187.0            197  \n",
       "1             189.0            199  \n",
       "2             188.0            196  \n",
       "3             199.0            207  \n",
       "4             180.0            183  "
      ]
     },
     "execution_count": 213,
     "metadata": {},
     "output_type": "execute_result"
    }
   ],
   "source": [
    "Data_1 = data\n",
    "Data_1.head(5)"
   ]
  },
  {
   "cell_type": "markdown",
   "metadata": {
    "colab_type": "text",
    "id": "SvWlZ_FzhpBY"
   },
   "source": [
    "Hint: Use pd.Dataframe function "
   ]
  },
  {
   "cell_type": "code",
   "execution_count": 237,
   "metadata": {},
   "outputs": [
    {
     "data": {
      "text/plain": [
       "1    275\n",
       "0    275\n",
       "3    255\n",
       "2      8\n",
       "Name: group, dtype: int64"
      ]
     },
     "execution_count": 237,
     "metadata": {},
     "output_type": "execute_result"
    }
   ],
   "source": [
    "pd.value_counts(X_df['group'])"
   ]
  },
  {
   "cell_type": "markdown",
   "metadata": {
    "colab_type": "text",
    "id": "n2kFVi2GhpBn"
   },
   "source": [
    "### Use kmeans.labels_ function to print out the labels of the classes"
   ]
  },
  {
   "cell_type": "code",
   "execution_count": 241,
   "metadata": {
    "colab": {},
    "colab_type": "code",
    "id": "Ahx91q_ghpBp"
   },
   "outputs": [
    {
     "data": {
      "text/plain": [
       "array([1, 1, 3, 1, 2, 1, 1, 1, 1, 1, 1, 0, 1, 3, 0, 1, 3, 0, 0, 1, 1, 3,\n",
       "       1, 0, 3, 3, 0, 0, 1, 1, 3, 1, 0, 2, 3, 0, 3, 0, 0, 1, 3, 0, 0, 0,\n",
       "       0, 1, 0, 1, 3, 1, 3, 1, 1, 0, 3, 0, 3, 0, 0, 0, 1, 0, 3, 1, 3, 3,\n",
       "       1, 0, 1, 3, 1, 0, 0, 3, 1, 0, 1, 3, 1, 0, 1, 0, 3, 1, 3, 0, 0, 3,\n",
       "       0, 0, 3, 0, 2, 1, 1, 0, 3, 3, 0, 0, 3, 1, 0, 0, 0, 0, 1, 3, 3, 1,\n",
       "       0, 0, 1, 0, 0, 0, 0, 0, 1, 3, 3, 1, 1, 0, 3, 2, 0, 1, 0, 1, 1, 3,\n",
       "       0, 1, 3, 1, 1, 1, 1, 3, 1, 1, 3, 1, 3, 1, 0, 1, 0, 3, 1, 0, 3, 3,\n",
       "       1, 3, 0, 0, 3, 3, 1, 3, 0, 1, 1, 1, 0, 3, 0, 1, 0, 3, 1, 1, 1, 3,\n",
       "       1, 1, 1, 3, 1, 0, 3, 0, 0, 0, 0, 1, 3, 3, 1, 0, 1, 0, 3, 1, 0, 1,\n",
       "       3, 0, 0, 3, 0, 1, 3, 0, 0, 0, 1, 3, 1, 3, 0, 0, 0, 0, 3, 1, 0, 1,\n",
       "       3, 0, 1, 1, 0, 3, 0, 0, 1, 1, 3, 0, 3, 0, 1, 0, 3, 1, 1, 3, 3, 0,\n",
       "       1, 1, 1, 3, 0, 1, 1, 0, 0, 1, 1, 3, 1, 0, 0, 3, 1, 1, 0, 0, 3, 0,\n",
       "       0, 3, 0, 0, 2, 0, 1, 3, 1, 3, 0, 1, 1, 3, 1, 1, 1, 0, 0, 3, 3, 3,\n",
       "       3, 0, 0, 3, 0, 0, 0, 1, 0, 3, 3, 0, 3, 1, 0, 3, 0, 1, 1, 3, 3, 0,\n",
       "       3, 3, 0, 3, 1, 1, 1, 0, 0, 3, 3, 3, 1, 1, 1, 3, 0, 1, 0, 3, 1, 1,\n",
       "       3, 1, 3, 3, 3, 1, 0, 0, 3, 0, 0, 0, 0, 1, 1, 1, 0, 3, 3, 0, 0, 3,\n",
       "       0, 3, 0, 3, 0, 0, 1, 0, 2, 3, 0, 1, 1, 0, 3, 1, 1, 1, 1, 3, 1, 3,\n",
       "       1, 3, 1, 0, 0, 0, 1, 1, 0, 0, 1, 0, 3, 1, 1, 0, 0, 3, 1, 0, 1, 1,\n",
       "       3, 1, 3, 1, 3, 3, 0, 0, 3, 1, 0, 0, 1, 3, 3, 0, 0, 3, 3, 0, 3, 3,\n",
       "       3, 1, 1, 1, 1, 1, 3, 0, 0, 1, 3, 1, 1, 3, 1, 0, 3, 0, 0, 3, 1, 0,\n",
       "       3, 3, 3, 0, 3, 3, 0, 1, 0, 3, 3, 1, 0, 0, 0, 3, 1, 0, 3, 3, 1, 0,\n",
       "       3, 3, 1, 0, 0, 3, 3, 3, 0, 0, 3, 3, 3, 1, 1, 3, 0, 1, 3, 1, 0, 0,\n",
       "       1, 3, 0, 1, 1, 0, 2, 3, 1, 3, 3, 1, 0, 1, 3, 3, 0, 0, 1, 3, 1, 3,\n",
       "       3, 1, 1, 1, 1, 0, 0, 0, 1, 1, 3, 0, 0, 1, 0, 3, 1, 3, 0, 0, 3, 3,\n",
       "       1, 3, 1, 1, 1, 3, 0, 0, 1, 3, 1, 1, 0, 3, 3, 3, 3, 1, 0, 0, 0, 3,\n",
       "       3, 3, 1, 3, 0, 0, 3, 0, 0, 0, 1, 0, 3, 1, 0, 1, 1, 1, 1, 3, 1, 1,\n",
       "       3, 1, 1, 0, 0, 3, 0, 0, 1, 0, 1, 1, 0, 0, 3, 3, 0, 1, 3, 0, 3, 0,\n",
       "       0, 3, 1, 0, 3, 0, 3, 0, 0, 1, 0, 1, 3, 3, 0, 3, 1, 1, 0, 1, 0, 3,\n",
       "       1, 3, 0, 1, 1, 1, 0, 0, 0, 1, 3, 1, 3, 0, 1, 1, 0, 1, 3, 1, 0, 3,\n",
       "       1, 3, 1, 1, 3, 0, 3, 0, 1, 0, 1, 0, 3, 1, 0, 1, 3, 0, 3, 1, 0, 3,\n",
       "       0, 1, 0, 0, 1, 0, 0, 3, 3, 1, 1, 3, 3, 2, 1, 0, 1, 3, 3, 3, 3, 1,\n",
       "       3, 1, 1, 3, 3, 1, 3, 1, 3, 1, 0, 3, 1, 0, 3, 3, 3, 1, 3, 0, 0, 3,\n",
       "       3, 3, 1, 3, 1, 1, 3, 1, 0, 0, 0, 1, 3, 1, 0, 1, 1, 1, 0, 3, 0, 0,\n",
       "       0, 3, 3, 0, 3, 3, 0, 1, 1, 3, 1, 0, 3, 3, 0, 1, 1, 3, 3, 3, 0, 3,\n",
       "       1, 3, 3, 0, 0, 3, 0, 3, 1, 0, 1, 3, 3, 1, 0, 1, 3, 3, 1, 1, 0, 1,\n",
       "       1, 3, 0, 0, 3, 0, 0, 3, 0, 1, 0, 0, 0, 0, 3, 3, 1, 0, 3, 1, 3, 3,\n",
       "       0, 1, 3, 0, 0, 1, 1, 3, 0, 0, 3, 0, 1, 1, 1, 1, 1, 1, 3, 1, 0])"
      ]
     },
     "execution_count": 241,
     "metadata": {},
     "output_type": "execute_result"
    }
   ],
   "source": [
    "lab = kmeans.labels_\n",
    "lab"
   ]
  },
  {
   "cell_type": "code",
   "execution_count": 246,
   "metadata": {},
   "outputs": [
    {
     "data": {
      "text/html": [
       "<div>\n",
       "<style scoped>\n",
       "    .dataframe tbody tr th:only-of-type {\n",
       "        vertical-align: middle;\n",
       "    }\n",
       "\n",
       "    .dataframe tbody tr th {\n",
       "        vertical-align: top;\n",
       "    }\n",
       "\n",
       "    .dataframe thead th {\n",
       "        text-align: right;\n",
       "    }\n",
       "</style>\n",
       "<table border=\"1\" class=\"dataframe\">\n",
       "  <thead>\n",
       "    <tr style=\"text-align: right;\">\n",
       "      <th></th>\n",
       "      <th>compactness</th>\n",
       "      <th>circularity</th>\n",
       "      <th>distance_circularity</th>\n",
       "      <th>radius_ratio</th>\n",
       "      <th>pr.axis_aspect_ratio</th>\n",
       "      <th>max.length_aspect_ratio</th>\n",
       "      <th>scatter_ratio</th>\n",
       "      <th>elongatedness</th>\n",
       "      <th>pr.axis_rectangularity</th>\n",
       "      <th>max.length_rectangularity</th>\n",
       "      <th>scaled_variance</th>\n",
       "      <th>scaled_variance.1</th>\n",
       "      <th>scaled_radius_of_gyration</th>\n",
       "      <th>scaled_radius_of_gyration.1</th>\n",
       "      <th>skewness_about</th>\n",
       "      <th>skewness_about.1</th>\n",
       "      <th>skewness_about.2</th>\n",
       "      <th>hollows_ratio</th>\n",
       "    </tr>\n",
       "    <tr>\n",
       "      <th>group</th>\n",
       "      <th></th>\n",
       "      <th></th>\n",
       "      <th></th>\n",
       "      <th></th>\n",
       "      <th></th>\n",
       "      <th></th>\n",
       "      <th></th>\n",
       "      <th></th>\n",
       "      <th></th>\n",
       "      <th></th>\n",
       "      <th></th>\n",
       "      <th></th>\n",
       "      <th></th>\n",
       "      <th></th>\n",
       "      <th></th>\n",
       "      <th></th>\n",
       "      <th></th>\n",
       "      <th></th>\n",
       "    </tr>\n",
       "  </thead>\n",
       "  <tbody>\n",
       "    <tr>\n",
       "      <th>0</th>\n",
       "      <td>275</td>\n",
       "      <td>275</td>\n",
       "      <td>275</td>\n",
       "      <td>275</td>\n",
       "      <td>275</td>\n",
       "      <td>275</td>\n",
       "      <td>275</td>\n",
       "      <td>275</td>\n",
       "      <td>275</td>\n",
       "      <td>275</td>\n",
       "      <td>275</td>\n",
       "      <td>275</td>\n",
       "      <td>275</td>\n",
       "      <td>275</td>\n",
       "      <td>275</td>\n",
       "      <td>275</td>\n",
       "      <td>275</td>\n",
       "      <td>275</td>\n",
       "    </tr>\n",
       "    <tr>\n",
       "      <th>1</th>\n",
       "      <td>275</td>\n",
       "      <td>275</td>\n",
       "      <td>275</td>\n",
       "      <td>275</td>\n",
       "      <td>275</td>\n",
       "      <td>275</td>\n",
       "      <td>275</td>\n",
       "      <td>275</td>\n",
       "      <td>275</td>\n",
       "      <td>275</td>\n",
       "      <td>275</td>\n",
       "      <td>275</td>\n",
       "      <td>275</td>\n",
       "      <td>275</td>\n",
       "      <td>275</td>\n",
       "      <td>275</td>\n",
       "      <td>275</td>\n",
       "      <td>275</td>\n",
       "    </tr>\n",
       "    <tr>\n",
       "      <th>2</th>\n",
       "      <td>8</td>\n",
       "      <td>8</td>\n",
       "      <td>8</td>\n",
       "      <td>8</td>\n",
       "      <td>8</td>\n",
       "      <td>8</td>\n",
       "      <td>8</td>\n",
       "      <td>8</td>\n",
       "      <td>8</td>\n",
       "      <td>8</td>\n",
       "      <td>8</td>\n",
       "      <td>8</td>\n",
       "      <td>8</td>\n",
       "      <td>8</td>\n",
       "      <td>8</td>\n",
       "      <td>8</td>\n",
       "      <td>8</td>\n",
       "      <td>8</td>\n",
       "    </tr>\n",
       "    <tr>\n",
       "      <th>3</th>\n",
       "      <td>255</td>\n",
       "      <td>255</td>\n",
       "      <td>255</td>\n",
       "      <td>255</td>\n",
       "      <td>255</td>\n",
       "      <td>255</td>\n",
       "      <td>255</td>\n",
       "      <td>255</td>\n",
       "      <td>255</td>\n",
       "      <td>255</td>\n",
       "      <td>255</td>\n",
       "      <td>255</td>\n",
       "      <td>255</td>\n",
       "      <td>255</td>\n",
       "      <td>255</td>\n",
       "      <td>255</td>\n",
       "      <td>255</td>\n",
       "      <td>255</td>\n",
       "    </tr>\n",
       "  </tbody>\n",
       "</table>\n",
       "</div>"
      ],
      "text/plain": [
       "       compactness  circularity  distance_circularity  radius_ratio  \\\n",
       "group                                                                 \n",
       "0              275          275                   275           275   \n",
       "1              275          275                   275           275   \n",
       "2                8            8                     8             8   \n",
       "3              255          255                   255           255   \n",
       "\n",
       "       pr.axis_aspect_ratio  max.length_aspect_ratio  scatter_ratio  \\\n",
       "group                                                                 \n",
       "0                       275                      275            275   \n",
       "1                       275                      275            275   \n",
       "2                         8                        8              8   \n",
       "3                       255                      255            255   \n",
       "\n",
       "       elongatedness  pr.axis_rectangularity  max.length_rectangularity  \\\n",
       "group                                                                     \n",
       "0                275                     275                        275   \n",
       "1                275                     275                        275   \n",
       "2                  8                       8                          8   \n",
       "3                255                     255                        255   \n",
       "\n",
       "       scaled_variance  scaled_variance.1  scaled_radius_of_gyration  \\\n",
       "group                                                                  \n",
       "0                  275                275                        275   \n",
       "1                  275                275                        275   \n",
       "2                    8                  8                          8   \n",
       "3                  255                255                        255   \n",
       "\n",
       "       scaled_radius_of_gyration.1  skewness_about  skewness_about.1  \\\n",
       "group                                                                  \n",
       "0                              275             275               275   \n",
       "1                              275             275               275   \n",
       "2                                8               8                 8   \n",
       "3                              255             255               255   \n",
       "\n",
       "       skewness_about.2  hollows_ratio  \n",
       "group                                   \n",
       "0                   275            275  \n",
       "1                   275            275  \n",
       "2                     8              8  \n",
       "3                   255            255  "
      ]
     },
     "execution_count": 246,
     "metadata": {},
     "output_type": "execute_result"
    }
   ],
   "source": [
    "X_df = pd.DataFrame(data)\n",
    "X_df[\"group\"] = kmeans.labels_\n",
    "X_df.groupby(['group']).count()"
   ]
  },
  {
   "cell_type": "code",
   "execution_count": 249,
   "metadata": {},
   "outputs": [
    {
     "data": {
      "text/plain": [
       "<matplotlib.collections.PathCollection at 0x269ec0a7e80>"
      ]
     },
     "execution_count": 249,
     "metadata": {},
     "output_type": "execute_result"
    },
    {
     "data": {
      "image/png": "[encoded data removed]",
      "text/plain": [
       "<Figure size 720x504 with 1 Axes>"
      ]
     },
     "metadata": {
      "needs_background": "light"
     },
     "output_type": "display_data"
    }
   ],
   "source": [
    "plt.figure(figsize=(10,7))  \n",
    "plt.scatter(X_df['compactness'], X_df['max.length_rectangularity'], c=kmeans.labels_) "
   ]
  },
  {
   "cell_type": "markdown",
   "metadata": {
    "colab_type": "text",
    "id": "SmQyHhmFhpB3"
   },
   "source": [
    "## Hierarchical Clustering "
   ]
  },
  {
   "cell_type": "markdown",
   "metadata": {
    "colab_type": "text",
    "id": "_zAMRDe_hpB5"
   },
   "source": [
    "### 8. Variable creation"
   ]
  },
  {
   "cell_type": "markdown",
   "metadata": {
    "colab_type": "text",
    "id": "VESIKt49hpB6"
   },
   "source": [
    "For Hierarchical clustering, we will create datasets using multivariate normal distribution to visually observe how the clusters are formed at the end"
   ]
  },
  {
   "cell_type": "code",
   "execution_count": 250,
   "metadata": {
    "colab": {},
    "colab_type": "code",
    "id": "qpUh49bKhpB8"
   },
   "outputs": [],
   "source": [
    "np.random.seed(101)  # for repeatability of this dataset\n",
    "a = np.random.multivariate_normal([10, 0], [[3, 1], [1, 4]], size=[100,])\n",
    "b = np.random.multivariate_normal([0, 20], [[3, 1], [1, 4]], size=[50,])\n",
    "c = np.random.multivariate_normal([10, 20], [[3, 1], [1, 4]], size=[100,])"
   ]
  },
  {
   "cell_type": "markdown",
   "metadata": {
    "colab_type": "raw",
    "id": "cu8DfP8shpCA"
   },
   "source": [
    "a = np.random.multivariate_normal([10, 0], [[3, 1], [1, 4]], size=[100,])\n",
    "b = np.random.multivariate_normal([0, 20], [[3, 1], [1, 4]], size=[50,])\n",
    "c = np.random.multivariate_normal([10, 20], [[3, 1], [1, 4]], size=[100,])"
   ]
  },
  {
   "cell_type": "markdown",
   "metadata": {},
   "source": [
    "https://docs.scipy.org/doc/numpy-1.15.1/reference/generated/numpy.random.multivariate_normal.html"
   ]
  },
  {
   "cell_type": "markdown",
   "metadata": {
    "colab_type": "text",
    "id": "Eui7Qgc8hpCH"
   },
   "source": [
    "### 9. Combine all three arrays a,b,c into a dataframe"
   ]
  },
  {
   "cell_type": "code",
   "execution_count": 265,
   "metadata": {
    "colab": {},
    "colab_type": "code",
    "id": "Nle34XhhhpCI"
   },
   "outputs": [],
   "source": [
    "d = np.concatenate([a, b, c])\n",
    "df = pd.DataFrame(data=d, columns=['A','B'])"
   ]
  },
  {
   "cell_type": "code",
   "execution_count": 261,
   "metadata": {
    "colab": {},
    "colab_type": "code",
    "id": "lov1nQqAhpCa"
   },
   "outputs": [
    {
     "data": {
      "text/html": [
       "<div>\n",
       "<style scoped>\n",
       "    .dataframe tbody tr th:only-of-type {\n",
       "        vertical-align: middle;\n",
       "    }\n",
       "\n",
       "    .dataframe tbody tr th {\n",
       "        vertical-align: top;\n",
       "    }\n",
       "\n",
       "    .dataframe thead th {\n",
       "        text-align: right;\n",
       "    }\n",
       "</style>\n",
       "<table border=\"1\" class=\"dataframe\">\n",
       "  <thead>\n",
       "    <tr style=\"text-align: right;\">\n",
       "      <th></th>\n",
       "      <th>A</th>\n",
       "      <th>B</th>\n",
       "    </tr>\n",
       "  </thead>\n",
       "  <tbody>\n",
       "    <tr>\n",
       "      <th>0</th>\n",
       "      <td>13.882785</td>\n",
       "      <td>4.438501</td>\n",
       "    </tr>\n",
       "    <tr>\n",
       "      <th>1</th>\n",
       "      <td>11.687256</td>\n",
       "      <td>1.250981</td>\n",
       "    </tr>\n",
       "    <tr>\n",
       "      <th>2</th>\n",
       "      <td>10.316397</td>\n",
       "      <td>1.449346</td>\n",
       "    </tr>\n",
       "    <tr>\n",
       "      <th>3</th>\n",
       "      <td>9.837412</td>\n",
       "      <td>-2.041974</td>\n",
       "    </tr>\n",
       "    <tr>\n",
       "      <th>4</th>\n",
       "      <td>8.691601</td>\n",
       "      <td>-4.289773</td>\n",
       "    </tr>\n",
       "  </tbody>\n",
       "</table>\n",
       "</div>"
      ],
      "text/plain": [
       "           A         B\n",
       "0  13.882785  4.438501\n",
       "1  11.687256  1.250981\n",
       "2  10.316397  1.449346\n",
       "3   9.837412 -2.041974\n",
       "4   8.691601 -4.289773"
      ]
     },
     "execution_count": 261,
     "metadata": {},
     "output_type": "execute_result"
    }
   ],
   "source": [
    "df.head()"
   ]
  },
  {
   "cell_type": "markdown",
   "metadata": {
    "colab_type": "text",
    "id": "v6JlILlihpCe"
   },
   "source": [
    "### 10. Use scatter matrix to print all the 3 distributions"
   ]
  },
  {
   "cell_type": "code",
   "execution_count": 270,
   "metadata": {
    "colab": {},
    "colab_type": "code",
    "id": "i6Nf9LznhpCg"
   },
   "outputs": [
    {
     "data": {
      "text/plain": [
       "array([[<matplotlib.axes._subplots.AxesSubplot object at 0x00000269EC050E10>,\n",
       "        <matplotlib.axes._subplots.AxesSubplot object at 0x00000269EC0F5EB8>],\n",
       "       [<matplotlib.axes._subplots.AxesSubplot object at 0x00000269EC4B3128>,\n",
       "        <matplotlib.axes._subplots.AxesSubplot object at 0x00000269EC52D390>]],\n",
       "      dtype=object)"
      ]
     },
     "execution_count": 270,
     "metadata": {},
     "output_type": "execute_result"
    },
    {
     "data": {
      "image/png": "[encoded data removed]",
      "text/plain": [
       "<Figure size 432x288 with 4 Axes>"
      ]
     },
     "metadata": {
      "needs_background": "light"
     },
     "output_type": "display_data"
    }
   ],
   "source": [
    "from pandas.plotting import scatter_matrix\n",
    "scatter_matrix(df)"
   ]
  },
  {
   "cell_type": "markdown",
   "metadata": {
    "colab_type": "text",
    "id": "Ufj36K5NhpCo"
   },
   "source": [
    "### 11. Find out the linkage matrix"
   ]
  },
  {
   "cell_type": "markdown",
   "metadata": {
    "colab": {},
    "colab_type": "code",
    "id": "rXJAOAilhpCp"
   },
   "source": [
    "https://docs.scipy.org/doc/scipy-0.14.0/reference/generated/scipy.cluster.hierarchy.linkage.html"
   ]
  },
  {
   "cell_type": "markdown",
   "metadata": {
    "colab_type": "text",
    "id": "EOxwi5gshpCt"
   },
   "source": [
    "Use ward as linkage metric and distance as Eucledian"
   ]
  },
  {
   "cell_type": "code",
   "execution_count": 274,
   "metadata": {
    "colab": {},
    "colab_type": "code",
    "id": "xJsL16lqhpCu"
   },
   "outputs": [
    {
     "data": {
      "text/html": [
       "<div>\n",
       "<style scoped>\n",
       "    .dataframe tbody tr th:only-of-type {\n",
       "        vertical-align: middle;\n",
       "    }\n",
       "\n",
       "    .dataframe tbody tr th {\n",
       "        vertical-align: top;\n",
       "    }\n",
       "\n",
       "    .dataframe thead th {\n",
       "        text-align: right;\n",
       "    }\n",
       "</style>\n",
       "<table border=\"1\" class=\"dataframe\">\n",
       "  <thead>\n",
       "    <tr style=\"text-align: right;\">\n",
       "      <th></th>\n",
       "      <th>A</th>\n",
       "      <th>B</th>\n",
       "    </tr>\n",
       "  </thead>\n",
       "  <tbody>\n",
       "    <tr>\n",
       "      <th>0</th>\n",
       "      <td>0.952504</td>\n",
       "      <td>0.304527</td>\n",
       "    </tr>\n",
       "    <tr>\n",
       "      <th>1</th>\n",
       "      <td>0.994320</td>\n",
       "      <td>0.106430</td>\n",
       "    </tr>\n",
       "    <tr>\n",
       "      <th>2</th>\n",
       "      <td>0.990275</td>\n",
       "      <td>0.139123</td>\n",
       "    </tr>\n",
       "    <tr>\n",
       "      <th>3</th>\n",
       "      <td>0.979129</td>\n",
       "      <td>-0.203240</td>\n",
       "    </tr>\n",
       "    <tr>\n",
       "      <th>4</th>\n",
       "      <td>0.896727</td>\n",
       "      <td>-0.442583</td>\n",
       "    </tr>\n",
       "  </tbody>\n",
       "</table>\n",
       "</div>"
      ],
      "text/plain": [
       "          A         B\n",
       "0  0.952504  0.304527\n",
       "1  0.994320  0.106430\n",
       "2  0.990275  0.139123\n",
       "3  0.979129 -0.203240\n",
       "4  0.896727 -0.442583"
      ]
     },
     "execution_count": 274,
     "metadata": {},
     "output_type": "execute_result"
    }
   ],
   "source": [
    "from sklearn.preprocessing import normalize\n",
    "data_scaled = normalize(df)\n",
    "X = pd.DataFrame(data_scaled, columns=df.columns)\n",
    "X.head()"
   ]
  },
  {
   "cell_type": "code",
   "execution_count": 278,
   "metadata": {
    "colab": {},
    "colab_type": "code",
    "id": "A6YN_sjhhpC4"
   },
   "outputs": [
    {
     "name": "stdout",
     "output_type": "stream",
     "text": [
      "Ward 0.936713101678553\n"
     ]
    }
   ],
   "source": [
    "# Case 1: Ward Method\n",
    "#the way to capture distance within the cluster in python we use pdist(), Cdist() distance between clustures\n",
    "Z = linkage(X, 'ward')\n",
    "c, coph_dists = cophenet(Z , pdist(X))\n",
    "print(\"Ward\",c)"
   ]
  },
  {
   "cell_type": "markdown",
   "metadata": {
    "colab_type": "text",
    "id": "UnVS8VYMhpC9"
   },
   "source": [
    "### 12. Plot the dendrogram for the consolidated dataframe"
   ]
  },
  {
   "cell_type": "code",
   "execution_count": 280,
   "metadata": {
    "colab": {},
    "colab_type": "code",
    "id": "oeLtemVqhpC_"
   },
   "outputs": [
    {
     "data": {
      "image/png": "[encoded data removed]",
      "text/plain": [
       "<Figure size 720x504 with 1 Axes>"
      ]
     },
     "metadata": {
      "needs_background": "light"
     },
     "output_type": "display_data"
    }
   ],
   "source": [
    "import scipy.cluster.hierarchy as shc\n",
    "plt.figure(figsize=(10, 7))  \n",
    "plt.title(\"Dendrograms\")  \n",
    "dend = shc.dendrogram(shc.linkage(X, method='ward'))"
   ]
  },
  {
   "cell_type": "markdown",
   "metadata": {
    "colab_type": "text",
    "id": "QXE-T9cHhpDS"
   },
   "source": [
    "### 13. Recreate the dendrogram for last 12 merged clusters "
   ]
  },
  {
   "cell_type": "markdown",
   "metadata": {},
   "source": [
    "https://docs.scipy.org/doc/scipy-0.14.0/reference/generated/scipy.cluster.hierarchy.dendrogram.html"
   ]
  },
  {
   "cell_type": "markdown",
   "metadata": {
    "colab_type": "text",
    "id": "4PKR3o5QhpDX"
   },
   "source": [
    "Hint: Use truncate_mode='lastp' attribute in dendrogram function to arrive at dendrogram "
   ]
  },
  {
   "cell_type": "code",
   "execution_count": 281,
   "metadata": {
    "colab": {},
    "colab_type": "code",
    "id": "GDri9xtAhpDY"
   },
   "outputs": [
    {
     "data": {
      "image/png": "[encoded data removed]",
      "text/plain": [
       "<Figure size 720x504 with 1 Axes>"
      ]
     },
     "metadata": {
      "needs_background": "light"
     },
     "output_type": "display_data"
    }
   ],
   "source": [
    "plt.figure(figsize=(10, 7))  \n",
    "plt.title(\"Dendrograms\")  \n",
    "dend = sch.dendrogram(sch.linkage(X, method='ward'), truncate_mode='lastp', p=12)"
   ]
  },
  {
   "cell_type": "markdown",
   "metadata": {
    "colab_type": "text",
    "id": "zjFjCWL5hpDr"
   },
   "source": [
    "### 14. From the truncated dendrogram, find out the optimal distance between clusters which u want to use an input for clustering data"
   ]
  },
  {
   "cell_type": "markdown",
   "metadata": {
    "colab": {},
    "colab_type": "code",
    "id": "DQ5m6orQhpDt"
   },
   "source": [
    "https://docs.scipy.org/doc/scipy-0.15.1/reference/generated/scipy.cluster.hierarchy.fcluster.html"
   ]
  },
  {
   "cell_type": "code",
   "execution_count": 284,
   "metadata": {
    "colab": {},
    "colab_type": "code",
    "id": "5-yUhkgMhpDx"
   },
   "outputs": [
    {
     "data": {
      "text/plain": [
       "array([1, 1, 1, 0, 0, 1, 1, 0, 1, 1, 1, 0, 1, 1, 1, 1, 1, 0, 1, 1, 0, 0,\n",
       "       1, 1, 1, 1, 1, 1, 0, 0, 1, 1, 1, 1, 1, 1, 0, 1, 1, 0, 0, 1, 1, 0,\n",
       "       1, 0, 1, 1, 0, 1, 1, 0, 1, 1, 1, 1, 0, 1, 1, 1, 1, 1, 0, 0, 1, 1,\n",
       "       1, 1, 1, 1, 1, 1, 1, 1, 0, 1, 1, 1, 0, 1, 1, 1, 1, 0, 1, 1, 1, 1,\n",
       "       1, 1, 1, 1, 1, 1, 1, 0, 1, 1, 1, 1, 2, 2, 2, 2, 2, 2, 2, 2, 2, 2,\n",
       "       2, 2, 2, 2, 2, 2, 2, 2, 2, 2, 2, 2, 2, 2, 2, 2, 2, 2, 2, 2, 2, 2,\n",
       "       2, 2, 2, 2, 2, 2, 2, 2, 2, 2, 2, 2, 2, 2, 2, 2, 2, 2, 0, 0, 0, 0,\n",
       "       0, 0, 0, 0, 0, 0, 0, 0, 0, 0, 2, 0, 0, 0, 0, 0, 0, 0, 0, 0, 0, 0,\n",
       "       0, 0, 0, 0, 0, 0, 0, 0, 0, 0, 0, 0, 0, 0, 0, 0, 0, 0, 0, 0, 0, 0,\n",
       "       0, 0, 0, 0, 0, 0, 0, 0, 0, 0, 0, 0, 0, 0, 0, 0, 0, 0, 0, 0, 0, 0,\n",
       "       0, 0, 0, 0, 0, 0, 0, 0, 0, 0, 0, 0, 0, 0, 2, 0, 0, 0, 0, 0, 0, 0,\n",
       "       0, 0, 0, 0, 0, 0, 0, 0], dtype=int64)"
      ]
     },
     "execution_count": 284,
     "metadata": {},
     "output_type": "execute_result"
    }
   ],
   "source": [
    "from sklearn.cluster import AgglomerativeClustering\n",
    "cluster = AgglomerativeClustering(n_clusters=3, affinity='euclidean', linkage='ward')  \n",
    "cluster.fit_predict(X)"
   ]
  },
  {
   "cell_type": "code",
   "execution_count": 290,
   "metadata": {},
   "outputs": [
    {
     "data": {
      "text/html": [
       "<div>\n",
       "<style scoped>\n",
       "    .dataframe tbody tr th:only-of-type {\n",
       "        vertical-align: middle;\n",
       "    }\n",
       "\n",
       "    .dataframe tbody tr th {\n",
       "        vertical-align: top;\n",
       "    }\n",
       "\n",
       "    .dataframe thead th {\n",
       "        text-align: right;\n",
       "    }\n",
       "</style>\n",
       "<table border=\"1\" class=\"dataframe\">\n",
       "  <thead>\n",
       "    <tr style=\"text-align: right;\">\n",
       "      <th></th>\n",
       "      <th>A</th>\n",
       "      <th>B</th>\n",
       "    </tr>\n",
       "    <tr>\n",
       "      <th>labels</th>\n",
       "      <th></th>\n",
       "      <th></th>\n",
       "    </tr>\n",
       "  </thead>\n",
       "  <tbody>\n",
       "    <tr>\n",
       "      <th>0</th>\n",
       "      <td>121</td>\n",
       "      <td>121</td>\n",
       "    </tr>\n",
       "    <tr>\n",
       "      <th>1</th>\n",
       "      <td>77</td>\n",
       "      <td>77</td>\n",
       "    </tr>\n",
       "    <tr>\n",
       "      <th>2</th>\n",
       "      <td>52</td>\n",
       "      <td>52</td>\n",
       "    </tr>\n",
       "  </tbody>\n",
       "</table>\n",
       "</div>"
      ],
      "text/plain": [
       "          A    B\n",
       "labels          \n",
       "0       121  121\n",
       "1        77   77\n",
       "2        52   52"
      ]
     },
     "execution_count": 290,
     "metadata": {},
     "output_type": "execute_result"
    }
   ],
   "source": [
    "X['labels'] = cluster.labels_\n",
    "X.groupby([\"labels\"]).count()"
   ]
  },
  {
   "cell_type": "markdown",
   "metadata": {
    "colab_type": "text",
    "id": "owSZBbSUhpEC"
   },
   "source": [
    "### 15. Using this distance measure and fcluster function to cluster the data into 3 different groups"
   ]
  },
  {
   "cell_type": "code",
   "execution_count": 288,
   "metadata": {
    "colab": {},
    "colab_type": "code",
    "id": "HLVorGUEhpEE"
   },
   "outputs": [],
   "source": []
  },
  {
   "cell_type": "code",
   "execution_count": null,
   "metadata": {
    "colab": {},
    "colab_type": "code",
    "id": "Rgty9iOlhpEL"
   },
   "outputs": [],
   "source": []
  },
  {
   "cell_type": "markdown",
   "metadata": {
    "colab_type": "text",
    "id": "642Ur5TWhpEX"
   },
   "source": [
    "### Use matplotlib to visually observe the clusters in 2D space "
   ]
  },
  {
   "cell_type": "code",
   "execution_count": 291,
   "metadata": {
    "colab": {},
    "colab_type": "code",
    "id": "YHHSylfQhpEX"
   },
   "outputs": [
    {
     "data": {
      "text/plain": [
       "<matplotlib.collections.PathCollection at 0x269ed0cf208>"
      ]
     },
     "execution_count": 291,
     "metadata": {},
     "output_type": "execute_result"
    },
    {
     "data": {
      "image/png": "[encoded data removed]",
      "text/plain": [
       "<Figure size 720x504 with 1 Axes>"
      ]
     },
     "metadata": {
      "needs_background": "light"
     },
     "output_type": "display_data"
    }
   ],
   "source": [
    "plt.figure(figsize=(10, 7))  \n",
    "plt.scatter(X['A'], X['B'], c=cluster.labels_) "
   ]
  }
 ],
 "metadata": {
  "colab": {
   "collapsed_sections": [
    "n2kFVi2GhpBn",
    "Ufj36K5NhpCo",
    "zjFjCWL5hpDr",
    "owSZBbSUhpEC",
    "642Ur5TWhpEX"
   ],
   "name": "R4_Internal_Lab_Clustering.ipynb",
   "provenance": [],
   "version": "0.3.2"
  },
  "kernelspec": {
   "display_name": "Python 3",
   "language": "python",
   "name": "python3"
  },
  "language_info": {
   "codemirror_mode": {
    "name": "ipython",
    "version": 3
   },
   "file_extension": ".py",
   "mimetype": "text/x-python",
   "name": "python",
   "nbconvert_exporter": "python",
   "pygments_lexer": "ipython3",
   "version": "3.7.3"
  }
 },
 "nbformat": 4,
 "nbformat_minor": 1
}

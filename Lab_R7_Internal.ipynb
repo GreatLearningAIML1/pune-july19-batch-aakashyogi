{
  "nbformat": 4,
  "nbformat_minor": 0,
  "metadata": {
    "colab": {
      "name": "Questions_Internal_R7_AIML_Labs.ipynb",
      "provenance": [],
      "collapsed_sections": []
    },
    "kernelspec": {
      "display_name": "Python 3",
      "language": "python",
      "name": "python3"
    },
    "language_info": {
      "codemirror_mode": {
        "name": "ipython",
        "version": 3
      },
      "file_extension": ".py",
      "mimetype": "text/x-python",
      "name": "python",
      "nbconvert_exporter": "python",
      "pygments_lexer": "ipython3",
      "version": "3.7.3"
    }
  },
  "cells": [
    {
      "cell_type": "markdown",
      "metadata": {
        "colab_type": "text",
        "id": "YeoiMbH7djEv"
      },
      "source": [
        "# Stock prices dataset\n",
        "The data is of tock exchange's stock listings for each trading day of 2010 to 2016.\n",
        "\n",
        "## Description\n",
        "A brief description of columns.\n",
        "- open: The opening market price of the equity symbol on the date\n",
        "- high: The highest market price of the equity symbol on the date\n",
        "- low: The lowest recorded market price of the equity symbol on the date\n",
        "- close: The closing recorded price of the equity symbol on the date\n",
        "- symbol: Symbol of the listed company\n",
        "- volume: Total traded volume of the equity symbol on the date\n",
        "- date: Date of record"
      ]
    },
    {
      "cell_type": "markdown",
      "metadata": {
        "colab_type": "text",
        "id": "RSoYY2nII_UW"
      },
      "source": [
        "In this assignment, we will work on the stock prices dataset named \"prices.csv\". Task is to create a Neural Network to classify closing price for a stock based on some parameters."
      ]
    },
    {
      "cell_type": "code",
      "metadata": {
        "colab_type": "code",
        "id": "PGqq9f8VdLba",
        "colab": {}
      },
      "source": [
        "# Initialize the random number generator\n",
        "import random\n",
        "random.seed(0)\n",
        "\n",
        "# Ignore the warnings\n",
        "#import warnings\n",
        "#warnings.filterwarnings(\"ignore\")"
      ],
      "execution_count": 3,
      "outputs": []
    },
    {
      "cell_type": "markdown",
      "metadata": {
        "colab_type": "text",
        "id": "_88voqAH-O6J"
      },
      "source": [
        "## Question 1"
      ]
    },
    {
      "cell_type": "markdown",
      "metadata": {
        "colab_type": "text",
        "id": "dRHCeJqP-evf"
      },
      "source": [
        "### Load the data\n",
        "- load the csv file and read it using pandas\n",
        "- file name is prices.csv"
      ]
    },
    {
      "cell_type": "code",
      "metadata": {
        "colab_type": "code",
        "id": "cKVH5v7r-RmC",
        "colab": {}
      },
      "source": [
        "import pandas as pd\n",
        "import numpy as np"
      ],
      "execution_count": 4,
      "outputs": []
    },
    {
      "cell_type": "code",
      "metadata": {
        "colab_type": "code",
        "id": "Gr4YcffYd1FQ",
        "colab": {}
      },
      "source": [
        "df = pd.read_csv('prices.csv')"
      ],
      "execution_count": 5,
      "outputs": []
    },
    {
      "cell_type": "code",
      "metadata": {
        "id": "icqyX4uFHHom",
        "colab_type": "code",
        "colab": {
          "base_uri": "https://localhost:8080/",
          "height": 419
        },
        "outputId": "b34fc25b-a00e-4bab-9a5f-64c8c364c8b1"
      },
      "source": [
        "df"
      ],
      "execution_count": 7,
      "outputs": [
        {
          "output_type": "execute_result",
          "data": {
            "text/html": [
              "<div>\n",
              "<style scoped>\n",
              "    .dataframe tbody tr th:only-of-type {\n",
              "        vertical-align: middle;\n",
              "    }\n",
              "\n",
              "    .dataframe tbody tr th {\n",
              "        vertical-align: top;\n",
              "    }\n",
              "\n",
              "    .dataframe thead th {\n",
              "        text-align: right;\n",
              "    }\n",
              "</style>\n",
              "<table border=\"1\" class=\"dataframe\">\n",
              "  <thead>\n",
              "    <tr style=\"text-align: right;\">\n",
              "      <th></th>\n",
              "      <th>date</th>\n",
              "      <th>symbol</th>\n",
              "      <th>open</th>\n",
              "      <th>close</th>\n",
              "      <th>low</th>\n",
              "      <th>high</th>\n",
              "      <th>volume</th>\n",
              "    </tr>\n",
              "  </thead>\n",
              "  <tbody>\n",
              "    <tr>\n",
              "      <th>0</th>\n",
              "      <td>2016-01-05 00:00:00</td>\n",
              "      <td>WLTW</td>\n",
              "      <td>123.430000</td>\n",
              "      <td>125.839996</td>\n",
              "      <td>122.309998</td>\n",
              "      <td>126.250000</td>\n",
              "      <td>2163600.0</td>\n",
              "    </tr>\n",
              "    <tr>\n",
              "      <th>1</th>\n",
              "      <td>2016-01-06 00:00:00</td>\n",
              "      <td>WLTW</td>\n",
              "      <td>125.239998</td>\n",
              "      <td>119.980003</td>\n",
              "      <td>119.940002</td>\n",
              "      <td>125.540001</td>\n",
              "      <td>2386400.0</td>\n",
              "    </tr>\n",
              "    <tr>\n",
              "      <th>2</th>\n",
              "      <td>2016-01-07 00:00:00</td>\n",
              "      <td>WLTW</td>\n",
              "      <td>116.379997</td>\n",
              "      <td>114.949997</td>\n",
              "      <td>114.930000</td>\n",
              "      <td>119.739998</td>\n",
              "      <td>2489500.0</td>\n",
              "    </tr>\n",
              "    <tr>\n",
              "      <th>3</th>\n",
              "      <td>2016-01-08 00:00:00</td>\n",
              "      <td>WLTW</td>\n",
              "      <td>115.480003</td>\n",
              "      <td>116.620003</td>\n",
              "      <td>113.500000</td>\n",
              "      <td>117.440002</td>\n",
              "      <td>2006300.0</td>\n",
              "    </tr>\n",
              "    <tr>\n",
              "      <th>4</th>\n",
              "      <td>2016-01-11 00:00:00</td>\n",
              "      <td>WLTW</td>\n",
              "      <td>117.010002</td>\n",
              "      <td>114.970001</td>\n",
              "      <td>114.089996</td>\n",
              "      <td>117.330002</td>\n",
              "      <td>1408600.0</td>\n",
              "    </tr>\n",
              "    <tr>\n",
              "      <th>...</th>\n",
              "      <td>...</td>\n",
              "      <td>...</td>\n",
              "      <td>...</td>\n",
              "      <td>...</td>\n",
              "      <td>...</td>\n",
              "      <td>...</td>\n",
              "      <td>...</td>\n",
              "    </tr>\n",
              "    <tr>\n",
              "      <th>205087</th>\n",
              "      <td>2011-09-26</td>\n",
              "      <td>HST</td>\n",
              "      <td>10.710000</td>\n",
              "      <td>11.190000</td>\n",
              "      <td>10.580000</td>\n",
              "      <td>11.210000</td>\n",
              "      <td>9152800.0</td>\n",
              "    </tr>\n",
              "    <tr>\n",
              "      <th>205088</th>\n",
              "      <td>2011-09-26</td>\n",
              "      <td>HSY</td>\n",
              "      <td>59.419998</td>\n",
              "      <td>60.000000</td>\n",
              "      <td>58.959999</td>\n",
              "      <td>60.000000</td>\n",
              "      <td>1638100.0</td>\n",
              "    </tr>\n",
              "    <tr>\n",
              "      <th>205089</th>\n",
              "      <td>2011-09-26</td>\n",
              "      <td>HUM</td>\n",
              "      <td>77.809998</td>\n",
              "      <td>78.629997</td>\n",
              "      <td>76.650002</td>\n",
              "      <td>79.000000</td>\n",
              "      <td>2264700.0</td>\n",
              "    </tr>\n",
              "    <tr>\n",
              "      <th>205090</th>\n",
              "      <td>2011-09-26</td>\n",
              "      <td>IBM</td>\n",
              "      <td>170.960007</td>\n",
              "      <td>174.509995</td>\n",
              "      <td>169.860001</td>\n",
              "      <td>174.699997</td>\n",
              "      <td>6745700.0</td>\n",
              "    </tr>\n",
              "    <tr>\n",
              "      <th>205091</th>\n",
              "      <td>2011-09-26</td>\n",
              "      <td>ICE</td>\n",
              "      <td>123.000000</td>\n",
              "      <td>NaN</td>\n",
              "      <td>NaN</td>\n",
              "      <td>NaN</td>\n",
              "      <td>NaN</td>\n",
              "    </tr>\n",
              "  </tbody>\n",
              "</table>\n",
              "<p>205092 rows × 7 columns</p>\n",
              "</div>"
            ],
            "text/plain": [
              "                       date symbol  ...        high     volume\n",
              "0       2016-01-05 00:00:00   WLTW  ...  126.250000  2163600.0\n",
              "1       2016-01-06 00:00:00   WLTW  ...  125.540001  2386400.0\n",
              "2       2016-01-07 00:00:00   WLTW  ...  119.739998  2489500.0\n",
              "3       2016-01-08 00:00:00   WLTW  ...  117.440002  2006300.0\n",
              "4       2016-01-11 00:00:00   WLTW  ...  117.330002  1408600.0\n",
              "...                     ...    ...  ...         ...        ...\n",
              "205087           2011-09-26    HST  ...   11.210000  9152800.0\n",
              "205088           2011-09-26    HSY  ...   60.000000  1638100.0\n",
              "205089           2011-09-26    HUM  ...   79.000000  2264700.0\n",
              "205090           2011-09-26    IBM  ...  174.699997  6745700.0\n",
              "205091           2011-09-26    ICE  ...         NaN        NaN\n",
              "\n",
              "[205092 rows x 7 columns]"
            ]
          },
          "metadata": {
            "tags": []
          },
          "execution_count": 7
        }
      ]
    },
    {
      "cell_type": "markdown",
      "metadata": {
        "colab_type": "text",
        "id": "HlLKVPVH_BCT"
      },
      "source": [
        "## Question 2"
      ]
    },
    {
      "cell_type": "markdown",
      "metadata": {
        "colab_type": "text",
        "id": "ZxoGynuBeO4t"
      },
      "source": [
        "### Drop null\n",
        "- Drop null values if any"
      ]
    },
    {
      "cell_type": "code",
      "metadata": {
        "colab_type": "code",
        "id": "_yuwJJIeeUaD",
        "colab": {
          "base_uri": "https://localhost:8080/",
          "height": 402
        },
        "outputId": "f0bc38da-0c5f-4f40-882e-acce858b7830"
      },
      "source": [
        "df.dropna()"
      ],
      "execution_count": 8,
      "outputs": [
        {
          "output_type": "execute_result",
          "data": {
            "text/html": [
              "<div>\n",
              "<style scoped>\n",
              "    .dataframe tbody tr th:only-of-type {\n",
              "        vertical-align: middle;\n",
              "    }\n",
              "\n",
              "    .dataframe tbody tr th {\n",
              "        vertical-align: top;\n",
              "    }\n",
              "\n",
              "    .dataframe thead th {\n",
              "        text-align: right;\n",
              "    }\n",
              "</style>\n",
              "<table border=\"1\" class=\"dataframe\">\n",
              "  <thead>\n",
              "    <tr style=\"text-align: right;\">\n",
              "      <th></th>\n",
              "      <th>date</th>\n",
              "      <th>symbol</th>\n",
              "      <th>open</th>\n",
              "      <th>close</th>\n",
              "      <th>low</th>\n",
              "      <th>high</th>\n",
              "      <th>volume</th>\n",
              "    </tr>\n",
              "  </thead>\n",
              "  <tbody>\n",
              "    <tr>\n",
              "      <th>0</th>\n",
              "      <td>2016-01-05 00:00:00</td>\n",
              "      <td>WLTW</td>\n",
              "      <td>123.430000</td>\n",
              "      <td>125.839996</td>\n",
              "      <td>122.309998</td>\n",
              "      <td>126.250000</td>\n",
              "      <td>2163600.0</td>\n",
              "    </tr>\n",
              "    <tr>\n",
              "      <th>1</th>\n",
              "      <td>2016-01-06 00:00:00</td>\n",
              "      <td>WLTW</td>\n",
              "      <td>125.239998</td>\n",
              "      <td>119.980003</td>\n",
              "      <td>119.940002</td>\n",
              "      <td>125.540001</td>\n",
              "      <td>2386400.0</td>\n",
              "    </tr>\n",
              "    <tr>\n",
              "      <th>2</th>\n",
              "      <td>2016-01-07 00:00:00</td>\n",
              "      <td>WLTW</td>\n",
              "      <td>116.379997</td>\n",
              "      <td>114.949997</td>\n",
              "      <td>114.930000</td>\n",
              "      <td>119.739998</td>\n",
              "      <td>2489500.0</td>\n",
              "    </tr>\n",
              "    <tr>\n",
              "      <th>3</th>\n",
              "      <td>2016-01-08 00:00:00</td>\n",
              "      <td>WLTW</td>\n",
              "      <td>115.480003</td>\n",
              "      <td>116.620003</td>\n",
              "      <td>113.500000</td>\n",
              "      <td>117.440002</td>\n",
              "      <td>2006300.0</td>\n",
              "    </tr>\n",
              "    <tr>\n",
              "      <th>4</th>\n",
              "      <td>2016-01-11 00:00:00</td>\n",
              "      <td>WLTW</td>\n",
              "      <td>117.010002</td>\n",
              "      <td>114.970001</td>\n",
              "      <td>114.089996</td>\n",
              "      <td>117.330002</td>\n",
              "      <td>1408600.0</td>\n",
              "    </tr>\n",
              "    <tr>\n",
              "      <th>...</th>\n",
              "      <td>...</td>\n",
              "      <td>...</td>\n",
              "      <td>...</td>\n",
              "      <td>...</td>\n",
              "      <td>...</td>\n",
              "      <td>...</td>\n",
              "      <td>...</td>\n",
              "    </tr>\n",
              "    <tr>\n",
              "      <th>205086</th>\n",
              "      <td>2011-09-26</td>\n",
              "      <td>HSIC</td>\n",
              "      <td>63.070000</td>\n",
              "      <td>63.130001</td>\n",
              "      <td>61.389999</td>\n",
              "      <td>63.389999</td>\n",
              "      <td>506400.0</td>\n",
              "    </tr>\n",
              "    <tr>\n",
              "      <th>205087</th>\n",
              "      <td>2011-09-26</td>\n",
              "      <td>HST</td>\n",
              "      <td>10.710000</td>\n",
              "      <td>11.190000</td>\n",
              "      <td>10.580000</td>\n",
              "      <td>11.210000</td>\n",
              "      <td>9152800.0</td>\n",
              "    </tr>\n",
              "    <tr>\n",
              "      <th>205088</th>\n",
              "      <td>2011-09-26</td>\n",
              "      <td>HSY</td>\n",
              "      <td>59.419998</td>\n",
              "      <td>60.000000</td>\n",
              "      <td>58.959999</td>\n",
              "      <td>60.000000</td>\n",
              "      <td>1638100.0</td>\n",
              "    </tr>\n",
              "    <tr>\n",
              "      <th>205089</th>\n",
              "      <td>2011-09-26</td>\n",
              "      <td>HUM</td>\n",
              "      <td>77.809998</td>\n",
              "      <td>78.629997</td>\n",
              "      <td>76.650002</td>\n",
              "      <td>79.000000</td>\n",
              "      <td>2264700.0</td>\n",
              "    </tr>\n",
              "    <tr>\n",
              "      <th>205090</th>\n",
              "      <td>2011-09-26</td>\n",
              "      <td>IBM</td>\n",
              "      <td>170.960007</td>\n",
              "      <td>174.509995</td>\n",
              "      <td>169.860001</td>\n",
              "      <td>174.699997</td>\n",
              "      <td>6745700.0</td>\n",
              "    </tr>\n",
              "  </tbody>\n",
              "</table>\n",
              "<p>205091 rows × 7 columns</p>\n",
              "</div>"
            ],
            "text/plain": [
              "                       date symbol  ...        high     volume\n",
              "0       2016-01-05 00:00:00   WLTW  ...  126.250000  2163600.0\n",
              "1       2016-01-06 00:00:00   WLTW  ...  125.540001  2386400.0\n",
              "2       2016-01-07 00:00:00   WLTW  ...  119.739998  2489500.0\n",
              "3       2016-01-08 00:00:00   WLTW  ...  117.440002  2006300.0\n",
              "4       2016-01-11 00:00:00   WLTW  ...  117.330002  1408600.0\n",
              "...                     ...    ...  ...         ...        ...\n",
              "205086           2011-09-26   HSIC  ...   63.389999   506400.0\n",
              "205087           2011-09-26    HST  ...   11.210000  9152800.0\n",
              "205088           2011-09-26    HSY  ...   60.000000  1638100.0\n",
              "205089           2011-09-26    HUM  ...   79.000000  2264700.0\n",
              "205090           2011-09-26    IBM  ...  174.699997  6745700.0\n",
              "\n",
              "[205091 rows x 7 columns]"
            ]
          },
          "metadata": {
            "tags": []
          },
          "execution_count": 8
        }
      ]
    },
    {
      "cell_type": "markdown",
      "metadata": {
        "colab_type": "text",
        "id": "9J4BlzVA_gZd"
      },
      "source": [
        "### Drop columns\n",
        "- Now, we don't need \"date\", \"volume\" and \"symbol\" column\n",
        "- drop \"date\", \"volume\" and \"symbol\" column from the data\n"
      ]
    },
    {
      "cell_type": "code",
      "metadata": {
        "colab_type": "code",
        "id": "IKEK8aEE_Csx",
        "colab": {}
      },
      "source": [
        "newstockdf = df.drop(['date','volume','symbol'],axis =1 )"
      ],
      "execution_count": 9,
      "outputs": []
    },
    {
      "cell_type": "markdown",
      "metadata": {
        "colab_type": "text",
        "id": "cTPhO6v-AiZt"
      },
      "source": [
        "## Question 3"
      ]
    },
    {
      "cell_type": "markdown",
      "metadata": {
        "colab_type": "text",
        "id": "SsZXmF3NAkna"
      },
      "source": [
        "### Print the dataframe\n",
        "- print the modified dataframe"
      ]
    },
    {
      "cell_type": "code",
      "metadata": {
        "colab_type": "code",
        "id": "aKs04iIHAjxN",
        "colab": {
          "base_uri": "https://localhost:8080/",
          "height": 195
        },
        "outputId": "7d3ba8e1-3881-422e-f8f2-d8c16caeeb30"
      },
      "source": [
        "newstockdf.head()"
      ],
      "execution_count": 10,
      "outputs": [
        {
          "output_type": "execute_result",
          "data": {
            "text/html": [
              "<div>\n",
              "<style scoped>\n",
              "    .dataframe tbody tr th:only-of-type {\n",
              "        vertical-align: middle;\n",
              "    }\n",
              "\n",
              "    .dataframe tbody tr th {\n",
              "        vertical-align: top;\n",
              "    }\n",
              "\n",
              "    .dataframe thead th {\n",
              "        text-align: right;\n",
              "    }\n",
              "</style>\n",
              "<table border=\"1\" class=\"dataframe\">\n",
              "  <thead>\n",
              "    <tr style=\"text-align: right;\">\n",
              "      <th></th>\n",
              "      <th>open</th>\n",
              "      <th>close</th>\n",
              "      <th>low</th>\n",
              "      <th>high</th>\n",
              "    </tr>\n",
              "  </thead>\n",
              "  <tbody>\n",
              "    <tr>\n",
              "      <th>0</th>\n",
              "      <td>123.430000</td>\n",
              "      <td>125.839996</td>\n",
              "      <td>122.309998</td>\n",
              "      <td>126.250000</td>\n",
              "    </tr>\n",
              "    <tr>\n",
              "      <th>1</th>\n",
              "      <td>125.239998</td>\n",
              "      <td>119.980003</td>\n",
              "      <td>119.940002</td>\n",
              "      <td>125.540001</td>\n",
              "    </tr>\n",
              "    <tr>\n",
              "      <th>2</th>\n",
              "      <td>116.379997</td>\n",
              "      <td>114.949997</td>\n",
              "      <td>114.930000</td>\n",
              "      <td>119.739998</td>\n",
              "    </tr>\n",
              "    <tr>\n",
              "      <th>3</th>\n",
              "      <td>115.480003</td>\n",
              "      <td>116.620003</td>\n",
              "      <td>113.500000</td>\n",
              "      <td>117.440002</td>\n",
              "    </tr>\n",
              "    <tr>\n",
              "      <th>4</th>\n",
              "      <td>117.010002</td>\n",
              "      <td>114.970001</td>\n",
              "      <td>114.089996</td>\n",
              "      <td>117.330002</td>\n",
              "    </tr>\n",
              "  </tbody>\n",
              "</table>\n",
              "</div>"
            ],
            "text/plain": [
              "         open       close         low        high\n",
              "0  123.430000  125.839996  122.309998  126.250000\n",
              "1  125.239998  119.980003  119.940002  125.540001\n",
              "2  116.379997  114.949997  114.930000  119.739998\n",
              "3  115.480003  116.620003  113.500000  117.440002\n",
              "4  117.010002  114.970001  114.089996  117.330002"
            ]
          },
          "metadata": {
            "tags": []
          },
          "execution_count": 10
        }
      ]
    },
    {
      "cell_type": "markdown",
      "metadata": {
        "colab_type": "text",
        "id": "v9bvDHZueBYt"
      },
      "source": [
        "## Question 3"
      ]
    },
    {
      "cell_type": "markdown",
      "metadata": {
        "colab_type": "text",
        "id": "C8u_jlbABTip"
      },
      "source": [
        "### Get features and label from the dataset in separate variable\n",
        "- Let's separate labels and features now. We are going to predict the value for \"close\" column so that will be our label. Our features will be \"open\", \"low\", \"high\"\n",
        "- Take \"open\" \"low\", \"high\" columns as features\n",
        "- Take \"close\" column as label"
      ]
    },
    {
      "cell_type": "code",
      "metadata": {
        "id": "mxE91ecxP0c7",
        "colab_type": "code",
        "colab": {}
      },
      "source": [
        "X = newstockdf[['open','low','high']]\n",
        "y= newstockdf[['close']]"
      ],
      "execution_count": 11,
      "outputs": []
    },
    {
      "cell_type": "markdown",
      "metadata": {
        "colab_type": "text",
        "id": "6vGtnapgBIJm"
      },
      "source": [
        "## Question 4"
      ]
    },
    {
      "cell_type": "markdown",
      "metadata": {
        "colab_type": "text",
        "id": "8pZAKdJ5gcrm"
      },
      "source": [
        "### Create train and test sets\n",
        "- Split the data into training and testing"
      ]
    },
    {
      "cell_type": "code",
      "metadata": {
        "colab_type": "code",
        "id": "KalRqA6Rgqsn",
        "colab": {}
      },
      "source": [
        "from sklearn.model_selection import train_test_split\n",
        "from sklearn.preprocessing import StandardScaler\n",
        "import numpy as np\n",
        "import tensorflow as tf\n",
        "from keras.models import Sequential\n",
        "from keras.layers import Dense, Dropout, BatchNormalization,Flatten\n",
        "from sklearn.model_selection import GridSearchCV\n",
        "from sklearn.model_selection import RandomizedSearchCV\n",
        "import matplotlib.pyplot as plt\n",
        "from keras.optimizers import SGD\n",
        "import keras"
      ],
      "execution_count": 12,
      "outputs": []
    },
    {
      "cell_type": "code",
      "metadata": {
        "id": "45eLl6J0ecm1",
        "colab_type": "code",
        "colab": {}
      },
      "source": [
        "X_train , X_test , y_train, y_test = train_test_split(X, y, test_size=0.30, random_state = 1)"
      ],
      "execution_count": 13,
      "outputs": []
    },
    {
      "cell_type": "markdown",
      "metadata": {
        "colab_type": "text",
        "id": "aTAKzlxZBz0z"
      },
      "source": [
        "## Question 5"
      ]
    },
    {
      "cell_type": "markdown",
      "metadata": {
        "colab_type": "text",
        "id": "O7BU2qxEg0Ki"
      },
      "source": [
        "### Scaling\n",
        "- Scale the data (features only)\n",
        "- Use StandarScaler"
      ]
    },
    {
      "cell_type": "code",
      "metadata": {
        "colab_type": "code",
        "id": "AcO8SlhPhBkR",
        "colab": {}
      },
      "source": [
        "sc = StandardScaler()\n",
        "#X_trainsc = sc.fit_transform(X_train)\n",
        "#X_testsc = sc.transform(X_test)\n",
        "X_train = sc.fit_transform(X_train)\n",
        "X_test = sc.transform(X_test)"
      ],
      "execution_count": 14,
      "outputs": []
    },
    {
      "cell_type": "markdown",
      "metadata": {
        "colab_type": "text",
        "id": "3TWpN0nVTpUx"
      },
      "source": [
        "## Question 6"
      ]
    },
    {
      "cell_type": "markdown",
      "metadata": {
        "colab_type": "text",
        "id": "_sj0LYNkhR-L"
      },
      "source": [
        "### Convert data to NumPy array\n",
        "- Convert features and labels to numpy array"
      ]
    },
    {
      "cell_type": "code",
      "metadata": {
        "colab_type": "code",
        "id": "X6mIfuTxhbTT",
        "colab": {}
      },
      "source": [
        "y_train = np.array(y_train)\n",
        "y_test = np.array(y_test)\n"
      ],
      "execution_count": 17,
      "outputs": []
    },
    {
      "cell_type": "code",
      "metadata": {
        "id": "0dJRiWkAUneU",
        "colab_type": "code",
        "colab": {}
      },
      "source": [
        "X_train = X_train.reshape(X_train.shape[0], X_train.shape[1], 1)\n",
        "X_test = X_test.reshape(X_test.shape[0], X_test.shape[1], 1)"
      ],
      "execution_count": 16,
      "outputs": []
    },
    {
      "cell_type": "markdown",
      "metadata": {
        "colab_type": "text",
        "id": "wmXUGc2oTspa"
      },
      "source": [
        "## Question 7"
      ]
    },
    {
      "cell_type": "markdown",
      "metadata": {
        "colab_type": "text",
        "id": "cl2M9whFh6mh"
      },
      "source": [
        "### Define Model\n",
        "- Initialize a Sequential model\n",
        "- Add a Flatten layer\n",
        "- Add a Dense layer with one neuron as output\n",
        "  - add 'linear' as activation function\n"
      ]
    },
    {
      "cell_type": "code",
      "metadata": {
        "id": "kpZC5so3VpEH",
        "colab_type": "code",
        "colab": {}
      },
      "source": [
        "#Initialize the model\n",
        "model = tf.keras.Sequential()\n",
        "\n",
        "#Flatten the layer\n",
        "model.add(tf.keras.layers.Flatten())\n",
        "model.add(tf.keras.layers.Dense(1, activation='linear'))"
      ],
      "execution_count": 18,
      "outputs": []
    },
    {
      "cell_type": "markdown",
      "metadata": {
        "colab_type": "text",
        "id": "8a0wr94aTyjg"
      },
      "source": [
        "## Question 8"
      ]
    },
    {
      "cell_type": "markdown",
      "metadata": {
        "colab_type": "text",
        "id": "BNZPb5lKioX0"
      },
      "source": [
        "### Compile the model\n",
        "- Compile the model\n",
        "- Use \"sgd\" optimizer\n",
        "- for calculating loss, use mean squared error"
      ]
    },
    {
      "cell_type": "code",
      "metadata": {
        "colab_type": "code",
        "id": "ZEQUP3VaiuT2",
        "colab": {}
      },
      "source": [
        "model.compile(optimizer='sgd', loss='mean_squared_error', metrics=['mse'])"
      ],
      "execution_count": 19,
      "outputs": []
    },
    {
      "cell_type": "markdown",
      "metadata": {
        "colab_type": "text",
        "id": "ZbBpnOtfT0wd"
      },
      "source": [
        "## Question 9"
      ]
    },
    {
      "cell_type": "markdown",
      "metadata": {
        "colab_type": "text",
        "id": "n9o45OHdjDhA"
      },
      "source": [
        "### Fit the model\n",
        "- epochs: 50\n",
        "- batch size: 128\n",
        "- specify validation data"
      ]
    },
    {
      "cell_type": "code",
      "metadata": {
        "colab_type": "code",
        "id": "-Y6tA30XjOH2",
        "colab": {
          "base_uri": "https://localhost:8080/",
          "height": 1000
        },
        "outputId": "ec19d419-5124-44b1-f644-9dc83cbeb544"
      },
      "source": [
        "output = model.fit(X_train, y_train , validation_data= (X_test, y_test), epochs = 50,batch_size=128)"
      ],
      "execution_count": 20,
      "outputs": [
        {
          "output_type": "stream",
          "text": [
            "Epoch 1/50\n",
            "1122/1122 [==============================] - 2s 2ms/step - loss: 81.4561 - mse: 81.4561 - val_loss: nan - val_mse: nan\n",
            "Epoch 2/50\n",
            "1122/1122 [==============================] - 2s 1ms/step - loss: 0.6168 - mse: 0.6168 - val_loss: nan - val_mse: nan\n",
            "Epoch 3/50\n",
            "1122/1122 [==============================] - 2s 2ms/step - loss: 0.6142 - mse: 0.6142 - val_loss: nan - val_mse: nan\n",
            "Epoch 4/50\n",
            "1122/1122 [==============================] - 2s 1ms/step - loss: 0.6127 - mse: 0.6127 - val_loss: nan - val_mse: nan\n",
            "Epoch 5/50\n",
            "1122/1122 [==============================] - 2s 2ms/step - loss: 0.6109 - mse: 0.6109 - val_loss: nan - val_mse: nan\n",
            "Epoch 6/50\n",
            "1122/1122 [==============================] - 2s 2ms/step - loss: 0.6093 - mse: 0.6093 - val_loss: nan - val_mse: nan\n",
            "Epoch 7/50\n",
            "1122/1122 [==============================] - 2s 2ms/step - loss: 0.6085 - mse: 0.6085 - val_loss: nan - val_mse: nan\n",
            "Epoch 8/50\n",
            "1122/1122 [==============================] - 2s 1ms/step - loss: 0.6060 - mse: 0.6060 - val_loss: nan - val_mse: nan\n",
            "Epoch 9/50\n",
            "1122/1122 [==============================] - 2s 1ms/step - loss: 0.6051 - mse: 0.6051 - val_loss: nan - val_mse: nan\n",
            "Epoch 10/50\n",
            "1122/1122 [==============================] - 2s 1ms/step - loss: 0.6033 - mse: 0.6033 - val_loss: nan - val_mse: nan\n",
            "Epoch 11/50\n",
            "1122/1122 [==============================] - 2s 1ms/step - loss: 0.6018 - mse: 0.6018 - val_loss: nan - val_mse: nan\n",
            "Epoch 12/50\n",
            "1122/1122 [==============================] - 2s 1ms/step - loss: 0.5996 - mse: 0.5996 - val_loss: nan - val_mse: nan\n",
            "Epoch 13/50\n",
            "1122/1122 [==============================] - 2s 1ms/step - loss: 0.5981 - mse: 0.5981 - val_loss: nan - val_mse: nan\n",
            "Epoch 14/50\n",
            "1122/1122 [==============================] - 2s 1ms/step - loss: 0.5969 - mse: 0.5969 - val_loss: nan - val_mse: nan\n",
            "Epoch 15/50\n",
            "1122/1122 [==============================] - 2s 1ms/step - loss: 0.5958 - mse: 0.5958 - val_loss: nan - val_mse: nan\n",
            "Epoch 16/50\n",
            "1122/1122 [==============================] - 2s 1ms/step - loss: 0.5951 - mse: 0.5951 - val_loss: nan - val_mse: nan\n",
            "Epoch 17/50\n",
            "1122/1122 [==============================] - 2s 1ms/step - loss: 0.5920 - mse: 0.5920 - val_loss: nan - val_mse: nan\n",
            "Epoch 18/50\n",
            "1122/1122 [==============================] - 2s 1ms/step - loss: 0.5912 - mse: 0.5912 - val_loss: nan - val_mse: nan\n",
            "Epoch 19/50\n",
            "1122/1122 [==============================] - 2s 1ms/step - loss: 0.5892 - mse: 0.5892 - val_loss: nan - val_mse: nan\n",
            "Epoch 20/50\n",
            "1122/1122 [==============================] - 2s 1ms/step - loss: 0.5875 - mse: 0.5875 - val_loss: nan - val_mse: nan\n",
            "Epoch 21/50\n",
            "1122/1122 [==============================] - 2s 1ms/step - loss: 0.5867 - mse: 0.5867 - val_loss: nan - val_mse: nan\n",
            "Epoch 22/50\n",
            "1122/1122 [==============================] - 2s 1ms/step - loss: 0.5843 - mse: 0.5843 - val_loss: nan - val_mse: nan\n",
            "Epoch 23/50\n",
            "1122/1122 [==============================] - 2s 1ms/step - loss: 0.5841 - mse: 0.5841 - val_loss: nan - val_mse: nan\n",
            "Epoch 24/50\n",
            "1122/1122 [==============================] - 2s 1ms/step - loss: 0.5827 - mse: 0.5827 - val_loss: nan - val_mse: nan\n",
            "Epoch 25/50\n",
            "1122/1122 [==============================] - 2s 1ms/step - loss: 0.5805 - mse: 0.5805 - val_loss: nan - val_mse: nan\n",
            "Epoch 26/50\n",
            "1122/1122 [==============================] - 2s 1ms/step - loss: 0.5792 - mse: 0.5792 - val_loss: nan - val_mse: nan\n",
            "Epoch 27/50\n",
            "1122/1122 [==============================] - 2s 1ms/step - loss: 0.5785 - mse: 0.5785 - val_loss: nan - val_mse: nan\n",
            "Epoch 28/50\n",
            "1122/1122 [==============================] - 2s 1ms/step - loss: 0.5770 - mse: 0.5770 - val_loss: nan - val_mse: nan\n",
            "Epoch 29/50\n",
            "1122/1122 [==============================] - 2s 1ms/step - loss: 0.5765 - mse: 0.5765 - val_loss: nan - val_mse: nan\n",
            "Epoch 30/50\n",
            "1122/1122 [==============================] - 2s 1ms/step - loss: 0.5737 - mse: 0.5737 - val_loss: nan - val_mse: nan\n",
            "Epoch 31/50\n",
            "1122/1122 [==============================] - 2s 1ms/step - loss: 0.5731 - mse: 0.5731 - val_loss: nan - val_mse: nan\n",
            "Epoch 32/50\n",
            "1122/1122 [==============================] - 2s 1ms/step - loss: 0.5717 - mse: 0.5717 - val_loss: nan - val_mse: nan\n",
            "Epoch 33/50\n",
            "1122/1122 [==============================] - 2s 1ms/step - loss: 0.5697 - mse: 0.5697 - val_loss: nan - val_mse: nan\n",
            "Epoch 34/50\n",
            "1122/1122 [==============================] - 2s 1ms/step - loss: 0.5683 - mse: 0.5683 - val_loss: nan - val_mse: nan\n",
            "Epoch 35/50\n",
            "1122/1122 [==============================] - 2s 1ms/step - loss: 0.5678 - mse: 0.5678 - val_loss: nan - val_mse: nan\n",
            "Epoch 36/50\n",
            "1122/1122 [==============================] - 2s 1ms/step - loss: 0.5658 - mse: 0.5658 - val_loss: nan - val_mse: nan\n",
            "Epoch 37/50\n",
            "1122/1122 [==============================] - 2s 1ms/step - loss: 0.5632 - mse: 0.5632 - val_loss: nan - val_mse: nan\n",
            "Epoch 38/50\n",
            "1122/1122 [==============================] - 2s 1ms/step - loss: 0.5624 - mse: 0.5624 - val_loss: nan - val_mse: nan\n",
            "Epoch 39/50\n",
            "1122/1122 [==============================] - 2s 1ms/step - loss: 0.5626 - mse: 0.5626 - val_loss: nan - val_mse: nan\n",
            "Epoch 40/50\n",
            "1122/1122 [==============================] - 2s 1ms/step - loss: 0.5605 - mse: 0.5605 - val_loss: nan - val_mse: nan\n",
            "Epoch 41/50\n",
            "1122/1122 [==============================] - 2s 1ms/step - loss: 0.5599 - mse: 0.5599 - val_loss: nan - val_mse: nan\n",
            "Epoch 42/50\n",
            "1122/1122 [==============================] - 2s 1ms/step - loss: 0.5578 - mse: 0.5578 - val_loss: nan - val_mse: nan\n",
            "Epoch 43/50\n",
            "1122/1122 [==============================] - 2s 1ms/step - loss: 0.5566 - mse: 0.5566 - val_loss: nan - val_mse: nan\n",
            "Epoch 44/50\n",
            "1122/1122 [==============================] - 2s 1ms/step - loss: 0.5566 - mse: 0.5566 - val_loss: nan - val_mse: nan\n",
            "Epoch 45/50\n",
            "1122/1122 [==============================] - 2s 1ms/step - loss: 0.5534 - mse: 0.5534 - val_loss: nan - val_mse: nan\n",
            "Epoch 46/50\n",
            "1122/1122 [==============================] - 2s 1ms/step - loss: 0.5525 - mse: 0.5525 - val_loss: nan - val_mse: nan\n",
            "Epoch 47/50\n",
            "1122/1122 [==============================] - 2s 1ms/step - loss: 0.5506 - mse: 0.5506 - val_loss: nan - val_mse: nan\n",
            "Epoch 48/50\n",
            "1122/1122 [==============================] - 2s 1ms/step - loss: 0.5502 - mse: 0.5502 - val_loss: nan - val_mse: nan\n",
            "Epoch 49/50\n",
            "1122/1122 [==============================] - 2s 1ms/step - loss: 0.5492 - mse: 0.5492 - val_loss: nan - val_mse: nan\n",
            "Epoch 50/50\n",
            "1122/1122 [==============================] - 2s 1ms/step - loss: 0.5472 - mse: 0.5472 - val_loss: nan - val_mse: nan\n"
          ],
          "name": "stdout"
        }
      ]
    },
    {
      "cell_type": "markdown",
      "metadata": {
        "colab_type": "text",
        "id": "AW4SEP8kT2ls"
      },
      "source": [
        "## Question 10"
      ]
    },
    {
      "cell_type": "markdown",
      "metadata": {
        "colab_type": "text",
        "id": "EJDoix_7JU61"
      },
      "source": [
        "### Evaluate the model\n",
        "- Evaluate the model on test data"
      ]
    },
    {
      "cell_type": "code",
      "metadata": {
        "id": "s8Q_AkwUgkjo",
        "colab_type": "code",
        "colab": {
          "base_uri": "https://localhost:8080/",
          "height": 218
        },
        "outputId": "7ea6c549-ba1d-46c7-8dd1-e9d87cea292a"
      },
      "source": [
        "model.summary()"
      ],
      "execution_count": 21,
      "outputs": [
        {
          "output_type": "stream",
          "text": [
            "Model: \"sequential\"\n",
            "_________________________________________________________________\n",
            "Layer (type)                 Output Shape              Param #   \n",
            "=================================================================\n",
            "flatten (Flatten)            multiple                  0         \n",
            "_________________________________________________________________\n",
            "dense (Dense)                multiple                  4         \n",
            "=================================================================\n",
            "Total params: 4\n",
            "Trainable params: 4\n",
            "Non-trainable params: 0\n",
            "_________________________________________________________________\n"
          ],
          "name": "stdout"
        }
      ]
    },
    {
      "cell_type": "code",
      "metadata": {
        "colab_type": "code",
        "id": "HdH8pYBIjHGL",
        "colab": {
          "base_uri": "https://localhost:8080/",
          "height": 34
        },
        "outputId": "1ac17e1e-fe03-4544-d647-44f391d74e9e"
      },
      "source": [
        "#Testing the model on test set\n",
        "score = model.evaluate(X_test, y_test,batch_size=128)\n"
      ],
      "execution_count": 23,
      "outputs": [
        {
          "output_type": "stream",
          "text": [
            "481/481 [==============================] - 0s 955us/step - loss: nan - mse: nan\n"
          ],
          "name": "stdout"
        }
      ]
    },
    {
      "cell_type": "code",
      "metadata": {
        "id": "_i8cmL6ghoDS",
        "colab_type": "code",
        "colab": {
          "base_uri": "https://localhost:8080/",
          "height": 34
        },
        "outputId": "bcb664e9-3420-4b87-b05f-38796be17653"
      },
      "source": [
        "score"
      ],
      "execution_count": 24,
      "outputs": [
        {
          "output_type": "execute_result",
          "data": {
            "text/plain": [
              "[nan, nan]"
            ]
          },
          "metadata": {
            "tags": []
          },
          "execution_count": 24
        }
      ]
    },
    {
      "cell_type": "markdown",
      "metadata": {
        "colab_type": "text",
        "id": "hUpDD74Xjh01"
      },
      "source": [
        "### Manual predictions\n",
        "- Test the predictions on manual inputs\n",
        "- We have scaled out training data, so we need to transform our custom inputs using the object of the scaler\n",
        "- Example of manual input: [123.430000,\t122.30999, 116.250000]"
      ]
    },
    {
      "cell_type": "code",
      "metadata": {
        "colab_type": "code",
        "id": "fvuH-c31lLiJ",
        "colab": {
          "base_uri": "https://localhost:8080/",
          "height": 34
        },
        "outputId": "a179e5db-63b4-47f3-89d1-4c12658d6fbf"
      },
      "source": [
        "maininput= np.array([[123.430000, 122.30999, 116.250000]])\n",
        "model.predict(maininput)\n"
      ],
      "execution_count": 27,
      "outputs": [
        {
          "output_type": "execute_result",
          "data": {
            "text/plain": [
              "array([[6352.6895]], dtype=float32)"
            ]
          },
          "metadata": {
            "tags": []
          },
          "execution_count": 27
        }
      ]
    },
    {
      "cell_type": "code",
      "metadata": {
        "id": "d21JG5zuxKRj",
        "colab_type": "code",
        "colab": {}
      },
      "source": [
        "maininputsc = sc.transform(maininput)"
      ],
      "execution_count": 28,
      "outputs": []
    },
    {
      "cell_type": "code",
      "metadata": {
        "id": "-4UezxPnxJEn",
        "colab_type": "code",
        "colab": {
          "base_uri": "https://localhost:8080/",
          "height": 34
        },
        "outputId": "1b8c60f8-3248-45d7-d1fc-da3fb5185917"
      },
      "source": [
        "model.predict(maininputsc)"
      ],
      "execution_count": 29,
      "outputs": [
        {
          "output_type": "execute_result",
          "data": {
            "text/plain": [
              "array([[120.337425]], dtype=float32)"
            ]
          },
          "metadata": {
            "tags": []
          },
          "execution_count": 29
        }
      ]
    },
    {
      "cell_type": "markdown",
      "metadata": {
        "colab_type": "text",
        "id": "4WH1Pr4KQlCh"
      },
      "source": [
        "# Build a DNN"
      ]
    },
    {
      "cell_type": "markdown",
      "metadata": {
        "colab_type": "text",
        "id": "74cQBsi5QlCw"
      },
      "source": [
        "### Collect Fashion mnist data from tf.keras.datasets "
      ]
    },
    {
      "cell_type": "code",
      "metadata": {
        "colab_type": "code",
        "id": "wVWy0oDTr2Kj",
        "colab": {}
      },
      "source": [
        "(x_train, y_train), (x_test, y_test) = tf.keras.datasets.fashion_mnist.load_data()"
      ],
      "execution_count": 186,
      "outputs": []
    },
    {
      "cell_type": "code",
      "metadata": {
        "id": "wxG2fxDhyU4d",
        "colab_type": "code",
        "colab": {
          "base_uri": "https://localhost:8080/",
          "height": 34
        },
        "outputId": "ae75e7b0-2c3f-44da-ec71-a13582d35382"
      },
      "source": [
        "x_train.shape"
      ],
      "execution_count": 187,
      "outputs": [
        {
          "output_type": "execute_result",
          "data": {
            "text/plain": [
              "(60000, 28, 28)"
            ]
          },
          "metadata": {
            "tags": []
          },
          "execution_count": 187
        }
      ]
    },
    {
      "cell_type": "code",
      "metadata": {
        "id": "3EyQBWVnyrBK",
        "colab_type": "code",
        "colab": {
          "base_uri": "https://localhost:8080/",
          "height": 34
        },
        "outputId": "755ce71c-5b34-420f-fb89-7d0ab2fd9b66"
      },
      "source": [
        "print(x_train[0].shape)"
      ],
      "execution_count": 188,
      "outputs": [
        {
          "output_type": "stream",
          "text": [
            "(28, 28)\n"
          ],
          "name": "stdout"
        }
      ]
    },
    {
      "cell_type": "markdown",
      "metadata": {
        "colab_type": "text",
        "id": "no7aWYZyQlC1"
      },
      "source": [
        "### Change train and test labels into one-hot vectors"
      ]
    },
    {
      "cell_type": "code",
      "metadata": {
        "colab_type": "code",
        "id": "UX6otc4wQlC2",
        "colab": {}
      },
      "source": [
        "y_train = tf.keras.utils.to_categorical(y_train, num_classes=10)\n",
        "y_test = tf.keras.utils.to_categorical(y_test, num_classes=10)"
      ],
      "execution_count": 189,
      "outputs": []
    },
    {
      "cell_type": "markdown",
      "metadata": {
        "colab_type": "text",
        "id": "QjNrRTdoQlC5"
      },
      "source": [
        "### Build the Graph"
      ]
    },
    {
      "cell_type": "markdown",
      "metadata": {
        "colab_type": "text",
        "id": "CDJ9DHVNQlC7"
      },
      "source": [
        "### Initialize model, reshape & normalize data"
      ]
    },
    {
      "cell_type": "code",
      "metadata": {
        "colab_type": "code",
        "id": "pCDQs_g1QlC8",
        "colab": {}
      },
      "source": [
        "#x_train = x_train.astype('float32')\n",
        "#x_test = x_test.astype('float32')"
      ],
      "execution_count": 166,
      "outputs": []
    },
    {
      "cell_type": "code",
      "metadata": {
        "id": "WaP50jaezGvj",
        "colab_type": "code",
        "colab": {}
      },
      "source": [
        "#x_train /= 255\n",
        "#x_test /= 255"
      ],
      "execution_count": 167,
      "outputs": []
    },
    {
      "cell_type": "code",
      "metadata": {
        "id": "FBk9ucMSzJsd",
        "colab_type": "code",
        "colab": {}
      },
      "source": [
        "#x_train = x_train.reshape(x_train.shape[0], 28, 28, 1)\n",
        "#x_test = x_test.reshape(x_test.shape[0], 28, 28, 1)\n",
        "\n",
        "#img_rows, img_cols = 28, 28"
      ],
      "execution_count": 153,
      "outputs": []
    },
    {
      "cell_type": "code",
      "metadata": {
        "id": "hFlH9wLF9oC6",
        "colab_type": "code",
        "colab": {
          "base_uri": "https://localhost:8080/",
          "height": 34
        },
        "outputId": "48195bd3-1257-4703-9cf6-e05ccca46463"
      },
      "source": [
        ""
      ],
      "execution_count": 168,
      "outputs": [
        {
          "output_type": "execute_result",
          "data": {
            "text/plain": [
              "(10000, 28, 28)"
            ]
          },
          "metadata": {
            "tags": []
          },
          "execution_count": 168
        }
      ]
    },
    {
      "cell_type": "code",
      "metadata": {
        "id": "qBhLrj3CzOfp",
        "colab_type": "code",
        "colab": {}
      },
      "source": [
        "model_2 = tf.keras.models.Sequential()\n",
        "model_2.add(tf.keras.layers.Reshape((784,),input_shape=(28,28,)))\n",
        "model_2.add(tf.keras.layers.BatchNormalization())"
      ],
      "execution_count": 190,
      "outputs": []
    },
    {
      "cell_type": "markdown",
      "metadata": {
        "colab_type": "text",
        "id": "kBGwTTilQlDD"
      },
      "source": [
        "### Add two fully connected layers with 200 and 100 neurons respectively with `relu` activations. Add a dropout layer with `p=0.25`"
      ]
    },
    {
      "cell_type": "code",
      "metadata": {
        "id": "NI_bxivh4fFn",
        "colab_type": "code",
        "colab": {}
      },
      "source": [
        "model_2.add(tf.keras.layers.Dense(200, activation='relu'))\n",
        "#model_2.add(tf.keras.layers.Dropout(0.25))"
      ],
      "execution_count": 191,
      "outputs": []
    },
    {
      "cell_type": "code",
      "metadata": {
        "id": "f39NjoWm4kDD",
        "colab_type": "code",
        "colab": {}
      },
      "source": [
        "model_2.add(tf.keras.layers.Dense(100, activation='relu'))\n",
        "model_2.add(tf.keras.layers.Dropout(0.25))"
      ],
      "execution_count": 192,
      "outputs": []
    },
    {
      "cell_type": "markdown",
      "metadata": {
        "colab_type": "text",
        "id": "5I8f5otcQlDJ"
      },
      "source": [
        "### Add the output layer with a fully connected layer with 10 neurons with `softmax` activation. Use `categorical_crossentropy` loss and `adam` optimizer and train the network. And, report the final validation."
      ]
    },
    {
      "cell_type": "code",
      "metadata": {
        "colab_type": "code",
        "id": "JZkvKymSd0Sr",
        "colab": {}
      },
      "source": [
        "model_2.add(tf.keras.layers.Dense(10, activation='softmax'))"
      ],
      "execution_count": 193,
      "outputs": []
    },
    {
      "cell_type": "code",
      "metadata": {
        "id": "qLbXAXNrHHrB",
        "colab_type": "code",
        "colab": {}
      },
      "source": [
        "model_2.compile(optimizer='adam', loss='categorical_crossentropy', metrics=['accuracy'])"
      ],
      "execution_count": 194,
      "outputs": []
    },
    {
      "cell_type": "code",
      "metadata": {
        "id": "xIFXJX1k-iqF",
        "colab_type": "code",
        "colab": {
          "base_uri": "https://localhost:8080/",
          "height": 34
        },
        "outputId": "a41f100e-6b7b-4588-a423-2e0fd3743d8d"
      },
      "source": [
        "y_train.shape"
      ],
      "execution_count": 195,
      "outputs": [
        {
          "output_type": "execute_result",
          "data": {
            "text/plain": [
              "(60000, 10)"
            ]
          },
          "metadata": {
            "tags": []
          },
          "execution_count": 195
        }
      ]
    },
    {
      "cell_type": "code",
      "metadata": {
        "id": "Ore6K9LK5Ct4",
        "colab_type": "code",
        "colab": {
          "base_uri": "https://localhost:8080/",
          "height": 689
        },
        "outputId": "efb599b4-53e7-400e-a3d4-b48129aa3e5a"
      },
      "source": [
        "output = model_2.fit(x_train, y_train , validation_data= (x_test, y_test), epochs = 20,batch_size=100)"
      ],
      "execution_count": 196,
      "outputs": [
        {
          "output_type": "stream",
          "text": [
            "Epoch 1/20\n",
            "600/600 [==============================] - 4s 6ms/step - loss: 0.4981 - accuracy: 0.8220 - val_loss: 0.3850 - val_accuracy: 0.8595\n",
            "Epoch 2/20\n",
            "600/600 [==============================] - 3s 6ms/step - loss: 0.3625 - accuracy: 0.8673 - val_loss: 0.3625 - val_accuracy: 0.8680\n",
            "Epoch 3/20\n",
            "600/600 [==============================] - 3s 6ms/step - loss: 0.3302 - accuracy: 0.8784 - val_loss: 0.3563 - val_accuracy: 0.8704\n",
            "Epoch 4/20\n",
            "600/600 [==============================] - 3s 6ms/step - loss: 0.3040 - accuracy: 0.8869 - val_loss: 0.3412 - val_accuracy: 0.8746\n",
            "Epoch 5/20\n",
            "600/600 [==============================] - 3s 6ms/step - loss: 0.2870 - accuracy: 0.8916 - val_loss: 0.3449 - val_accuracy: 0.8772\n",
            "Epoch 6/20\n",
            "600/600 [==============================] - 3s 6ms/step - loss: 0.2693 - accuracy: 0.8979 - val_loss: 0.3357 - val_accuracy: 0.8807\n",
            "Epoch 7/20\n",
            "600/600 [==============================] - 3s 6ms/step - loss: 0.2582 - accuracy: 0.9024 - val_loss: 0.3167 - val_accuracy: 0.8888\n",
            "Epoch 8/20\n",
            "600/600 [==============================] - 3s 6ms/step - loss: 0.2442 - accuracy: 0.9093 - val_loss: 0.3276 - val_accuracy: 0.8847\n",
            "Epoch 9/20\n",
            "600/600 [==============================] - 3s 6ms/step - loss: 0.2343 - accuracy: 0.9118 - val_loss: 0.3363 - val_accuracy: 0.8860\n",
            "Epoch 10/20\n",
            "600/600 [==============================] - 3s 6ms/step - loss: 0.2240 - accuracy: 0.9159 - val_loss: 0.3361 - val_accuracy: 0.8905\n",
            "Epoch 11/20\n",
            "600/600 [==============================] - 3s 6ms/step - loss: 0.2142 - accuracy: 0.9184 - val_loss: 0.3431 - val_accuracy: 0.8887\n",
            "Epoch 12/20\n",
            "600/600 [==============================] - 3s 6ms/step - loss: 0.2061 - accuracy: 0.9215 - val_loss: 0.3461 - val_accuracy: 0.8895\n",
            "Epoch 13/20\n",
            "600/600 [==============================] - 3s 6ms/step - loss: 0.1977 - accuracy: 0.9242 - val_loss: 0.3470 - val_accuracy: 0.8927\n",
            "Epoch 14/20\n",
            "600/600 [==============================] - 3s 6ms/step - loss: 0.1910 - accuracy: 0.9272 - val_loss: 0.3381 - val_accuracy: 0.8929\n",
            "Epoch 15/20\n",
            "600/600 [==============================] - 3s 6ms/step - loss: 0.1822 - accuracy: 0.9308 - val_loss: 0.3558 - val_accuracy: 0.8888\n",
            "Epoch 16/20\n",
            "600/600 [==============================] - 3s 6ms/step - loss: 0.1752 - accuracy: 0.9320 - val_loss: 0.3563 - val_accuracy: 0.8901\n",
            "Epoch 17/20\n",
            "600/600 [==============================] - 3s 6ms/step - loss: 0.1698 - accuracy: 0.9344 - val_loss: 0.3581 - val_accuracy: 0.8896\n",
            "Epoch 18/20\n",
            "600/600 [==============================] - 3s 6ms/step - loss: 0.1658 - accuracy: 0.9370 - val_loss: 0.3821 - val_accuracy: 0.8878\n",
            "Epoch 19/20\n",
            "600/600 [==============================] - 3s 6ms/step - loss: 0.1604 - accuracy: 0.9389 - val_loss: 0.3792 - val_accuracy: 0.8891\n",
            "Epoch 20/20\n",
            "600/600 [==============================] - 3s 6ms/step - loss: 0.1513 - accuracy: 0.9418 - val_loss: 0.3995 - val_accuracy: 0.8888\n"
          ],
          "name": "stdout"
        }
      ]
    },
    {
      "cell_type": "code",
      "metadata": {
        "id": "6VIEZy3nBcbu",
        "colab_type": "code",
        "colab": {
          "base_uri": "https://localhost:8080/",
          "height": 353
        },
        "outputId": "c89a7c9f-dbf1-42e9-95ac-1573bbba1719"
      },
      "source": [
        "model_2.summary()"
      ],
      "execution_count": 197,
      "outputs": [
        {
          "output_type": "stream",
          "text": [
            "Model: \"sequential_15\"\n",
            "_________________________________________________________________\n",
            "Layer (type)                 Output Shape              Param #   \n",
            "=================================================================\n",
            "reshape_4 (Reshape)          (None, 784)               0         \n",
            "_________________________________________________________________\n",
            "batch_normalization_11 (Batc (None, 784)               3136      \n",
            "_________________________________________________________________\n",
            "dense_26 (Dense)             (None, 200)               157000    \n",
            "_________________________________________________________________\n",
            "dense_27 (Dense)             (None, 100)               20100     \n",
            "_________________________________________________________________\n",
            "dropout_14 (Dropout)         (None, 100)               0         \n",
            "_________________________________________________________________\n",
            "dense_28 (Dense)             (None, 10)                1010      \n",
            "=================================================================\n",
            "Total params: 181,246\n",
            "Trainable params: 179,678\n",
            "Non-trainable params: 1,568\n",
            "_________________________________________________________________\n"
          ],
          "name": "stdout"
        }
      ]
    },
    {
      "cell_type": "code",
      "metadata": {
        "id": "34Ok5Nx4Bg_B",
        "colab_type": "code",
        "colab": {}
      },
      "source": [
        "score = model_2.evaluate(x_test, y_test, verbose=0)"
      ],
      "execution_count": 199,
      "outputs": []
    },
    {
      "cell_type": "code",
      "metadata": {
        "id": "TWl9BzjxBt-k",
        "colab_type": "code",
        "colab": {
          "base_uri": "https://localhost:8080/",
          "height": 50
        },
        "outputId": "ab77da78-cdb2-4d7f-cf76-df2bd7eca375"
      },
      "source": [
        "print('Test loss:', score[0])\n",
        "print('Test accuracy:', score[1])"
      ],
      "execution_count": 200,
      "outputs": [
        {
          "output_type": "stream",
          "text": [
            "Test loss: 0.3995426595211029\n",
            "Test accuracy: 0.8888000249862671\n"
          ],
          "name": "stdout"
        }
      ]
    },
    {
      "cell_type": "code",
      "metadata": {
        "id": "y0cwvIb1CZBA",
        "colab_type": "code",
        "colab": {}
      },
      "source": [
        ""
      ],
      "execution_count": null,
      "outputs": []
    }
  ]
}
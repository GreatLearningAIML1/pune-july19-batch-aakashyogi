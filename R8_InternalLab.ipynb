{
  "nbformat": 4,
  "nbformat_minor": 0,
  "metadata": {
    "accelerator": "GPU",
    "colab": {
      "name": "R8_InternalLab.ipynb",
      "provenance": [],
      "collapsed_sections": [],
      "toc_visible": true
    },
    "kernelspec": {
      "display_name": "Python 3",
      "language": "python",
      "name": "python3"
    },
    "language_info": {
      "codemirror_mode": {
        "name": "ipython",
        "version": 3
      },
      "file_extension": ".py",
      "mimetype": "text/x-python",
      "name": "python",
      "nbconvert_exporter": "python",
      "pygments_lexer": "ipython3",
      "version": "3.7.1"
    }
  },
  "cells": [
    {
      "cell_type": "markdown",
      "metadata": {
        "colab_type": "text",
        "id": "FU-HwvIdH0M-"
      },
      "source": [
        "# Sentiment analysis \n",
        "\n",
        "The objective of this problem is to perform Sentiment analysis from the tweets collected from the users targeted at various mobile devices.\n",
        "Based on the tweet posted by a user (text), we will classify if the sentiment of the user targeted at a particular mobile device is positive or not."
      ]
    },
    {
      "cell_type": "markdown",
      "metadata": {
        "id": "aIWWfNks5sYa",
        "colab_type": "text"
      },
      "source": [
        "## Question 1"
      ]
    },
    {
      "cell_type": "markdown",
      "metadata": {
        "colab_type": "text",
        "id": "nAQDiZHRH0M_"
      },
      "source": [
        "### Read the data\n",
        "- read tweets.csv\n",
        "- use latin encoding if it gives encoding error while loading"
      ]
    },
    {
      "cell_type": "code",
      "metadata": {
        "colab_type": "code",
        "id": "3eXGIe-SH0NA",
        "colab": {}
      },
      "source": [
        "import pandas as pd\n",
        "df= pd.read_csv('tweets.csv', encoding='latin')"
      ],
      "execution_count": 91,
      "outputs": []
    },
    {
      "cell_type": "code",
      "metadata": {
        "id": "tpP4ADJJoYzs",
        "colab_type": "code",
        "colab": {
          "base_uri": "https://localhost:8080/",
          "height": 198
        },
        "outputId": "41d3ea3b-a0c0-448b-bbba-c3ba366a231b"
      },
      "source": [
        "df.head()"
      ],
      "execution_count": 92,
      "outputs": [
        {
          "output_type": "execute_result",
          "data": {
            "text/html": [
              "<div>\n",
              "<style scoped>\n",
              "    .dataframe tbody tr th:only-of-type {\n",
              "        vertical-align: middle;\n",
              "    }\n",
              "\n",
              "    .dataframe tbody tr th {\n",
              "        vertical-align: top;\n",
              "    }\n",
              "\n",
              "    .dataframe thead th {\n",
              "        text-align: right;\n",
              "    }\n",
              "</style>\n",
              "<table border=\"1\" class=\"dataframe\">\n",
              "  <thead>\n",
              "    <tr style=\"text-align: right;\">\n",
              "      <th></th>\n",
              "      <th>tweet_text</th>\n",
              "      <th>emotion_in_tweet_is_directed_at</th>\n",
              "      <th>is_there_an_emotion_directed_at_a_brand_or_product</th>\n",
              "    </tr>\n",
              "  </thead>\n",
              "  <tbody>\n",
              "    <tr>\n",
              "      <th>0</th>\n",
              "      <td>.@wesley83 I have a 3G iPhone. After 3 hrs twe...</td>\n",
              "      <td>iPhone</td>\n",
              "      <td>Negative emotion</td>\n",
              "    </tr>\n",
              "    <tr>\n",
              "      <th>1</th>\n",
              "      <td>@jessedee Know about @fludapp ? Awesome iPad/i...</td>\n",
              "      <td>iPad or iPhone App</td>\n",
              "      <td>Positive emotion</td>\n",
              "    </tr>\n",
              "    <tr>\n",
              "      <th>2</th>\n",
              "      <td>@swonderlin Can not wait for #iPad 2 also. The...</td>\n",
              "      <td>iPad</td>\n",
              "      <td>Positive emotion</td>\n",
              "    </tr>\n",
              "    <tr>\n",
              "      <th>3</th>\n",
              "      <td>@sxsw I hope this year's festival isn't as cra...</td>\n",
              "      <td>iPad or iPhone App</td>\n",
              "      <td>Negative emotion</td>\n",
              "    </tr>\n",
              "    <tr>\n",
              "      <th>4</th>\n",
              "      <td>@sxtxstate great stuff on Fri #SXSW: Marissa M...</td>\n",
              "      <td>Google</td>\n",
              "      <td>Positive emotion</td>\n",
              "    </tr>\n",
              "  </tbody>\n",
              "</table>\n",
              "</div>"
            ],
            "text/plain": [
              "                                          tweet_text  ... is_there_an_emotion_directed_at_a_brand_or_product\n",
              "0  .@wesley83 I have a 3G iPhone. After 3 hrs twe...  ...                                   Negative emotion\n",
              "1  @jessedee Know about @fludapp ? Awesome iPad/i...  ...                                   Positive emotion\n",
              "2  @swonderlin Can not wait for #iPad 2 also. The...  ...                                   Positive emotion\n",
              "3  @sxsw I hope this year's festival isn't as cra...  ...                                   Negative emotion\n",
              "4  @sxtxstate great stuff on Fri #SXSW: Marissa M...  ...                                   Positive emotion\n",
              "\n",
              "[5 rows x 3 columns]"
            ]
          },
          "metadata": {
            "tags": []
          },
          "execution_count": 92
        }
      ]
    },
    {
      "cell_type": "code",
      "metadata": {
        "id": "sKNSzK4Qoy9S",
        "colab_type": "code",
        "colab": {
          "base_uri": "https://localhost:8080/",
          "height": 35
        },
        "outputId": "77841bf8-6ac8-4109-d90f-e032703fa458"
      },
      "source": [
        "df.shape"
      ],
      "execution_count": 93,
      "outputs": [
        {
          "output_type": "execute_result",
          "data": {
            "text/plain": [
              "(9093, 3)"
            ]
          },
          "metadata": {
            "tags": []
          },
          "execution_count": 93
        }
      ]
    },
    {
      "cell_type": "code",
      "metadata": {
        "id": "Bu5xrSCbocMR",
        "colab_type": "code",
        "colab": {
          "base_uri": "https://localhost:8080/",
          "height": 199
        },
        "outputId": "d72c07ee-e335-4e18-b804-920eeda739ba"
      },
      "source": [
        "df.info()"
      ],
      "execution_count": 94,
      "outputs": [
        {
          "output_type": "stream",
          "text": [
            "<class 'pandas.core.frame.DataFrame'>\n",
            "RangeIndex: 9093 entries, 0 to 9092\n",
            "Data columns (total 3 columns):\n",
            " #   Column                                              Non-Null Count  Dtype \n",
            "---  ------                                              --------------  ----- \n",
            " 0   tweet_text                                          9092 non-null   object\n",
            " 1   emotion_in_tweet_is_directed_at                     3291 non-null   object\n",
            " 2   is_there_an_emotion_directed_at_a_brand_or_product  9093 non-null   object\n",
            "dtypes: object(3)\n",
            "memory usage: 213.2+ KB\n"
          ],
          "name": "stdout"
        }
      ]
    },
    {
      "cell_type": "code",
      "metadata": {
        "id": "ox1QAR1DojNZ",
        "colab_type": "code",
        "colab": {
          "base_uri": "https://localhost:8080/",
          "height": 90
        },
        "outputId": "d1e9efbd-de99-462d-c806-e745f11ec3d6"
      },
      "source": [
        "df.isnull().sum()"
      ],
      "execution_count": 95,
      "outputs": [
        {
          "output_type": "execute_result",
          "data": {
            "text/plain": [
              "tweet_text                                               1\n",
              "emotion_in_tweet_is_directed_at                       5802\n",
              "is_there_an_emotion_directed_at_a_brand_or_product       0\n",
              "dtype: int64"
            ]
          },
          "metadata": {
            "tags": []
          },
          "execution_count": 95
        }
      ]
    },
    {
      "cell_type": "markdown",
      "metadata": {
        "id": "39pqw0aE5sYe",
        "colab_type": "text"
      },
      "source": [
        "### Drop null values\n",
        "- drop all the rows with null values"
      ]
    },
    {
      "cell_type": "code",
      "metadata": {
        "id": "6vYDX3gMHjJ1",
        "colab_type": "code",
        "colab": {
          "base_uri": "https://localhost:8080/",
          "height": 35
        },
        "outputId": "7761c5ea-87c3-467e-82f4-c3527800ee42"
      },
      "source": [
        "df['tweet_text'].isnull().sum()"
      ],
      "execution_count": 96,
      "outputs": [
        {
          "output_type": "execute_result",
          "data": {
            "text/plain": [
              "1"
            ]
          },
          "metadata": {
            "tags": []
          },
          "execution_count": 96
        }
      ]
    },
    {
      "cell_type": "code",
      "metadata": {
        "id": "BF_69oyI5sYf",
        "colab_type": "code",
        "colab": {}
      },
      "source": [
        "df.dropna(axis=0,subset=['tweet_text'], inplace=True)"
      ],
      "execution_count": 100,
      "outputs": []
    },
    {
      "cell_type": "code",
      "metadata": {
        "id": "W1eXxj8RpIv6",
        "colab_type": "code",
        "colab": {
          "base_uri": "https://localhost:8080/",
          "height": 90
        },
        "outputId": "00c6ed9e-9a78-4f61-9ffc-b0af7f37abcc"
      },
      "source": [
        "df.isnull().sum()"
      ],
      "execution_count": 101,
      "outputs": [
        {
          "output_type": "execute_result",
          "data": {
            "text/plain": [
              "tweet_text                                               0\n",
              "emotion_in_tweet_is_directed_at                       5801\n",
              "is_there_an_emotion_directed_at_a_brand_or_product       0\n",
              "dtype: int64"
            ]
          },
          "metadata": {
            "tags": []
          },
          "execution_count": 101
        }
      ]
    },
    {
      "cell_type": "markdown",
      "metadata": {
        "id": "0bm4bDiy5sYg",
        "colab_type": "text"
      },
      "source": [
        "### Print the dataframe\n",
        "- print initial 5 rows of the data\n",
        "- use df.head()"
      ]
    },
    {
      "cell_type": "code",
      "metadata": {
        "scrolled": true,
        "id": "ceSlvAVa5sYh",
        "colab_type": "code",
        "colab": {
          "base_uri": "https://localhost:8080/",
          "height": 198
        },
        "outputId": "4b7c99f5-b578-4b1e-9327-ce5db6f3da1d"
      },
      "source": [
        "df.head(5)"
      ],
      "execution_count": 102,
      "outputs": [
        {
          "output_type": "execute_result",
          "data": {
            "text/html": [
              "<div>\n",
              "<style scoped>\n",
              "    .dataframe tbody tr th:only-of-type {\n",
              "        vertical-align: middle;\n",
              "    }\n",
              "\n",
              "    .dataframe tbody tr th {\n",
              "        vertical-align: top;\n",
              "    }\n",
              "\n",
              "    .dataframe thead th {\n",
              "        text-align: right;\n",
              "    }\n",
              "</style>\n",
              "<table border=\"1\" class=\"dataframe\">\n",
              "  <thead>\n",
              "    <tr style=\"text-align: right;\">\n",
              "      <th></th>\n",
              "      <th>tweet_text</th>\n",
              "      <th>emotion_in_tweet_is_directed_at</th>\n",
              "      <th>is_there_an_emotion_directed_at_a_brand_or_product</th>\n",
              "    </tr>\n",
              "  </thead>\n",
              "  <tbody>\n",
              "    <tr>\n",
              "      <th>0</th>\n",
              "      <td>.@wesley83 I have a 3G iPhone. After 3 hrs twe...</td>\n",
              "      <td>iPhone</td>\n",
              "      <td>Negative emotion</td>\n",
              "    </tr>\n",
              "    <tr>\n",
              "      <th>1</th>\n",
              "      <td>@jessedee Know about @fludapp ? Awesome iPad/i...</td>\n",
              "      <td>iPad or iPhone App</td>\n",
              "      <td>Positive emotion</td>\n",
              "    </tr>\n",
              "    <tr>\n",
              "      <th>2</th>\n",
              "      <td>@swonderlin Can not wait for #iPad 2 also. The...</td>\n",
              "      <td>iPad</td>\n",
              "      <td>Positive emotion</td>\n",
              "    </tr>\n",
              "    <tr>\n",
              "      <th>3</th>\n",
              "      <td>@sxsw I hope this year's festival isn't as cra...</td>\n",
              "      <td>iPad or iPhone App</td>\n",
              "      <td>Negative emotion</td>\n",
              "    </tr>\n",
              "    <tr>\n",
              "      <th>4</th>\n",
              "      <td>@sxtxstate great stuff on Fri #SXSW: Marissa M...</td>\n",
              "      <td>Google</td>\n",
              "      <td>Positive emotion</td>\n",
              "    </tr>\n",
              "  </tbody>\n",
              "</table>\n",
              "</div>"
            ],
            "text/plain": [
              "                                          tweet_text  ... is_there_an_emotion_directed_at_a_brand_or_product\n",
              "0  .@wesley83 I have a 3G iPhone. After 3 hrs twe...  ...                                   Negative emotion\n",
              "1  @jessedee Know about @fludapp ? Awesome iPad/i...  ...                                   Positive emotion\n",
              "2  @swonderlin Can not wait for #iPad 2 also. The...  ...                                   Positive emotion\n",
              "3  @sxsw I hope this year's festival isn't as cra...  ...                                   Negative emotion\n",
              "4  @sxtxstate great stuff on Fri #SXSW: Marissa M...  ...                                   Positive emotion\n",
              "\n",
              "[5 rows x 3 columns]"
            ]
          },
          "metadata": {
            "tags": []
          },
          "execution_count": 102
        }
      ]
    },
    {
      "cell_type": "code",
      "metadata": {
        "id": "Js-m2Kbp0c84",
        "colab_type": "code",
        "colab": {
          "base_uri": "https://localhost:8080/",
          "height": 35
        },
        "outputId": "bcda133d-88c1-467e-e216-b7ea2d56cc61"
      },
      "source": [
        "df.shape"
      ],
      "execution_count": 103,
      "outputs": [
        {
          "output_type": "execute_result",
          "data": {
            "text/plain": [
              "(9092, 3)"
            ]
          },
          "metadata": {
            "tags": []
          },
          "execution_count": 103
        }
      ]
    },
    {
      "cell_type": "code",
      "metadata": {
        "id": "oSBWKlCL0hc3",
        "colab_type": "code",
        "colab": {
          "base_uri": "https://localhost:8080/",
          "height": 35
        },
        "outputId": "45dfe623-fb61-4313-b70b-e65c8da8dcf0"
      },
      "source": [
        "type(df)"
      ],
      "execution_count": 104,
      "outputs": [
        {
          "output_type": "execute_result",
          "data": {
            "text/plain": [
              "pandas.core.frame.DataFrame"
            ]
          },
          "metadata": {
            "tags": []
          },
          "execution_count": 104
        }
      ]
    },
    {
      "cell_type": "markdown",
      "metadata": {
        "id": "jcWfPVqG5sYi",
        "colab_type": "text"
      },
      "source": [
        "## Question 2"
      ]
    },
    {
      "cell_type": "markdown",
      "metadata": {
        "id": "JBbAeip_5sYj",
        "colab_type": "text"
      },
      "source": [
        "### Preprocess data\n",
        "- convert all text to lowercase - use .lower()\n",
        "- select only numbers, alphabets, and #+_ from text - use re.sub()\n",
        "- strip all the text - use .strip()\n",
        "    - this is for removing extra spaces"
      ]
    },
    {
      "cell_type": "code",
      "metadata": {
        "id": "gxebr68aqj8a",
        "colab_type": "code",
        "colab": {
          "base_uri": "https://localhost:8080/",
          "height": 108
        },
        "outputId": "e3016a70-c96d-423a-fed0-1e0d1622cb2e"
      },
      "source": [
        "import nltk\n",
        "import re\n",
        "import unicodedata\n",
        "nltk.download('punkt')\n",
        "nltk.download('wordnet')"
      ],
      "execution_count": 105,
      "outputs": [
        {
          "output_type": "stream",
          "text": [
            "[nltk_data] Downloading package punkt to /root/nltk_data...\n",
            "[nltk_data]   Package punkt is already up-to-date!\n",
            "[nltk_data] Downloading package wordnet to /root/nltk_data...\n",
            "[nltk_data]   Package wordnet is already up-to-date!\n"
          ],
          "name": "stdout"
        },
        {
          "output_type": "execute_result",
          "data": {
            "text/plain": [
              "True"
            ]
          },
          "metadata": {
            "tags": []
          },
          "execution_count": 105
        }
      ]
    },
    {
      "cell_type": "code",
      "metadata": {
        "id": "zatXCQLIzJJ1",
        "colab_type": "code",
        "colab": {}
      },
      "source": [
        "df['tweet_text'] = df['tweet_text'].apply(lambda s: s.lower())"
      ],
      "execution_count": 106,
      "outputs": []
    },
    {
      "cell_type": "code",
      "metadata": {
        "id": "2JAhWntqB07c",
        "colab_type": "code",
        "colab": {
          "base_uri": "https://localhost:8080/",
          "height": 35
        },
        "outputId": "2efe0cda-9e8a-47ba-8fb2-62751ae130b8"
      },
      "source": [
        "type(df)"
      ],
      "execution_count": 107,
      "outputs": [
        {
          "output_type": "execute_result",
          "data": {
            "text/plain": [
              "pandas.core.frame.DataFrame"
            ]
          },
          "metadata": {
            "tags": []
          },
          "execution_count": 107
        }
      ]
    },
    {
      "cell_type": "code",
      "metadata": {
        "id": "op21lYm8B4-w",
        "colab_type": "code",
        "colab": {
          "base_uri": "https://localhost:8080/",
          "height": 35
        },
        "outputId": "5359004e-0a99-4a37-e816-27888f276cb9"
      },
      "source": [
        "type(df['tweet_text'] )"
      ],
      "execution_count": 108,
      "outputs": [
        {
          "output_type": "execute_result",
          "data": {
            "text/plain": [
              "pandas.core.series.Series"
            ]
          },
          "metadata": {
            "tags": []
          },
          "execution_count": 108
        }
      ]
    },
    {
      "cell_type": "code",
      "metadata": {
        "id": "PE4Bn_YT5sYj",
        "colab_type": "code",
        "colab": {}
      },
      "source": [
        "df['tweet_text'] = df['tweet_text'].apply(lambda s: re.sub('[^0-9a-z +_]','',s))\n"
      ],
      "execution_count": 109,
      "outputs": []
    },
    {
      "cell_type": "code",
      "metadata": {
        "id": "0Frq3a962D4_",
        "colab_type": "code",
        "colab": {}
      },
      "source": [
        "df['tweet_text'] = df['tweet_text'].apply(lambda s: s.strip())"
      ],
      "execution_count": 111,
      "outputs": []
    },
    {
      "cell_type": "markdown",
      "metadata": {
        "id": "QlMvbtrK5sYl",
        "colab_type": "text"
      },
      "source": [
        "print dataframe"
      ]
    },
    {
      "cell_type": "code",
      "metadata": {
        "id": "afocjaUn5sYm",
        "colab_type": "code",
        "colab": {
          "base_uri": "https://localhost:8080/",
          "height": 407
        },
        "outputId": "7755acf5-6ac6-465c-8d76-d3a0c2655fea"
      },
      "source": [
        "df"
      ],
      "execution_count": 112,
      "outputs": [
        {
          "output_type": "execute_result",
          "data": {
            "text/html": [
              "<div>\n",
              "<style scoped>\n",
              "    .dataframe tbody tr th:only-of-type {\n",
              "        vertical-align: middle;\n",
              "    }\n",
              "\n",
              "    .dataframe tbody tr th {\n",
              "        vertical-align: top;\n",
              "    }\n",
              "\n",
              "    .dataframe thead th {\n",
              "        text-align: right;\n",
              "    }\n",
              "</style>\n",
              "<table border=\"1\" class=\"dataframe\">\n",
              "  <thead>\n",
              "    <tr style=\"text-align: right;\">\n",
              "      <th></th>\n",
              "      <th>tweet_text</th>\n",
              "      <th>emotion_in_tweet_is_directed_at</th>\n",
              "      <th>is_there_an_emotion_directed_at_a_brand_or_product</th>\n",
              "    </tr>\n",
              "  </thead>\n",
              "  <tbody>\n",
              "    <tr>\n",
              "      <th>0</th>\n",
              "      <td>wesley83 i have a 3g iphone after 3 hrs tweeti...</td>\n",
              "      <td>iPhone</td>\n",
              "      <td>Negative emotion</td>\n",
              "    </tr>\n",
              "    <tr>\n",
              "      <th>1</th>\n",
              "      <td>jessedee know about fludapp  awesome ipadiphon...</td>\n",
              "      <td>iPad or iPhone App</td>\n",
              "      <td>Positive emotion</td>\n",
              "    </tr>\n",
              "    <tr>\n",
              "      <th>2</th>\n",
              "      <td>swonderlin can not wait for ipad 2 also they s...</td>\n",
              "      <td>iPad</td>\n",
              "      <td>Positive emotion</td>\n",
              "    </tr>\n",
              "    <tr>\n",
              "      <th>3</th>\n",
              "      <td>sxsw i hope this years festival isnt as crashy...</td>\n",
              "      <td>iPad or iPhone App</td>\n",
              "      <td>Negative emotion</td>\n",
              "    </tr>\n",
              "    <tr>\n",
              "      <th>4</th>\n",
              "      <td>sxtxstate great stuff on fri sxsw marissa maye...</td>\n",
              "      <td>Google</td>\n",
              "      <td>Positive emotion</td>\n",
              "    </tr>\n",
              "    <tr>\n",
              "      <th>...</th>\n",
              "      <td>...</td>\n",
              "      <td>...</td>\n",
              "      <td>...</td>\n",
              "    </tr>\n",
              "    <tr>\n",
              "      <th>9088</th>\n",
              "      <td>ipad everywhere sxsw link</td>\n",
              "      <td>iPad</td>\n",
              "      <td>Positive emotion</td>\n",
              "    </tr>\n",
              "    <tr>\n",
              "      <th>9089</th>\n",
              "      <td>wave buzz rt mention we interrupt your regular...</td>\n",
              "      <td>NaN</td>\n",
              "      <td>No emotion toward brand or product</td>\n",
              "    </tr>\n",
              "    <tr>\n",
              "      <th>9090</th>\n",
              "      <td>googles zeiger a physician never reported pote...</td>\n",
              "      <td>NaN</td>\n",
              "      <td>No emotion toward brand or product</td>\n",
              "    </tr>\n",
              "    <tr>\n",
              "      <th>9091</th>\n",
              "      <td>some verizon iphone customers complained their...</td>\n",
              "      <td>NaN</td>\n",
              "      <td>No emotion toward brand or product</td>\n",
              "    </tr>\n",
              "    <tr>\n",
              "      <th>9092</th>\n",
              "      <td>___rt mention google tests checkin offers at s...</td>\n",
              "      <td>NaN</td>\n",
              "      <td>No emotion toward brand or product</td>\n",
              "    </tr>\n",
              "  </tbody>\n",
              "</table>\n",
              "<p>9092 rows × 3 columns</p>\n",
              "</div>"
            ],
            "text/plain": [
              "                                             tweet_text  ... is_there_an_emotion_directed_at_a_brand_or_product\n",
              "0     wesley83 i have a 3g iphone after 3 hrs tweeti...  ...                                   Negative emotion\n",
              "1     jessedee know about fludapp  awesome ipadiphon...  ...                                   Positive emotion\n",
              "2     swonderlin can not wait for ipad 2 also they s...  ...                                   Positive emotion\n",
              "3     sxsw i hope this years festival isnt as crashy...  ...                                   Negative emotion\n",
              "4     sxtxstate great stuff on fri sxsw marissa maye...  ...                                   Positive emotion\n",
              "...                                                 ...  ...                                                ...\n",
              "9088                          ipad everywhere sxsw link  ...                                   Positive emotion\n",
              "9089  wave buzz rt mention we interrupt your regular...  ...                 No emotion toward brand or product\n",
              "9090  googles zeiger a physician never reported pote...  ...                 No emotion toward brand or product\n",
              "9091  some verizon iphone customers complained their...  ...                 No emotion toward brand or product\n",
              "9092  ___rt mention google tests checkin offers at s...  ...                 No emotion toward brand or product\n",
              "\n",
              "[9092 rows x 3 columns]"
            ]
          },
          "metadata": {
            "tags": []
          },
          "execution_count": 112
        }
      ]
    },
    {
      "cell_type": "markdown",
      "metadata": {
        "id": "bcTUnvtg5sYn",
        "colab_type": "text"
      },
      "source": [
        "## Question 3"
      ]
    },
    {
      "cell_type": "markdown",
      "metadata": {
        "id": "4gnaeSXZ5sYo",
        "colab_type": "text"
      },
      "source": [
        "### Preprocess data\n",
        "- in column \"is_there_an_emotion_directed_at_a_brand_or_product\"\n",
        "    - select only those rows where value equal to \"positive emotion\" or \"negative emotion\"\n",
        "- find the value counts of \"positive emotion\" and \"negative emotion\""
      ]
    },
    {
      "cell_type": "code",
      "metadata": {
        "id": "nLewJh_35sYp",
        "colab_type": "code",
        "colab": {
          "base_uri": "https://localhost:8080/",
          "height": 54
        },
        "outputId": "3b068a40-3182-4bbf-bfa2-929d6fee6bc4"
      },
      "source": [
        "df.is_there_an_emotion_directed_at_a_brand_or_product.unique()"
      ],
      "execution_count": 113,
      "outputs": [
        {
          "output_type": "execute_result",
          "data": {
            "text/plain": [
              "array(['Negative emotion', 'Positive emotion',\n",
              "       'No emotion toward brand or product', \"I can't tell\"], dtype=object)"
            ]
          },
          "metadata": {
            "tags": []
          },
          "execution_count": 113
        }
      ]
    },
    {
      "cell_type": "code",
      "metadata": {
        "id": "3VFYB4eh5sYr",
        "colab_type": "code",
        "colab": {
          "base_uri": "https://localhost:8080/",
          "height": 108
        },
        "outputId": "02ac2ca9-47ae-4a39-dae1-1963b9862c25"
      },
      "source": [
        "df.is_there_an_emotion_directed_at_a_brand_or_product.value_counts()"
      ],
      "execution_count": 114,
      "outputs": [
        {
          "output_type": "execute_result",
          "data": {
            "text/plain": [
              "No emotion toward brand or product    5388\n",
              "Positive emotion                      2978\n",
              "Negative emotion                       570\n",
              "I can't tell                           156\n",
              "Name: is_there_an_emotion_directed_at_a_brand_or_product, dtype: int64"
            ]
          },
          "metadata": {
            "tags": []
          },
          "execution_count": 114
        }
      ]
    },
    {
      "cell_type": "code",
      "metadata": {
        "id": "Km_nSUEdykoL",
        "colab_type": "code",
        "colab": {
          "base_uri": "https://localhost:8080/",
          "height": 199
        },
        "outputId": "b3b448e9-3efc-479e-df21-559c6cff7dd9"
      },
      "source": [
        "df.emotion_in_tweet_is_directed_at.value_counts()"
      ],
      "execution_count": 115,
      "outputs": [
        {
          "output_type": "execute_result",
          "data": {
            "text/plain": [
              "iPad                               946\n",
              "Apple                              661\n",
              "iPad or iPhone App                 470\n",
              "Google                             430\n",
              "iPhone                             297\n",
              "Other Google product or service    293\n",
              "Android App                         81\n",
              "Android                             78\n",
              "Other Apple product or service      35\n",
              "Name: emotion_in_tweet_is_directed_at, dtype: int64"
            ]
          },
          "metadata": {
            "tags": []
          },
          "execution_count": 115
        }
      ]
    },
    {
      "cell_type": "code",
      "metadata": {
        "id": "3hhVZ89r3F-A",
        "colab_type": "code",
        "colab": {}
      },
      "source": [
        "df = df.loc[(df['is_there_an_emotion_directed_at_a_brand_or_product'] == 'Positive emotion') | (df['is_there_an_emotion_directed_at_a_brand_or_product'] == 'Negative emotion')]"
      ],
      "execution_count": 116,
      "outputs": []
    },
    {
      "cell_type": "code",
      "metadata": {
        "id": "Lz1gX0yD3Jhb",
        "colab_type": "code",
        "colab": {
          "base_uri": "https://localhost:8080/",
          "height": 72
        },
        "outputId": "cada54bf-9a65-4b3f-ddbc-8d30fcdb775c"
      },
      "source": [
        "df.is_there_an_emotion_directed_at_a_brand_or_product.value_counts()"
      ],
      "execution_count": 117,
      "outputs": [
        {
          "output_type": "execute_result",
          "data": {
            "text/plain": [
              "Positive emotion    2978\n",
              "Negative emotion     570\n",
              "Name: is_there_an_emotion_directed_at_a_brand_or_product, dtype: int64"
            ]
          },
          "metadata": {
            "tags": []
          },
          "execution_count": 117
        }
      ]
    },
    {
      "cell_type": "code",
      "metadata": {
        "id": "sJCpDzaHD5t4",
        "colab_type": "code",
        "colab": {
          "base_uri": "https://localhost:8080/",
          "height": 407
        },
        "outputId": "6a6c9801-c4b1-4203-f0ac-79c2174e33da"
      },
      "source": [
        "df"
      ],
      "execution_count": 118,
      "outputs": [
        {
          "output_type": "execute_result",
          "data": {
            "text/html": [
              "<div>\n",
              "<style scoped>\n",
              "    .dataframe tbody tr th:only-of-type {\n",
              "        vertical-align: middle;\n",
              "    }\n",
              "\n",
              "    .dataframe tbody tr th {\n",
              "        vertical-align: top;\n",
              "    }\n",
              "\n",
              "    .dataframe thead th {\n",
              "        text-align: right;\n",
              "    }\n",
              "</style>\n",
              "<table border=\"1\" class=\"dataframe\">\n",
              "  <thead>\n",
              "    <tr style=\"text-align: right;\">\n",
              "      <th></th>\n",
              "      <th>tweet_text</th>\n",
              "      <th>emotion_in_tweet_is_directed_at</th>\n",
              "      <th>is_there_an_emotion_directed_at_a_brand_or_product</th>\n",
              "    </tr>\n",
              "  </thead>\n",
              "  <tbody>\n",
              "    <tr>\n",
              "      <th>0</th>\n",
              "      <td>wesley83 i have a 3g iphone after 3 hrs tweeti...</td>\n",
              "      <td>iPhone</td>\n",
              "      <td>Negative emotion</td>\n",
              "    </tr>\n",
              "    <tr>\n",
              "      <th>1</th>\n",
              "      <td>jessedee know about fludapp  awesome ipadiphon...</td>\n",
              "      <td>iPad or iPhone App</td>\n",
              "      <td>Positive emotion</td>\n",
              "    </tr>\n",
              "    <tr>\n",
              "      <th>2</th>\n",
              "      <td>swonderlin can not wait for ipad 2 also they s...</td>\n",
              "      <td>iPad</td>\n",
              "      <td>Positive emotion</td>\n",
              "    </tr>\n",
              "    <tr>\n",
              "      <th>3</th>\n",
              "      <td>sxsw i hope this years festival isnt as crashy...</td>\n",
              "      <td>iPad or iPhone App</td>\n",
              "      <td>Negative emotion</td>\n",
              "    </tr>\n",
              "    <tr>\n",
              "      <th>4</th>\n",
              "      <td>sxtxstate great stuff on fri sxsw marissa maye...</td>\n",
              "      <td>Google</td>\n",
              "      <td>Positive emotion</td>\n",
              "    </tr>\n",
              "    <tr>\n",
              "      <th>...</th>\n",
              "      <td>...</td>\n",
              "      <td>...</td>\n",
              "      <td>...</td>\n",
              "    </tr>\n",
              "    <tr>\n",
              "      <th>9077</th>\n",
              "      <td>mention your pr guy just convinced me to switc...</td>\n",
              "      <td>iPhone</td>\n",
              "      <td>Positive emotion</td>\n",
              "    </tr>\n",
              "    <tr>\n",
              "      <th>9079</th>\n",
              "      <td>quotpapyrussort of like the ipadquot  nice lol...</td>\n",
              "      <td>iPad</td>\n",
              "      <td>Positive emotion</td>\n",
              "    </tr>\n",
              "    <tr>\n",
              "      <th>9080</th>\n",
              "      <td>diller says google tv quotmight be run over by...</td>\n",
              "      <td>Other Google product or service</td>\n",
              "      <td>Negative emotion</td>\n",
              "    </tr>\n",
              "    <tr>\n",
              "      <th>9085</th>\n",
              "      <td>ive always used camera+ for my iphone bc it ha...</td>\n",
              "      <td>iPad or iPhone App</td>\n",
              "      <td>Positive emotion</td>\n",
              "    </tr>\n",
              "    <tr>\n",
              "      <th>9088</th>\n",
              "      <td>ipad everywhere sxsw link</td>\n",
              "      <td>iPad</td>\n",
              "      <td>Positive emotion</td>\n",
              "    </tr>\n",
              "  </tbody>\n",
              "</table>\n",
              "<p>3548 rows × 3 columns</p>\n",
              "</div>"
            ],
            "text/plain": [
              "                                             tweet_text  ... is_there_an_emotion_directed_at_a_brand_or_product\n",
              "0     wesley83 i have a 3g iphone after 3 hrs tweeti...  ...                                   Negative emotion\n",
              "1     jessedee know about fludapp  awesome ipadiphon...  ...                                   Positive emotion\n",
              "2     swonderlin can not wait for ipad 2 also they s...  ...                                   Positive emotion\n",
              "3     sxsw i hope this years festival isnt as crashy...  ...                                   Negative emotion\n",
              "4     sxtxstate great stuff on fri sxsw marissa maye...  ...                                   Positive emotion\n",
              "...                                                 ...  ...                                                ...\n",
              "9077  mention your pr guy just convinced me to switc...  ...                                   Positive emotion\n",
              "9079  quotpapyrussort of like the ipadquot  nice lol...  ...                                   Positive emotion\n",
              "9080  diller says google tv quotmight be run over by...  ...                                   Negative emotion\n",
              "9085  ive always used camera+ for my iphone bc it ha...  ...                                   Positive emotion\n",
              "9088                          ipad everywhere sxsw link  ...                                   Positive emotion\n",
              "\n",
              "[3548 rows x 3 columns]"
            ]
          },
          "metadata": {
            "tags": []
          },
          "execution_count": 118
        }
      ]
    },
    {
      "cell_type": "markdown",
      "metadata": {
        "id": "6icGcVTE5sYz",
        "colab_type": "text"
      },
      "source": [
        "## Question 4"
      ]
    },
    {
      "cell_type": "markdown",
      "metadata": {
        "id": "Rg0rSepj5sYz",
        "colab_type": "text"
      },
      "source": [
        "### Encode labels\n",
        "- in column \"is_there_an_emotion_directed_at_a_brand_or_product\"\n",
        "    - change \"positive emotion\" to 1\n",
        "    - change \"negative emotion\" to 0\n",
        "- use map function to replace values"
      ]
    },
    {
      "cell_type": "code",
      "metadata": {
        "colab_type": "code",
        "id": "YftKwFv7H0N9",
        "colab": {
          "base_uri": "https://localhost:8080/",
          "height": 126
        },
        "outputId": "10da78aa-ef82-4130-ec71-85d981df2662"
      },
      "source": [
        "from sklearn import preprocessing \n",
        "label_encoder = preprocessing.LabelEncoder() \n",
        "df['is_there_an_emotion_directed_at_a_brand_or_product']= label_encoder.fit_transform(df['is_there_an_emotion_directed_at_a_brand_or_product']) "
      ],
      "execution_count": 119,
      "outputs": [
        {
          "output_type": "stream",
          "text": [
            "/usr/local/lib/python3.6/dist-packages/ipykernel_launcher.py:3: SettingWithCopyWarning: \n",
            "A value is trying to be set on a copy of a slice from a DataFrame.\n",
            "Try using .loc[row_indexer,col_indexer] = value instead\n",
            "\n",
            "See the caveats in the documentation: https://pandas.pydata.org/pandas-docs/stable/user_guide/indexing.html#returning-a-view-versus-a-copy\n",
            "  This is separate from the ipykernel package so we can avoid doing imports until\n"
          ],
          "name": "stderr"
        }
      ]
    },
    {
      "cell_type": "code",
      "metadata": {
        "id": "vqzh0dKw3xxa",
        "colab_type": "code",
        "colab": {
          "base_uri": "https://localhost:8080/",
          "height": 72
        },
        "outputId": "d51be7d1-0297-40d3-95bb-0038230b2b83"
      },
      "source": [
        "df.is_there_an_emotion_directed_at_a_brand_or_product.value_counts()"
      ],
      "execution_count": 120,
      "outputs": [
        {
          "output_type": "execute_result",
          "data": {
            "text/plain": [
              "1    2978\n",
              "0     570\n",
              "Name: is_there_an_emotion_directed_at_a_brand_or_product, dtype: int64"
            ]
          },
          "metadata": {
            "tags": []
          },
          "execution_count": 120
        }
      ]
    },
    {
      "cell_type": "code",
      "metadata": {
        "id": "1LFzHx1Y37MM",
        "colab_type": "code",
        "colab": {
          "base_uri": "https://localhost:8080/",
          "height": 138
        },
        "outputId": "faac6c99-7cf2-4871-a729-6070c50fde41"
      },
      "source": [
        "df.head(3)"
      ],
      "execution_count": 121,
      "outputs": [
        {
          "output_type": "execute_result",
          "data": {
            "text/html": [
              "<div>\n",
              "<style scoped>\n",
              "    .dataframe tbody tr th:only-of-type {\n",
              "        vertical-align: middle;\n",
              "    }\n",
              "\n",
              "    .dataframe tbody tr th {\n",
              "        vertical-align: top;\n",
              "    }\n",
              "\n",
              "    .dataframe thead th {\n",
              "        text-align: right;\n",
              "    }\n",
              "</style>\n",
              "<table border=\"1\" class=\"dataframe\">\n",
              "  <thead>\n",
              "    <tr style=\"text-align: right;\">\n",
              "      <th></th>\n",
              "      <th>tweet_text</th>\n",
              "      <th>emotion_in_tweet_is_directed_at</th>\n",
              "      <th>is_there_an_emotion_directed_at_a_brand_or_product</th>\n",
              "    </tr>\n",
              "  </thead>\n",
              "  <tbody>\n",
              "    <tr>\n",
              "      <th>0</th>\n",
              "      <td>wesley83 i have a 3g iphone after 3 hrs tweeti...</td>\n",
              "      <td>iPhone</td>\n",
              "      <td>0</td>\n",
              "    </tr>\n",
              "    <tr>\n",
              "      <th>1</th>\n",
              "      <td>jessedee know about fludapp  awesome ipadiphon...</td>\n",
              "      <td>iPad or iPhone App</td>\n",
              "      <td>1</td>\n",
              "    </tr>\n",
              "    <tr>\n",
              "      <th>2</th>\n",
              "      <td>swonderlin can not wait for ipad 2 also they s...</td>\n",
              "      <td>iPad</td>\n",
              "      <td>1</td>\n",
              "    </tr>\n",
              "  </tbody>\n",
              "</table>\n",
              "</div>"
            ],
            "text/plain": [
              "                                          tweet_text  ... is_there_an_emotion_directed_at_a_brand_or_product\n",
              "0  wesley83 i have a 3g iphone after 3 hrs tweeti...  ...                                                  0\n",
              "1  jessedee know about fludapp  awesome ipadiphon...  ...                                                  1\n",
              "2  swonderlin can not wait for ipad 2 also they s...  ...                                                  1\n",
              "\n",
              "[3 rows x 3 columns]"
            ]
          },
          "metadata": {
            "tags": []
          },
          "execution_count": 121
        }
      ]
    },
    {
      "cell_type": "markdown",
      "metadata": {
        "id": "sC1qSe3h5sY2",
        "colab_type": "text"
      },
      "source": [
        "## Question 5"
      ]
    },
    {
      "cell_type": "markdown",
      "metadata": {
        "id": "aWlAN_Ts5sY2",
        "colab_type": "text"
      },
      "source": [
        "### Get feature and label\n",
        "- get column \"tweet_text\" as feature\n",
        "- get column \"is_there_an_emotion_directed_at_a_brand_or_product\" as label"
      ]
    },
    {
      "cell_type": "code",
      "metadata": {
        "id": "9A3sOZzR5sY4",
        "colab_type": "code",
        "colab": {}
      },
      "source": [
        "X = df['tweet_text']"
      ],
      "execution_count": 122,
      "outputs": []
    },
    {
      "cell_type": "code",
      "metadata": {
        "id": "YnOnqlrw46rA",
        "colab_type": "code",
        "colab": {}
      },
      "source": [
        "y = df['is_there_an_emotion_directed_at_a_brand_or_product']"
      ],
      "execution_count": 123,
      "outputs": []
    },
    {
      "cell_type": "markdown",
      "metadata": {
        "colab_type": "text",
        "id": "3YErwYLCH0N_"
      },
      "source": [
        "### Create train and test data\n",
        "- use train_test_split to get train and test set\n",
        "- set a random_state\n",
        "- test_size: 0.25"
      ]
    },
    {
      "cell_type": "code",
      "metadata": {
        "colab_type": "code",
        "id": "lNkwrGgEH0OA",
        "colab": {}
      },
      "source": [
        "from sklearn.model_selection import train_test_split"
      ],
      "execution_count": 124,
      "outputs": []
    },
    {
      "cell_type": "code",
      "metadata": {
        "id": "H_Pb0nvC5JLw",
        "colab_type": "code",
        "colab": {}
      },
      "source": [
        "test_size = 0.25 # taking 75:25 training and test set\n",
        "seed = 7  # Random numbmer seeding for reapeatability of the code\n",
        "X_train, X_test, y_train, y_test = train_test_split(X, y, test_size=test_size, random_state=seed)"
      ],
      "execution_count": 125,
      "outputs": []
    },
    {
      "cell_type": "code",
      "metadata": {
        "id": "C7LHngA35cSk",
        "colab_type": "code",
        "colab": {
          "base_uri": "https://localhost:8080/",
          "height": 90
        },
        "outputId": "1a1802cd-efc6-4902-e59e-af7a98ebf537"
      },
      "source": [
        "print(X_train.shape)\n",
        "print(y_train.shape)\n",
        "print(X_test.shape)\n",
        "print(y_test.shape)"
      ],
      "execution_count": 126,
      "outputs": [
        {
          "output_type": "stream",
          "text": [
            "(2661,)\n",
            "(2661,)\n",
            "(887,)\n",
            "(887,)\n"
          ],
          "name": "stdout"
        }
      ]
    },
    {
      "cell_type": "code",
      "metadata": {
        "id": "LOyXNA6A6obP",
        "colab_type": "code",
        "colab": {
          "base_uri": "https://localhost:8080/",
          "height": 35
        },
        "outputId": "ee5d6711-9103-43e2-c365-c20f09ad68ae"
      },
      "source": [
        "type(y_test)"
      ],
      "execution_count": 127,
      "outputs": [
        {
          "output_type": "execute_result",
          "data": {
            "text/plain": [
              "pandas.core.series.Series"
            ]
          },
          "metadata": {
            "tags": []
          },
          "execution_count": 127
        }
      ]
    },
    {
      "cell_type": "markdown",
      "metadata": {
        "id": "gMok2IX35sY8",
        "colab_type": "text"
      },
      "source": [
        "## Question 6"
      ]
    },
    {
      "cell_type": "markdown",
      "metadata": {
        "id": "dSqYjPuT5sY8",
        "colab_type": "text"
      },
      "source": [
        "### Vectorize data\n",
        "- create document-term matrix\n",
        "- use CountVectorizer()\n",
        "    - ngram_range: (1, 2)\n",
        "    - stop_words: 'english'\n",
        "    - min_df: 2   \n",
        "- do fit_transform on X_train\n",
        "- do transform on X_test"
      ]
    },
    {
      "cell_type": "code",
      "metadata": {
        "id": "bb9PnnqT5sY8",
        "colab_type": "code",
        "colab": {}
      },
      "source": [
        "# import and instantiate CountVectorizer (with the default parameters)\n",
        "from sklearn.feature_extraction.text import CountVectorizer\n",
        "cvect = CountVectorizer(ngram_range=(1,2), stop_words='english', min_df=2)"
      ],
      "execution_count": 128,
      "outputs": []
    },
    {
      "cell_type": "code",
      "metadata": {
        "id": "GEcyNMy56Zrw",
        "colab_type": "code",
        "colab": {}
      },
      "source": [
        "X_train = cvect.fit_transform(X_train)"
      ],
      "execution_count": 129,
      "outputs": []
    },
    {
      "cell_type": "code",
      "metadata": {
        "id": "z03Thza472fJ",
        "colab_type": "code",
        "colab": {}
      },
      "source": [
        "X_test= cvect.transform(X_test)"
      ],
      "execution_count": 130,
      "outputs": []
    },
    {
      "cell_type": "code",
      "metadata": {
        "id": "zlz-P04t8D0a",
        "colab_type": "code",
        "colab": {
          "base_uri": "https://localhost:8080/",
          "height": 54
        },
        "outputId": "14f9c383-0d43-47eb-d16a-63d54e22cbbc"
      },
      "source": [
        "X_train"
      ],
      "execution_count": 131,
      "outputs": [
        {
          "output_type": "execute_result",
          "data": {
            "text/plain": [
              "<2661x6100 sparse matrix of type '<class 'numpy.int64'>'\n",
              "\twith 42471 stored elements in Compressed Sparse Row format>"
            ]
          },
          "metadata": {
            "tags": []
          },
          "execution_count": 131
        }
      ]
    },
    {
      "cell_type": "code",
      "metadata": {
        "id": "QIOZNTzA8Zmh",
        "colab_type": "code",
        "colab": {
          "base_uri": "https://localhost:8080/",
          "height": 35
        },
        "outputId": "52d41f4a-805d-4735-8de1-b177f5082417"
      },
      "source": [
        "len(cvect.vocabulary_)"
      ],
      "execution_count": 132,
      "outputs": [
        {
          "output_type": "execute_result",
          "data": {
            "text/plain": [
              "6100"
            ]
          },
          "metadata": {
            "tags": []
          },
          "execution_count": 132
        }
      ]
    },
    {
      "cell_type": "code",
      "metadata": {
        "id": "O-VbEm5fJa_t",
        "colab_type": "code",
        "colab": {
          "base_uri": "https://localhost:8080/",
          "height": 55
        },
        "outputId": "94950378-79e0-4e12-edd6-d47902022c1a"
      },
      "source": [
        "print(cvect.vocabulary_)"
      ],
      "execution_count": 134,
      "outputs": [
        {
          "output_type": "stream",
          "text": [
            "{'rt': 4481, 'mention': 3394, 'new': 3736, 'texas': 5406, 'observer': 3822, 'ipad': 2563, 'app': 306, 'sxswi': 5276, 'sxsw': 5044, 'rt mention': 4483, 'mention new': 3506, 'texas observer': 5408, 'ipad app': 2570, 'app sxswi': 346, 'having': 2236, 'fun': 1857, 'google': 1987, 'analytics': 259, 'class': 1000, 'havent': 2233, 'used': 5701, 'great': 2118, 'info': 2481, 'marketing': 3336, 'music': 3688, 'having fun': 2238, 'fun google': 1860, 'google analytics': 1991, 'havent used': 2235, 'music sxsw': 3692, 'fuck': 1851, 'iphone': 2714, 'charge': 930, 'says': 4551, 'charging': 937, 'night': 3793, 'options': 3892, 'austin': 512, 'fuck iphone': 1852, 'austin sxsw': 535, 'download': 1450, 'free': 1804, 'sampler': 4517, 'itunes': 2794, 'link': 3080, 'good': 1970, 'free sxsw': 1823, 'sxsw music': 5163, 'music sampler': 3691, 'sampler itunes': 4518, 'itunes link': 2798, 'link itunes': 3104, 'tim': 5481, 'dropping': 1491, 'lol': 3166, 'quotapple': 4274, 'comes': 1053, 'cool': 1137, 'technology': 5371, 'ones': 3862, 'heard': 2256, 'dont': 1427, 'conferencesquot': 1094, 'lol rt': 3168, 'mention sxsw': 3543, 'sxsw quotapple': 5189, 'quotapple comes': 4275, 'comes cool': 1054, 'cool technology': 1151, 'technology ones': 5375, 'ones heard': 3863, 'heard dont': 2259, 'dont conferencesquot': 1428, 'conferencesquot mention': 1095, 'ubersocial': 5651, 'store': 4896, 'includes': 2469, 'uberguide': 5649, 'sponsored': 4837, 'cont': 1118, 'new ubersocial': 3763, 'ubersocial iphone': 5652, 'iphone app': 2721, 'app store': 344, 'store includes': 4913, 'includes uberguide': 2470, 'uberguide sxsw': 5650, 'sxsw sponsored': 5213, 'sponsored cont': 4838, 'cont link': 1119, 'like': 3031, 'ha': 2183, '4chan': 87, 'bathroom': 622, 'sxswmoot': 5285, 'app iphone': 328, 'iphone mention': 2753, 'mention ha': 3462, 'ha rt': 2184, 'sxswmoot sxsw': 5286, 'quotim': 4307, 'just': 2852, 'learning': 3007, 'things': 5446, 'screenquot': 4581, '4year': 94, 'olds': 3855, 'explanation': 1628, 'instantly': 2516, 'knew': 2937, 'use': 5696, 'quotim just': 4308, 'just learning': 2870, 'learning things': 3008, 'things screenquot': 5449, 'screenquot 4year': 4582, '4year olds': 95, 'olds explanation': 3856, 'explanation instantly': 1630, 'instantly knew': 2517, 'knew use': 2938, 'use ipad': 5698, 'ipad sxsw': 2660, 'ill': 2415, 'masses': 3344, 'guess': 2162, 'iphone sxsw': 2760, '150': 25, 'million': 3600, 'mobile': 3626, 'users': 5713, 'maps': 3305, '40': 83, 'usage': 5694, 'devices': 1348, 'mention 150': 3396, '150 million': 26, 'million mobile': 3602, 'mobile users': 3640, 'users google': 5717, 'google maps': 2029, 'maps 40': 3307, '40 google': 84, 'maps usage': 3319, 'usage mobile': 5695, 'mobile devices': 3631, 'devices maps': 1349, 'maps sxsw': 3318, 'evening': 1576, 'karateka': 2896, 'castle': 900, 'wolfenstein': 5957, 'choplifter': 975, 'apple': 363, 'classics': 1001, 'oldsko0l': 3857, 'mention great': 3459, 'great evening': 2122, 'evening mention': 1577, 'mention mention': 3503, 'mention karateka': 3485, 'karateka castle': 2897, 'castle wolfenstein': 901, 'wolfenstein choplifter': 5958, 'choplifter apple': 976, 'apple classics': 368, 'classics sxsw': 1002, 'sxsw oldsko0l': 5169, 'qagb': 4244, 'timely': 5498, 'bings': 696, 'search': 4584, 'engine': 1546, 'share': 4658, 'continues': 1130, 'rise': 4454, '136': 19, 'tops': 5550, '654': 109, 'qagb sxsw': 4245, 'sxsw timely': 5234, 'timely rt': 5500, 'mention bings': 3414, 'bings search': 697, 'search engine': 4585, 'engine share': 1548, 'share continues': 4659, 'continues rise': 1131, 'rise 136': 4455, '136 google': 20, 'google tops': 2062, 'tops 654': 5551, '654 link': 110, 'studies': 4970, 'players': 4086, 'tell': 5378, 'quotpetting': 4321, 'makes': 3282, 'happyquot': 2225, 'tapworthy': 5330, 'mention studies': 3541, 'studies players': 4971, 'players tell': 4087, 'tell quotpetting': 5381, 'quotpetting iphone': 4322, 'iphone makes': 2752, 'makes happyquot': 3285, 'happyquot tapworthy': 2226, 'tapworthy sxsw': 5333, 'line': 3063, 'apples': 428, 'popup': 4118, 'block': 715, 'apples ipad': 430, 'ipad popup': 2641, 'popup store': 4124, 'block sxsw': 716, 'sxsw link': 5145, 'loved': 3227, 'honesty': 2349, 'googles': 2082, 'marissa': 3326, 'mayer': 3353, 'keynote': 2906, 'products': 4195, 'need': 3709, 'step': 4878, 'customer': 1215, 'service': 4634, 'locations': 3161, 'googles marissa': 2085, 'marissa mayer': 3327, 'mayer keynote': 3357, 'customer service': 1216, 'remaining': 4411, 'stock': 4886, 'come': 1042, 'stock sxsw': 4887, 'sxsw apple': 5056, 'apple store': 416, 'store come': 4906, 'come link': 1045, 'love': 3217, 'genius': 1909, 'inside': 2506, 'temporary': 5387, 'sxsw rt': 5199, 'apples temporary': 436, 'temporary store': 5392, 'store austin': 4902, 'austin link': 523, 'totally': 5553, 'bag': 592, 'picked': 4049, 'attending': 500, 'morning': 3666, 'morning sxsw': 3667, 'lustre': 3248, 'pearl': 3985, 'teamandroidsxsw': 5352, 'cause': 906, 'android': 264, 'geeks': 1906, 'lustre pearl': 3249, 'pearl teamandroidsxsw': 3986, 'teamandroidsxsw cause': 5353, 'cause love': 907, 'love android': 3218, 'android geeks': 272, 'geeks sxsw': 1907, 'quotthe': 4326, 'built': 816, 'getting': 1925, 'trying': 5608, 'outquot': 3910, 'mention quotthe': 3523, 'mayer sxsw': 3361, 'saw': 4542, 'hashable': 2230, 'update': 5675, 'looks': 3193, 'ready': 4362, 'biz': 704, 'card': 883, 'solution': 4779, 'update iphone': 5676, 'solution sxsw': 4780, 'know': 2939, 'able': 131, 'video': 5763, 'mayers': 3364, 'presentation': 4156, 'ill able': 2416, 'marissa mayers': 3328, 'sxsw presentation': 5187, 'presentation google': 4158, 'got': 2094, 'courtesy': 1174, 'pop': 4106, 'yay': 6034, 'allowing': 217, 'available': 550, 'ipads': 2704, 'just got': 2864, 'got ipad': 2098, 'ipad courtesy': 2587, 'pop store': 4111, 'talk': 5318, 'sun': 5000, 'conversation': 1136, 'topics': 5548, 'sorry': 4795, 'mention talk': 3547, 'talk sxsw': 5324, 'sxsw ipad': 5132, 'bbq': 628, 'sauce': 4526, 'tech': 5356, 'really': 4371, 'come sxsw': 1052, 'dear': 1262, 'look': 3183, 'fucking': 1853, 'walking': 5813, 'thanks': 5415, 'hipsters': 2308, 'hilarious': 2301, 'dear sxsw': 1264, 'cnnmoney': 1033, 'craving': 1185, 'minds': 3610, 'created': 1191, 'foodspotting': 1779, 'apps': 447, 'got craving': 2096, 'craving sxsw': 1186, 'sxsw minds': 5159, 'minds created': 3611, 'created app': 1192, 'app foodspotting': 320, 'foodspotting link': 1780, 'link iphone': 3102, 'iphone apps': 2723, 'lonely': 3170, 'job': 2818, 'protecting': 4213, 'someones': 4787, 'gotta': 2102, 'lonely job': 3171, 'job protecting': 2820, 'protecting ipad': 4214, 'ipad someones': 2655, 'someones gotta': 4788, 'gotta link': 2103, 'link sxsw': 3121, 'congrats': 1098, 'mention congrats': 3426, 'shit': 4673, 'working': 5991, 'web': 5855, 'fonts': 1774, 'really cool': 4373, 'web fonts': 5858, 'sxsw mention': 5158, 'dead': 1256, 'secret': 4596, 'yes': 6054, 'rtmention': 4485, 'want': 5819, 'win': 5916, 'case': 888, 'rtmention sxsw': 4488, 'sxsw want': 5251, 'want win': 5828, 'win ipad': 5919, 'ipad case': 2581, '101': 6, 'standard': 4853, 'afternoon': 185, 'woot': 5978, 'miss': 3618, 'year': 6039, 'fb': 1694, 'sxsw year': 5262, 'quotthere': 4329, 'continued': 1128, 'survival': 5024, 'existence': 1607, 'godquot': 1950, 'guykawasaki': 2171, 'quotthere explanation': 4330, 'explanation apples': 1629, 'apples continued': 429, 'continued survival': 1129, 'survival existence': 5025, 'existence godquot': 1608, 'godquot guykawasaki': 1951, 'guykawasaki sxsw': 2172, 'checkins': 959, 'feature': 1698, 'latest': 2965, 'article': 477, 'fun mention': 1861, 'updated': 5679, 'song': 4789, '247': 50, 'stream': 4949, 'live': 3141, 'streaming': 4952, 'mention yes': 3579, 'yes updated': 6060, 'updated iphone': 5680, 'app song': 343, 'song info': 4791, 'info mention': 2483, 'mention 247': 3397, '247 stream': 52, 'stream live': 4951, 'live video': 3145, 'video streaming': 5767, 'streaming sxsw': 4953, 'weekend': 5877, 'ears': 1503, 'launch': 2969, 'speech': 4826, 'therapy': 5428, 'sxswh': 5274, 'sxsh': 5043, 'launch new': 2979, 'new ipad': 3748, 'ipad apps': 2572, 'apps speech': 457, 'speech therapy': 4828, 'link sxswh': 3122, 'sxswh sxsh': 5275, 'rumor': 4491, 'opening': 3878, 'downtown': 1460, 'mention rt': 3528, 'rumor apple': 4492, 'apple opening': 397, 'opening temporary': 3884, 'store downtown': 4910, 'downtown austin': 1462, 'ipad launch': 2621, 'launch link': 2975, 'paper': 3945, 'phones': 4028, 'means': 3367, 'likely': 3056, 'useless': 5708, 'fail': 1649, 'means ipad': 3368, 'sxsw fail': 5097, 'launching': 2991, 'partying': 3976, 'circles': 983, 'google launching': 2024, 'launching sxsw': 2992, 'sxsw just': 5137, 'standing': 4854, 'buying': 843, 'standing line': 4855, 'buying ipad': 844, 'ipad link': 2625, 'yeah': 6037, 'popular': 4115, 'android link': 276, 'wouldnt': 6011, 'buy': 834, 'id': 2404, 'wait': 5796, 'buy ipad': 836, 'wait ipad': 5800, 'meant': 3371, 'doesnt': 1406, 'work': 5985, 'run': 4499, 'software': 4772, 'desktop': 1324, 'dl': 1392, 'doesnt work': 1408, 'just sxsw': 2881, 'schools': 4572, 'experts': 1621, 'apple schools': 409, 'schools marketing': 4573, 'marketing experts': 3337, 'experts link': 1623, 'link mention': 3112, 'apple marketing': 393, 'white': 5898, 'social': 4757, 'proof': 4209, 'ipod': 2778, 'launched': 2983, 'toy': 5563, 'need social': 3713, 'social proof': 4762, 'new toy': 3762, 'officially': 3837, 'grill': 2139, 'zazzlsxsw': 6093, 'youll': 6069, 'make': 3278, 'mention officially': 3510, 'officially sxsw': 3838, 'sxsw come': 5078, 'come mention': 1046, 'mention grill': 3460, 'mention zazzlsxsw': 3581, 'zazzlsxsw youll': 6094, 'youll make': 6071, 'make iphone': 3279, 'iphone case': 2730, 'days': 1253, 'thing': 5440, 'working ipad': 5992, 'ipad fail': 2598, 'fail link': 1650, 'tip': 5504, 'conference': 1090, 'bring': 787, 'leave': 3009, 'laptop': 2957, 'hotel': 2369, 'ive': 2801, 'battery': 623, 'shoulder': 4687, 'week': 5870, 'ipad leave': 2622, 'week sxsw': 5875, 'best': 653, 'weve': 5887, 'seen': 4603, 'mention best': 3412, 'best apps': 655, 'apps weve': 462, 'weve seen': 5889, 'seen sxsw': 4604, 'begins': 641, 'wins': 5933, 'ipad2': 2677, 'pm': 4096, 'begins apple': 642, 'apple wins': 424, 'wins sxsw': 5937, 'link apple': 3085, 'apple ipad2': 386, 'pm sxsw': 4097, 'wonder': 5970, 'demoed': 1300, 'bavcid': 626, 'mention wonder': 3576, 'bavcid sxsw': 627, 'developers': 1336, 'meetup': 3387, 'hey': 2285, 'create': 1190, 'cases': 895, 'tweet': 5629, 'hey mention': 2289, 'iphone cases': 2731, 'tweet sxsw': 5630, 'past': 3980, 'theres': 5429, 'major': 3275, 'dilemma': 1362, 'sxsw past': 5173, 'past week': 3982, 'week theres': 5876, 'theres major': 5432, 'major dilemma': 3276, 'dilemma link': 1363, 'link tech': 3124, 'friend': 1838, 'hes': 2284, 'developed': 1333, 'support': 5009, 'new iphone': 3751, 'phone': 4022, 'way': 5845, 'wise': 5946, 'believe': 647, 'typing': 5645, 'sixth': 4723, 'st': 4848, 'typing ipad': 5646, 'cnet': 1024, 'experts cnet': 1622, 'cnet link': 1026, 'geekdate': 1902, 'mention buying': 3418, 'buying new': 846, 'new ipads': 3750, 'ipads mention': 2709, 'mention geekdate': 3450, 'geekdate apple': 1903, 'apple sxsw': 420, 'sxsw ipad2': 5133, 'future': 1869, 'power': 4141, 'herequot': 2282, 'augmented': 508, 'reality': 4368, 'contextual': 1126, 'pnid': 4098, 'quotthe power': 4328, 'power herequot': 4142, 'augmented reality': 509, 'pnid sxsw': 4099, 'evernote': 1584, 'awesome': 568, 'iphone awesome': 2726, 'awesome sxsw': 577, 'heading': 2249, 'lp': 3233, 'guide': 2163, 'limited': 3061, 'time': 5484, 'travel': 5584, 'mention heading': 3465, 'heading austin': 2250, 'lp austin': 3234, 'austin guide': 520, 'guide iphone': 2165, 'iphone free': 2740, 'free limited': 1815, 'limited time': 3062, 'time link': 5491, 'link travel': 3127, 'check': 944, 'dokobots': 1418, 'game': 1881, 'pretty': 4167, 'geogames': 1915, 'tmsxsw': 5510, 'check dokobots': 946, 'dokobots game': 1419, 'game mention': 1887, 'mention iphone': 3482, 'iphone android': 2720, 'android pretty': 284, 'pretty cool': 4169, 'cool geogames': 1141, 'geogames sxsw': 1916, 'sxsw tmsxsw': 5235, 'lt': 3236, 'ya': 6032, 'hand': 2199, 'opening popup': 3880, 'link lt': 3110, 'dock': 1396, 'motorola': 3673, 'att': 492, 'looks like': 3195, 'android phone': 282, 'buzz': 850, '2011': 41, 'tablet': 5299, 'advertising': 178, 'sxsw 2011': 5046, '2011 link': 43, 'mention apple': 3405, 'apple tablet': 421, 'taught': 5338, 'sxsw taught': 5227, 'taught want': 5339, 'want ipad': 5822, 'ipad dont': 2593, 'dont know': 1431, 'engagement': 1545, 'experience': 1616, 'mention theres': 3557, 'experience sxsw': 1618, 'surrounded': 5021, 'geek': 1897, 'grab': 2111, 'box': 758, 'amp': 235, 'pay': 3983, 'joy': 2840, 'apples ipad2': 431, 'tech geek': 5360, '80s': 116, 'party': 3951, 'maggie': 3269, 'maes': 3264, 'dark': 1232, 'shades': 4656, 'google 80s': 1988, '80s party': 117, 'party maggie': 3966, 'maggie maes': 3270, 'got free': 2097, 'connect': 1108, 'digital': 1357, 'physical': 4039, 'worlds': 6004, 'mention marissa': 3502, 'mayer google': 3356, 'google connect': 2003, 'connect digital': 1109, 'digital amp': 1358, 'amp physical': 253, 'physical worlds': 4040, 'worlds mobile': 6005, 'mobile link': 3633, 'design': 1308, 'headaches': 2243, 'tablets': 5302, 'panel': 3934, 'excited': 1596, 'hear': 2254, 'ipad design': 2589, 'design headaches': 1310, 'headaches tablets': 2245, 'mention live': 3492, 'live sxsw': 3144, 'nice': 3784, 'told': 5525, 'brief': 780, 'study': 4972, 'paradigms': 3946, 'mention nice': 3508, 'nice mention': 3786, 'mention just': 3484, 'just told': 2884, 'told mention': 5526, 'just used': 2886, 'used brief': 5702, 'brief case': 781, 'case study': 892, 'study ipad': 4973, 'design paradigms': 1315, 'paradigms panel': 3947, 'panel sxsw': 3936, 'does': 1399, 'chargers': 936, 'changed': 925, 'mind': 3608, 'going': 1958, 'sxsw does': 5090, 'iphone chargers': 2733, 'changed mind': 926, 'going year': 1963, 'driving': 1484, 'street': 4957, 'view': 5771, 'desk': 1323, 'google street': 2051, 'street view': 4958, 'filming': 1731, 'trade': 5571, 'held': 2272, 'cam': 868, 'jealous': 2814, 'just saw': 2877, 'sxsw trade': 5238, 'failure': 1653, 'latitude': 2968, 'circle': 982, 'seriously': 4631, 'needs': 3717, 'google buzz': 1999, 'google latitude': 2021, 'google circle': 2001, 'google needs': 2032, 'google sxsw': 2053, 'talking': 5326, 'making': 3291, 'im': 2423, 'europe': 1575, 'america': 226, 'wanna': 5818, 'makeshift': 3289, 'sxsw making': 5151, 'makeshift apple': 3290, 'store ipad2': 4916, 'tries': 5592, 'network': 3727, 'called': 864, 'mention google': 3456, 'google tries': 2063, 'tries launch': 5593, 'new social': 3760, 'social network': 4760, 'network called': 3728, 'called circles': 865, 'circles link': 985, 'twitter': 5639, 'follow': 1772, 'right': 4448, 'wow': 6012, 'schwag': 4577, 'charger': 934, 'ive seen': 2806, 'charger iphone': 935, 'restaurant': 4424, 'iphone link': 2751, 'real': 4366, 'lets': 3019, 'wow apple': 6013, 'apple popup': 402, 'mention austin': 3408, 'link lp': 3109, 'lp travel': 3235, 'deleting': 1283, 'wont': 5973, 'stop': 4888, 'loading': 3151, 'cancel': 877, 'help': 2276, 'loading iphone': 3152, 'alive': 213, 'loving': 3231, 'talks': 5328, 'jonathan': 2832, 'dahl': 1221, 'minimalistprogramming': 3612, 'marissagoogle': 3329, 'mention alive': 3400, 'alive loving': 214, 'loving great': 3232, 'great talks': 2136, 'talks jonathan': 5329, 'jonathan dahl': 2833, 'dahl minimalistprogramming': 1222, 'minimalistprogramming googles': 3613, 'mayer marissagoogle': 3359, 'marissagoogle sxsw': 3330, 'early': 1500, 'photos': 4035, 'airport': 205, 'people': 3991, 'walmart': 5817, 'app share': 342, 'share photos': 4660, 'approaches': 443, 'subscriptions': 4985, 'like apple': 3033, 'mention link': 3491, 'forward': 1791, 'delicious': 1285, 'tmobile': 5508, '4g': 88, 'struggle': 4966, 'mention forward': 3446, 'forward delicious': 1792, 'delicious tmobile': 1286, 'tmobile 4g': 5509, '4g austin': 89, 'austin iphone': 522, 'iphone users': 2769, 'users struggle': 5721, 'struggle sxsw': 4967, 'later': 2963, 'door': 1442, 'theres line': 5430, 'door sxsw': 1443, 'ipad2 link': 2687, 'exhibit': 1604, 'hall': 2197, 'open': 3868, 'visit': 5782, 'emc': 1532, 'chance': 920, 'exhibit hall': 1605, 'hall open': 2198, 'open sxsw': 3870, 'sxsw visit': 5248, 'chance win': 921, 'ipad mention': 2631, 'shop': 4676, 'popup shop': 4123, 'shop sxsw': 4681, 'kick': 2910, 'giving': 1941, 'away': 564, 'page': 3928, 'enter': 1555, 'sxswi mention': 5279, 'mention giving': 3452, 'giving away': 1942, 'away ipad': 567, 'ipad just': 2617, 'just visit': 2887, 'visit fb': 5783, 'fb page': 1695, 'enter link': 1556, 'finally': 1734, 'iphone tweet': 2765, 'just time': 2883, 'time sxsw': 5496, 'security': 4598, 'guard': 2159, 'enjoying': 1552, 'security guard': 4599, 'ipad2 apple': 2679, 'prep': 4151, 'curious': 1212, 'prep sxsw': 4152, 'sxsw im': 5128, 'ipad kick': 2618, 'kick time': 2911, 'page info': 3929, 'info link': 2482, 'interviewed': 2549, 'far': 1671, 'agree': 191, 'ur': 5690, 'brand': 766, 'word': 5981, 'sxsw far': 5098, 'totally agree': 5554, 'celebrating': 914, 'ie9': 2413, 'lucky': 3240, 'away free': 566, 'dang': 1230, 'touched': 5557, 'sigh': 4702, 'building': 810, 'success': 4989, 'doubt': 1446, 'success google': 4991, 'buzz doubt': 851, 'doubt rt': 1447, 'google launch': 2022, 'launch circles': 2971, 'network sxsw': 3731, 'doing': 1411, 'doing sxsw': 1414, 'tomlinson': 5527, 'double': 1444, 'revenue': 4434, 'issue': 2789, 'newsapps': 3775, 'observer tomlinson': 3823, 'tomlinson says': 5528, 'says double': 4552, 'double revenue': 1445, 'revenue issue': 4435, 'issue ipad': 2790, 'ipad subscriptions': 2659, 'subscriptions newsapps': 4986, 'newsapps sxsw': 3776, 'keeps': 2903, 'extended': 1635, 'keyboard': 2905, 'loud': 3214, 'feels': 1714, 'better': 670, 'feels like': 1715, 'watching': 5839, 'locationbased': 3158, 'projects': 4205, 'future google': 1871, 'cool sxsw': 1149, 'sxsw sxswi': 5223, 'putting': 4239, 'gun': 2167, 'head': 2241, 'mention putting': 3519, 'putting gun': 4241, 'gun mention': 2168, 'mention head': 3464, 'head iphone': 2242, 'huge': 2389, 'props': 4212, 'sxsw app': 5055, 'app android': 308, 'mention amp': 3402, 'possibly': 4132, 'today': 5511, 'launch major': 2977, 'major new': 3277, 'circles possibly': 987, 'possibly today': 4133, 'today link': 5516, 'mophie': 3664, 'user': 5710, 'months': 3661, 'highly': 2299, 'really great': 4376, 'iphone battery': 2727, 'motherboard': 3671, 'youre': 6074, '10': 0, 'hot': 2364, 'word motherboard': 5982, 'motherboard rt': 3672, 'mention youll': 3580, 'youll want': 6073, 'want iphone': 5824, 'apps youre': 464, 'youre heading': 6076, 'heading sxsw': 2252, 'sxsw today': 5236, 'today 10': 5512, '10 hot': 2, 'hot ones': 2366, 'ones link': 3864, 'smart': 4738, 'opens': 3885, 'bitlyi41h53': 702, 'mention smart': 3534, 'smart apple': 4739, 'apple opens': 398, 'opens popup': 3886, 'austin people': 527, 'people sxsw': 4004, 'sxsw new': 5166, 'ipads bitlyi41h53': 2706, 'bitlyi41h53 mention': 703, 'copy': 1158, 'enchantment': 1538, 'kindle': 2931, 'thx': 5476, 'keeping': 2902, 'world': 5997, 'glad': 1944, 'mention got': 3458, 'youre sxsw': 6078, 'selling': 4618, 'talked': 5325, 'hate': 2231, 'product': 4191, 'mention check': 3422, 'site': 4719, 'special': 4823, 'qampa': 4246, 'check link': 951, 'download iphone': 1454, 'ready sxsw': 4365, 'sxsw special': 5212, 'mac': 3254, 'kicking': 2912, 'talking ipad': 5327, 'headaches sxsw': 2244, 'informal': 2488, 'unscientific': 5669, 'observation': 3820, 'computer': 1080, 'choice': 972, 'hands': 2207, 'mention informal': 3477, 'informal unscientific': 2489, 'unscientific observation': 5670, 'observation apple': 3821, 'apple far': 378, 'far computer': 1674, 'computer choice': 1081, 'choice sxsw': 974, 'sxsw hands': 5122, 'quotgot': 4297, 'lot': 3207, 'betterquot': 678, 'privacy': 4177, 'tools': 5546, '12': 15, 'google quotgot': 2042, 'quotgot lot': 4298, 'lot betterquot': 3208, 'betterquot protecting': 680, 'protecting users': 4215, 'users privacy': 5720, 'privacy locationbased': 4179, 'locationbased tools': 3160, 'tools past': 5547, 'past 12': 3981, '12 months': 16, 'months says': 3663, 'says mayer': 4554, 'target': 5334, 'audience': 504, 'sell': 4610, 'day': 1238, 'target audience': 5335, 'shop mention': 4680, 'sxsw sell': 5203, 'sell ipad': 4613, 'launch day': 2972, 'day sxsw': 1250, 'dawns': 1236, 'dawns ipad': 1237, 'app week': 353, 'week early': 5871, 'early help': 1502, 'help prep': 2277, 'absolutely': 132, 'schtuff': 4575, 'finder': 1736, 'japan': 2809, 'quake': 4255, 'iqlab': 2780, 'absolutely rt': 133, 'mention timely': 3561, 'timely good': 5499, 'good schtuff': 1979, 'schtuff google': 4576, 'google people': 2036, 'people finder': 3995, 'finder japan': 1737, 'japan quake': 2811, 'quake link': 4256, 'link iqlab': 3103, 'iqlab sxsw': 2781, 'hootsuite': 2352, 'chilltab': 968, 'stand': 4850, 'rocks': 4467, 'canadian': 875, 'media': 3375, 'sxsw hootsuite': 5124, 'hootsuite chilltab': 2353, 'chilltab tablet': 969, 'tablet stand': 5300, 'stand rocks': 4852, 'rocks canadian': 4468, 'canadian social': 876, 'social media': 4759, 'media ipad': 3377, 'ipad best': 2576, 'best mention': 660, 'hope': 2357, 'easier': 1509, 'little': 3140, 'wants': 5831, 'say': 4546, 'hi': 2293, 'say hi': 4548, 'version': 5758, 'coming': 1056, 'demo': 1291, 'meet': 3381, 'mention awesome': 3409, 'awesome new': 575, 'new version': 3765, 'version mention': 5762, 'iphone amp': 2719, 'amp new': 252, 'new web': 3766, 'web site': 5860, 'site coming': 4720, 'coming sxsw': 1060, 'want demo': 5820, 'demo meet': 1295, 'meet mention': 3383, 'navigating': 3703, 'crowded': 1203, 'sucks': 4994, 'face': 1641, 'fear': 1697, 'attendees': 495, 'pick': 4047, '2s': 63, 'sxsw attendees': 5059, 'pick ipad': 4048, 'ipad 2s': 2566, 'austin popup': 530, 'shop link': 4679, 'offer': 3827, 'likeability': 3053, 'virgin': 5779, 'air': 202, 'trustworthiness': 5604, 'zappos': 6089, 'likeability virgin': 3054, 'trustworthiness zappos': 5605, 'apple mention': 394, 'photo': 4030, 'installed': 2513, 'just installed': 2866, 'sxsw iphone': 5135, 'hanging': 2213, 'industry': 2476, 'partygood': 3974, 'crowd': 1199, 'mention hanging': 3463, 'hanging mention': 2214, 'google industry': 2018, 'industry partygood': 2478, 'partygood crowd': 3975, 'crowd sxsw': 1202, 'line popup': 3074, 'popup apple': 4119, 'fans': 1667, 'peek': 3988, 'space': 4809, 'thats': 5420, 'slated': 4729, 'tomorrow': 5529, 'hey apple': 2286, 'apple fans': 377, 'fans peek': 1668, 'peek space': 3989, 'space thats': 4811, 'thats slated': 5423, 'slated popup': 4730, 'popup sxsw': 4125, 'store tomorrow': 4936, 'tomorrow link': 5531, 'hmm': 2323, 'charged': 933, 'seeing': 4601, '3d': 72, 'buildings': 815, 'super': 5006, 'fast': 1682, 'googles new': 2087, 'maps mobile': 3312, 'mobile 3d': 3627, '3d buildings': 73, 'super fast': 5007, 'moving': 3675, 'impressive': 2455, 'lines': 3076, 'mention line': 3490, 'line moving': 3072, 'fast rt': 1686, 'im sxsw': 2435, 'store amp': 4898, 'amp mention': 251, 'mention party': 3513, 'line sxsw': 3075, 'store ipad': 4915, 'ipad day': 2588, 'day link': 1247, 'eventseekr': 1582, 'parties': 3948, 'eventseekr app': 1583, 'sunday': 5001, 'songs': 4792, 'takes': 5309, 'new ipad2': 3749, 'issues': 2791, 'using': 5731, 'services': 4636, 'using google': 5733, 'services sxsw': 4637, 'hoping': 2359, 'oh': 3843, 'maybe': 3351, 'long': 3175, 'sxsw bring': 5068, 'mention oh': 3511, 'long time': 3181, 'maps 150': 3306, 'maps users': 3321, 'mobile sxsw': 3638, 'vufinders': 5790, '3x': 81, 'speedup': 4829, 'object': 3817, 'tagging': 5305, 'outside': 3911, 'conf': 1088, 'hours': 2378, 'mention hey': 3468, 'hey vufinders': 2292, 'vufinders awesome': 5791, 'new update': 3764, 'update mention': 5677, 'app link': 332, 'link 3x': 3081, '3x speedup': 82, 'speedup object': 4830, 'object tagging': 3819, 'tagging outside': 5306, 'outside sxsw': 3912, 'sxsw conf': 5079, 'conf hours': 1089, 'leaving': 3012, 'home': 2344, 'light': 3027, 'lug': 3243, 'just ipad': 2867, 'ipad hand': 2608, 'really dont': 4374, 'dont need': 1434, 'apple does': 370, 'store just': 4918, 'quotgoogle': 4291, 'tweetquot': 5635, 'quotthink': 4331, 'speakquot': 4821, 'mark': 3331, 'belinsky': 649, '911tweets': 122, 'mention quotgoogle': 3521, 'quotgoogle tweetquot': 4296, 'tweetquot new': 5636, 'new quotthink': 3759, 'quotthink speakquot': 4332, 'speakquot mark': 4822, 'mark belinsky': 3332, 'belinsky 911tweets': 650, '911tweets panel': 123, 'quoti': 4302, 'threw': 5466, 'kid': 2914, 'mention finally': 3444, 'threw ipad': 5467, 'robot': 4459, 'wars': 5833, 'mystery': 3699, 'boxes': 759, 'tacos': 5303, 'happy': 2220, 'dev': 1331, 'house': 2381, 'google win': 2068, 'win sxsw': 5921, 'buzzing': 853, 'ios': 2559, '43': 85, 'annoying': 299, 'news': 3769, 'room': 4472, 'ios 43': 2560, 'utter': 5743, 'ballroom': 595, 'cc': 910, 'cc mention': 911, 'yall': 6033, 'text': 5409, 'updates': 5682, 'pocket': 4100, 'machine': 3260, 'phone sxsw': 4026, 'coolest': 1154, 'etchasketch': 1572, 'cool rt': 1146, 'coolest ipad': 1155, 'case etchasketch': 891, 'etchasketch sxsw': 1573, 'omg': 3858, 'sign': 4706, 'bank': 600, '250k': 54, 'customers': 1217, 'bankinnovation': 604, 'mention day': 3429, 'day bank': 1241, 'bank america': 601, 'america launched': 227, 'launched iphone': 2984, 'app got': 324, 'got 250k': 2095, '250k new': 55, 'new customers': 3742, 'customers bankinnovation': 1218, 'bankinnovation sxsw': 605, 'session': 4638, 'hour': 2374, 'ad': 162, 'musthave': 3694, 'course': 1172, 'news sxsw': 3774, 'ipad musthave': 2635, 'course link': 1173, 'handheld': 2201, 'hobo': 2325, 'drafthouse': 1464, 'launches': 2987, 'shotgun': 4685, 'handheld hobo': 2202, 'hobo drafthouse': 2326, 'drafthouse launches': 1465, 'launches hobo': 2990, 'hobo shotgun': 2327, 'shotgun iphone': 4686, 'app sxsw': 345, 'users mention': 5719, 'highlights': 2298, 'friends': 1840, 'developer': 1335, 'blows': 726, 'owns': 3921, 'set': 4645, 'core': 1159, 'action': 147, 'set open': 4646, 'open popup': 3869, 'shop core': 4678, 'core sxsw': 1160, 'sxsw action': 5049, 'action link': 149, 'event': 1578, 'sxsw11': 5265, 'congrats mention': 1100, 'sxsw sxsw11': 5222, 'droid': 1486, '1000': 5, 'downloads': 1459, 'total': 5552, 'iphone droid': 2739, 'won': 5963, 'lego': 3016, 'hackathon': 2185, 'competition': 1076, 'startupbus': 4869, 'cle': 1007, 'woot just': 5979, 'just won': 2890, 'won google': 5966, 'google lego': 2025, 'lego hackathon': 3017, 'hackathon competition': 2186, 'competition sxsw': 1077, 'sxsw startupbus': 5214, 'startupbus cle': 4870, 'ppl': 4147, 'think': 5450, 'brought': 797, 'apple products': 404, 'products sxsw': 4198, 'sxsw think': 5232, 'sounds': 4798, 'bomb': 733, 'sounds like': 4800, 'like job': 3043, 'job sxsw': 2821, 'new bomb': 3740, 'bomb iphone': 734, 'app love': 334, 'love early': 3220, '15k': 29, 'wow mention': 6015, 'mention developed': 3432, 'developed ipad': 1334, 'app just': 329, 'just 15k': 2853, '15k newsapps': 30, 'tv': 5622, 'league': 3001, 'extraordinary': 1637, 'hackers': 2187, 'stuff': 4976, 'lxh': 3250, 'google tv': 2064, 'tv demo': 5623, 'demo league': 1294, 'league extraordinary': 3002, 'extraordinary hackers': 1639, 'hackers cool': 2188, 'cool stuff': 1148, 'stuff like': 4978, 'like web': 3052, 'web apps': 5856, 'apps tv': 460, 'tv google': 5625, 'sxsw lxh': 5149, 'thank': 5412, 'goodness': 1986, 'ran': 4342, 'worry': 6006, 'dont worry': 1436, 'store sxsw': 4935, 'lonelyplanet': 3173, 'biggest': 691, 'said': 4510, 'crowley': 1205, 'artistsquot': 483, 'free itunes': 1814, 'itunes sxsw': 2800, 'thrilled': 5468, 'chief': 966, 'talent': 5316, 'officer': 3832, 'gap': 1891, 'advisory': 181, 'board': 731, 'innotribe': 2493, 'thrilled chief': 5469, 'chief talent': 967, 'talent officer': 5317, 'officer apple': 3833, 'apple gap': 379, 'gap mention': 1892, 'mention advisory': 3399, 'advisory board': 182, 'board link': 732, 'sxswi innotribe': 5277, 'hipster': 2305, 'mention ipad': 3480, 'score': 4578, 'handing': 2203, 'pi': 4041, 'rtmention google': 4486, 'google handing': 2015, 'handing free': 2204, 'free pi': 1820, 'pi pi': 4043, 'pi day': 4042, 'sxsw win': 5257, 'verizon': 5755, 'bars': 615, 'baby': 581, 'suck': 4993, 'atampt': 488, 'verizon iphone': 5756, 'csr': 1208, 'reporting': 4417, 'janecek': 2807, 'microsoft': 3588, 'gives': 1937, 'charity': 938, 'drives': 1482, 'decision': 1275, 'sxsw csr': 5084, 'csr reporting': 1209, 'reporting janecek': 4418, 'janecek microsoft': 2808, 'microsoft gives': 3590, 'gives charity': 1938, 'charity apple': 939, 'apple gives': 381, 'gives room': 1940, 'room iphone': 4474, 'iphone drives': 2738, 'drives decision': 1483, 'congratulations': 1103, 'mention congratulations': 3427, 'app mention': 337, 'austinbound': 539, 'fanboys': 1662, 'mention good': 3455, 'good news': 1978, 'news austinbound': 3772, 'austinbound apple': 540, 'apple fanboys': 376, 'fanboys link': 1663, 'overheard': 3914, 'agreed': 194, 'ipad apple': 2571, 'temp': 5384, '6th': 111, 'congress': 1104, 'excuse': 1603, 'mention temp': 3552, 'temp store': 5386, 'store 6th': 4897, '6th amp': 112, 'amp congress': 240, 'congress sxsw': 1107, 'walking ipad': 5815, 'ipad austin': 2573, 'holla': 2334, 'butt': 827, 'holla rt': 2335, 'google party': 2034, 'party best': 3953, 'best butt': 656, 'butt sxsw': 828, 'route': 4478, 'traffic': 5577, 'saving': 4538, 'drivers': 1480, 'years': 6044, 'finding': 1738, 'route traffic': 4479, 'traffic saving': 5580, 'saving drivers': 4539, 'years time': 6049, 'time day': 5487, 'online': 3865, 'wild': 5915, 'quotpopupquot': 4323, 'played': 4082, 'fruit': 1848, 'opens quotpopupquot': 3887, 'quotpopupquot store': 4325, 'smart played': 4743, 'played fruit': 4084, 'fruit link': 1849, 'went': 5885, 'missed': 3620, 'laptop amp': 2958, 'used ipad': 5703, 'fri': 1832, 'oreilly': 3895, 'booksconferences': 738, 'matt': 3347, 'mullenweg': 3682, 'wordpress': 5984, 'great stuff': 2133, 'stuff fri': 4977, 'fri sxsw': 1833, 'sxsw marissa': 5154, 'google tim': 2059, 'tim oreilly': 5482, 'oreilly tech': 3897, 'tech booksconferences': 5359, 'booksconferences amp': 739, 'amp matt': 250, 'matt mullenweg': 3348, 'mullenweg wordpress': 3683, 'dealing': 1260, 'screen': 4580, 'possibility': 4131, 'efficient': 1523, 'uses': 5726, 'love sxsw': 3226, 'hollergram': 2338, 'vuvuzela': 5792, 'smart mention': 4741, 'mention hollergram': 3470, 'hollergram ipad': 2340, 'link leave': 3106, 'leave vuvuzela': 3010, 'vuvuzela home': 5793, 'whos': 5903, 'gonna': 1967, 'bet': 666, 'bigger': 689, 'getting ipad2': 1927, 'incapable': 2461, 'disruptive': 1386, 'innovation': 2495, 'acquired': 145, '89': 120, 'startups': 4871, 'leanstartup': 3003, 'google incapable': 2017, 'incapable doing': 2462, 'doing disruptive': 1412, 'disruptive innovation': 1387, 'innovation acquired': 2496, 'acquired 89': 146, '89 startups': 121, 'startups years': 4873, 'years mention': 6047, 'mention leanstartup': 3488, 'leanstartup sxsw': 3004, '70': 114, 'sales': 4514, 'touchingstories': 5558, 'original': 3903, 'content': 1122, 'todays': 5523, 'worldand': 6002, 'barry': 611, 'diller': 1364, 'know original': 2945, 'original content': 3904, 'content todays': 1124, 'todays worldand': 5524, 'worldand ipad': 6003, 'ipad better': 2577, 'better barry': 671, 'barry diller': 612, 'diller sxsw': 1366, 'novelty': 3809, 'fades': 1647, 'delegates': 1281, 'agreed novelty': 195, 'novelty ipad': 3810, 'ipad news': 2637, 'news apps': 3770, 'apps fades': 450, 'fades fast': 1648, 'fast digital': 1684, 'digital delegates': 1359, 'delegates link': 1282, 'link media': 3111, 'media sxsw': 3378, 'effective': 1521, '3gs': 79, 'iphone 3gs': 2715, 'plans': 4076, 'blackberry': 709, 'times': 5501, 'sxsw plans': 5178, 'plans google': 4077, 'party blackberry': 3954, 'blackberry party': 711, 'party party': 3968, 'party good': 3959, 'good times': 1983, 'location': 3156, 'ios android': 2561, 'yo': 6063, 'smallbiz': 4737, 'reviews': 4438, 'play': 4081, 'seo': 4628, 'seo sxsw': 4630, 'swarms': 5035, 'sxsw crowd': 5083, 'crowd swarms': 1201, 'swarms ipad': 5036, 'launch mention': 2978, 'packing': 3925, 'macbook': 3256, 'ahhh': 198, 'decide': 1271, 'sxsw macbook': 5150, 'macbook ipad': 3258, 'theyre': 5434, 'books': 737, 'theyre giving': 5435, 'deleting sxsw': 1284, 'ipad available': 2574, 'im austin': 2424, 'blogging': 722, 'apps make': 454, 'gowalla': 2105, 'andoid': 260, 'team': 5345, 'awards': 561, 'wow rt': 6016, 'yes gowalla': 6055, 'gowalla wins': 2108, 'wins best': 5934, 'best andoid': 654, 'andoid app': 261, 'app team': 347, 'team android': 5346, 'android choice': 269, 'choice awards': 973, 'awards thanks': 562, 'thanks sxsw': 5419, 'sure': 5015, 'buy ipad2': 837, 'austin apple': 513, 'booth': 742, 'photo booth': 4031, 'booth sxsw': 745, 'offers': 3830, 'cool link': 1144, 'papa': 3941, 'sangre': 4524, 'immersive': 2446, 'audio': 506, 'recommended': 4385, 'papasangre': 3943, 'papa sangre': 3942, 'sangre immersive': 4525, 'immersive audio': 2447, 'audio game': 507, 'game iphone': 1883, 'free today': 1827, 'today highly': 5515, 'highly recommended': 2300, 'recommended papasangre': 4386, 'papasangre sxsw': 3944, 'temp apple': 5385, 'really need': 4377, 'giveaway': 1934, 'fantastic': 1670, 'ipad giveaway': 2602, 'ago': 190, 'didnt': 1353, 'hundreds': 2394, 'austin store': 533, 'people ipad2': 3996, 'ipad2 sxsw': 2693, 'dropped': 1490, 'pro': 4184, 'macbook pro': 3259, 'walking sxsw': 5816, 'grateful': 2117, 'awesome ipad': 572, 'beach': 632, 'style': 4984, 'start': 4860, 'mention time': 3560, 'iphone hilarious': 2744, 'appstore': 465, 'apps sxsw': 459, 'iphone blackberry': 2728, 'link rt': 3117, 'ideas': 2410, 'save': 4527, 'true': 5599, 'syncs': 5295, 'shiny': 4668, 'garyvee': 1893, 'book': 735, 'stores': 4940, 'christmas': 978, 'nerds': 3720, 'mention shiny': 3533, 'shiny new': 4669, 'new mention': 3753, 'apps new': 455, 'new garyvee': 3746, 'garyvee book': 1894, 'book popup': 736, 'popup ipad': 4121, 'ipad stores': 2658, 'stores sxsw': 4941, 'sxsw christmas': 5073, 'christmas nerds': 979, 'lining': 3079, 'apple pop': 401, 'long line': 3177, 'highlight': 2296, 'meeting': 3384, '30': 67, 'preso': 4164, 'man': 3296, 'sale': 4511, 'golds': 1964, 'gym': 2176, 'quotpopupquot apple': 4324, 'ipad sale': 2651, 'golds gym': 1965, '6th congress': 113, 'goggles': 1955, 'fave': 1691, 'google goggles': 2013, 'just new': 2874, 'thing sxsw': 5445, 'soon': 4794, 'juice': 2845, 'left': 3013, 'iphone charging': 2734, 'spent': 4833, 'dollars': 1420, 'attend': 494, 'spending': 4832, 'waiting': 5806, 'waiting line': 5807, 'line ipad': 3069, 'youve': 6080, 'couple': 1171, 'city': 993, 'blocks': 718, 'ipad wait': 2668, 'live link': 3143, 'hotpot': 2370, 'rate': 4349, 'personalized': 4018, 'eat': 1514, 'foursquare': 1795, 'yelp': 6050, 'covered': 1176, 'google hotpot': 2016, 'care': 884, 'mention twitter': 3563, 'needs way': 3718, 'like sxsw': 3050, 'ipad right': 2648, 'guy': 2169, 'taking': 5311, 'awkward': 580, 'ipad taking': 2663, 'taking photos': 5315, 'center': 915, 'nice apple': 3785, 'likes': 3058, 'pic': 4044, 'pic link': 4046, 'sxsw news': 5167, 'store opens': 4928, 'sxsw love': 5148, 'gsdm': 2151, 'big': 683, 'sxsw great': 5118, 'kit': 2936, 'folks': 1770, 'survival kit': 5026, 'genius link': 1912, 'hilton': 2302, 'google eat': 2011, 'mention hilton': 3469, 'eats': 1516, 'news austin': 3771, 'austin eats': 517, 'eats bbq': 1517, 'bbq iphone': 629, 'iphone available': 2725, 'available link': 552, 'itunes austin': 2797, 'austin bbq': 514, 'bbq sxsw': 630, 'pubcamp': 4221, 'kirkus': 2934, 'qrank': 4251, 'ipadiphone': 2700, 'prizes': 4183, 'pubcamp kirkus': 4222, 'kirkus sxsw': 2935, 'sxsw download': 5093, 'download qrank': 1455, 'qrank ipadiphone': 4252, 'ipadiphone come': 2702, 'come pubcamp': 1049, 'pubcamp sxsw': 4223, '2011 prizes': 46, 'hopefully': 2358, 'going sxsw': 1962, 'free iphone': 1813, 'ipadwinning': 2712, 'performance': 4010, 'accordion': 140, 'toodamnlucky': 5542, 'pic ipadwinning': 4045, 'ipadwinning performance': 2713, 'performance link': 4011, 'sxsw accordion': 5048, 'accordion toodamnlucky': 141, 'w00t': 5794, 'wrote': 6026, 'mention w00t': 3567, 'w00t mention': 5795, 'mention wrote': 3578, 'wrote hollergram': 6027, 'flipboard': 1753, 'developing': 1338, 'flipboard developing': 1755, 'developing iphone': 1339, 'iphone version': 2770, 'version android': 5759, 'android says': 287, 'says mention': 4555, 'haha': 2189, 'saber': 4504, 'barroom': 609, 'brawls': 769, 'instead': 2518, 'fists': 1743, 'haha rt': 2191, 'mention ill': 3474, 'ill bet': 2418, 'bet theres': 668, 'theres lot': 5431, 'lot nerds': 3210, 'nerds sxsw': 3721, 'sxsw using': 5245, 'using iphone': 5735, 'iphone light': 2750, 'light saber': 3030, 'saber app': 4505, 'app barroom': 310, 'barroom brawls': 610, 'brawls instead': 770, 'instead fists': 2519, 'poor': 4105, 'employees': 1536, 'afternoon sxsw': 186, 'dream': 1470, 'steve': 4881, 'jobs': 2822, 'sxsw enchantment': 5094, 'enchantment mention': 1539, 'steve jobs': 4882, 'jobs doesnt': 2824, 'intro': 2551, 'saveustechies': 4536, 'surui': 5022, 'carbon': 881, 'project': 4201, 'earth': 1504, 'saveustechies sxsw': 4537, 'sxsw video': 5247, 'video surui': 5768, 'surui carbon': 5023, 'carbon project': 882, 'project google': 4202, 'google earth': 2010, 'earth engine': 1505, 'gtgt': 2158, 'secret new': 4597, 'circles today': 990, 'today sxsw': 5519, 'sxsw gtgt': 5121, 'abt': 134, 'surprise': 5019, 'cbatsxsw': 909, 'line apple': 3065, 'sxsw cbatsxsw': 5070, 'speak': 4815, 'hear marissa': 2255, 'google speak': 2050, 'sxsw google': 5114, 'mom': 3647, 'designing': 1322, 'boomers': 741, 'sxswlink': 5281, 'mom ipad': 3648, 'ipad designing': 2590, 'sxswlink sxsw': 5282, 'bought': 751, 'sold': 4773, 'purchasing': 4230, 'just bought': 2857, 'bought ipads': 753, 'atx': 503, 'sxsw atx': 5060, 'apple open': 395, 'store mention': 4925, 'sxsw doesnt': 5091, 'headed': 2247, 'interesting': 2535, 'pages': 3931, 'example': 1588, 'example good': 1589, 'mashable': 3342, 'nicely': 3790, 'sponsored mashable': 4839, 'mashable link': 3343, 'yes link': 6058, 'epic': 1567, 'ipad ipad2': 2614, 'black': 708, 'yes sxsw': 6059, 'ipad2 austin': 2680, 'sound': 4796, 'voice': 5785, 'shot': 4683, 'exploiting': 1631, 'buys': 847, '14day': 22, 'return': 4432, 'policy': 4103, 'imacs': 2438, 'brilliant': 783, 'sound voice': 4797, 'voice shot': 5786, 'shot exploiting': 4684, 'exploiting apple': 1632, 'apple amp': 365, 'amp best': 238, 'best buys': 657, 'buys 14day': 848, '14day return': 23, 'return policy': 4433, 'policy imacs': 4104, 'imacs brilliant': 2439, 'brilliant sxsw': 786, 'old': 3851, 'schedule': 4566, 'old sxsw': 3853, 'feel': 1709, 'losers': 3201, 'clearly': 1012, 'blackberry users': 712, 'users feel': 5716, 'feel like': 1711, 'like losers': 3044, 'losers sxsw': 3203, 'sxsw clearly': 5074, 'clearly iphone': 1013, 'iphone crowd': 2735, 'crowd baby': 1200, 'mall': 3295, '10x': 11, 'let': 3018, 'store mall': 4924, 'ipad takes': 2662, 'takes sxsw': 5310, 'video link': 5766, 'apple ipad': 385, 'joins': 2830, 'review': 4436, 'link ipad2': 3101, 'expected': 1613, 'mention 40': 3398, 'maps use': 3320, 'use mobile': 5699, 'business': 821, 'model': 3644, 'platform': 4078, 'platform iphone': 4080, 'app makes': 336, 'quotmention': 4313, 'technical': 5369, 'solutions': 4783, 'community': 1066, 'human': 2392, 'quotgoogle looks': 4294, 'looks technical': 3197, 'technical solutions': 5370, 'solutions theyre': 4784, 'theyre great': 5437, 'community human': 1067, 'lots': 3212, 'lots ipad': 3213, 'lose': 3199, 'blame': 713, 'credit': 1195, 'fixing': 1745, 'mention lose': 3498, 'lose hour': 3200, 'attendees blame': 496, 'blame microsoft': 714, 'microsoft apple': 3589, 'apple credit': 369, 'credit fixing': 1196, 'blogger': 721, 'google takes': 2054, 'new design': 3743, 'design sxsw': 1318, 'innovate': 2494, 'die': 1355, 'joined': 2829, '1st': 34, 'release': 4398, 'great session': 2131, 'store link': 4923, 'queue': 4259, 'apples popup': 433, 'device': 1345, 'disc': 1372, 'player': 4085, 'anymore': 302, 'comment': 1063, 'playing': 4088, 'playing ipad': 4089, '5pm': 99, '5pm sxsw': 100, 'sxsw fb': 5100, 'link link': 3108, 'apple set': 411, 'theyre going': 5436, 'sell ipad2': 4614, 'opened': 3876, 'mention app': 3404, 'app ipad': 327, 'sell new': 4616, 'ipads sxsw': 2710, 'fuel': 1854, 'sem': 4623, 'googlemaps': 2078, 'topnews': 5549, 'google saving': 2045, 'drivers time': 1481, 'time fuel': 5489, 'fuel link': 1855, 'link seo': 3118, 'seo sem': 4629, 'sem googlemaps': 4624, 'googlemaps mobile': 2079, 'mobile topnews': 3639, 'met': 3585, 'place': 4061, 'mention met': 3504, 'met team': 3586, 'team set': 5349, 'set sxsw': 4649, 'store set': 4933, 'set place': 4647, 'place days': 4062, 'days great': 1254, 'great work': 2138, 'hm': 2321, 'hm need': 2322, 'need rt': 3712, 'goes': 1953, 'oh thats': 3846, 'awesomely': 578, 'rad': 4336, 'madebymany': 3262, 'httpbitlyhtdfim': 2386, 'haha awesomely': 2190, 'awesomely rad': 579, 'rad ipad': 4337, 'app madebymany': 335, 'madebymany httpbitlyhtdfim': 3263, 'httpbitlyhtdfim hollergram': 2387, 'hollergram sxsw': 2341, 'whats': 5894, 'ireport': 2782, 'cnn': 1028, 'mention whats': 3571, 'whats going': 5896, 'today share': 5518, 'photos video': 4038, 'video ireport': 5765, 'ireport link': 2783, 'link cnn': 3092, 'cnn iphone': 1029, 'design ipad': 1312, 'ipad like': 2623, 'took': 5543, 'gift': 1932, 'just took': 2885, 'sxsw gsdm': 5119, 'killer': 2920, 'mention thank': 3554, 'link sxswi': 3123, 'morphie': 3668, 'juicepack': 2848, 'recharge': 4383, 'worth': 6008, 'checking': 958, 'app nice': 338, 'fun sxsw': 1863, 'flash': 1747, 'discussion': 1382, 'relevant': 4407, 'sxsw tapworthy': 5226, 'tapworthy ipad': 5332, 'listening': 3136, 'saying': 4550, 'party mention': 3967, 'rocks sxsw': 4469, 'post': 4134, 'easy': 1511, 'networks': 3733, 'new post': 3756, 'post mention': 4135, 'makes easy': 3283, 'easy connect': 1512, 'connect social': 1110, 'social networks': 4761, 'networks people': 3735, 'people meet': 3998, 'meet link': 3382, 'lounge': 3215, 'check sxsw': 955, 'meetings': 3385, 'ive having': 2803, 'having meetings': 2239, 'meetings im': 3386, 'im line': 2431, 'sxsw popup': 5183, 'ipad2 love': 2688, 'love place': 3224, 'line buy': 3067, 'buyers': 841, 'sold 70': 4775, '70 went': 115, 'went new': 5886, 'new buyers': 3741, 'want ipad2': 5823, 'hey sxsw': 2290, 'sxsw folks': 5106, 'google circles': 2002, 'youre having': 6075, 'vinh': 5776, 'mags': 3274, 'wired': 5944, 'link ipad': 3100, 'wasnt': 5835, 'resist': 4419, 'wearing': 5852, 'blue': 727, 'jeans': 2816, 'shirt': 4672, 'sneakers': 4753, 'line new': 3073, 'mention case': 3419, 'ipad look': 2627, 'happy sxsw': 2223, 'learned': 3006, 'mapquest': 3303, 'mapping': 3302, 'announced': 296, 'google just': 2020, 'just announced': 2855, 'wow google': 6014, 'knows': 2948, 'apple knows': 390, 'knows game': 2949, 'game theyre': 1889, 'theyre sxsw': 5438, 'bring ipad2': 789, 'ipad2 people': 2690, 'people link': 3997, 'gave': 1895, 'money': 3653, 'relief': 4408, '2quot': 61, 'best thing': 663, 'thing ive': 5444, 'ive heard': 2804, 'heard weekend': 2262, 'weekend sxsw': 5880, 'sxsw quoti': 5192, 'quoti gave': 4304, 'gave ipad': 1896, 'ipad money': 2634, 'money japan': 3654, 'japan relief': 2812, 'relief dont': 4409, 'need ipad': 3711, 'ipad 2quot': 2565, '2quot mention': 62, 'showed': 4693, 'bar': 606, 'table': 5296, 'wanted': 5829, 'just showed': 2878, 'showed mention': 4696, 'mention charge': 3421, 'charge bar': 931, 'bar charge': 607, 'charge iphone': 932, 'iphone table': 2761, 'table wanted': 5297, 'wanted buy': 5830, 'buy sxsw': 840, 'iphone ipad': 2747, 'ipad mac': 2628, 'god': 1946, 'kawasaki': 2898, 'quoti believe': 4303, 'believe god': 648, 'god explanation': 1947, 'guy kawasaki': 2170, 'enchantment sxsw': 1540, 'local': 3154, 'results': 4425, 'results sxsw': 4426, 'allow': 216, 'communication': 1064, 'respect': 4420, 'lives': 3146, 'lives sxsw': 3147, 'reading': 4361, 'flight': 1750, 'boom': 740, 'mention im': 3475, 'flight sxsw': 1751, '64gb': 102, '3g': 74, 'ipad 3g': 2567, 'looking': 3190, 'dj': 1390, 'tonight': 5535, 'ipad dj': 2592, 'party tonight': 3971, 'great day': 2121, 'mention googles': 3457, 'mayer locationbased': 3358, 'locationbased fast': 3159, 'fast fun': 1685, 'fun future': 1859, 'future link': 1872, 'love mention': 3222, 'focuses': 1764, 'purpose': 4233, 'survive': 5027, 'succeed': 4987, 'useful': 5704, 'nike': 3795, 'brand focuses': 767, 'focuses purpose': 1765, 'purpose object': 4234, 'object survive': 3818, 'survive amp': 5028, 'amp succeed': 254, 'succeed google': 4988, 'google search': 2047, 'search useful': 4591, 'useful info': 5706, 'info nike': 2484, 'nike sneakers': 3796, 'sneakers performance': 4754, 'performance sxsw': 4012, 'red': 4391, 'thought': 5461, 'apple really': 406, 'thought sxsw': 5462, 'constant': 1115, 'giant': 1931, 'constant ipad': 1116, 'ipad iphone': 2615, 'making sxsw': 3292, 'technews': 5368, 'saves': 4533, 'tech_news': 5365, 'apple saves': 408, 'saves sxsw': 4534, 'sxsw set': 5205, 'link tech_news': 3125, 'tech_news apple': 5366, 'sxsw tech': 5228, 'turn': 5616, 'messaging': 3584, 'holler': 2336, 'gram': 2113, 'holler gram': 2337, 'app built': 313, 'convention': 1134, 'fam': 1656, 'showing': 4697, 'great rt': 2130, 'ill austin': 2417, 'austin convention': 516, 'convention center': 1135, 'center today': 917, 'today mention': 5517, 'mention fam': 3442, 'fam showing': 1657, 'showing new': 4700, 'iphone game': 2741, 'game sxsw': 1888, 'spins': 4834, 'dj sxsw': 1391, 'spins ipad': 4835, 'probably': 4185, 'probably know': 4187, 'know apple': 2940, 'essential': 1571, 'socialmedia': 4766, 'link socialmedia': 3120, 'circlesquot': 991, 'idea': 2406, 'plan': 4068, 'preparation': 4153, 'known': 2947, 'rock': 4461, 'new android': 3738, 'android apps': 267, 'mention apps': 3407, 'rumored': 4494, 'wknd': 5954, 'beautiful': 635, 'deal': 1258, 'beautiful day': 636, 'day austin': 1240, 'sxswi sxsw': 5280, 'handy': 2211, 'android sxsw': 288, 'tradeshow': 5574, 'sxsw tradeshow': 5239, 'android party': 281, 'bounced': 755, 'catch': 902, 'admired': 171, 'intelligent': 2527, 'classy': 1005, 'successful': 4992, 'bounced catch': 756, 'catch googles': 903, 'mayer speak': 3360, 'speak admired': 4816, 'admired intelligent': 172, 'intelligent classy': 2528, 'classy successful': 1006, 'megastore': 3389, 'conferencesevents': 1092, 'temporary megastore': 5391, 'megastore sxsw': 3390, 'sxsw model': 5161, 'model future': 3645, 'future conferencesevents': 1870, 'conferencesevents link': 1093, 'fridaythe': 1836, 'busy': 825, 'ipad goes': 2604, 'goes sale': 1954, 'sale fridaythe': 4512, 'fridaythe austin': 1837, 'store going': 4912, 'going busy': 1959, 'busy sxsw': 826, 'gt': 2155, 'agileagency': 188, 'gt rt': 2157, 'people work': 4007, 'work people': 5989, 'people people': 4000, 'people doing': 3994, 'doing work': 1415, 'work agileagency': 5986, 'agileagency sxsw': 189, 'missing': 3622, 'dance': 1228, 'dance party': 1229, 'setting': 4652, 'bajillions': 593, 'ipad2s': 2696, 'apple setting': 413, 'setting popup': 4654, 'austin sell': 531, 'sell bajillions': 4611, 'bajillions ipad2s': 594, 'ipad2s sxsw': 2697, 'link brilliant': 3089, 'badge': 587, 'sxsw party': 5172, 'party dont': 3957, 'interactive': 2532, 'mention fun': 3448, 'interactive maps': 2533, 'windows': 5922, 'scarborough': 4558, 'corner': 1161, 'born': 750, 'scarborough building': 4559, 'corner 6th': 1162, 'amazing': 220, 'vector': 5753, 'based': 617, 'version google': 5761, 'mobile pretty': 3636, 'pretty amazing': 4168, 'amazing vector': 223, 'vector based': 5754, 'based amp': 618, 'amp fast': 243, 'fast sxsw': 1688, 'dayquot': 1251, 'quotgoogle maps': 4295, 'maps route': 3314, 'saving user': 4540, 'user years': 5712, 'years dayquot': 6046, 'dayquot marissa': 1252, 'ipad line': 2624, 'store people': 4929, 'people really': 4003, 'really want': 4378, 'want sxsw': 5827, 'quite': 4268, 'scene': 4564, 'apple opened': 396, 'opened popup': 3877, 'sxsw release': 5197, 'release ipad': 4400, 'ipad amp': 2568, 'quite scene': 4269, 'scene geek': 4565, 'geek power': 1898, 'power link': 4143, 'computing': 1082, 'pass': 3977, 'wssxsw': 6028, 'cnnmoney sxsw': 1034, '2011 computing': 42, 'computing device': 1083, 'device bigger': 1346, 'bigger ipad': 690, 'ipad pass': 2639, 'pass mobile': 3978, 'mobile space': 3637, 'space buzz': 4810, 'buzz link': 852, 'link wssxsw': 3129, 'sweet': 5037, 'nerd': 3719, 'joke': 2831, 'google launched': 2023, 'groupme': 2144, 'canada': 873, 'users sxsw': 5722, 'unexpected': 5664, 'order': 3893, 'released': 4401, 'make sxsw': 3281, 'order ipad': 3894, 'ampipad': 257, 'oh god': 3845, 'god rt': 1948, 'mention rumor': 3529, 'sxsw ampipad': 5053, 'ampipad launch': 258, 'connected': 1111, 'hello': 2274, 'downtown apple': 1461, 'cloud': 1021, 'adoption': 175, 'ui': 5653, 'influence': 2480, 'enterprise': 1558, 'wooooo': 5976, 'did': 1351, 'discovr': 1376, 'features': 1703, 'wooooo did': 5977, 'did mention': 1352, 'just released': 2876, 'released discovr': 4402, 'discovr iphone': 1378, 'iphone just': 2748, 'new features': 3744, 'features link': 1704, 'ipad2 cool': 2684, 'ups': 5688, 'solo': 4778, 'killers': 2923, 'new old': 3755, 'today apple': 5513, 'searches': 4592, 'star': 4856, 'wars sxsw': 5834, 'started': 4862, 'sxflip': 5041, 'woot rt': 5980, 'platform flipboard': 4079, 'flipboard iphone': 1756, 'iphone team': 2762, 'team started': 5350, 'started working': 4864, 'sxflip sxsw': 5042, 'true rt': 5600, 'sxsw amp': 5052, 'amp ipad': 247, 'bands': 598, 'food': 1775, 'art': 473, 'ice': 2402, 'cream': 1188, 'nifty': 3791, 'mention come': 3424, 'come party': 1047, 'party google': 3960, 'google tonight': 2060, 'tonight sxsw': 5539, 'link bands': 3087, 'bands food': 599, 'food art': 1776, 'art ice': 474, 'ice cream': 2403, 'cream nifty': 1189, 'nifty interactive': 3792, 'plus': 4093, 'strong': 4964, 'days sxsw': 1255, 'letting': 3020, 'theirs': 5426, 'iphone new': 2754, 'mention 10': 3395, 'permanent': 4013, 'retail': 4427, 'stumbling': 4980, 'lost': 3204, 'stay': 4876, 'contact': 1120, 'group': 2142, 'application': 437, 'stumbling lost': 4981, 'lost sxsw': 3205, 'sxsw stay': 5215, 'stay contact': 4877, 'contact group': 1121, 'group mention': 2143, 'iphone application': 2722, 'application link': 438, 'shipments': 4670, 'daily': 1223, 'appleatxdt': 427, 'shipments daily': 4671, 'mention popup': 3517, 'store popup': 4930, 'popup ipad2s': 4122, 'pure': 4231, 'unadulterated': 5658, 'browse': 798, 'events': 1580, 'website': 5865, 'god sxsw': 1949, 'ipad pure': 2643, 'pure unadulterated': 4232, 'unadulterated awesome': 5659, 'awesome easier': 570, 'easier browse': 1510, 'browse events': 799, 'events ipad': 1581, 'ipad website': 2670, 'festival': 1718, 'scared': 4560, 'netbook': 3723, 'sxsw festival': 5102, 'festival time': 1721, 'time omg': 5494, 'omg im': 3859, 'im scared': 2434, 'scared got': 4561, 'got netbook': 2099, 'life': 3023, 'suggest': 4996, 'flights': 1752, 'weather': 5854, 'smart phones': 4742, 'celebrate': 912, 'water': 5840, 'throwin': 5472, 'jump': 2849, 'studentsforcleanwaterorgrsvp': 4969, 'come celebrate': 1044, 'celebrate charity': 913, 'charity water': 940, 'water tonight': 5841, 'tonight google': 5536, 'google throwin': 2058, 'throwin party': 5473, 'party jump': 3963, 'jump start': 2851, 'start sxsw': 4861, 'sxsw week': 5254, 'week right': 5874, 'right studentsforcleanwaterorgrsvp': 4450, 'envy': 1566, 'toting': 5555, 'girl': 1933, 'ipad envy': 2597, 'lovin': 3230, 'stupid': 4982, 'favorite': 1693, 'mention favorite': 3443, 'coming mention': 1058, 'mention getting': 3451, 'apple sell': 410, 'sell ipads': 4615, 'views': 5775, 'friends sxsw': 1843, 'like im': 3040, 'spotted': 4842, 'mention spotted': 3538, 'spotted sxsw': 4843, 'sxsw man': 5152, 'man need': 3298, 'preview': 4170, 'google preview': 2040, 'circles sxsw': 989, 'realize': 4369, 'just gave': 2862, 'mention need': 3505, 'need win': 3716, 'mention look': 3495, 'temporary apple': 5388, 'ask': 484, 'tons': 5540, 'tons ipad2s': 5541, 'long sxsw': 3179, 'store line': 4922, 'nice rt': 3787, 'domain': 1423, '25': 53, 'minutes': 3617, 'point': 4101, 'mention love': 3500, 'technology dont': 5372, '2s come': 65, 'come 5pm': 1043, '5pm tomorrow': 101, 'mad': 3261, 'theme': 5427, 'optimistic': 3891, 'coffee': 1037, 'h2o': 2180, '106': 10, 'details': 1328, 'congress austin': 1105, 'details link': 1330, 'ipad said': 2650, 'insights': 2511, 'hisxsw': 2310, 'session mention': 4640, 'design good': 1309, 'good ui': 1984, 'ui insights': 5654, 'insights tapworthy': 2512, 'tapworthy hisxsw': 5331, 'hisxsw sxsw': 2311, 'gsdampm': 2149, 'map': 3299, 'gets': 1919, 'drinks': 1473, 'party gsdampm': 3961, 'gsdampm google': 2150, 'sxsw badge': 5063, 'badge gets': 588, 'gets free': 1921, 'free food': 1810, 'food drinks': 1778, 'drinks music': 1475, 'music big': 3689, 'big place': 686, 'place line': 4064, 'line great': 3068, 'great party': 2128, 'party come': 3956, 'sxsw pop': 5180, 'pop genius': 4109, 'genius bars': 1911, 'gswsxsw': 2154, 'got sxsw': 2100, 'important': 2451, 'ipad going': 2605, 'cameras': 872, 'ive got': 2802, 'hyatt': 2399, 'strangers': 4945, 'public': 4224, 'poursite': 4139, 'mention hours': 3472, 'public sxsw': 4225, 'sxsw poursite': 5185, 'auto': 542, 'links': 3131, 'iphone twitter': 2766, 'josh': 2835, 'games': 1890, 'quotwhat': 4335, 'build': 809, 'mention said': 3530, 'dm': 1394, 'mention thanks': 3555, 'price': 4173, 'plus iphone': 4095, 'special sxsw': 4825, 'umshini': 5657, 'fishing': 1742, 'especially': 1570, 'sunny': 5003, 'delivered': 1289, 'apple employees': 373, 'employees just': 1537, 'def': 1276, 'tweeting': 5633, 'presenting': 4163, 'fun amp': 1858, 'amp future': 245, 'planet': 4072, 'releases': 4403, 'arent': 467, 'cluttering': 1022, 'handset': 2210, 'mention lonely': 3494, 'lonely planet': 3172, 'planet releases': 4073, 'releases free': 4404, 'free austin': 1807, 'austin city': 515, 'city guide': 995, 'sxsw like': 5143, 'like arent': 3034, 'arent apps': 468, 'apps cluttering': 448, 'cluttering handset': 1023, 'replaced': 4413, 'great sxsw': 2134, 'quotif': 4305, 'mobs': 3641, 'hivethinkquot': 2317, 'quotif theres': 4306, 'theres thing': 5433, 'sxsw good': 5113, 'good flash': 1972, 'flash mobs': 1749, 'mobs hivethinkquot': 3642, 'hivethinkquot apple': 2318, 'wins mention': 5936, 'sxswquot': 5287, 'whats sxsw': 5897, 'youtube': 6079, 'account': 142, 'entire': 1560, 'ecosystem': 1518, 'bad': 584, 'form': 1790, 'compared': 1075, 'dang sxsw': 1231, 'appolicious': 439, 'yr': 6081, 'nexus': 3781, 'appolicious app': 440, 'app yr': 355, 'enter win': 1557, 'yesterday': 6061, 'moment': 3651, 'second': 4594, 'plane': 4069, 'purchased': 4229, 'enjoy': 1550, 'mention thats': 3556, 'geeking': 1905, 'waited': 5805, 'sxtxstate': 5290, 'oh apple': 3844, 'sxsw sxtxstate': 5224, 'link photo': 3115, 'wish': 5947, 'wish sxsw': 5952, 'winning': 5926, 'thats just': 5422, 'insanely': 2502, 'hold': 2330, 'mosaicxm': 3669, 'mention wow': 3577, 'wow thing': 6018, 'thing insanely': 5442, 'insanely amp': 2503, 'amp light': 248, 'light hold': 3029, 'hold ipad': 2331, 'ipad seriously': 2652, 'seriously sxsw': 4632, 'sxsw mosaicxm': 5162, 'mosaicxm link': 3670, 'googlesponsored': 2090, 'semantic': 4625, 'fogo': 1768, 'cho': 970, 'heading free': 2251, 'free googlesponsored': 1811, 'googlesponsored happy': 2091, 'happy hour': 2222, 'hour semantic': 2376, 'semantic web': 4626, 'web austin': 5857, 'austin mention': 524, 'mention fogo': 3445, 'fogo cho': 1769, 'cho sxsw': 971, 'running': 4501, 'sxsw wish': 5260, 'wish android': 5948, 'fresh': 1831, 'shout': 4689, 'fmsignal': 1761, 'sxsw cc': 5071, 'contest': 1125, 'actsofsharingcom': 156, 'plenty': 4091, 'join': 2826, 'spend': 4831, 'sxsw nice': 5168, 'clever': 1014, 'pop apple': 4107, 'store selling': 4932, 'selling ipad': 4620, '2s sxsw': 66, 'rank': 4345, 'technology mobile': 5374, 'insight': 2509, 'data': 1233, 'centers': 918, 'googles mention': 2086, 'dont think': 1435, 'ridiculously': 4447, 'atampt iphone': 490, 'rtmention love': 4487, 'shouldnt': 4688, 'think ipad': 5452, 'ipad laptop': 2620, 'laptop today': 2960, 'today sxswi': 5520, 'wave': 5844, 'mention route': 3527, 'users years': 5724, '2010': 40, 'survived': 5030, 'drop': 1489, 'drowning': 1492, 'roaming': 4458, 'sxsw panel': 5170, 'pics': 4050, 'terrible': 5401, 'cnngrill': 1031, 'rockin': 4465, 'cooler': 1152, 'mention cnngrill': 3423, 'cnngrill sxsw': 1032, 'quothow': 4301, 'raises': 4340, 'quotipad': 4309, 'half': 2196, 'shame': 4657, 'room raises': 4476, 'raises hand': 4341, 'fellow': 1717, 'film': 1728, 'heck': 2271, 'interrupt': 2547, 'regularly': 4395, 'scheduled': 4567, 'programming': 4199, 'mention interrupt': 3479, 'interrupt regularly': 2548, 'regularly scheduled': 4396, 'scheduled sxsw': 4569, 'sxsw geek': 5109, 'geek programming': 1899, 'programming big': 4200, 'big news': 685, 'news link': 3773, 'link google': 3096, 'hang': 2212, 'mention android': 3403, 'exclusive': 1601, 'aclu': 143, 'apparently': 358, 'spazmatics': 4812, 'franchised': 1800, 'band': 596, 'google aclu': 1989, 'aclu party': 144, 'sxsw best': 5065, 'thing apparently': 5441, 'apparently spazmatics': 359, 'spazmatics franchised': 4813, 'franchised band': 1801, 'band rock': 597, 'recap': 4382, 'bing': 694, 'great recap': 2129, 'sxsw session': 5204, 'session rt': 4641, 'google bing': 1996, 'mention brilliant': 3416, 'brilliant apple': 784, 'iphoneandroid': 2773, 'town': 5560, 'app use': 352, 'town sxsw': 5562, 'won ipad': 5967, 'sxsw thanks': 5230, 'thanks mention': 5418, 'hoot': 2351, 'blog': 719, 'yay rt': 6036, 'hootsuite mobile': 2354, 'sxsw updates': 5243, 'updates iphone': 5683, 'blackberry amp': 710, 'amp android': 236, 'speaking': 4819, 'speaking sxsw': 4820, 'sxsw demo': 5086, 'link amp': 3082, 'mention sxswi': 3545, 'iphone rt': 2756, 'woman': 5959, 'lobby': 3153, 'funny': 1868, 'stupid iphone': 4983, 'pot': 4136, 'mention hot': 3471, 'hot pot': 2367, 'pot google': 4137, 'google mobile': 2031, 'mobile maps': 3634, 'maps interesting': 3311, 'interesting new': 2537, 'new app': 3739, 'market': 3333, 'apple app': 366, 'store android': 4899, 'android market': 278, 'getting ready': 1930, 'ready rock': 4363, 'rock sxsw': 4463, 'works': 5995, 'im going': 2427, 'sxsw lets': 5142, 'hands contest': 2208, 'purchase': 4227, '2not': 59, 'wish purchase': 5951, 'purchase ipad': 4228, 'ipad 2not': 2564, '2not worry': 60, 'worry link': 6007, 'link played': 3116, 'played apple': 4083, 'apple played': 400, 'grape': 2116, 'wine': 5923, 'daily grape': 1224, 'read': 4356, 'attention': 501, 'usguys': 5729, 'usguys sxsw': 5730, 'popupstore': 4126, 'addicts': 169, 'sxsw popupstore': 5184, 'presence': 4154, 'changes': 927, 'internet': 2545, 'implode': 2449, 'friday': 1834, 'stops': 4894, 'normal': 3801, 'activity': 154, 'wait internet': 5799, 'internet implode': 2546, 'implode austin': 2450, 'austin friday': 519, 'friday stops': 1835, 'stops normal': 4895, 'normal activity': 3802, 'activity order': 155, 'final': 1733, 'promotion': 4208, 'starting': 4865, 'weve got': 5888, 'linking': 3130, 'closely': 1020, 'peeps': 3990, 'network circles': 3729, 'netflix': 3725, 'netflix iphone': 3726, 'agree sxsw': 193, 'horrible': 2360, 'memories': 3393, 'airline': 203, 'mentioned': 3582, 'delightful': 1287, 'drumroll': 1493, 'airline mentioned': 204, 'mentioned guy': 3583, 'kawasaki delightful': 2899, 'delightful like': 1288, 'apple drumroll': 371, 'drumroll mention': 1494, 'congrats sxsw': 1102, 'fundraising': 1866, 'kiosk': 2932, 'kidding': 2915, 'sxsw cool': 5082, 'cool apple': 1139, 'pop fundraising': 4108, 'fundraising kiosk': 1867, 'kiosk japan': 2933, 'japan sxsw': 2813, 'just kidding': 2868, 'kidding good': 2916, 'good idea': 1974, 'offered': 3828, 'promo': 4206, 'ninjafinder': 3797, 'offered sxsw': 3829, 'ipad promo': 2642, 'promo ninjafinder': 4207, 'ninjafinder users': 3798, 'users fans': 5715, 'fans sxsw': 1669, 'sxsw sucks': 5220, 'sucks sxsw': 4995, 'unpack': 5668, 'long lines': 3178, 'dude': 1497, 'actually': 159, 'actually buy': 160, 'ipad tomorrow': 2665, 'tomorrow apple': 5530, 'apple temporary': 422, 'crashes': 1179, 'app awesome': 309, 'crashes time': 1180, 'rule': 4489, 'ooing': 3866, 'ahing': 199, 'everybody': 1585, 'new sxsw': 3761, 'sxsw rule': 5200, 'rule ooing': 4490, 'ooing ahing': 3867, 'ahing new': 200, 'ipad big': 2578, 'big deal': 684, 'deal everybody': 1259, 'ipad release': 2646, 'day good': 1245, 'amazing sxsw': 222, 'tool': 5544, 'measuring': 3372, 'displaying': 1384, 'new google': 3747, 'google tool': 2061, 'tool measuring': 5545, 'measuring displaying': 3373, 'displaying place': 1385, 'place makes': 4065, 'makes im': 3286, 'im happy': 2428, 'happy thank': 2224, 'thank bavcid': 5413, 'synced': 5293, 'just synced': 2882, 'synced ipad2': 5294, 'apple joy': 388, 'joy sxsw': 2841, 'shop austin': 4677, 'logos': 3165, 'googledoodle': 2073, 'googledoodle sxsw': 2074, 'gsdm google': 2152, 'just launched': 2869, 'think link': 5453, 'tag': 5304, 'added': 167, 'clean': 1008, 'instead sxsw': 2521, 'march': 3322, '915': 124, 'hard': 2227, 'beat': 633, 'mention going': 3454, 'iphone guide': 2742, 'guide austin': 2164, 'mention free': 3447, 'free march': 1818, 'march 915': 3325, '915 hard': 125, 'hard beat': 2228, 'beat free': 634, 'free lp': 1817, 'salon': 4515, 'quickly': 4266, 'design panel': 1314, 'hilton salon': 2303, 'sxsw fun': 5107, 'circles real': 988, 'helping': 2279, 'organize': 3900, 'newscontent': 3777, 'owners': 3919, 'helping clean': 2280, 'clean organize': 1010, 'organize newscontent': 3901, 'newscontent mention': 3778, 'mention does': 3436, 'does great': 1401, 'great job': 2125, 'job ipad': 2819, 'ipad owners': 2638, 'owners sxsw': 3920, 'simplicity': 4716, 'jr': 2842, 'mayer think': 3363, 'think simplicity': 5454, 'simplicity lot': 4717, 'lot google': 3209, 'google developing': 2005, 'developing products': 1340, 'sxsw jr': 5136, 'beta': 669, 'uber': 5648, 'enjoying sxsw': 1554, 'heat': 2266, 'tracker': 5566, 'heatmap': 2269, 'overlay': 3915, 'heat tracker': 2268, 'tracker cool': 5567, 'cool heatmap': 1142, 'heatmap iphone': 2270, 'app overlay': 340, 'overlay foursquare': 3916, 'foursquare sxsw': 1798, 'claims': 996, 'load': 3150, 'touch': 5556, 'facebook': 1642, 'broadfeed': 796, 'ipad download': 2594, 'caring': 885, 'mention think': 3559, 'think google': 5451, 'google lost': 2028, 'lost way': 3206, 'way caring': 5847, 'caring business': 886, 'business instead': 823, 'instead users': 2522, 'users tim': 5723, 'oreilly sxsw': 3896, 'sxsw pnid': 5179, 'apple popupstore': 403, '4sq3': 91, 'push': 4235, 'keepaustinweird': 2901, 'new 4sq3': 3737, '4sq3 looks': 92, 'like going': 3037, 'going rock': 1961, 'rock update': 4464, 'android push': 285, 'push tonight': 4236, 'sxsw keepaustinweird': 5138, 'makes feel': 3284, 'feel better': 1710, 'mktg': 3625, 'awareness': 563, 'pr': 4148, 'strategy': 4946, 'drive': 1476, 'roll': 4470, 'tractor': 5569, 'trailer': 5582, 'inventory': 2554, 'justsaying': 2891, 'mention roll': 3526, 'roll tractor': 4471, 'tractor trailer': 5570, 'trailer ipads': 5583, 'sxsw bet': 5066, 'bet sell': 667, 'sell entire': 4612, 'entire inventory': 1561, 'inventory justsaying': 2555, 'guitar': 2166, 'record': 4388, 'vids': 5769, 'opening downtown': 3879, 'austin pop': 529, 'mention begins': 3411, 'san': 4521, 'charm': 941, 'apple google': 382, 'android app': 265, 'app amp': 307, 'mean': 3366, 'line block': 3066, 'apple stores': 417, 'gps': 2109, 'navigation': 3704, 'alternate': 218, 'routes': 4480, 'saving users': 4541, 'alternate routes': 219, 'traffic sxsw': 5581, 'stopped': 4893, '15': 24, 'minute': 3616, 'mccannsxsw': 3365, 'aint': 201, 'truth': 5606, 'control': 1133, 'buttons': 831, 'mappers': 3300, 'entry': 1562, 'amazingly': 224, 'sxsw mappers': 5153, 'mappers entry': 3301, 'entry amazingly': 1563, 'amazingly easy': 225, 'easy details': 1513, 'drink': 1471, 'figure': 1727, 'priorities': 4176, 'food drink': 1777, 'thank god': 5414, '99': 128, 'sale sxsw': 4513, 'quotad': 4272, 'preferencesquot': 4150, 'thinks': 5457, 'seenocreepy': 4605, 'google quotad': 2041, 'quotad preferencesquot': 4273, 'google thinks': 2056, 'like seenocreepy': 3048, 'seenocreepy sxsw': 4606, 'nyt': 3816, 'native': 3702, 'apps ipad': 452, 'tempting': 5395, 'away apple': 565, 'white 3g': 5899, '3g ipad': 77, 'cover': 1175, '100': 4, 'didnt ipad': 1354, '3g 64gb': 75, 'macbook air': 3257, 'engines': 1549, 'information': 2490, 'savebrands': 4528, 'search engines': 4586, 'savebrands sxsw': 4529, 'wozniak': 6019, 'h4ckers': 2181, 'speakeasy': 4817, 'trying steve': 5609, 'steve wozniak': 4883, 'wozniak drink': 6020, 'drink free': 1472, 'free thanks': 1825, 'thanks google': 5417, 'google h4ckers': 2014, 'h4ckers sxsw': 2182, 'mention speakeasy': 3537, 'speakeasy link': 4818, 'bit': 700, 'obsolete': 3824, 'attendees ipad2': 498, 'asked': 485, 'paid': 3932, 'single': 4718, 'people apple': 3992, 'sets': 4650, 'apple sets': 412, '80sthemed': 118, 'costume': 1168, 'yep': 6052, 'rumor google': 4493, 'preview big': 4171, 'big social': 687, 'social strategy': 4764, 'strategy 80sthemed': 4947, '80sthemed costume': 119, 'costume party': 1169, 'party sxsw': 3970, 'sxsw yep': 5263, 'yep link': 6053, 'apple tv': 423, 'sxsw launch': 5141, 'close': 1019, '65': 108, 'doesnt look': 1407, 'xoom': 6029, 'like ipad': 3041, 'malady': 3293, 'elbow': 1525, 'button': 829, 'suns': 5004, 'design malady': 1313, 'malady ipad': 3294, 'ipad elbow': 2596, 'elbow hate': 1526, 'hate ipads': 2232, 'ipads button': 2707, 'button heat': 830, 'heat million': 2267, 'million suns': 3603, 'suns tapworthy': 5005, 'whoa': 5902, 'ouch': 3906, 'expect': 1611, 'sites': 4721, 'quotcirclesquot': 4286, 'heard google': 2260, 'google plans': 2039, 'arm': 469, 'ipad rt': 2649, 'laptop sxsw': 2959, 'im missing': 2433, 'tx': 5643, 'austin tx': 538, 'sxsw2011': 5266, 'ipad2 launch': 2686, 'searching': 4593, 'liking': 3059, 'appears': 360, 'app thanks': 348, 'rocking': 4466, 'notes': 3804, 'sync': 5292, 'notes sxsw': 3806, 'really amazing': 4372, 'amazing people': 221, 'people putting': 4002, 'putting apples': 4240, 'apples notes': 432, 'notes app': 3805, '20': 37, 'min': 3606, 'theyve': 5439, 'supply': 5008, '20 min': 39, 'min wait': 3607, 'wait ipad2': 5801, 'avenue': 553, 'debuting': 1269, 'waterproof': 5842, 'cigarettes': 981, 'im debuting': 2426, 'debuting new': 1270, 'amp droid': 241, 'droid app': 1487, 'year makes': 6041, 'makes phone': 3287, 'phone waterproof': 4027, 'waterproof amp': 5843, 'light cigarettes': 3028, 'report': 4415, 'ipad sold': 2654, 'buyers report': 842, 'report link': 4416, 'sxsw socialmedia': 5210, 'socialmedia tech': 4767, 'tech ipad2': 5361, 'ipad2 media': 2689, 'mention gt': 3461, 'starry': 4858, 'brain': 762, 'google using': 2066, 'starry night': 4859, 'art project': 476, 'project like': 4204, 'great talk': 2135, 'talk mention': 5322, 'sxsw didnt': 5089, 'turkey': 5614, 'random': 4343, 'fan': 1658, 'lunch': 3246, 'got turkey': 2101, 'turkey rt': 5615, 'mention random': 3524, 'random apple': 4344, 'apple fan': 374, 'fan just': 1659, 'bought lunch': 754, 'lunch line': 3247, 'ipad2 cc': 2681, 'walk': 5809, 'youd': 6066, 'walk conference': 5810, 'conference room': 1091, 'room doesnt': 4473, 'look like': 3186, 'apple ad': 364, 'ad youd': 165, 'youd think': 6068, 'think sxsw': 5455, 'bizzy': 706, 'app bizzy': 312, 'sxsw read': 5196, 'read link': 4358, 'quotbizzyquot': 4282, 'sxsw quotbizzyquot': 5190, 'quotbizzyquot link': 4283, 'doodle': 1437, 'invite': 2558, 'kids': 2917, 'doodles': 1439, 'exciting': 1600, 'concept': 1084, 'shows': 4701, 'late': 2961, 'leaves': 3011, 'mention bad': 3410, 'la': 2952, 'guards': 2160, 'security guards': 4600, 'guards austin': 2161, 'austin enjoy': 518, 'enjoy ipad': 1551, 'ipad time': 2664, 'sxsw sxsw': 5221, 'sxsw getting': 5111, 'ipad coming': 2584, 'stuff sxsw': 4979, 'function': 1864, 'googles route': 2089, 'traffic function': 5578, 'function saves': 1865, 'saves users': 4535, 'years day': 6045, 'good future': 1973, 'future marissa': 1873, 'damn': 1225, 'camera': 870, 'damn google': 1226, 'sleeves': 4734, 'really enjoying': 4375, 'enjoying changes': 1553, 'changes gowalla': 928, 'gowalla 30': 2106, '30 android': 68, 'android looking': 277, 'looking forward': 3192, 'forward seeing': 1794, 'seeing amp': 4602, 'amp foursquare': 244, 'foursquare sleeves': 1797, 'sleeves sxsw': 4735, 'sxsw huge': 5127, 'taken': 5307, 'applause': 362, 'taken sxsw': 5308, 'forget': 1785, 'newest': 3767, 'dont forget': 1429, 'magazines': 3268, 'diller says': 1365, 'confirmed': 1096, 'picture': 4053, 'mention confirmed': 3425, 'confirmed apple': 1097, 'store week': 4937, 'week popup': 5873, 'popup austin': 4120, 'picture link': 4056, 'factor': 1646, 'deviantart': 1342, 'tests': 5404, 'muro': 3684, 'drawing': 1468, 'mention deviantart': 3433, 'deviantart buys': 1343, 'buys ipad': 849, '2s austin': 64, 'austin tests': 536, 'tests muro': 5405, 'muro drawing': 3685, 'drawing super': 1469, 'fast deviantart': 1683, 'deviantart sxsw': 1344, 'swag': 5032, 'iphone charger': 2732, 'teaching': 5344, 'android meetup': 280, 'meetup sxsw': 3388, 'android fan': 271, 'uxdes': 5744, 'mention glad': 3453, 'ipad navigation': 2636, 'carry': 887, 'lame': 2955, 'tweets': 5637, 'surely': 5017, 'southby': 4805, 'better sxsw': 677, 'sxsw stream': 5219, 'know im': 2942, 'im late': 2430, 'ps': 4217, 'throw': 5470, 'btchin': 807, 'ps mention': 4218, 'google throw': 2057, 'throw btchin': 5471, 'btchin party': 808, 'party shout': 3969, 'shout spazmatics': 4690, 'spazmatics sxsw': 4814, 'wondering': 5972, 'drooling': 1488, 'guys': 2173, 'festival link': 1720, 'mindjet': 3609, 'shoot': 4675, 'note': 3803, 'iphone developer': 2736, 'nice sxsw': 3788, 'day google': 1246, 'ridiculous': 4443, 'sightings': 4705, 'saw picture': 4545, 'picture ipad': 4055, 'time looks': 5492, 'looks ridiculous': 3196, 'ridiculous youd': 4446, 'youd expect': 6067, 'expect sxsw': 1612, 'sxsw sightings': 5206, 'iphone4': 2772, 'sxswi link': 5278, 'lovely': 3229, 'center mention': 916, 'loose': 3198, 'spot': 4840, 'pagemaker': 3930, 'saved': 4530, 'bc': 631, 'apple pagemaker': 399, 'saved apple': 4531, 'apple survival': 419, 'luck': 3238, 'download sxsw': 1457, 'playsxsw': 4090, 'check latest': 950, 'latest stream': 2966, 'stream apples': 4950, 'apples store': 434, 'fh': 1722, 'sxsw fh': 5103, 'deadly': 1257, 'death': 1265, 'google doodle': 2008, 'doodle team': 1438, 'use google': 5697, 'women': 5960, 'mention life': 3489, 'life im': 3025, 'im coming': 2425, 'coming ipad': 1057, 'ipad women': 2672, 'women hands': 5961, 'hands thing': 2209, 'surprise apple': 5020, 'austin nerds': 525, 'nerds town': 3722, 'ipads link': 2708, 'just added': 2854, 'track': 5564, 'mention looking': 3496, 'twitter app': 5640, 'hmmm': 2324, 'yeah rt': 6038, 'mention details': 3431, 'details ipad': 1329, 'giveaway coming': 1935, 'coming tonight': 1061, 'tonight rt': 5538, 'rt sxsw': 4484, 'filming ipad': 1732, 'ipad cooler': 2586, 'cooler lame': 1153, 'lame iphone': 2956, 'lt3': 3237, 'previews': 4172, 'interface': 2539, 'month': 3659, 'friendly': 1839, 'storesexcept': 4942, 'igottagetit': 2414, 'sold retail': 4776, 'retail storesexcept': 4429, 'storesexcept sxsw': 4943, 'austin igottagetit': 521, 'tshirt': 5612, 'makes want': 3288, 'iphone use': 2767, 'mention dont': 3439, 'quotits': 4311, 'affirmative': 183, 'literally': 3138, 'mention quotits': 3522, 'quotits affirmative': 4312, 'affirmative action': 184, 'action having': 148, 'having women': 2240, 'women product': 5962, 'product team': 4194, 'team google': 5347, 'google literally': 2027, 'literally product': 3139, 'product betterquot': 4193, 'betterquot mention': 679, 'zomg': 6098, 'look zomg': 3189, 'zomg mention': 6099, 'weeks': 5881, 'prefer': 4149, 'communications': 1065, 'salon sxsw': 4516, 'person': 4014, 'pc': 3984, 'isnt': 2788, 'monopoly': 3658, 'weird': 5882, 'liked': 3055, 'footage': 1781, 'discuss': 1380, 'including': 2471, 'watch': 5836, 'listening googles': 3137, 'mayer discuss': 3355, 'discuss new': 1381, 'new products': 3758, 'products including': 4197, 'including google': 2473, 'hotpot watch': 2373, 'watch yelp': 5838, 'yelp sxsw': 6051, 'detailed': 1327, 'calendar': 858, 'tough': 5559, 'google calendar': 2000, 'snap': 4752, 'hosted': 2362, 'hosted google': 2363, 'iphone dont': 2737, 'actionquot': 150, 'smart quotapple': 4744, 'quotapple set': 4277, 'sxsw actionquot': 5050, 'actionquot link': 151, 'ton': 5533, 'ton ipad2': 5534, 'uses windows': 5728, 'hair': 2192, 'stickers': 4884, 'allhat3': 215, 'sxsw look': 5146, 'look blue': 3184, 'blue hair': 728, 'hair ive': 2193, 'free android': 1805, 'phone info': 4025, 'info stickers': 2487, 'stickers mention': 4885, 'mention allhat3': 3401, 'googlecircles': 2072, 'addition': 170, 'history': 2309, 'ipad quite': 2645, 'sxsw yay': 5261, 'link austin': 3086, 'solutionquot': 4781, 'great community': 2120, 'human solutionquot': 2393, 'solutionquot sxsw': 4782, 'set popup': 4648, 'ipad2 release': 2692, 'ironic': 2786, 'directions': 1367, 'ended': 1543, 'walked': 5811, 'wrong': 6025, 'bed': 639, 'mention ironic': 3483, 'launch downtown': 2973, 'environment': 1565, 'integration': 2525, 'recommendations': 4384, 'personalized recommendations': 4019, 'valuable': 5747, 'valuable device': 5748, 'device sxsw': 1347, 'far apple': 1672, 'apple ipod': 387, 'ipod iphone': 2779, 'glued': 1945, 'iphoneipad': 2774, 'included': 2468, 'sxsw day': 5085, 'autocorrect': 543, 'ogilvy': 3839, 'autocorrects': 546, 'idiocy': 2411, 'ogilvynotes': 3841, 'apple autocorrect': 367, 'autocorrect weird': 545, 'weird ogilvy': 5883, 'ogilvy autocorrects': 3840, 'autocorrects idiocy': 547, 'idiocy ogilvynotes': 2412, 'ogilvynotes sxsw': 3842, 'extra': 1636, 'mention quotapple': 3520, 'sxsw 10': 5045, '10 attendees': 1, 'attendees mac': 499, 'mac ipad': 3255, 'solving': 4785, 'reward': 4439, 'sxsw need': 5165, 'android dev': 270, 'quit': 4267, 'hls': 2319, 'dynamic': 1498, 'insertion': 2504, 'mention excited': 3441, 'excited hls': 1597, 'hls dynamic': 2320, 'dynamic video': 1499, 'video ad': 5764, 'ad insertion': 164, 'insertion tv': 2505, 'tv working': 5627, 'working ipad2': 5993, 'ipad2 later': 2685, 'later today': 2964, 'bored': 748, 'bored keynote': 749, 'keynote sxsw': 2907, 'apple stuff': 418, 'mention news': 3507, 'temporary ipad': 5390, 'ipad store': 2657, 'devs': 1350, 'learn': 3005, 'dev meetup': 1332, 'rumours': 4497, 'unveiling': 5673, 'strong rumours': 4965, 'rumours abt': 4498, 'abt google': 135, 'google unveiling': 2065, 'unveiling new': 5674, 'does look': 1403, 'look interesting': 3185, 'interesting link': 2536, '64mb': 106, 'bought ipad': 752, '3g 64mb': 76, '64mb apple': 107, 'genius apple': 1910, 'open temp': 3871, 'mention ipad2': 3481, 'perfect': 4008, 'wait anymore': 5797, 'anymore quotgoogle': 303, 'quotgoogle launch': 4293, 'called circlesquot': 866, 'circlesquot mention': 992, 'kill': 2919, 'list': 3133, 'sxxpress': 5291, 'passes': 3979, 'striking': 4962, 'iron': 2784, 'man google': 3297, 'sxsw talk': 5225, 'talk striking': 5323, 'striking iron': 4963, 'iron hot': 2785, 'hot mention': 2365, 'releasing': 4405, 'thanks apple': 5416, 'apple releasing': 407, 'releasing ios': 4406, '43 just': 86, 'despite': 1325, 'store despite': 4909, 'despite having': 1326, 'having austin': 2237, 'austin texas': 537, 'texas locations': 5407, 'locations link': 3162, 'happened': 2217, 'magic': 3271, 'magic iphone': 3272, 'featured': 1700, 'congrats iphone': 1099, 'app featured': 319, 'featured sxsw': 1702, 'headachesquot': 2246, 'quotipad design': 4310, 'design headachesquot': 1311, 'block week': 717, 'week long': 5872, 'sxsw amazing': 5051, 'folks sxsw': 1771, 'launch today': 2982, 'elegant': 1527, 'fascist': 1677, 'corporation': 1164, 'todayquot': 5521, 'kara': 2892, 'swisher': 5038, 'quotapple elegant': 4276, 'elegant fascist': 1528, 'fascist corporation': 1679, 'corporation america': 1165, 'america todayquot': 228, 'todayquot kara': 5522, 'kara swisher': 2893, 'swisher sxsw': 5039, 'sxsw flipboard': 5105, 'access': 136, 'dont miss': 1433, 'google booth': 1997, 'best ipad': 658, 'ipad cases': 2582, 'banking': 602, 'innovators': 2499, 'innovation banking': 2497, 'banking coming': 603, 'coming mobile': 1059, 'mobile innovators': 3632, 'innovators apple': 2500, 'google verizon': 2067, 'verizon sxsw': 5757, 'sxsw bankinnovation': 5064, '11': 12, 'march 11': 3323, 'matching': 3345, 'planesairports': 4070, 'downloaded': 1458, 'added sxsw': 168, 'sxsw flights': 5104, 'matching people': 3346, 'people planesairports': 4001, 'planesairports downloaded': 4071, 'app nicely': 339, 'turnbyturn': 5618, 'reacquainted': 4354, 'mq': 3676, 'new mapquest': 3752, 'mapquest iphone': 3304, 'app turnbyturn': 350, 'turnbyturn gps': 5619, 'gps free': 2110, 'free time': 1826, 'time check': 5486, 'check reacquainted': 953, 'reacquainted mq': 4355, 'mq sxsw': 3677, 'imagine': 2442, 'company': 1069, 'imagine company': 2443, 'company 20': 1070, '20 concept': 38, 'concept like': 1085, 'like google': 3038, 'google bavcid': 1995, 'omitting': 3860, 'h264': 2178, 'break': 771, 'browserwars': 802, 'mention omitting': 3512, 'omitting flash': 3861, 'flash apple': 1748, 'apple effective': 372, 'effective h264': 1522, 'h264 maybe': 2179, 'maybe need': 3352, 'need break': 3710, 'break old': 772, 'old things': 3854, 'things browserwars': 5447, 'iphone im': 2746, '930': 126, 'panels': 3937, 'skip': 4725, 'barely': 608, 'upload': 5687, 'river': 4456, 'flow': 1760, 'ways': 5851, 'installing': 2514, 'vip': 5777, 'pedicab': 3987, 'installing mention': 2515, 'thinks im': 5458, 'focusing': 1766, 'bridging': 778, 'digitalphysical': 1360, 'divide': 1388, 'streetview': 4959, 'autonomous': 548, 'google focusing': 2012, 'focusing bridging': 1767, 'bridging digitalphysical': 779, 'digitalphysical divide': 1361, 'divide maps': 1389, 'maps streetview': 3317, 'streetview hotpot': 4960, 'hotpot amp': 2371, 'amp autonomous': 237, 'autonomous driving': 549, 'driving sxsw': 1485, 'classiest': 1003, 'company america': 1072, 'pictures': 4057, 'tried': 5589, 'mention web': 3570, 'tried new': 5591, 'ipad come': 2583, 'virtual': 5780, 'sharing': 4664, 'thoughts': 5463, 'mention want': 3569, 'win free': 5918, 'free ipad': 1812, 'sxsw details': 5087, 'doc': 1395, 'longer': 3182, 'google doc': 2006, 'mention cool': 3428, 'launch sxsw': 2981, 'trending': 5587, 'success apple': 4990, 'godquot mention': 1952, 'awesome iphone': 574, 'lounge sxsw': 3216, 'talk google': 5321, 'google doodles': 2009, 'free drinks': 1809, 'life sxsw': 3026, 'sessions': 4643, 'sessions sxsw': 4644, 'instead link': 2520, 'faster': 1689, 'love new': 3223, 'use sxsw': 5700, 'excellent': 1594, 'accessibility': 137, 'presentation mention': 4159, 'packed': 3923, 'socialviewing': 4768, 'mention uses': 3566, 'uses google': 5727, 'tv room': 5626, 'hand packed': 2200, 'packed room': 3924, 'room socialviewing': 4477, 'socialviewing session': 4769, 'session sxsw': 4642, 'just downloaded': 2859, 'bout': 757, 'living': 3148, 'mention living': 3493, 'growing': 2146, 'mention heard': 3466, 'improve': 2456, '35': 70, 'miles': 3597, 'driven': 1478, 'mention game': 3449, '35 million': 71, 'million miles': 3601, 'miles day': 3598, 'day driven': 1243, 'driven google': 1479, 'maps navigation': 3313, 'lying': 3251, 'signal': 4707, 'strength': 4961, 'mention know': 3487, 'know sxsw': 2946, 'iphone started': 2759, 'started lying': 4863, 'lying signal': 3252, 'signal strength': 4709, 'game android': 1882, 'ipadquot': 2703, 'millions': 3604, 'docs': 1397, 'incenticize': 2463, 'teams': 5354, 'evolvingworkplace': 1586, 'millions dollars': 3605, 'dollars saved': 1422, 'saved company': 4532, 'company adoption': 1071, 'adoption google': 176, 'google docs': 2007, 'docs incenticize': 1398, 'incenticize teams': 2464, 'teams evolvingworkplace': 5355, 'evolvingworkplace sxsw': 1587, 'lax': 2995, 'wife': 5906, 'freespeech': 1829, 'saw lax': 4543, 'lax im': 2996, 'im heading': 2429, 'sxsw wife': 5256, 'wife iphone': 5907, 'download app': 1451, 'app freespeech': 322, 'freespeech mention': 1830, 'line ipad2': 3070, 'americaquot': 230, 'apple quotthe': 405, 'quotthe classiest': 4327, 'classiest fascist': 1004, 'fascist company': 1678, 'company americaquot': 1073, 'americaquot says': 232, 'spoke': 4836, 'just spoke': 2879, 'different': 1356, 'providing': 4216, 'deals': 1261, 'service sxsw': 4635, 'testing': 5403, 'thats google': 5421, 'end': 1541, 'join actsofsharingcom': 2827, 'actsofsharingcom tonight': 157, 'tonight person': 5537, 'person friends': 4015, 'friends city': 1841, 'city end': 994, 'end sxsw': 1542, 'sxsw wins': 5258, 'wins ipad': 5935, 'road': 4457, 'lonelyplanet austin': 3174, 'google social': 2049, 'sxsw things': 5231, 'open temporary': 3872, 'navigation sxsw': 3706, '10 iphone': 3, 'apps youll': 463, 'youll probably': 6072, 'probably need': 4188, 'need use': 3715, 'decided': 1272, 'mention decided': 3430, 'decided need': 1274, 'ipad usguys': 2667, 'trend': 5585, 'opinions': 3889, 'holding': 2332, 'listen': 3134, 'fan new': 1660, 'sxsw trend': 5240, 'trend audience': 5586, 'audience sharing': 505, 'sharing opinions': 4665, 'opinions holding': 3890, 'holding ipad': 2333, 'ipad listen': 2626, 'listen annoying': 3135, 'background': 582, 'andor': 262, 'ipad andor': 2569, 'andor tablet': 263, 'tablet sxsw': 5301, 'field': 1723, 'trip': 5594, 'museums': 3686, 'edtech': 1519, 'googles art': 2083, 'project great': 4203, 'great virtual': 2137, 'virtual field': 5781, 'field trip': 1724, 'trip kids': 5595, 'kids museums': 2918, 'museums world': 3687, 'world edtech': 5999, 'edtech sxsw': 1520, '52': 97, 'mobile 52': 3628, 'guys like': 2174, 'extraordinary h4ckers': 1638, 'google link': 2026, 'winning shit': 5928, 'shit thanks': 4674, 'mention killer': 3486, 'killer ipad': 2921, 'case sxsw': 893, 'opening temp': 3883, 'sxswers': 5273, 'freak': 1802, 'bloody': 725, 'googledoodles': 2075, 'sxsw googledoodles': 5115, 'mypov': 3697, 'winner': 5924, 'chevy': 962, 'cruze': 1206, 'investors': 2556, 'propping': 4210, 'frothy': 1846, 'mypov winner': 3698, 'winner popup': 5925, 'store chevy': 4905, 'chevy cruze': 963, 'cruze losers': 1207, 'losers investors': 3202, 'investors propping': 2557, 'propping frothy': 4211, 'frothy startups': 1847, 'startups enterprise': 4872, 'enterprise strategy': 1559, 'strategy sxsw': 4948, 'checkin': 957, 'rewards': 4440, 'sxsw mobile': 5160, 'networking': 3732, 'etsy': 1574, 'kinda': 2928, 'google amp': 1990, 'mt': 3680, 'gone': 1966, 'creative': 1194, 'director': 1368, 'mt mention': 3681, 'write': 6022, 'type': 5644, 'app lets': 331, 'plugin': 4092, 'badgeless': 589, 'badgeless event': 590, 'event free': 1579, 'drinks mention': 1474, 'like iphone': 3042, 'principles': 4174, 'clear': 1011, 'design principles': 1316, 'debating': 1266, 'sadly': 4507, 'day lp': 1248, 'app free': 321, 'free link': 1816, 'sxsw pic': 5177, 'introduces': 2553, 'fair': 1654, 'finally buy': 1735, 'buy facebook': 835, 'facebook google': 1643, 'google introduces': 2019, 'fair stop': 1655, 'stop innovation': 4890, 'innovation people': 2498, 'happen': 2215, 'nokia': 3799, 'pushsnowboarding': 4237, 'technology happen': 5373, 'happen iphone': 2216, 'iphone nokia': 2755, 'nokia pushsnowboarding': 3800, 'pushsnowboarding sxsw': 4238, 'admits': 173, 'party like': 3965, 'scan': 4556, 'car': 879, 'sighting': 4703, 'maps street': 3316, 'view car': 5773, 'car sighting': 880, 'sighting sxsw': 4704, 'timing': 5503, 'wait line': 5802, 'sxsw cont': 5081, 'heart': 2264, 'featuring': 1705, 'gotta love': 2104, 'calendar featuring': 859, 'featuring parties': 1706, 'parties cases': 3949, 'cases check': 896, 'check rt': 954, 'til': 5479, 'midnight': 3593, 'austin open': 526, 'open til': 3873, 'til midnight': 5480, 'midnight sxsw': 3594, 'freaking': 1803, 'question': 4257, 'trucks': 5597, 'love apple': 3219, 'question atampt': 4258, 'atampt bring': 489, 'bring trucks': 791, 'trucks signal': 5598, 'signal say': 4708, 'say yes': 4549, 'theatre': 5424, 'ok': 3847, 'presenters': 4161, 'just left': 2871, 'left sxsw': 3015, 'tradeshow demo': 5575, 'demo mention': 1296, 'google theatre': 2055, 'theatre ok': 5425, 'ok presenters': 3848, 'presenters using': 4162, 'insane': 2501, 'party apple': 3952, 'store insane': 4914, 'vs': 5787, 'quick': 4264, 'mode': 3643, 'iphone vs': 2771, 'rumors': 4495, 'ipad booth': 2579, 'mechanics': 3374, 'game mechanics': 1886, 'boyfriend': 760, 'aw': 557, 'mention winning': 3573, 'winning mention': 5927, 'case boyfriend': 889, 'boyfriend aw': 761, 'aw sxsw': 558, 'ftw': 1850, 'throwing': 5474, 'perfect sxsw': 4009, 'hello holler': 2275, 'gram ipad': 2115, 'day exhibit': 1244, 'sxsw stop': 5217, 'stop emc': 4889, 'emc booth': 1533, 'booth enter': 744, 'announced sxsw': 297, 'sxsw interactive': 5131, 'intimate': 2550, 'mention social': 3536, 'social apps': 4758, 'apps iphone': 453, 'demand': 1290, 'ladies': 2954, 'showing iphone': 4699, 'upgrade': 5685, 'tweetdeck': 5631, 'unstable': 5671, 'nten': 3813, '11ntc': 13, 'ipad upgrade': 2666, 'upgrade newest': 5686, 'newest ios': 3768, 'ios tweetdeck': 2562, 'tweetdeck unstable': 5632, 'unstable nten': 5672, 'nten 11ntc': 3814, '11ntc sxsw': 14, 'hit': 2312, 'near': 3707, 'change': 922, 'fell': 1716, 'love google': 3221, 'mistakes': 3623, 'source': 4801, 'code': 1035, 'mistakes building': 3624, 'source code': 4802, 'douche': 1448, 'cake': 856, 'mention says': 3532, 'says douche': 4553, 'douche cake': 1449, 'cake like': 857, 'like walking': 3051, 'yup': 6084, 'yup rt': 6085, 'launch google': 2974, 'trumps': 5603, 'disappointed': 1371, 'emotional': 1534, 'barrydiller': 613, 'including emotional': 2472, 'emotional thing': 1535, 'thing ipad': 5443, 'ipad barrydiller': 2575, 'barrydiller sxsw': 614, 'places': 4066, 'foursquare gowalla': 1796, 'google places': 2038, 'demoing': 1301, 'integrated': 2523, 'ratingrecommendation': 4350, 'androidiphone': 289, 'talk demoing': 5320, 'demoing google': 1302, 'places hotpot': 4067, 'hotpot integrated': 2372, 'integrated ratingrecommendation': 2524, 'ratingrecommendation androidiphone': 4351, 'androidiphone cool': 290, '64gig': 104, 'wifi': 5908, 'store sold': 4934, 'sold 64gig': 4774, '64gig wifi': 105, 'wifi white': 5914, 'using ipad': 5734, 'maps im': 3310, 'earthquake': 1507, 'tsunami': 5613, 'way apple': 5846, 'movie': 3674, 'directors': 1369, 'fine': 1739, 'attracting': 502, 'showing ipad': 4698, 'woke': 5955, 'sandwiched': 4522, 'forgot': 1787, 'spring': 4846, 'mention woke': 3574, 'woke sandwiched': 5956, 'sandwiched iphone': 4523, 'ipad forgot': 2600, 'forgot sxsw': 1788, 'like geek': 3036, 'geek spring': 1900, 'spring break': 4847, 'law': 2993, 'beer': 640, 'privacy law': 4178, 'free beer': 1808, 'recreated': 4390, 'pacman': 3927, 'pack': 3922, 'mophie juice': 3665, 'juice pack': 2846, 'sxsw double': 5092, 'battery life': 624, 'woohoo': 5974, 'doityourself': 1416, 'scavenger': 4562, 'hunts': 2395, 'woohoo rt': 5975, 'game launches': 1885, 'launches doityourself': 2989, 'doityourself iphone': 1417, 'iphone scavenger': 2758, 'scavenger hunts': 4563, 'hunts link': 2396, 'im walking': 2437, 'walking apple': 5814, 'named': 3700, 'fight': 1725, 'happy discovr': 2221, 'discovr named': 1379, 'named musthave': 3701, 'musthave apps': 3695, 'just fight': 2860, 'fight way': 1726, 'way queue': 5849, 'queue sxsw': 4261, 'date': 1235, 'foursquare ups': 1799, 'ups game': 5689, 'game just': 1884, 'far best': 1673, 'best looking': 659, 'looking android': 3191, 'app date': 316, 'brings': 793, '50': 96, 'browsing': 804, 'cool iphone': 1143, 'launched sxsw': 2986, 'api': 304, 'okay': 3849, 'app11': 356, 'kthxbai': 2950, 'okay really': 3850, 'really yay': 4379, 'yay new': 6035, 'new foursquare': 3745, 'android app11': 266, 'app11 kthxbai': 357, 'kthxbai sxsw': 2951, 'fashion': 1680, 'badges': 591, 'sxsw fashion': 5099, 'googlebing': 2069, 'qa': 4242, 'ranking': 4346, 'googlebing qa': 2070, 'website ranking': 5866, 'love rt': 3225, 'groups': 2145, 'great idea': 2124, 'wgood': 5890, 'frostwire': 1844, 'wothers': 6010, 'youre room': 6077, 'room people': 4475, 'people wgood': 4006, 'wgood wifi': 5891, 'wifi sxsw': 5913, 'sxsw run': 5202, 'run frostwire': 4500, 'frostwire android': 1845, 'link share': 3119, 'share pics': 4661, 'pics apps': 4051, 'apps vids': 461, 'vids wothers': 5770, 'creating': 1193, 'wed': 5869, 'day apple': 1239, 'reid': 4397, 'realtime': 4380, 'embarrassed': 1530, 'party kinda': 3964, 'kinda embarrassed': 2930, 'embarrassed iphone': 1531, 'hooray': 2350, 'bt': 805, 'quothaving': 4299, 'googlequot': 2080, 'mention bt': 3417, 'bt sxsw': 806, 'sxsw quothaving': 5191, 'quothaving really': 4300, 'great social': 2132, 'social search': 4763, 'search probably': 4588, 'probably good': 4186, 'idea googlequot': 2408, 'googlequot mention': 2081, 'new product': 3757, 'sxsw gps': 5117, 'demo google': 1292, 'partyawesome': 3972, 'google partyawesome': 2035, 'partyawesome sxsw': 3973, 'sleep': 4731, 'sleep sxsw': 4732, 'send': 4627, 'store near': 4926, 'near sxsw': 3708, 'sxsw austin': 5062, 'concert': 1086, 'silly': 4713, 'ridiculous taking': 4445, 'taking photo': 5314, 'photo session': 4032, 'session ipad': 4639, 'wait concert': 5798, 'concert use': 1087, 'sxsw silly': 5207, 'holytrafficjams': 2343, 'traffic google': 5579, 'maps feature': 3309, 'feature saving': 1699, 'sxsw holytrafficjams': 5123, 'image': 2440, 'mention people': 3514, 'selling ipad2': 4621, 'mention tech': 3550, 'sxsw line': 5144, 'twitter sxsw': 5642, 'sxsw report': 5198, 'planning': 4075, 'official': 3834, 'solid': 4777, 'short': 4682, 'link opening': 3113, 'austin support': 534, 'support ipad2': 5011, 'retrollect': 4430, 'small': 4736, 'heres': 2283, 'mention theyre': 3558, 'setting temporary': 4655, 'store coming': 4907, 'smileyparty': 4751, 'reader': 4359, 'feed': 1707, 'bad just': 585, 'just want': 2889, 'want home': 5821, 'home read': 2345, 'read google': 4357, 'google reader': 2043, 'reader feed': 4360, 'feed geek': 1708, 'geek sxsw': 1901, 'recommends': 4387, 'sxsw meeting': 5156, 'brilliant idea': 785, 'psych': 4219, 'business vs': 824, 'vs users': 5789, 'mention psych': 3518, 'psych sxsw': 4220, 'feelings': 1712, 'partner': 3950, 'hard feelings': 2229, 'feelings google': 1713, 'google mention': 2030, 'great partner': 2127, 'self': 4609, 'white ipad': 5900, 'lot sxsw': 3211, 'exists': 1609, 'exist': 1606, 'force': 1783, 'showed force': 4695, 'force sxsw': 1784, 'crazy': 1187, 'portable': 4127, 'tron': 5596, 'circles new': 986, 'attendees course': 497, 'booyah': 746, 'booyah rt': 747, 'anybody': 301, 'poppop': 4112, 'sxsw poppop': 5181, 'tidbit': 5477, 'designed': 1321, 'actual': 158, 'display': 1383, 'panels ipad': 3938, 'gram app': 2114, 'ipad display': 2591, 'outlet': 3909, 'brilliance': 782, 'temporary austin': 5389, 'rt haha': 4482, 'link hollergram': 3098, 'storequot': 4939, 'layed': 2997, 'registers': 4393, 'checkout': 960, 'apple great': 383, 'great example': 2123, 'example retail': 1590, 'retail store': 4428, 'store layed': 4920, 'layed future': 2998, 'future registers': 1875, 'registers checkout': 4394, 'checkout line': 961, 'geo': 1914, 'flipboard sxsw': 1757, 'link entry': 3094, 'entry friends': 1564, 'friends house': 1842, 'house sxsw': 2382, 'good work': 1985, 'ipad2 come': 2682, 'come playsxsw': 1048, 'media google': 3376, 'browser': 800, 'best sxsw': 662, 'sxsw googles': 5116, 'heads': 2253, 'asks': 486, 'androidsxsw': 292, 'mention team': 3549, 'just walked': 2888, 'walked dl': 5812, 'dl appolicious': 1393, 'amp enter': 242, 'free nexus': 1819, 'nexus androidsxsw': 3782, 'androidsxsw sxsw': 293, 'potential': 4138, 'ass': 487, 'link like': 3107, 'fabulous': 1640, 'sxsw gt': 5120, 'demos': 1305, 'maps saves': 3315, 'tempted': 5394, 'fanboy': 1661, 'apple fanboy': 375, 'using mention': 5736, 'staring': 4857, 'fav': 1690, 'disagree': 1370, 'peter': 4020, 'cashmore': 898, 'minor': 3614, 'improvement': 2459, 'unless': 5665, 'burn': 818, 'mention peter': 3515, 'peter cashmore': 4021, 'cashmore ipad': 899, 'ipad minor': 2633, 'minor improvement': 3615, 'improvement worth': 2460, 'worth unless': 6009, 'burn sxsw': 819, 'won sxsw': 5969, 'homeless': 2347, 'homeless guy': 2348, 'ahead': 197, 'sxsw apps': 5057, 'sxsw gets': 5110, 'gets apple': 1920, 'zaggle': 6087, 'texting': 5410, 'zms': 6095, 'jonathan zaggle': 2834, 'zaggle showed': 6088, 'showed cool': 4694, 'cool free': 1140, 'free texting': 1824, 'texting app': 5411, 'iphone called': 2729, 'called zms': 867, 'zms mention': 6096, 'discovery': 1375, 'contextual discovery': 1127, 'companies': 1068, 'terms': 5400, 'wish austin': 5949, 'replacement': 4414, 'sxsw peeps': 5174, 'iphone hand': 2743, 'americaquot flipboard': 231, '2011 novelty': 45, 'check new': 952, 'bizzy using': 707, 'using check': 5732, 'mention wait': 3568, 'mention big': 3413, 'ustream': 5737, 'skyfire': 4727, 'safari': 4508, 'cool means': 1145, 'means watch': 3369, 'watch ustream': 5837, 'ustream skyfire': 5738, 'skyfire browser': 4728, 'browser iphone': 801, 'iphone safari': 2757, 'safari doesnt': 4509, 'work fun': 5988, 'bad news': 586, 'grooving': 2140, 'apps grooving': 451, 'grooving sxsw': 2141, '2011 mention': 44, 'killing': 2924, 'apps survive': 458, 'survive sxsw': 5029, 'interact': 2531, 'umm': 5655, 'umm mention': 5656, 'beautifully': 637, 'simple': 4714, 'beautifully smart': 638, 'smart simple': 4745, 'simple idea': 4715, 'idea rt': 2409, 'tee': 5376, 'behaving': 643, 'app behaving': 311, 'behaving today': 644, 'today crashes': 5514, 'crashes yesterday': 1181, 'yesterday ridiculous': 6062, 'ridiculous sxsw': 4444, '3rd': 80, 'store opening': 4927, 'sitting': 4722, 'mention ready': 3525, 'turning': 5621, 'forgotten': 1789, 'does ipad': 1402, 'sxsw means': 5155, 'worked': 5990, 'turned': 5620, 'south': 4803, 'sell sxsw': 4617, 'overload': 3917, 'quotmistakes': 4315, 'nextflix': 3779, 'iphonequot': 2775, 'like fun': 3035, 'fun session': 1862, 'sxsw quotmistakes': 5193, 'quotmistakes building': 4316, 'building nextflix': 812, 'nextflix iphonequot': 3780, 'iphonequot link': 2776, 'energy': 1544, 'overflow': 3913, 'ipad session': 2653, 'checked': 956, 'line long': 3071, 'approval': 444, 'album': 209, 'artists': 481, 'itunes album': 2795, 'album sxsw': 210, 'sxsw featured': 5101, 'featured artists': 1701, 'artists grab': 482, 'grab missed': 2112, 'missed link': 3621, 'sxsw waiting': 5250, 'hop': 2355, 'ipad2 comes': 2683, 'obviously': 3825, 'shell': 4666, '1500': 27, 'sxsw people': 5175, 'people obviously': 3999, 'obviously want': 3826, 'want shell': 5826, 'shell 1500': 4667, '1500 macbook': 28, 'product apple': 4192, 'webdoccom': 5863, 'ipad webdoccom': 2669, 'webdoccom sxsw': 5864, 'number': 3815, 'sad': 4506, 'mention totally': 3562, 'pop shop': 4110, 'interested': 2534, 'indoor': 2475, 'location based': 3157, 'improve sxsw': 2457, 'wishing': 5953, 'akqas': 206, 'callback': 862, 'mediamarketing': 3379, 'examples': 1591, 'good talk': 1981, 'talk akqas': 5319, 'akqas mention': 207, 'ipad interface': 2612, 'interface callback': 2540, 'callback design': 863, 'principles wish': 4175, 'wish mediamarketing': 5950, 'mediamarketing examples': 3380, 'examples fb': 1592, 'fb sxsw': 1696, 'just held': 2865, 'working sxsw': 5994, '3g iphone': 78, 'need upgrade': 3714, 'couch': 1170, 'app rt': 341, 'clever apple': 1015, 'term': 5398, 'web3': 5861, 'saatchiny': 4503, 'future networks': 1874, 'networks just': 3734, 'just data': 2858, 'data thats': 1234, 'win long': 5920, 'long term': 3180, 'term sxsw': 5399, 'sxsw web3': 5253, 'web3 saatchiny': 5862, 'whrrl': 5905, 'marketplace': 3341, 'app live': 333, 'android marketplace': 279, 'winssxsw': 5938, 'apple winssxsw': 425, 'winssxsw link': 5939, 'word sxsw': 5983, 'awesome rt': 576, 'wonder apple': 5971, 'experts sxsw': 1624, 'catching': 905, 'tweeting new': 5634, 'mention sure': 3542, 'free app': 1806, 'app checking': 315, 'quotnot': 4320, 'level': 3021, 'samsung': 4519, 'focus': 1762, 'try': 5607, 'bringing': 792, 'link im': 3099, 'quotat': 4278, 'expertsquot': 1626, 'quotat sxsw': 4279, 'marketing expertsquot': 3338, 'expertsquot link': 1627, 'thinking': 5456, 'sxsw going': 5112, 'stats': 4875, 'mobile app': 3629, 'app demo': 317, 'demo sxsw': 1297, 'sxsw lots': 5147, 'does apple': 1400, 'signs': 4711, 'rumors apple': 4496, 'opening sxsw': 3882, 'sxsw 6th': 5047, 'congress signs': 1106, 'signs point': 4712, 'point yes': 4102, 'blogs': 723, 'html5': 2385, 'dear mention': 1263, 'mention tell': 3551, 'mention doing': 3437, 'brands': 768, 'answer': 300, 'apis': 305, 'tables': 5298, 'refine': 4392, 'sxsw including': 5129, 'followers': 1773, 'launches android': 2988, 'app time': 349, 'person sxsw': 4016, 'brainwashed': 764, 'life better': 3024, 'better ipad': 673, 'ipad brainwashed': 2580, 'brainwashed lines': 765, 'lines sxsw': 3077, 'remember': 4412, 'lisa': 3132, 'appreciate': 441, 'ts': 5610, 'awesome ipadiphone': 573, 'ipadiphone app': 2701, 'app youll': 354, 'youll likely': 6070, 'likely appreciate': 3057, 'appreciate design': 442, 'design theyre': 1319, 'giving free': 1943, 'free ts': 1828, 'ts sxsw': 5611, 'miss mention': 3619, 'cool app': 1138, 'crave': 1183, 'android rt': 286, 'crave link': 1184, 'task': 5336, 'ill use': 2420, 'ipad gives': 2603, 'gives iphone': 1939, 'iphone actually': 2716, 'actually task': 161, 'task sxsw': 5337, 'avoiding': 556, 'world sxsw': 6001, 'excited rt': 1598, 'sxsw qagb': 5188, 'building netflix': 811, 'magnet': 3273, 'sxsw keynote': 5140, 'suspense': 5031, 'aquent': 466, '1413': 21, 'booth 1413': 743, 'society': 4770, 'fast society': 1687, 'app updates': 351, 'infektd': 2479, 'zombies': 6097, 'amigos': 233, 'broadcastr': 794, 'bestappever': 664, 'iphone amigos': 2718, 'amigos dont': 234, 'dont mention': 1432, 'app change': 314, 'change broadcastr': 923, 'broadcastr bestappever': 795, 'bestappever sxsw': 665, 'link app': 3084, 'ipad1': 2675, 'wipes': 5942, 'donates': 1425, 'mrs': 3678, 'buying ipad2': 845, 'ipad2 turn': 2695, 'turn ur': 5617, 'ur ipad1': 5691, 'ipad1 apple': 2676, 'store wipes': 4938, 'wipes clean': 5943, 'clean donates': 1009, 'donates schools': 1426, 'schools mrs': 4574, 'mrs jobs': 3679, 'jobs idea': 2825, 'idea apple': 2407, 'ipad photos': 2640, 'continuous': 1132, 'experiment': 1620, 'explorer': 1633, 'festival explorer': 1719, 'twit': 5638, 'robots': 4460, 'clocks': 1018, 'alarm': 208, 'iphone alarm': 2717, 'thumbs': 5475, 'announce': 294, 'hours announce': 2379, 'announce details': 295, 'giveaway sxsw': 1936, 'amp google': 246, 'quibids': 4262, 'custom': 1213, 'openbeta': 3874, 'mention win': 3572, 'win awesome': 5917, 'ipad quibids': 2644, 'quibids custom': 4263, 'custom mention': 1214, 'case catch': 890, 'catch sxsw': 904, 'sxsw wearing': 5252, 'wearing openbeta': 5853, 'openbeta vip': 3875, 'vip badge': 5778, 'hearing': 2263, 'present': 4155, 'forward hearing': 1793, 'quotmobile': 4317, 'surpassed': 5018, 'maps 52': 3308, 'special apple': 4824, 'clark': 997, 'josh clark': 2836, 'came': 869, 'mention maggie': 3501, 'maes pic': 3266, 'gadget': 1876, 'musthave gadget': 3696, 'ludicon': 3241, 'supposedly': 5013, 'ossum': 3905, 'big sxsw': 688, 'sxsw rumor': 5201, 'launch ludicon': 2976, 'ludicon based': 3242, 'based quotcirclesquot': 619, 'quotcirclesquot facebook': 4287, 'facebook killer': 1644, 'killer supposedly': 2922, 'supposedly mention': 5014, 'mention saw': 3531, 'saw ossum': 4544, 'biomimicry': 698, 'fact': 1645, 'starts': 4867, 'fully': 1856, '2nd': 56, 'hollergram app': 2339, 'app killing': 330, 'killing sxsw': 2926, 'white ipad2': 5901, 'wifi available': 5912, 'store right': 4931, 'popstore': 4113, '16gb': 31, 'sxsw popstore': 5182, 'popstore ipads': 4114, 'ipads 16gb': 2705, '16gb wifi': 32, 'wifi 64gb': 5910, '64gb wifi': 103, 'wifi amp': 5911, 'amp wifi': 256, 'wifi 3g': 5909, 'quotmention google': 4314, 'understand': 5662, 'add': 166, 'sxsw soon': 5211, 'beluga': 651, 'coordinate': 1156, 'sxsw4japan': 5267, 'effort': 1524, 'beluga iphone': 652, 'app highlight': 325, 'highlight sxsw': 2297, 'sxsw excellent': 5095, 'excellent way': 1595, 'way coordinate': 5848, 'coordinate sxsw4japan': 1157, 'sxsw4japan relief': 5268, 'relief effort': 4410, 'pulling': 4226, 'handle': 2205, 'apple_store': 426, 'ipad_2': 2699, 'ipad gets': 2601, 'gets temporary': 1924, 'heard sxsw': 2261, 'im looking': 2432, 'wait samsung': 5804, 'samsung people': 4520, 'people demo': 3993, 'demo horrible': 1293, 'horrible terrible': 2361, 'terrible google': 5402, 'google nexus': 2033, 'nexus phone': 3783, 'visiting': 5784, 'works google': 5996, 'ipad2 today': 2694, 'sxsw check': 5072, 'check holler': 949, 'packs': 3926, 'juice packs': 2847, 'magazine': 3267, 'ipad magazine': 2629, 'queue apple': 4260, 'apple just': 389, 'awesome integration': 571, 'integration link': 2526, 'android just': 274, 'radio': 4339, 'store like': 4921, 'mention looks': 3497, 'expensive': 1615, 'link gonna': 3095, 'gonna huge': 1968, 'huge week': 2390, 'zazzlesxsw': 6090, 'case zazzlesxsw': 894, 'zazzlesxsw sxsw': 6091, 'mayer admits': 3354, 'admits google': 174, 'clarks': 999, 'development': 1341, 'webvisions': 5868, 'josh clarks': 2837, 'search sxsw': 4590, 'sxsw twitter': 5242, 'twitter does': 5641, 'does work': 1405, 'work check': 5987, 'check googles': 947, 'googles real': 2088, 'real time': 4367, 'time search': 5495, 'search results': 4589, 'draw': 1466, 'artist': 478, 'mention bored': 3415, 'sxsw use': 5244, 'ipad draw': 2595, 'draw picture': 1467, 'picture good': 4054, 'good artist': 1971, 'artist link': 479, 'austins': 541, 'great panel': 2126, 'left brain': 3014, 'brain search': 763, 'search google': 4587, 'google right': 2044, 'right brain': 4449, 'good info': 1975, 'lynn': 3253, 'uxdes sxsw': 5745, 'chris': 977, 'shared': 4663, 'spread': 4844, 'mention spread': 3539, 'spread word': 4845, 'explorer app': 1634, 'live free': 3142, 'building sxsw': 814, 'googles league': 2084, 'library': 3022, 'launch social': 2980, 'link whos': 3128, 'whos excited': 5904, 'yrs': 6083, 'better iphone': 674, 'available iphone': 551, 'iphone thanks': 2764, 'know mention': 2944, 'comes sxsw': 1055, 'ur iphone': 5692, 'free portable': 1821, 'portable iphone': 4128, 'rankings': 4347, 'website rankings': 5867, 'failed': 1652, 'mention lots': 3499, 'handle sxsw': 2206, 'teach': 5342, 'tax': 5340, 'writeoff': 6023, 'apples taking': 435, 'taking old': 5313, 'old ipads': 3852, 'ipads teach': 2711, 'teach america': 5343, 'america user': 229, 'user gets': 5711, 'gets tax': 1923, 'tax writeoff': 5341, 'writeoff buy': 6024, 'buy new': 838, 'ipad kinda': 2619, 'kinda cool': 2929, 'crowds': 1204, 'googletv': 2092, 'connectedtv': 1113, 'fascinating': 1676, 'check googletv': 948, 'googletv ipad': 2093, 'apps connected': 449, 'connected tv': 1112, 'tv experience': 5624, 'experience sxswlink': 1619, 'sxsw connectedtv': 5080, 'connectedtv fascinating': 1114, '96': 127, 'rest': 4422, 'bnet': 729, 'exclusive apple': 1602, 'ipad review': 2647, 'review better': 4437, 'better rest': 676, 'rest link': 4423, 'link bnet': 3088, 'bnet biz': 730, 'biz ipad2': 705, 'gadgets': 1878, 'sxsw gadgets': 5108, 'smartest': 4746, 'imho': 2444, 'matter': 3349, 'setting pop': 4653, 'sxsw smartest': 5209, 'smartest ipad': 4747, 'ipad imho': 2611, 'imho developers': 2445, 'developers matter': 1337, 'matter ipad': 3350, 'viewed': 5774, 'right sxsw': 4451, 'age': 187, 'higher': 2295, '55': 98, 'usa': 5693, 'serve': 4633, 'announcing': 298, 'v5': 5746, 'phone google': 4024, 'google announcing': 1992, 'ipad year': 2674, 'sxsw android': 5054, 'sxsw cnn': 5077, 'organizing': 3902, 'nice work': 3789, 'im using': 2436, 'iphones': 2777, 'quot': 4270, 'quot sxsw': 4271, 'home sxsw': 2346, 'pressure': 4166, 'looks interesting': 3194, 'accessory': 138, 'kek': 2904, 'sxsw kek': 5139, 'leading': 2999, 'getjarsxsw': 1918, 'android leading': 275, 'leading market': 3000, 'market share': 3334, 'share smart': 4662, 'phones getjarsxsw': 4029, 'traded': 5572, 'js': 2843, 'winwin': 5940, 'tigerblood': 5478, 'traded xoom': 5573, 'xoom won': 6031, 'won js': 5968, 'js party': 2844, 'party ipad': 3962, 'mention won': 3575, 'sxsw winwin': 5259, 'winwin winning': 5941, 'winning tigerblood': 5930, 'monitor': 3656, 'illegal': 2421, 'deforestation': 1279, 'tech4good': 5363, 'google building': 1998, 'building real': 813, 'time mention': 5493, 'mention engine': 3440, 'engine monitor': 1547, 'monitor illegal': 3657, 'illegal deforestation': 2422, 'deforestation real': 1280, 'time tech4good': 5497, 'tech4good sxsw': 5364, 'mike': 3595, 'tyson': 5647, 'mike tyson': 3596, 'winning sxsw': 5929, 'getting new': 1928, 'mention interesting': 3478, 'interesting presentation': 2538, 'presentation building': 4157, '32': 69, 'zaarly': 6086, 'ipad white': 2671, 'international': 2544, 'huge win': 2391, 'forbes': 1782, 'doodles sxsw': 1441, 'crashing': 1182, 'kind': 2927, 'impression': 2454, 'sxsw audience': 5061, 'havent seen': 2234, 'sxsw buzz': 5069, 'android iphone': 273, 'expecting': 1614, 'store block': 4903, 'tweeps': 5628, 'ical': 2400, 'goin': 1956, 'hey tweeps': 2291, 'web industry': 5859, 'industry party': 2477, 'party calendar': 3955, 'calendar ur': 860, 'iphone ical': 2745, 'ical amp': 2401, 'amp track': 255, 'track whats': 5565, 'whats goin': 5895, 'goin sxsw': 1957, 'smartphone': 4748, 'positive': 4129, 'actions': 152, 'earthhour': 1506, 'positive actions': 4130, 'actions world': 153, 'world download': 5998, 'download earthhour': 1453, '105': 8, 'sleepy': 4733, 'line 105': 3064, '105 hours': 9, 'hours ipad': 2380, 'sxsw sleepy': 5208, 'moma': 3649, 'interfaces': 2542, 'great app': 2119, 'flipboard cnn': 1754, 'ipad interfaces': 2613, 'sxsw cnet': 5076, 'cnet news': 1027, 'story': 4944, 'apple smart': 414, 'sxsw store': 5218, 'tip mention': 5505, 'ipad itunes': 2616, 'itunes app': 2796, 'bring people': 790, 'team gsdm': 5348, 'techies': 5367, 'good sxsw': 1980, 'ah': 196, 'mention cc': 3420, 'mention id': 3473, 'years sxsw': 6048, 'definitely': 1278, 'mention store': 3540, 'gadgetzilla': 1879, 'lol gadgetzilla': 3167, 'gadgetzilla fun': 1880, 'netbook ipad': 3724, 'mention official': 3509, 'official people': 3835, 'people using': 4005, 'photos just': 4037, 'just look': 2873, 'look weird': 3188, 'weird sxsw': 5884, 'heard apples': 2257, 'austin pics': 528, 'pics gowalla': 4052, 'gowalla link': 2107, 'realized': 4370, 'happening': 2218, 'tell sxsw': 5382, 'ratio': 4352, 'ratio like': 4353, 'updating': 5684, 'incl': 2465, 'billion': 692, 'pixel': 4059, 'google art': 1994, 'like street': 3049, 'view art': 5772, 'art museums': 475, 'world incl': 6000, 'incl billion': 2466, 'billion pixel': 693, 'pixel image': 4060, 'image starry': 2441, 'night dang': 3794, 'happily': 2219, 'tradeshow sxsw': 5576, '22': 48, 'tracks': 5568, '22 tracks': 49, '1986': 33, 'like 1986': 3032, 'lugging': 3244, 'lugging laptop': 3245, 'filmaster': 1729, 'sure download': 5016, 'cases rad': 897, 'rad ready': 4338, 'ready stop': 4364, 'stop tomorrow': 4892, 'tomorrow sxsw': 5532, 'sxsw zazzlesxsw': 5264, 'zazzlesxsw sxswi': 6092, 'teamandroid': 5351, 'award': 559, 'award sxsw': 560, 'thousands': 5464, 'demonstrate': 1303, 'experts thousands': 1625, 'thousands town': 5465, 'town demonstrate': 5561, 'demonstrate social': 1304, 'holy': 2342, 'capture': 878, 'stuck': 4968, 'startup': 4868, 'mobile apps': 3630, 'battery sxsw': 625, 'cnet blogs': 1025, 'blogs link': 724, 'ipad yeah': 2673, 'southwest': 4806, 'south southwest': 4804, 'southwest interactive': 4807, 'arrived': 472, 'dan': 1227, 'taking notes': 5312, 'hoc': 2328, 'cost': 1167, 'want make': 5825, 'make quick': 3280, 'quick dollars': 4265, 'dollars new': 1421, 'ipad2 ad': 2678, 'ad hoc': 163, 'hoc apple': 2329, 'store gets': 4911, 'gets plus': 1922, 'plus cost': 4094, 'interfaces new': 2543, 'new navigation': 3754, 'ads': 177, 'algorithm': 212, 'hey marissa': 2288, 'mayer tell': 3362, 'tell new': 5380, 'products google': 4196, 'launched months': 2985, 'months ago': 3662, 'democracy': 1298, 'ipad great': 2606, 'mention used': 3565, 'official sxsw': 3836, 'gadget sxsw': 1877, 'moment sxsw': 3652, 'ridic': 4441, 'ridic sxsw': 4442, 'like rt': 3047, 'signed': 4710, 'wow sxsw': 6017, 'cross': 1198, 'long days': 3176, 'hairy': 2194, 'butts': 832, 'hows': 2383, 'iphone kicking': 2749, 'kicking hairy': 2913, 'hairy butts': 2195, 'butts sxsw': 833, 'sxsw hows': 5125, 'hows atampt': 2384, 'atampt phone': 491, 'phone doing': 4023, 'android phones': 283, 'causing': 908, 'schedules': 4570, 'wp7': 6021, 'sxsw did': 5088, 'high': 2294, 'sxsw whats': 5255, 'googlebing qampa': 2071, 'presentation sxsw': 4160, 'tech begins': 5358, 'link technology': 3126, 'doodles googledoodle': 1440, 'qr': 4247, 'qr code': 4248, 'filmaster iphone': 1730, 'breaking': 775, 'mention did': 3434, 'sxsw booth': 5067, 'guys sxsw': 2175, 'impossible': 2452, 'year old': 6042, 'sxswmobileapps': 5283, 'accesssxsw': 139, 'excited sxsw': 1599, 'suggestions': 4997, 'sxsw wait': 5249, 'breakdown': 773, 'mention smartphone': 3535, 'smartphone breakdown': 4749, 'breakdown sxsw': 774, 'midem': 3591, 'climbing': 1016, 'charts': 942, 'month discovr': 3660, 'discovr ipad': 1377, 'ipad midem': 2632, 'midem time': 3592, 'time discovr': 5488, 'sxsw climbing': 5075, 'climbing app': 1017, 'store charts': 4904, 'charts link': 943, 'link android': 3083, 'completely': 1079, 'sxsw thought': 5233, 'mention playing': 3516, 'betterquot sxsw': 681, 'helped': 2278, 'huzzah': 2397, 'huzzah rt': 2398, 'introduced': 2552, 'jk': 2817, 'mention tapworthy': 3548, 'impressed': 2453, 'school': 4571, 'second day': 4595, 'sounds awesome': 4799, 'wants new': 5832, 'android camera': 268, 'camera app': 871, 'cuz': 1219, 'model rt': 3646, 'cool tech': 1150, 'tech ones': 5362, 'heard cuz': 2258, 'cuz dont': 1220, 'sxswsters': 5288, 'mention sxswsters': 3546, 'sxswsters great': 5289, 'sxsw thank': 5229, 'memolane': 3391, 'ill forget': 2419, 'forget march': 1786, 'march 2011': 3324, '2011 weekend': 47, 'weekend japan': 5879, 'japan earthquake': 2810, 'earthquake ipad': 1508, 'ipad south': 2656, 'southwest sxsw': 4808, 'sxsw memolane': 5157, 'memolane yall': 3392, 'domo': 1424, 'mention domo': 3438, 'intentionally': 2529, 'coincide': 1038, 'crafty': 1177, 'you_': 6065, 'apple intentionally': 384, 'intentionally scheduled': 2530, 'scheduled ipad2': 4568, 'release coincide': 4399, 'coincide sxsw': 1039, 'sxsw steve': 5216, 'jobs crafty': 2823, 'crafty genius': 1178, 'genius you_': 1913, 'ipad im': 2610, 'switch': 5040, 'bitlyg03mzb': 701, 'smart company': 4740, 'company rt': 1074, 'launch bitlyg03mzb': 2970, 'jealous sxsw': 2815, 'google apps': 1993, 'reason': 4381, 'id love': 2405, 'tells': 5383, 'basis': 620, 'problem': 4189, 'studying': 4974, 'flocking': 1758, 'swarming': 5033, 'behavior': 645, 'collab': 1040, 'biomimicry basis': 699, 'basis design': 621, 'design problem': 1317, 'problem solving': 4190, 'solving google': 4786, 'google studying': 2052, 'studying flocking': 4975, 'flocking swarming': 1759, 'swarming behavior': 5034, 'behavior understand': 646, 'understand collab': 5663, 'collab brilliant': 1041, 'mobile phone': 3635, 'crisis': 1197, 'response': 4421, 'overwhelming': 3918, 'google says': 2046, 'marketing sxsw': 3340, 'rock roll': 4462, 'ipad2 popup': 2691, 'lol sxsw': 3169, 'congrats rt': 1101, 'sxswmobileapps sxsw': 5284, 'opening store': 3881, 'sxsw ppl': 5186, 'browserwars panel': 803, 'panel apple': 3935, 'apple like': 391, 'sxsw parties': 5171, 'opens temporary': 3888, 'attempt': 493, 'brick': 776, 'decided la': 1273, 'la instead': 2953, 'sxsw atampt': 5058, 'iphone useful': 2768, 'useful brick': 5705, 'brick austin': 777, 'noticed': 3807, 'dst': 1495, 'just noticed': 2875, 'noticed dst': 3808, 'dst coming': 1496, 'coming weekend': 1062, 'weekend iphone': 5878, 'users hour': 5718, 'hour late': 2375, 'late sxsw': 2962, 'come sunday': 1051, 'sunday morning': 5002, 'app download': 318, 'alex': 211, 'backup': 583, 'powermatteam': 4146, 'quotcoworkersquot': 4289, 'quotvisigothsquot': 4333, 'iphone autocorrect': 2724, 'autocorrect tried': 544, 'tried change': 5590, 'change quotcoworkersquot': 924, 'quotcoworkersquot quotvisigothsquot': 4290, 'quotvisigothsquot going': 4334, 'going long': 1960, 'impact': 2448, 'quotby': 4284, 'averages': 554, 'buzzquot': 854, '______': 129, 'quotby law': 4285, 'law averages': 2994, 'averages better': 555, 'better buzzquot': 672, 'buzzquot rt': 855, 'quotgoogle circles': 4292, 'circles ______': 984, '______ quot': 130, 'discotalk': 1373, 'discotalk sxsw': 1374, 'dont ipad': 1430, 'yobongo': 6064, 'year sxsw': 6043, 'like group': 3039, 'gen': 1908, 'email': 1529, 'just google': 2863, 'just like': 2872, 'vb': 5749, 'day business': 1242, 'business apple': 822, 'store appears': 4900, 'appears trending': 361, 'trending sxsw': 5588, 'sxsw vb': 5246, 'vb mention': 5750, 'showcased': 4691, 'speech ipad': 4827, 'showcased sxsw': 4692, 'geekdom': 1904, 'mention diller': 3435, 'underneath': 5661, 'money sxsw': 3655, 'bring hot': 788, 'tent': 5396, 'powerhouse': 4144, 'store def': 4908, 'def tent': 1277, 'tent powerhouse': 5397, 'powerhouse gym': 4145, 'gym sxsw': 2177, 'outbrain': 3907, 'things ive': 5448, 'ive loved': 2805, 'loved sxsw': 3228, 'far link': 1675, 'link outbrain': 3114, 'outbrain ipad': 3908, 'ipad groupme': 2607, 'press': 4165, 'apple line': 392, 'httpsmarketandroidcomdetailsidcomborderstyloretrollect': 2388, 'retrollect android': 4431, 'market sxsw': 3335, 'sxsw httpsmarketandroidcomdetailsidcomborderstyloretrollect': 5126, 'panned': 3939, 'trumping': 5601, 'rightfully': 4452, 'app getting': 323, 'getting panned': 1929, 'panned design': 3940, 'design trumping': 1320, 'trumping content': 5602, 'content rightfully': 1123, 'rightfully sxsw': 4453, 'socially': 4765, 'aron': 470, 'pilhofer': 4058, 'khoi': 2908, 'aron pilhofer': 471, 'khoi vinh': 2909, 'sxsw quotpopupquot': 5195, 'marketing link': 3339, 'record video': 4389, 'sea': 4583, 'clark hate': 998, 'lil': 3060, 'sets temporary': 4651, 'channels': 929, 'link channels': 3091, 'tech apple': 5357, 'skiers': 4724, 'update sxsw': 5678, 'npr': 3811, 'mention updated': 3564, 'updated npr': 5681, 'npr music': 3812, 'music iphone': 3690, 'info songs': 2486, 'songs 247': 4793, '247 amp': 51, 'amp live': 249, 'dogs': 1409, 'hey lucky': 2287, 'dogs sxsw': 1410, 'sxsw ipads': 5134, 'come running': 1050, 'bettersearch': 682, 'aus': 510, 'latest version': 2967, 'aus sxsw': 511, 'sxsw tomorrow': 5237, 'metaphor': 3587, 'interface metaphor': 2541, 'grrr': 2147, 'grrr sxsw': 2148, 'look sxsw': 3187, 'vs android': 5788, 'spots': 4841, '4sq': 90, 'helps': 2281, 'hot spots': 2368, 'personal': 4017, 'planner': 4074, 'hell': 2273, 'sneaky': 4755, 'usual': 5739, 'temporary sxsw': 5393, 'store apple': 4901, 'apple sneaky': 415, 'sneaky usual': 4756, 'usual link': 5740, 'luck sxsw': 3239, 'usurped': 5741, 'hipstergeekstartup': 2306, 'chic': 964, 'item': 2792, 'ironic tee': 2787, 'tee usurped': 5377, 'usurped ipad': 5742, 'ipad hipstergeekstartup': 2609, 'hipstergeekstartup chic': 2307, 'chic fashion': 965, 'fashion item': 1681, 'item years': 2793, 'getting ipad': 1926, 'sxswbarcrawl': 5269, 'link join': 3105, 'join sxswbarcrawl': 2828, 'sxswbarcrawl sxswi': 5270, 'logic': 3163, 'journalsim': 2838, 'informed': 2491, 'populous': 4116, 'journalsim support': 2839, 'support democracy': 5010, 'democracy yes': 1299, 'yes informed': 6056, 'informed populous': 2492, 'populous yes': 4117, 'yes ipad': 6057, 'ipad focus': 2599, 'focus does': 1763, 'does support': 1404, 'support newsapps': 5012, 'stop sxsw': 4891, 'hitlantis': 2313, 'hitlantiscom': 2315, 'musicviz': 3693, 'hitlantis ipad': 2314, 'ipad cool': 2585, 'cool song': 1147, 'song explorer': 4790, 'app hitlantiscom': 326, 'hitlantiscom sxsw': 2316, 'sxsw musicviz': 5164, 'correct': 1166, 'xoom link': 6030, 'sxswbuffalo': 5271, 'complete': 1078, 'won awesome': 5965, 'mention sxswbuffalo': 3544, 'sxswbuffalo lounge': 5272, 'sxsw experience': 5096, 'experience complete': 1617, '12b': 17, 'users drive': 5714, 'drive 12b': 1477, '12b miles': 18, 'miles year': 3599, 'year google': 6040, 'navigation jr': 3705, 'buy rt': 839, 'headed sxsw': 2248, 'fave ipad': 1692, 'hour tonight': 2377, 'fixing christmas': 1746, 'ipad2woohoo': 2698, 'waiting outside': 5808, 'store ipad2woohoo': 4917, 'geolocation': 1917, 'itunes store': 2799, 'select': 4607, 'streams': 4955, 'info select': 2485, 'select streams': 4608, 'streams incl': 4956, 'incl mention': 2467, 'streaming time': 4954, 'mention temporary': 3553, 'link cc': 3090, 'logo': 3164, 'gsdm sxsw': 2153, 'fandango': 1664, 'karaoke': 2894, 'prize': 4180, 'tkts': 5506, 'won 2nd': 5964, '2nd place': 57, 'place fandango': 4063, 'fandango karaoke': 1665, 'karaoke 1st': 2895, '1st prize': 36, 'prize yr': 4182, 'yr fandango': 6082, 'fandango tkts': 1666, 'tkts useless': 5507, 'useless canada': 5709, 'canada 2nd': 874, '2nd prize': 58, 'prize useful': 4181, 'useful ipad': 5707, 'ctia': 1210, 'googleio': 2076, 'just starting': 2880, 'starting ctia': 4866, 'ctia corner': 1211, 'corner googleio': 1163, 'googleio hop': 2077, 'hop skip': 2356, 'skip jump': 4726, 'jump good': 2850, 'good time': 1982, 'time android': 5485, 'time ipad2': 5490, 'hipstamatic': 2304, 'best photo': 661, 'bunch': 817, 'day mention': 1249, 'fix': 1744, 'poursite sxsw': 4140, 'quotmy': 4318, 'winningquot': 5931, 'sxsw quotmy': 5194, 'quotmy iphone': 4319, 'iphone tell': 2763, 'tell know': 5379, 'know means': 2943, 'means winningquot': 3370, 'winningquot mention': 5932, 'station': 4874, 'mention apples': 3406, 'barton': 616, 'good luck': 1977, 'like money': 3046, 'office': 3831, 'party going': 3958, 'insightful': 2510, 'apple gets': 380, 'california': 861, 'sxsw phone': 5176, 'users yrs': 5725, 'ceo': 919, 'amp bing': 239, 'bing sxsw': 695, 'lineup': 3078, 'way sxsw': 5850, 'advice': 179, 'mention improve': 3476, 'improve website': 2458, 'rankings advice': 4348, 'advice google': 180, 'mention hello': 3467, 'agree mention': 192, 'downtown link': 1463, 'whale': 5892, 'fail whale': 1651, 'whale artist': 5893, 'artist mention': 480, 'living ipad': 3149, 'localmind': 3155, 'socmedia': 4771, 'consumer': 1117, 'doing great': 1413, 'unofficial': 5666, 'qa session': 4243, 'runs': 4502, 'google showing': 2048, 'chrome': 980, 'denies': 1306, 'oreily': 3898, 'google denies': 2004, 'denies launch': 1307, 'including tim': 2474, 'tim oreily': 5483, 'oreily say': 3899, 'say exists': 4547, 'exists awesome': 1610, 'ipad march': 2630, 'stage': 4849, 'store killing': 4919, 'killing austin': 2925, 'austin selling': 532, 'selling early': 4619, 'early day': 1501, 'score ipad': 4579, 'androids': 291, 'smartphones': 4750, 'ipad sync': 2661, '4square': 93, 'approved': 445, 'quotbig': 4280, 'stereoquot': 4879, 'awesome day': 569, 'just approved': 2856, 'approved new': 446, 'download check': 1452, 'check blog': 945, 'blog quotbig': 720, 'quotbig stereoquot': 4281, 'stereoquot ipad2': 4880, 'sells': 4622, 'debut': 1267, 'eatdrinktweet': 1515, 'network debut': 3730, 'debut sxsw': 1268, 'link eatdrinktweet': 3093, 'times sxsw': 5502, 'stand line': 4851, 'sxsw tweets': 5241, 'finished': 1740, 'photobooth': 4033, 'just finished': 2861, 'finished taking': 1741, 'photos google': 4036, 'google photobooth': 2037, 'photobooth know': 4034, 'know heart': 2941, 'heart sxsw': 2265, 'maes 101': 3265, '101 link': 7, 'thisisdare': 5459, 'kawasaki thisisdare': 2900, 'thisisdare sxsw': 5460, 'epicurious': 1568, 'epicurious flipboard': 1569, 'cnn wired': 1030, 'wired moma': 5945, 'moma examples': 3650, 'examples good': 1593, 'good ipad': 1976, 'sum': 4998, 'link gt': 3097, 'gt gonna': 2156, 'gonna sum': 1969, 'sum mention': 4999, 'quotcoolquot': 4288, 'wait rt': 5803, 'bus': 820, '1st day': 35, 'like mention': 3045, 'qrafter': 4249, 'vcards': 5751, 'qrcode': 4253, 'qrafter better': 4250, 'better paid': 675, 'paid free': 3933, 'free qr': 1822, 'code apps': 1036, 'apps scan': 456, 'scan vcards': 4557, 'vcards download': 5752, 'download qrcode': 1456, 'qrcode iphone': 4254, 'version flipboard': 5760, 'insiders': 2507, 'unofficial sxsw': 5667, 'sxsw insiders': 5130, 'insiders guide': 2508, 'unboxing': 5660}\n"
          ],
          "name": "stdout"
        }
      ]
    },
    {
      "cell_type": "code",
      "metadata": {
        "id": "U2UUZWRS8dnY",
        "colab_type": "code",
        "colab": {
          "base_uri": "https://localhost:8080/",
          "height": 126
        },
        "outputId": "b3133f8b-3067-4348-d165-d86c89f1a9d3"
      },
      "source": [
        "print(cvect.get_feature_names)"
      ],
      "execution_count": 135,
      "outputs": [
        {
          "output_type": "stream",
          "text": [
            "<bound method CountVectorizer.get_feature_names of CountVectorizer(analyzer='word', binary=False, decode_error='strict',\n",
            "                dtype=<class 'numpy.int64'>, encoding='utf-8', input='content',\n",
            "                lowercase=True, max_df=1.0, max_features=None, min_df=2,\n",
            "                ngram_range=(1, 2), preprocessor=None, stop_words='english',\n",
            "                strip_accents=None, token_pattern='(?u)\\\\b\\\\w\\\\w+\\\\b',\n",
            "                tokenizer=None, vocabulary=None)>\n"
          ],
          "name": "stdout"
        }
      ]
    },
    {
      "cell_type": "code",
      "metadata": {
        "id": "CVf-G5GZEvmU",
        "colab_type": "code",
        "colab": {
          "base_uri": "https://localhost:8080/",
          "height": 35
        },
        "outputId": "d8cb81d7-68fd-4df7-f4ad-74a5c3f30575"
      },
      "source": [
        "X_train.shape"
      ],
      "execution_count": 136,
      "outputs": [
        {
          "output_type": "execute_result",
          "data": {
            "text/plain": [
              "(2661, 6100)"
            ]
          },
          "metadata": {
            "tags": []
          },
          "execution_count": 136
        }
      ]
    },
    {
      "cell_type": "markdown",
      "metadata": {
        "id": "qanDXve15sY_",
        "colab_type": "text"
      },
      "source": [
        "## Question 7"
      ]
    },
    {
      "cell_type": "markdown",
      "metadata": {
        "id": "uMaRNFkV5sY_",
        "colab_type": "text"
      },
      "source": [
        "### Select classifier logistic regression\n",
        "- use logistic regression for predicting sentiment of the given tweet\n",
        "- initialize classifier"
      ]
    },
    {
      "cell_type": "code",
      "metadata": {
        "id": "GT3dNgB55sZA",
        "colab_type": "code",
        "colab": {}
      },
      "source": [
        "from sklearn.linear_model import LogisticRegression\n",
        "model = LogisticRegression()"
      ],
      "execution_count": 137,
      "outputs": []
    },
    {
      "cell_type": "markdown",
      "metadata": {
        "id": "pqQ6_HX35sZD",
        "colab_type": "text"
      },
      "source": [
        "### Fit the classifer\n",
        "- fit logistic regression classifier"
      ]
    },
    {
      "cell_type": "code",
      "metadata": {
        "id": "EIzvnNkq5sZD",
        "colab_type": "code",
        "colab": {
          "base_uri": "https://localhost:8080/",
          "height": 108
        },
        "outputId": "146ec664-d365-49ff-ed64-6980d2b5a986"
      },
      "source": [
        "model.fit(X_train, y_train)"
      ],
      "execution_count": 138,
      "outputs": [
        {
          "output_type": "execute_result",
          "data": {
            "text/plain": [
              "LogisticRegression(C=1.0, class_weight=None, dual=False, fit_intercept=True,\n",
              "                   intercept_scaling=1, l1_ratio=None, max_iter=100,\n",
              "                   multi_class='auto', n_jobs=None, penalty='l2',\n",
              "                   random_state=None, solver='lbfgs', tol=0.0001, verbose=0,\n",
              "                   warm_start=False)"
            ]
          },
          "metadata": {
            "tags": []
          },
          "execution_count": 138
        }
      ]
    },
    {
      "cell_type": "markdown",
      "metadata": {
        "id": "SZpMsYQF5sZF",
        "colab_type": "text"
      },
      "source": [
        "## Question 8"
      ]
    },
    {
      "cell_type": "markdown",
      "metadata": {
        "id": "KGnQnUww5sZF",
        "colab_type": "text"
      },
      "source": [
        "### Select classifier naive bayes\n",
        "- use naive bayes for predicting sentiment of the given tweet\n",
        "- initialize classifier\n",
        "- use MultinomialNB"
      ]
    },
    {
      "cell_type": "code",
      "metadata": {
        "colab_type": "code",
        "id": "2AbVYssaH0OE",
        "colab": {}
      },
      "source": [
        "from sklearn.naive_bayes import MultinomialNB # using multinomoal NB algorithm from Naive Bayes\n",
        "\n",
        "# creatw the model\n",
        "NB_model = MultinomialNB()"
      ],
      "execution_count": 139,
      "outputs": []
    },
    {
      "cell_type": "markdown",
      "metadata": {
        "id": "QEaG942m5sZI",
        "colab_type": "text"
      },
      "source": [
        "### Fit the classifer\n",
        "- fit naive bayes classifier"
      ]
    },
    {
      "cell_type": "code",
      "metadata": {
        "id": "rLwRBj1R5sZI",
        "colab_type": "code",
        "colab": {
          "base_uri": "https://localhost:8080/",
          "height": 35
        },
        "outputId": "4bf48f88-8459-4c85-e02e-05dc0d71375d"
      },
      "source": [
        "NB_model.fit(X_train, y_train)"
      ],
      "execution_count": 140,
      "outputs": [
        {
          "output_type": "execute_result",
          "data": {
            "text/plain": [
              "MultinomialNB(alpha=1.0, class_prior=None, fit_prior=True)"
            ]
          },
          "metadata": {
            "tags": []
          },
          "execution_count": 140
        }
      ]
    },
    {
      "cell_type": "markdown",
      "metadata": {
        "id": "A7mgwYDJ5sZM",
        "colab_type": "text"
      },
      "source": [
        "## Question 9"
      ]
    },
    {
      "cell_type": "markdown",
      "metadata": {
        "id": "sZkA3tce5sZN",
        "colab_type": "text"
      },
      "source": [
        "### Make predictions on logistic regression\n",
        "- use your trained logistic regression model to make predictions on X_test"
      ]
    },
    {
      "cell_type": "code",
      "metadata": {
        "id": "l3f0M1ch5sZO",
        "colab_type": "code",
        "colab": {}
      },
      "source": [
        "y_logic_predict = model.predict(X_test)"
      ],
      "execution_count": 141,
      "outputs": []
    },
    {
      "cell_type": "markdown",
      "metadata": {
        "id": "lrIxjMUB5sZQ",
        "colab_type": "text"
      },
      "source": [
        "### Make predictions on naive bayes\n",
        "- use your trained naive bayes model to make predictions on X_test\n",
        "- use a different variable name to store predictions so that they are kept separately"
      ]
    },
    {
      "cell_type": "code",
      "metadata": {
        "id": "ZSQnwyLU5sZQ",
        "colab_type": "code",
        "colab": {}
      },
      "source": [
        "NB_predict = NB_model.predict(X_test)"
      ],
      "execution_count": 142,
      "outputs": []
    },
    {
      "cell_type": "markdown",
      "metadata": {
        "id": "rwXQUE7b5sZS",
        "colab_type": "text"
      },
      "source": [
        "## Question 10"
      ]
    },
    {
      "cell_type": "markdown",
      "metadata": {
        "id": "E6SITIE75sZT",
        "colab_type": "text"
      },
      "source": [
        "### Calculate accuracy of logistic regression\n",
        "- check accuracy of logistic regression classifer\n",
        "- use sklearn.metrics.accuracy_score"
      ]
    },
    {
      "cell_type": "code",
      "metadata": {
        "colab_type": "code",
        "id": "clv2X0kKH0Ok",
        "colab": {}
      },
      "source": [
        "from sklearn import metrics\n",
        "model_score = model.score(X_test, y_test)"
      ],
      "execution_count": 143,
      "outputs": []
    },
    {
      "cell_type": "code",
      "metadata": {
        "id": "TkOHPFmI-_Dq",
        "colab_type": "code",
        "colab": {
          "base_uri": "https://localhost:8080/",
          "height": 235
        },
        "outputId": "7110acc5-73a4-449c-d5e8-6baaac4f19a9"
      },
      "source": [
        "print(model_score)\n",
        "print(metrics.confusion_matrix(y_test, y_logic_predict))\n",
        "print(metrics.classification_report(y_test, y_logic_predict))"
      ],
      "execution_count": 144,
      "outputs": [
        {
          "output_type": "stream",
          "text": [
            "0.8647125140924464\n",
            "[[ 44 101]\n",
            " [ 19 723]]\n",
            "              precision    recall  f1-score   support\n",
            "\n",
            "           0       0.70      0.30      0.42       145\n",
            "           1       0.88      0.97      0.92       742\n",
            "\n",
            "    accuracy                           0.86       887\n",
            "   macro avg       0.79      0.64      0.67       887\n",
            "weighted avg       0.85      0.86      0.84       887\n",
            "\n"
          ],
          "name": "stdout"
        }
      ]
    },
    {
      "cell_type": "markdown",
      "metadata": {
        "id": "1Fd_Gnd05sZV",
        "colab_type": "text"
      },
      "source": [
        "### Calculate accuracy of naive bayes\n",
        "- check accuracy of naive bayes classifer\n",
        "- use sklearn.metrics.accuracy_score"
      ]
    },
    {
      "cell_type": "code",
      "metadata": {
        "colab_type": "code",
        "id": "d32uBpHi5sZW",
        "colab": {}
      },
      "source": [
        "model_score = NB_model.score(X_test, y_test)"
      ],
      "execution_count": 145,
      "outputs": []
    },
    {
      "cell_type": "code",
      "metadata": {
        "id": "kHT4v0Vf_TQN",
        "colab_type": "code",
        "colab": {
          "base_uri": "https://localhost:8080/",
          "height": 235
        },
        "outputId": "a11b81b7-4dee-49aa-9db1-7224aff71f79"
      },
      "source": [
        "print(model_score)\n",
        "print(metrics.confusion_matrix(y_test, NB_predict))\n",
        "print(metrics.classification_report(y_test, NB_predict))"
      ],
      "execution_count": 146,
      "outputs": [
        {
          "output_type": "stream",
          "text": [
            "0.8635851183765502\n",
            "[[ 46  99]\n",
            " [ 22 720]]\n",
            "              precision    recall  f1-score   support\n",
            "\n",
            "           0       0.68      0.32      0.43       145\n",
            "           1       0.88      0.97      0.92       742\n",
            "\n",
            "    accuracy                           0.86       887\n",
            "   macro avg       0.78      0.64      0.68       887\n",
            "weighted avg       0.85      0.86      0.84       887\n",
            "\n"
          ],
          "name": "stdout"
        }
      ]
    }
  ]
}
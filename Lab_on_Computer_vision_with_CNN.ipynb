{
  "nbformat": 4,
  "nbformat_minor": 0,
  "metadata": {
    "colab": {
      "name": "Lab on Computer vision with CNN.ipynb",
      "provenance": [],
      "collapsed_sections": []
    },
    "kernelspec": {
      "name": "python3",
      "display_name": "Python 3"
    },
    "accelerator": "GPU"
  },
  "cells": [
    {
      "cell_type": "markdown",
      "metadata": {
        "id": "MyfMmMnPJjvn",
        "colab_type": "text"
      },
      "source": [
        "## Train a simple convnet on the Fashion MNIST dataset"
      ]
    },
    {
      "cell_type": "code",
      "metadata": {
        "id": "Y5fvqib_REH-",
        "colab_type": "code",
        "colab": {}
      },
      "source": [
        "import tensorflow as tf\n",
        "import numpy as np\n",
        "import matplotlib.pyplot as plt"
      ],
      "execution_count": 1,
      "outputs": []
    },
    {
      "cell_type": "markdown",
      "metadata": {
        "id": "zjcGOJhcJjvp",
        "colab_type": "text"
      },
      "source": [
        "In this, we will see how to deal with image data and train a convnet for image classification task."
      ]
    },
    {
      "cell_type": "markdown",
      "metadata": {
        "id": "jR0Pl2XjJjvq",
        "colab_type": "text"
      },
      "source": [
        "### Load the  `fashion_mnist`  dataset\n",
        "\n",
        "** Use keras.datasets to load the dataset **"
      ]
    },
    {
      "cell_type": "code",
      "metadata": {
        "id": "Qr75v_UYJjvs",
        "colab_type": "code",
        "colab": {
          "base_uri": "https://localhost:8080/",
          "height": 153
        },
        "outputId": "7e7d6a3a-6ef3-4862-ff78-724a571eabdf"
      },
      "source": [
        "from keras.datasets import fashion_mnist\n",
        "(x_train, y_train), (x_test, y_test) = fashion_mnist.load_data()"
      ],
      "execution_count": 2,
      "outputs": [
        {
          "output_type": "stream",
          "text": [
            "Downloading data from https://storage.googleapis.com/tensorflow/tf-keras-datasets/train-labels-idx1-ubyte.gz\n",
            "32768/29515 [=================================] - 0s 0us/step\n",
            "Downloading data from https://storage.googleapis.com/tensorflow/tf-keras-datasets/train-images-idx3-ubyte.gz\n",
            "26427392/26421880 [==============================] - 0s 0us/step\n",
            "Downloading data from https://storage.googleapis.com/tensorflow/tf-keras-datasets/t10k-labels-idx1-ubyte.gz\n",
            "8192/5148 [===============================================] - 0s 0us/step\n",
            "Downloading data from https://storage.googleapis.com/tensorflow/tf-keras-datasets/t10k-images-idx3-ubyte.gz\n",
            "4423680/4422102 [==============================] - 0s 0us/step\n"
          ],
          "name": "stdout"
        }
      ]
    },
    {
      "cell_type": "code",
      "metadata": {
        "id": "xWHF230GQOdI",
        "colab_type": "code",
        "colab": {}
      },
      "source": [
        ""
      ],
      "execution_count": 2,
      "outputs": []
    },
    {
      "cell_type": "markdown",
      "metadata": {
        "id": "hTI42-0qJjvw",
        "colab_type": "text"
      },
      "source": [
        "### Find no.of samples are there in training and test datasets"
      ]
    },
    {
      "cell_type": "code",
      "metadata": {
        "id": "g2sf67VoJjvx",
        "colab_type": "code",
        "colab": {
          "base_uri": "https://localhost:8080/",
          "height": 34
        },
        "outputId": "f4606852-6923-4117-df51-fec0bcbde7c9"
      },
      "source": [
        "print(x_train.shape)"
      ],
      "execution_count": 3,
      "outputs": [
        {
          "output_type": "stream",
          "text": [
            "(60000, 28, 28)\n"
          ],
          "name": "stdout"
        }
      ]
    },
    {
      "cell_type": "code",
      "metadata": {
        "id": "zewyDcBlJjv1",
        "colab_type": "code",
        "colab": {
          "base_uri": "https://localhost:8080/",
          "height": 34
        },
        "outputId": "1a53a63c-b992-46f0-dc6d-1d47e7925d74"
      },
      "source": [
        "print(x_test.shape)"
      ],
      "execution_count": 4,
      "outputs": [
        {
          "output_type": "stream",
          "text": [
            "(10000, 28, 28)\n"
          ],
          "name": "stdout"
        }
      ]
    },
    {
      "cell_type": "markdown",
      "metadata": {
        "id": "WytT2eRnJjv4",
        "colab_type": "text"
      },
      "source": [
        "### Find dimensions of an image in the dataset"
      ]
    },
    {
      "cell_type": "code",
      "metadata": {
        "id": "XycQGBSGJjv5",
        "colab_type": "code",
        "colab": {
          "base_uri": "https://localhost:8080/",
          "height": 85
        },
        "outputId": "73028345-5bc4-4266-c13a-82cb16316565"
      },
      "source": [
        "print(\"Training Data Shape is {}\".format(x_train.shape))\n",
        "print(\"Training Labels Shape is {}\".format(y_train.shape))\n",
        "print(\"Testing Data Shape is {}\".format(x_test.shape))\n",
        "print(\"Testing Labels Shape is {}\".format(y_test.shape))"
      ],
      "execution_count": 5,
      "outputs": [
        {
          "output_type": "stream",
          "text": [
            "Training Data Shape is (60000, 28, 28)\n",
            "Training Labels Shape is (60000,)\n",
            "Testing Data Shape is (10000, 28, 28)\n",
            "Testing Labels Shape is (10000,)\n"
          ],
          "name": "stdout"
        }
      ]
    },
    {
      "cell_type": "markdown",
      "metadata": {
        "id": "5jtdZ7RqJjv8",
        "colab_type": "text"
      },
      "source": [
        "### Convert train and test labels to one hot vectors\n",
        "\n",
        "** check `keras.utils.to_categorical()` **"
      ]
    },
    {
      "cell_type": "code",
      "metadata": {
        "id": "sAD3q5I6Jjv9",
        "colab_type": "code",
        "colab": {}
      },
      "source": [
        "#Convert labels to one hot encoding\n",
        "y_train = tf.keras.utils.to_categorical(y_train, num_classes=10)\n",
        "y_test = tf.keras.utils.to_categorical(y_test, num_classes=10)"
      ],
      "execution_count": 6,
      "outputs": []
    },
    {
      "cell_type": "code",
      "metadata": {
        "id": "mgHSCXy3JjwA",
        "colab_type": "code",
        "colab": {
          "base_uri": "https://localhost:8080/",
          "height": 34
        },
        "outputId": "b7f57cf6-6cee-49c3-a107-17bdfcdded9f"
      },
      "source": [
        "y_train[0]"
      ],
      "execution_count": 7,
      "outputs": [
        {
          "output_type": "execute_result",
          "data": {
            "text/plain": [
              "array([0., 0., 0., 0., 0., 0., 0., 0., 0., 1.], dtype=float32)"
            ]
          },
          "metadata": {
            "tags": []
          },
          "execution_count": 7
        }
      ]
    },
    {
      "cell_type": "markdown",
      "metadata": {
        "id": "xO5BRBzBJjwD",
        "colab_type": "text"
      },
      "source": [
        "### Normalize both the train and test image data from 0-255 to 0-1"
      ]
    },
    {
      "cell_type": "code",
      "metadata": {
        "id": "3fUQpMHxJjwE",
        "colab_type": "code",
        "colab": {}
      },
      "source": [
        "x_train = tf.keras.utils.normalize(x_train, axis = 1)\n",
        "x_test = tf.keras.utils.normalize(x_test,axis = 1)"
      ],
      "execution_count": 8,
      "outputs": []
    },
    {
      "cell_type": "code",
      "metadata": {
        "id": "Okwo_SB5JjwI",
        "colab_type": "code",
        "colab": {
          "base_uri": "https://localhost:8080/",
          "height": 1000
        },
        "outputId": "de2a3f4a-1327-486c-9ea0-a24c5a7f6835"
      },
      "source": [
        "x_train[0]"
      ],
      "execution_count": 9,
      "outputs": [
        {
          "output_type": "execute_result",
          "data": {
            "text/plain": [
              "array([[0.        , 0.        , 0.        , 0.        , 0.        ,\n",
              "        0.        , 0.        , 0.        , 0.        , 0.        ,\n",
              "        0.        , 0.        , 0.        , 0.        , 0.        ,\n",
              "        0.        , 0.        , 0.        , 0.        , 0.        ,\n",
              "        0.        , 0.        , 0.        , 0.        , 0.        ,\n",
              "        0.        , 0.        , 0.        ],\n",
              "       [0.        , 0.        , 0.        , 0.        , 0.        ,\n",
              "        0.        , 0.        , 0.        , 0.        , 0.        ,\n",
              "        0.        , 0.        , 0.        , 0.        , 0.        ,\n",
              "        0.        , 0.        , 0.        , 0.        , 0.        ,\n",
              "        0.        , 0.        , 0.        , 0.        , 0.        ,\n",
              "        0.        , 0.        , 0.        ],\n",
              "       [0.        , 0.        , 0.        , 0.        , 0.        ,\n",
              "        0.        , 0.        , 0.        , 0.        , 0.        ,\n",
              "        0.        , 0.        , 0.        , 0.        , 0.        ,\n",
              "        0.        , 0.        , 0.        , 0.        , 0.        ,\n",
              "        0.        , 0.        , 0.        , 0.        , 0.        ,\n",
              "        0.        , 0.        , 0.        ],\n",
              "       [0.        , 0.        , 0.        , 0.        , 0.        ,\n",
              "        0.        , 0.        , 0.        , 0.        , 0.        ,\n",
              "        0.        , 0.        , 0.00135942, 0.        , 0.        ,\n",
              "        0.0135775 , 0.07675477, 0.        , 0.        , 0.00108359,\n",
              "        0.00452712, 0.        , 0.        , 0.        , 0.        ,\n",
              "        0.00112628, 0.00124281, 0.        ],\n",
              "       [0.        , 0.        , 0.        , 0.        , 0.        ,\n",
              "        0.        , 0.        , 0.        , 0.        , 0.        ,\n",
              "        0.        , 0.        , 0.00407827, 0.        , 0.0393841 ,\n",
              "        0.14204153, 0.13353227, 0.06706289, 0.05944322, 0.        ,\n",
              "        0.        , 0.        , 0.00114334, 0.00349231, 0.00461146,\n",
              "        0.        , 0.        , 0.01550248],\n",
              "       [0.        , 0.        , 0.        , 0.        , 0.        ,\n",
              "        0.        , 0.        , 0.        , 0.        , 0.        ,\n",
              "        0.        , 0.        , 0.00815655, 0.        , 0.11158829,\n",
              "        0.2130623 , 0.18505259, 0.14494239, 0.15851525, 0.13328144,\n",
              "        0.02603093, 0.        , 0.        , 0.        , 0.        ,\n",
              "        0.01351531, 0.01242807, 0.        ],\n",
              "       [0.        , 0.        , 0.        , 0.        , 0.        ,\n",
              "        0.        , 0.        , 0.        , 0.        , 0.        ,\n",
              "        0.        , 0.        , 0.        , 0.        , 0.16957044,\n",
              "        0.24648383, 0.21764709, 0.19253541, 0.11778563, 0.16903988,\n",
              "        0.18221649, 0.12429049, 0.07317407, 0.02677434, 0.08877055,\n",
              "        0.14641589, 0.08948208, 0.07751239],\n",
              "       [0.        , 0.        , 0.        , 0.        , 0.        ,\n",
              "        0.        , 0.        , 0.        , 0.        , 0.        ,\n",
              "        0.        , 0.00148028, 0.        , 0.08043127, 0.22645859,\n",
              "        0.23290633, 0.22921287, 0.23363847, 0.23777287, 0.176625  ,\n",
              "        0.14373599, 0.13797385, 0.13948807, 0.16995886, 0.16255387,\n",
              "        0.0991123 , 0.21376275, 0.34105453],\n",
              "       [0.        , 0.        , 0.        , 0.        , 0.        ,\n",
              "        0.        , 0.        , 0.        , 0.        , 0.00158012,\n",
              "        0.00154801, 0.00148028, 0.        , 0.23313412, 0.25380866,\n",
              "        0.24230614, 0.2449844 , 0.24770005, 0.24547847, 0.24164034,\n",
              "        0.24333258, 0.24287959, 0.18750855, 0.14784092, 0.14180231,\n",
              "        0.22075012, 0.28460274, 0.        ],\n",
              "       [0.        , 0.        , 0.        , 0.        , 0.        ,\n",
              "        0.        , 0.        , 0.        , 0.        , 0.        ,\n",
              "        0.        , 0.        , 0.        , 0.21331772, 0.24615064,\n",
              "        0.22559537, 0.23447005, 0.24661839, 0.25868808, 0.2459747 ,\n",
              "        0.2535186 , 0.25314211, 0.25610924, 0.25726649, 0.25708875,\n",
              "        0.27593765, 0.21500556, 0.        ],\n",
              "       [0.        , 0.        , 0.        , 0.        , 0.        ,\n",
              "        0.        , 0.        , 0.        , 0.        , 0.        ,\n",
              "        0.        , 0.        , 0.        , 0.22497443, 0.24943265,\n",
              "        0.22768422, 0.2239557 , 0.2141686 , 0.19814406, 0.22972086,\n",
              "        0.23767368, 0.24059903, 0.24353245, 0.25959469, 0.25363015,\n",
              "        0.27368509, 0.25104696, 0.        ],\n",
              "       [0.        , 0.        , 0.        , 0.        , 0.        ,\n",
              "        0.        , 0.        , 0.        , 0.        , 0.00158012,\n",
              "        0.00464404, 0.        , 0.0163131 , 0.25528186, 0.24068063,\n",
              "        0.22141768, 0.22921287, 0.20767864, 0.18603525, 0.2459747 ,\n",
              "        0.23541013, 0.24858099, 0.25610924, 0.24678957, 0.26054734,\n",
              "        0.22187639, 0.2597466 , 0.26870963],\n",
              "       [0.        , 0.        , 0.        , 0.        , 0.        ,\n",
              "        0.        , 0.        , 0.        , 0.        , 0.        ,\n",
              "        0.00928807, 0.        , 0.13458306, 0.28442363, 0.24286863,\n",
              "        0.22977306, 0.22921287, 0.2195769 , 0.21795846, 0.23947316,\n",
              "        0.24333258, 0.24287959, 0.25382255, 0.25610239, 0.28245176,\n",
              "        0.13402686, 0.20754872, 0.2893796 ],\n",
              "       [0.        , 0.        , 0.        , 0.        , 0.        ,\n",
              "        0.        , 0.        , 0.        , 0.        , 0.00632047,\n",
              "        0.        , 0.        , 0.07476837, 0.27509826, 0.24943265,\n",
              "        0.24021729, 0.23972722, 0.2595983 , 0.25538568, 0.23080445,\n",
              "        0.24672792, 0.25428239, 0.26754269, 0.25261008, 0.25017156,\n",
              "        0.23539171, 0.11433822, 0.        ],\n",
              "       [0.        , 0.        , 0.00196864, 0.00743066, 0.01073107,\n",
              "        0.01210602, 0.00340005, 0.        , 0.        , 0.        ,\n",
              "        0.        , 0.        , 0.3221837 , 0.26344156, 0.23739862,\n",
              "        0.23290633, 0.23341861, 0.23688345, 0.24437767, 0.23947316,\n",
              "        0.24446436, 0.25428239, 0.26182596, 0.25028188, 0.25132443,\n",
              "        0.28720041, 0.09569612, 0.        ],\n",
              "       [0.        , 0.00677527, 0.        , 0.        , 0.        ,\n",
              "        0.        , 0.        , 0.        , 0.        , 0.09796732,\n",
              "        0.2244617 , 0.30197776, 0.30994887, 0.24129382, 0.23302261,\n",
              "        0.23081749, 0.22921287, 0.2249852 , 0.23226887, 0.2362224 ,\n",
              "        0.2535186 , 0.25428239, 0.25039252, 0.25028188, 0.25824161,\n",
              "        0.27481137, 0.19760627, 0.        ],\n",
              "       [0.        , 0.        , 0.        , 0.        , 0.0321932 ,\n",
              "        0.07609496, 0.13940217, 0.17644206, 0.29930777, 0.36026691,\n",
              "        0.34056258, 0.32862285, 0.2949952 , 0.26344156, 0.21880057,\n",
              "        0.21410672, 0.22185283, 0.24878171, 0.24657927, 0.25355982,\n",
              "        0.19919318, 0.2143726 , 0.28583621, 0.28869724, 0.26861739,\n",
              "        0.26805371, 0.26720344, 0.        ],\n",
              "       [0.        , 0.12873017, 0.36813591, 0.38639423, 0.40062647,\n",
              "        0.38220425, 0.38080592, 0.34299018, 0.32306235, 0.33814525,\n",
              "        0.32198644, 0.30937917, 0.27188498, 0.18534163, 0.2680307 ,\n",
              "        0.20157364, 0.21659565, 0.24121009, 0.28070408, 0.27631519,\n",
              "        0.25012326, 0.26682547, 0.25267921, 0.24562547, 0.25363015,\n",
              "        0.26129606, 0.30573045, 0.        ],\n",
              "       [0.02264812, 0.45620167, 0.44885021, 0.41611686, 0.39526094,\n",
              "        0.36490994, 0.35870558, 0.35288412, 0.32464599, 0.32392419,\n",
              "        0.3173424 , 0.32566229, 0.32626197, 0.09325365, 0.16410043,\n",
              "        0.26632787, 0.24077866, 0.23904677, 0.20695046, 0.1668727 ,\n",
              "        0.21616988, 0.23945875, 0.23324234, 0.24329727, 0.25593588,\n",
              "        0.25679095, 0.27963151, 0.        ],\n",
              "       [0.73983865, 0.52621282, 0.38979097, 0.39010956, 0.39704945,\n",
              "        0.39603969, 0.38930605, 0.38586395, 0.39432611, 0.34762596,\n",
              "        0.30031428, 0.31826087, 0.2949952 , 0.28092662, 0.07111019,\n",
              "        0.07624288, 0.11145213, 0.12655417, 0.18493445, 0.23730599,\n",
              "        0.25012326, 0.24516015, 0.24810583, 0.25959469, 0.25708875,\n",
              "        0.25228585, 0.28460274, 0.14985729],\n",
              "       [0.56620305, 0.46071852, 0.41735195, 0.37896357, 0.34518263,\n",
              "        0.35453335, 0.35870558, 0.37102303, 0.34206602, 0.29232183,\n",
              "        0.30495831, 0.30493832, 0.26916613, 0.24828784, 0.26256069,\n",
              "        0.20366249, 0.23867579, 0.2650066 , 0.26309128, 0.24164034,\n",
              "        0.24672792, 0.24173931, 0.23895907, 0.25843059, 0.25363015,\n",
              "        0.24890702, 0.28584554, 0.34622202],\n",
              "       [0.36236995, 0.45846009, 0.36026135, 0.36038692, 0.38095285,\n",
              "        0.3406979 , 0.31450489, 0.31330833, 0.30722596, 0.30338266,\n",
              "        0.31269837, 0.31678059, 0.29771405, 0.2576132 , 0.24068063,\n",
              "        0.24648383, 0.23657292, 0.23363847, 0.21905926, 0.22321933,\n",
              "        0.21051098, 0.20639064, 0.20237203, 0.2002255 , 0.20866844,\n",
              "        0.2308866 , 0.25601818, 0.59426168],\n",
              "       [0.        , 0.27552774, 0.43113243, 0.35852926, 0.32014347,\n",
              "        0.2957327 , 0.31110484, 0.32320228, 0.32306235, 0.33182478,\n",
              "        0.3297265 , 0.30641861, 0.28683865, 0.24479083, 0.21880057,\n",
              "        0.20470691, 0.20397843, 0.20659698, 0.21465606, 0.2069655 ,\n",
              "        0.22409233, 0.21893371, 0.20122869, 0.18159987, 0.19252834,\n",
              "        0.19935087, 0.26098941, 0.47540935],\n",
              "       [0.        , 0.        , 0.14567945, 0.3510986 , 0.37916434,\n",
              "        0.33032132, 0.29750463, 0.28362649, 0.27713682, 0.28600136,\n",
              "        0.28638217, 0.27829323, 0.2569313 , 0.21914607, 0.21114255,\n",
              "        0.20679576, 0.21449278, 0.22606686, 0.23116807, 0.22755369,\n",
              "        0.23880546, 0.2143726 , 0.21494883, 0.22583574, 0.22134995,\n",
              "        0.24327564, 0.21127714, 0.        ],\n",
              "       [0.01509875, 0.        , 0.        , 0.        , 0.11804173,\n",
              "        0.34588619, 0.37740587, 0.39081092, 0.37848972, 0.38238856,\n",
              "        0.38081089, 0.3597088 , 0.33169967, 0.2576132 , 0.24068063,\n",
              "        0.20157364, 0.20082412, 0.19361707, 0.20034566, 0.19721319,\n",
              "        0.20485208, 0.20068924, 0.18979524, 0.1955691 , 0.11413357,\n",
              "        0.06532401, 0.        , 0.        ],\n",
              "       [0.        , 0.        , 0.        , 0.        , 0.        ,\n",
              "        0.        , 0.        , 0.06595965, 0.09660198, 0.06952519,\n",
              "        0.11145684, 0.06069161, 0.04757987, 0.        , 0.        ,\n",
              "        0.        , 0.        , 0.        , 0.        , 0.        ,\n",
              "        0.        , 0.        , 0.        , 0.        , 0.        ,\n",
              "        0.        , 0.        , 0.        ],\n",
              "       [0.        , 0.        , 0.        , 0.        , 0.        ,\n",
              "        0.        , 0.        , 0.        , 0.        , 0.        ,\n",
              "        0.        , 0.        , 0.        , 0.        , 0.        ,\n",
              "        0.        , 0.        , 0.        , 0.        , 0.        ,\n",
              "        0.        , 0.        , 0.        , 0.        , 0.        ,\n",
              "        0.        , 0.        , 0.        ],\n",
              "       [0.        , 0.        , 0.        , 0.        , 0.        ,\n",
              "        0.        , 0.        , 0.        , 0.        , 0.        ,\n",
              "        0.        , 0.        , 0.        , 0.        , 0.        ,\n",
              "        0.        , 0.        , 0.        , 0.        , 0.        ,\n",
              "        0.        , 0.        , 0.        , 0.        , 0.        ,\n",
              "        0.        , 0.        , 0.        ]])"
            ]
          },
          "metadata": {
            "tags": []
          },
          "execution_count": 9
        }
      ]
    },
    {
      "cell_type": "markdown",
      "metadata": {
        "id": "da5-DwgrJjwM",
        "colab_type": "text"
      },
      "source": [
        "### Reshape the data from 28x28 to 28x28x1 to match input dimensions in Conv2D layer in keras"
      ]
    },
    {
      "cell_type": "code",
      "metadata": {
        "id": "LPGVQ-JJJjwN",
        "colab_type": "code",
        "colab": {}
      },
      "source": [
        "x_train = tf.keras.backend.expand_dims(\n",
        "    x_train, axis=-1\n",
        ")"
      ],
      "execution_count": 10,
      "outputs": []
    },
    {
      "cell_type": "code",
      "metadata": {
        "id": "PXGCrgNJXN5_",
        "colab_type": "code",
        "colab": {}
      },
      "source": [
        "x_test = tf.keras.backend.expand_dims(\n",
        "    x_test, axis=-1\n",
        ")"
      ],
      "execution_count": 11,
      "outputs": []
    },
    {
      "cell_type": "code",
      "metadata": {
        "id": "-D0zwluiXLPP",
        "colab_type": "code",
        "colab": {
          "base_uri": "https://localhost:8080/",
          "height": 51
        },
        "outputId": "d16b94f7-4f49-4f23-ec19-81c72f6a3d03"
      },
      "source": [
        "print(x_train.shape)\n",
        "print(x_test.shape)"
      ],
      "execution_count": 12,
      "outputs": [
        {
          "output_type": "stream",
          "text": [
            "(60000, 28, 28, 1)\n",
            "(10000, 28, 28, 1)\n"
          ],
          "name": "stdout"
        }
      ]
    },
    {
      "cell_type": "markdown",
      "metadata": {
        "id": "OFRRTJq8JjwQ",
        "colab_type": "text"
      },
      "source": [
        "### Import the necessary layers from keras to build the model"
      ]
    },
    {
      "cell_type": "code",
      "metadata": {
        "id": "dWTZYnKSJjwR",
        "colab_type": "code",
        "colab": {}
      },
      "source": [
        "#Clear any existing model in memory\n",
        "tf.keras.backend.clear_session()\n",
        "\n",
        "\n",
        "#Initialize model, reshape & normalize data\n",
        "model = tf.keras.models.Sequential()\n",
        "\n",
        "#Reshape data from 2D (28,28) to 3D (28, 28, 1)\n",
        "model.add(tf.keras.layers.Reshape((28,28,1),input_shape=(28,28,)))"
      ],
      "execution_count": 13,
      "outputs": []
    },
    {
      "cell_type": "markdown",
      "metadata": {
        "id": "C18AoS7eJjwU",
        "colab_type": "text"
      },
      "source": [
        "### Build a model \n",
        "\n",
        "** with 2 Conv layers having `32 3x3 filters` in both convolutions with `relu activations` and `flatten` before passing the feature map into 2 fully connected layers (or Dense Layers) having 128 and 10 neurons with `relu` and `softmax` activations respectively. Now, using `categorical_crossentropy` loss with `adam` optimizer train the model with early stopping `patience=5` and no.of `epochs=10`. **"
      ]
    },
    {
      "cell_type": "code",
      "metadata": {
        "id": "DORCLgSwJjwV",
        "colab_type": "code",
        "colab": {}
      },
      "source": [
        "#normalize data\n",
        "model.add(tf.keras.layers.BatchNormalization())\n",
        "\n",
        "#Add first convolutional layer\n",
        "model.add(tf.keras.layers.Conv2D(32, #Number of filters \n",
        "                                 kernel_size=(3,3), #Size of the filter\n",
        "                                 activation='relu'))\n",
        "\n",
        "#normalize data\n",
        "model.add(tf.keras.layers.BatchNormalization())\n",
        "\n",
        "\n",
        "#Add first convolutional layer\n",
        "model.add(tf.keras.layers.Conv2D(32, #Number of filters \n",
        "                                 kernel_size=(3,3), #Size of the filter\n",
        "                                 activation='relu'))\n",
        "\n",
        "#normalize data\n",
        "model.add(tf.keras.layers.BatchNormalization())\n",
        "\n",
        "\n",
        "#Flatten the output\n",
        "model.add(tf.keras.layers.Flatten())\n",
        "\n",
        "#Dense layer\n",
        "model.add(tf.keras.layers.Dense(128, activation='relu'))\n",
        "\n",
        "\n",
        "\n",
        "#Output layer\n",
        "model.add(tf.keras.layers.Dense(10, activation='softmax'))"
      ],
      "execution_count": 14,
      "outputs": []
    },
    {
      "cell_type": "code",
      "metadata": {
        "id": "RdlB-44JbutA",
        "colab_type": "code",
        "colab": {}
      },
      "source": [
        "model.compile(optimizer='adam', \n",
        "              loss='categorical_crossentropy', \n",
        "              metrics=['accuracy'])"
      ],
      "execution_count": 15,
      "outputs": []
    },
    {
      "cell_type": "code",
      "metadata": {
        "id": "K84_QEH2ccT5",
        "colab_type": "code",
        "colab": {
          "base_uri": "https://localhost:8080/",
          "height": 459
        },
        "outputId": "0bc370b8-ca16-4bfc-e142-65f9aef64aa9"
      },
      "source": [
        "model.summary()"
      ],
      "execution_count": 16,
      "outputs": [
        {
          "output_type": "stream",
          "text": [
            "Model: \"sequential\"\n",
            "_________________________________________________________________\n",
            "Layer (type)                 Output Shape              Param #   \n",
            "=================================================================\n",
            "reshape (Reshape)            (None, 28, 28, 1)         0         \n",
            "_________________________________________________________________\n",
            "batch_normalization (BatchNo (None, 28, 28, 1)         4         \n",
            "_________________________________________________________________\n",
            "conv2d (Conv2D)              (None, 26, 26, 32)        320       \n",
            "_________________________________________________________________\n",
            "batch_normalization_1 (Batch (None, 26, 26, 32)        128       \n",
            "_________________________________________________________________\n",
            "conv2d_1 (Conv2D)            (None, 24, 24, 32)        9248      \n",
            "_________________________________________________________________\n",
            "batch_normalization_2 (Batch (None, 24, 24, 32)        128       \n",
            "_________________________________________________________________\n",
            "flatten (Flatten)            (None, 18432)             0         \n",
            "_________________________________________________________________\n",
            "dense (Dense)                (None, 128)               2359424   \n",
            "_________________________________________________________________\n",
            "dense_1 (Dense)              (None, 10)                1290      \n",
            "=================================================================\n",
            "Total params: 2,370,542\n",
            "Trainable params: 2,370,412\n",
            "Non-trainable params: 130\n",
            "_________________________________________________________________\n"
          ],
          "name": "stdout"
        }
      ]
    },
    {
      "cell_type": "code",
      "metadata": {
        "id": "n0Otkn9Wc9zY",
        "colab_type": "code",
        "colab": {
          "base_uri": "https://localhost:8080/",
          "height": 357
        },
        "outputId": "bb984e53-1754-4252-dfa0-695031f5cb27"
      },
      "source": [
        "callback = tf.keras.callbacks.EarlyStopping(monitor='accuracy', patience=5)\n",
        "history = model.fit(x_train,y_train,\n",
        "                    epochs=10,\n",
        "                    verbose=1,\n",
        "                    callbacks=callback,\n",
        "                    validation_data=(x_test,y_test),\n",
        "                    batch_size=32)"
      ],
      "execution_count": 17,
      "outputs": [
        {
          "output_type": "stream",
          "text": [
            "Epoch 1/10\n",
            "1875/1875 [==============================] - 14s 8ms/step - loss: 0.4198 - accuracy: 0.8566 - val_loss: 0.3333 - val_accuracy: 0.8803\n",
            "Epoch 2/10\n",
            "1875/1875 [==============================] - 14s 7ms/step - loss: 0.2538 - accuracy: 0.9058 - val_loss: 0.3061 - val_accuracy: 0.8934\n",
            "Epoch 3/10\n",
            "1875/1875 [==============================] - 14s 7ms/step - loss: 0.1945 - accuracy: 0.9285 - val_loss: 0.3018 - val_accuracy: 0.8988\n",
            "Epoch 4/10\n",
            "1875/1875 [==============================] - 14s 8ms/step - loss: 0.1515 - accuracy: 0.9444 - val_loss: 0.3368 - val_accuracy: 0.9031\n",
            "Epoch 5/10\n",
            "1875/1875 [==============================] - 14s 8ms/step - loss: 0.1212 - accuracy: 0.9564 - val_loss: 0.3641 - val_accuracy: 0.9002\n",
            "Epoch 6/10\n",
            "1875/1875 [==============================] - 14s 7ms/step - loss: 0.0940 - accuracy: 0.9663 - val_loss: 0.3795 - val_accuracy: 0.8957\n",
            "Epoch 7/10\n",
            "1875/1875 [==============================] - 14s 7ms/step - loss: 0.0769 - accuracy: 0.9727 - val_loss: 0.4266 - val_accuracy: 0.8987\n",
            "Epoch 8/10\n",
            "1875/1875 [==============================] - 14s 7ms/step - loss: 0.0577 - accuracy: 0.9789 - val_loss: 0.4825 - val_accuracy: 0.8982\n",
            "Epoch 9/10\n",
            "1875/1875 [==============================] - 14s 7ms/step - loss: 0.0519 - accuracy: 0.9816 - val_loss: 0.5450 - val_accuracy: 0.8980\n",
            "Epoch 10/10\n",
            "1875/1875 [==============================] - 14s 7ms/step - loss: 0.0436 - accuracy: 0.9847 - val_loss: 0.6169 - val_accuracy: 0.9009\n"
          ],
          "name": "stdout"
        }
      ]
    },
    {
      "cell_type": "code",
      "metadata": {
        "id": "4MIuDVUIhUeu",
        "colab_type": "code",
        "colab": {
          "base_uri": "https://localhost:8080/",
          "height": 663
        },
        "outputId": "192a9d31-a6ce-489f-fc71-66cd84639497"
      },
      "source": [
        "# plot the evolution of Loss and Acuracy on the train and validation sets\n",
        "\n",
        "import matplotlib.pyplot as plt\n",
        "\n",
        "plt.figure(figsize=(20,10))\n",
        "plt.subplot(1, 2, 1)\n",
        "plt.suptitle('Optimizer : Adam', fontsize=10)\n",
        "plt.ylabel('Loss', fontsize=16)\n",
        "plt.plot(history.history['loss'], label='Training Loss')\n",
        "plt.plot(history.history['val_loss'], label='Validation Loss')\n",
        "plt.legend(loc='upper right')\n",
        "\n",
        "plt.subplot(1, 2, 2)\n",
        "plt.ylabel('Accuracy', fontsize=16)\n",
        "plt.plot(history.history['accuracy'], label='Training Accuracy')\n",
        "plt.plot(history.history['val_accuracy'], label='Validation Accuracy')\n",
        "plt.legend(loc='lower right')\n",
        "plt.show()"
      ],
      "execution_count": 18,
      "outputs": [
        {
          "output_type": "display_data",
          "data": {
            "image/png": "[encoded data removed]",
            "text/plain": [
              "<Figure size 1440x720 with 2 Axes>"
            ]
          },
          "metadata": {
            "tags": [],
            "needs_background": "light"
          }
        }
      ]
    },
    {
      "cell_type": "markdown",
      "metadata": {
        "id": "ju69vKdIJjwX",
        "colab_type": "text"
      },
      "source": [
        "### Now, to the above model add `max` pooling layer of `filter size 2x2` and `dropout` layer with `p=0.25` after the 2 conv layers and run the model"
      ]
    },
    {
      "cell_type": "code",
      "metadata": {
        "id": "L2hAP94vJjwY",
        "colab_type": "code",
        "colab": {}
      },
      "source": [
        "#Clear any existing model in memory\n",
        "tf.keras.backend.clear_session()\n",
        "\n",
        "#Initialize model, reshape & normalize data\n",
        "model1 = tf.keras.models.Sequential()\n",
        "\n",
        "#Reshape data from 2D (28,28) to 3D (28, 28, 1)\n",
        "model1.add(tf.keras.layers.Reshape((28,28,1),input_shape=(28,28,)))\n",
        "\n",
        "#normalize data\n",
        "model1.add(tf.keras.layers.BatchNormalization())\n",
        "\n",
        "#Add first convolutional layer\n",
        "model1.add(tf.keras.layers.Conv2D(32, #Number of filters \n",
        "                                 kernel_size=(3,3), #Size of the filter\n",
        "                                 activation='relu'))\n",
        "\n",
        "#normalize data\n",
        "model1.add(tf.keras.layers.BatchNormalization())\n",
        "\n",
        "\n",
        "#Add first convolutional layer\n",
        "model1.add(tf.keras.layers.Conv2D(32, #Number of filters \n",
        "                                 kernel_size=(3,3), #Size of the filter\n",
        "                                 activation='relu'))\n",
        "\n",
        "#normalize data\n",
        "model1.add(tf.keras.layers.BatchNormalization())\n",
        "\n",
        "#Add MaxPooling layer\n",
        "model1.add(tf.keras.layers.MaxPool2D(pool_size=(2,2)))\n",
        "\n",
        "\n",
        "#Flatten the output\n",
        "model1.add(tf.keras.layers.Flatten())\n",
        "\n",
        "#Dense layer\n",
        "model1.add(tf.keras.layers.Dense(128, activation='relu'))\n",
        "\n",
        "#Add another dropout layer\n",
        "model1.add(tf.keras.layers.Dropout(0.25))\n",
        "\n",
        "#Output layer\n",
        "model1.add(tf.keras.layers.Dense(10, activation='softmax'))"
      ],
      "execution_count": 19,
      "outputs": []
    },
    {
      "cell_type": "code",
      "metadata": {
        "id": "km1BLGMVfwIF",
        "colab_type": "code",
        "colab": {}
      },
      "source": [
        "model1.compile(optimizer='adam', \n",
        "              loss='categorical_crossentropy', \n",
        "              metrics=['accuracy'])"
      ],
      "execution_count": 20,
      "outputs": []
    },
    {
      "cell_type": "code",
      "metadata": {
        "id": "kSGkY32Tf1Pz",
        "colab_type": "code",
        "colab": {
          "base_uri": "https://localhost:8080/",
          "height": 527
        },
        "outputId": "cf2ea5db-da80-4e1b-bfc5-a9df45c06846"
      },
      "source": [
        "model1.summary()"
      ],
      "execution_count": 21,
      "outputs": [
        {
          "output_type": "stream",
          "text": [
            "Model: \"sequential\"\n",
            "_________________________________________________________________\n",
            "Layer (type)                 Output Shape              Param #   \n",
            "=================================================================\n",
            "reshape (Reshape)            (None, 28, 28, 1)         0         \n",
            "_________________________________________________________________\n",
            "batch_normalization (BatchNo (None, 28, 28, 1)         4         \n",
            "_________________________________________________________________\n",
            "conv2d (Conv2D)              (None, 26, 26, 32)        320       \n",
            "_________________________________________________________________\n",
            "batch_normalization_1 (Batch (None, 26, 26, 32)        128       \n",
            "_________________________________________________________________\n",
            "conv2d_1 (Conv2D)            (None, 24, 24, 32)        9248      \n",
            "_________________________________________________________________\n",
            "batch_normalization_2 (Batch (None, 24, 24, 32)        128       \n",
            "_________________________________________________________________\n",
            "max_pooling2d (MaxPooling2D) (None, 12, 12, 32)        0         \n",
            "_________________________________________________________________\n",
            "flatten (Flatten)            (None, 4608)              0         \n",
            "_________________________________________________________________\n",
            "dense (Dense)                (None, 128)               589952    \n",
            "_________________________________________________________________\n",
            "dropout (Dropout)            (None, 128)               0         \n",
            "_________________________________________________________________\n",
            "dense_1 (Dense)              (None, 10)                1290      \n",
            "=================================================================\n",
            "Total params: 601,070\n",
            "Trainable params: 600,940\n",
            "Non-trainable params: 130\n",
            "_________________________________________________________________\n"
          ],
          "name": "stdout"
        }
      ]
    },
    {
      "cell_type": "code",
      "metadata": {
        "id": "nTh7gfvtf8bC",
        "colab_type": "code",
        "colab": {
          "base_uri": "https://localhost:8080/",
          "height": 357
        },
        "outputId": "fb8adc5f-6b66-421d-929d-fe846495da14"
      },
      "source": [
        "history1 = model.fit(x_train,y_train,\n",
        "                    epochs=10,\n",
        "                    verbose=1,\n",
        "                    callbacks=callback,\n",
        "                    validation_data=(x_test,y_test),\n",
        "                    batch_size=32)"
      ],
      "execution_count": 22,
      "outputs": [
        {
          "output_type": "stream",
          "text": [
            "Epoch 1/10\n",
            "1875/1875 [==============================] - 14s 7ms/step - loss: 0.0413 - accuracy: 0.9859 - val_loss: 0.5809 - val_accuracy: 0.9039\n",
            "Epoch 2/10\n",
            "1875/1875 [==============================] - 14s 7ms/step - loss: 0.0351 - accuracy: 0.9877 - val_loss: 0.5696 - val_accuracy: 0.9031\n",
            "Epoch 3/10\n",
            "1875/1875 [==============================] - 14s 7ms/step - loss: 0.0318 - accuracy: 0.9895 - val_loss: 0.6565 - val_accuracy: 0.9028\n",
            "Epoch 4/10\n",
            "1875/1875 [==============================] - 13s 7ms/step - loss: 0.0276 - accuracy: 0.9907 - val_loss: 0.7360 - val_accuracy: 0.9053\n",
            "Epoch 5/10\n",
            "1875/1875 [==============================] - 14s 7ms/step - loss: 0.0253 - accuracy: 0.9913 - val_loss: 0.8035 - val_accuracy: 0.9059\n",
            "Epoch 6/10\n",
            "1875/1875 [==============================] - 14s 7ms/step - loss: 0.0259 - accuracy: 0.9912 - val_loss: 0.7608 - val_accuracy: 0.8982\n",
            "Epoch 7/10\n",
            "1875/1875 [==============================] - 13s 7ms/step - loss: 0.0261 - accuracy: 0.9917 - val_loss: 0.6883 - val_accuracy: 0.8993\n",
            "Epoch 8/10\n",
            "1875/1875 [==============================] - 14s 7ms/step - loss: 0.0206 - accuracy: 0.9928 - val_loss: 0.7376 - val_accuracy: 0.8959\n",
            "Epoch 9/10\n",
            "1875/1875 [==============================] - 13s 7ms/step - loss: 0.0263 - accuracy: 0.9919 - val_loss: 0.6959 - val_accuracy: 0.8976\n",
            "Epoch 10/10\n",
            "1875/1875 [==============================] - 13s 7ms/step - loss: 0.0217 - accuracy: 0.9926 - val_loss: 0.8267 - val_accuracy: 0.9021\n"
          ],
          "name": "stdout"
        }
      ]
    },
    {
      "cell_type": "code",
      "metadata": {
        "id": "4ggmG5p8iHnB",
        "colab_type": "code",
        "colab": {
          "base_uri": "https://localhost:8080/",
          "height": 663
        },
        "outputId": "79a3eea8-8859-4260-b8b2-d1e1868ee26e"
      },
      "source": [
        "# plot the evolution of Loss and Acuracy on the train and validation sets\n",
        "\n",
        "import matplotlib.pyplot as plt\n",
        "\n",
        "plt.figure(figsize=(20,10))\n",
        "plt.subplot(1, 2, 1)\n",
        "plt.suptitle('Optimizer : Adam', fontsize=10)\n",
        "plt.ylabel('Loss', fontsize=16)\n",
        "plt.plot(history1.history['loss'], label='Training Loss')\n",
        "plt.plot(history1.history['val_loss'], label='Validation Loss')\n",
        "plt.legend(loc='upper right')\n",
        "\n",
        "plt.subplot(1, 2, 2)\n",
        "plt.ylabel('Accuracy', fontsize=16)\n",
        "plt.plot(history1.history['accuracy'], label='Training Accuracy')\n",
        "plt.plot(history1.history['val_accuracy'], label='Validation Accuracy')\n",
        "plt.legend(loc='lower right')\n",
        "plt.show()"
      ],
      "execution_count": 23,
      "outputs": [
        {
          "output_type": "display_data",
          "data": {
            "image/png": "[encoded data removed]",
            "text/plain": [
              "<Figure size 1440x720 with 2 Axes>"
            ]
          },
          "metadata": {
            "tags": [],
            "needs_background": "light"
          }
        }
      ]
    },
    {
      "cell_type": "markdown",
      "metadata": {
        "id": "lGTA3bfEJjwa",
        "colab_type": "text"
      },
      "source": [
        "### Now, to the above model, lets add Data Augmentation "
      ]
    },
    {
      "cell_type": "markdown",
      "metadata": {
        "id": "F6gX8n5SJjwb",
        "colab_type": "text"
      },
      "source": [
        "### Import the ImageDataGenrator from keras and fit the training images"
      ]
    },
    {
      "cell_type": "code",
      "metadata": {
        "id": "Cbz4uHBuJjwc",
        "colab_type": "code",
        "colab": {}
      },
      "source": [
        "#ImageDataGenerator declaration \n",
        "img_generator= tf.keras.preprocessing.image.ImageDataGenerator(rotation_range=20,\n",
        "                                                               width_shift_range=0.2,\n",
        "                                                               height_shift_range=0.2,\n",
        "                                                               horizontal_flip=True,)"
      ],
      "execution_count": 24,
      "outputs": []
    },
    {
      "cell_type": "markdown",
      "metadata": {
        "id": "pl-8dOo7Jjwf",
        "colab_type": "text"
      },
      "source": [
        "#### Showing 5 versions of the first image in training dataset using image datagenerator.flow()"
      ]
    },
    {
      "cell_type": "code",
      "metadata": {
        "scrolled": true,
        "id": "DpI1_McYJjwg",
        "colab_type": "code",
        "colab": {
          "base_uri": "https://localhost:8080/",
          "height": 89
        },
        "outputId": "fd7a1aa4-166d-49f9-e96e-41ca0b6797a6"
      },
      "source": [
        "from matplotlib import pyplot as plt\n",
        "gen = img_generator.flow(x_train[0:1], batch_size=1)\n",
        "for i in range(1, 6):\n",
        "    plt.subplot(1,5,i)\n",
        "    plt.axis(\"off\")\n",
        "    plt.imshow(gen.next().squeeze(), cmap='gray')\n",
        "    plt.plot()\n",
        "plt.show()"
      ],
      "execution_count": 25,
      "outputs": [
        {
          "output_type": "display_data",
          "data": {
            "image/png": "[encoded data removed]",
            "text/plain": [
              "<Figure size 432x288 with 5 Axes>"
            ]
          },
          "metadata": {
            "tags": [],
            "needs_background": "light"
          }
        }
      ]
    },
    {
      "cell_type": "code",
      "metadata": {
        "id": "choneZeqpAX8",
        "colab_type": "code",
        "colab": {}
      },
      "source": [
        "#Clear any existing model in memory\n",
        "tf.keras.backend.clear_session()\n",
        "\n",
        "#Initialize model, reshape & normalize data\n",
        "model2 = tf.keras.models.Sequential()\n",
        "\n",
        "#Reshape data from 2D (28,28) to 3D (28, 28, 1)\n",
        "model2.add(tf.keras.layers.Reshape((28,28,1),input_shape=(28,28,)))\n",
        "\n",
        "#normalize data\n",
        "model2.add(tf.keras.layers.BatchNormalization())\n",
        "\n",
        "#Add first convolutional layer\n",
        "model2.add(tf.keras.layers.Conv2D(32, #Number of filters \n",
        "                                 kernel_size=(3,3), #Size of the filter\n",
        "                                 activation='relu'))\n",
        "\n",
        "#normalize data\n",
        "model2.add(tf.keras.layers.BatchNormalization())\n",
        "\n",
        "\n",
        "#Add first convolutional layer\n",
        "model2.add(tf.keras.layers.Conv2D(32, #Number of filters \n",
        "                                 kernel_size=(3,3), #Size of the filter\n",
        "                                 activation='relu'))\n",
        "\n",
        "#normalize data\n",
        "model2.add(tf.keras.layers.BatchNormalization())\n",
        "\n",
        "#Add MaxPooling layer\n",
        "model2.add(tf.keras.layers.MaxPool2D(pool_size=(2,2)))\n",
        "\n",
        "\n",
        "#Flatten the output\n",
        "model2.add(tf.keras.layers.Flatten())\n",
        "\n",
        "#Dense layer\n",
        "model2.add(tf.keras.layers.Dense(128, activation='relu'))\n",
        "\n",
        "#Add another dropout layer\n",
        "model2.add(tf.keras.layers.Dropout(0.25))\n",
        "\n",
        "#Output layer\n",
        "model2.add(tf.keras.layers.Dense(10, activation='softmax'))"
      ],
      "execution_count": 26,
      "outputs": []
    },
    {
      "cell_type": "code",
      "metadata": {
        "id": "7Ja9mbqRpM71",
        "colab_type": "code",
        "colab": {}
      },
      "source": [
        "model2.compile(optimizer='adam', \n",
        "              loss='categorical_crossentropy', \n",
        "              metrics=['accuracy'])"
      ],
      "execution_count": 27,
      "outputs": []
    },
    {
      "cell_type": "code",
      "metadata": {
        "id": "tGdbaysTpTh0",
        "colab_type": "code",
        "colab": {
          "base_uri": "https://localhost:8080/",
          "height": 527
        },
        "outputId": "c35634d1-3160-4471-d6a2-38ff7b879bd3"
      },
      "source": [
        "model2.summary()"
      ],
      "execution_count": 28,
      "outputs": [
        {
          "output_type": "stream",
          "text": [
            "Model: \"sequential\"\n",
            "_________________________________________________________________\n",
            "Layer (type)                 Output Shape              Param #   \n",
            "=================================================================\n",
            "reshape (Reshape)            (None, 28, 28, 1)         0         \n",
            "_________________________________________________________________\n",
            "batch_normalization (BatchNo (None, 28, 28, 1)         4         \n",
            "_________________________________________________________________\n",
            "conv2d (Conv2D)              (None, 26, 26, 32)        320       \n",
            "_________________________________________________________________\n",
            "batch_normalization_1 (Batch (None, 26, 26, 32)        128       \n",
            "_________________________________________________________________\n",
            "conv2d_1 (Conv2D)            (None, 24, 24, 32)        9248      \n",
            "_________________________________________________________________\n",
            "batch_normalization_2 (Batch (None, 24, 24, 32)        128       \n",
            "_________________________________________________________________\n",
            "max_pooling2d (MaxPooling2D) (None, 12, 12, 32)        0         \n",
            "_________________________________________________________________\n",
            "flatten (Flatten)            (None, 4608)              0         \n",
            "_________________________________________________________________\n",
            "dense (Dense)                (None, 128)               589952    \n",
            "_________________________________________________________________\n",
            "dropout (Dropout)            (None, 128)               0         \n",
            "_________________________________________________________________\n",
            "dense_1 (Dense)              (None, 10)                1290      \n",
            "=================================================================\n",
            "Total params: 601,070\n",
            "Trainable params: 600,940\n",
            "Non-trainable params: 130\n",
            "_________________________________________________________________\n"
          ],
          "name": "stdout"
        }
      ]
    },
    {
      "cell_type": "markdown",
      "metadata": {
        "id": "dmPl5yE8Jjwm",
        "colab_type": "text"
      },
      "source": [
        "### Run the above model using fit_generator()"
      ]
    },
    {
      "cell_type": "code",
      "metadata": {
        "id": "44ZnDdJYJjwn",
        "colab_type": "code",
        "colab": {
          "base_uri": "https://localhost:8080/",
          "height": 1000
        },
        "outputId": "e9a24c86-e18a-48a4-9d8c-68522301fb60"
      },
      "source": [
        "history2 = model2.fit_generator(img_generator.flow(x_train, y_train, batch_size=32),\n",
        "                    epochs=30,\n",
        "                    verbose=1,\n",
        "                    callbacks=callback,\n",
        "                    validation_data=(x_test,y_test))"
      ],
      "execution_count": 29,
      "outputs": [
        {
          "output_type": "stream",
          "text": [
            "WARNING:tensorflow:From <ipython-input-29-7f35b54ba367>:5: Model.fit_generator (from tensorflow.python.keras.engine.training) is deprecated and will be removed in a future version.\n",
            "Instructions for updating:\n",
            "Please use Model.fit, which supports generators.\n",
            "Epoch 1/30\n",
            "WARNING:tensorflow:Model was constructed with shape (None, 28, 28) for input Tensor(\"reshape_input:0\", shape=(None, 28, 28), dtype=float32), but it was called on an input with incompatible shape (None, None, None, None).\n",
            "WARNING:tensorflow:Model was constructed with shape (None, 28, 28) for input Tensor(\"reshape_input:0\", shape=(None, 28, 28), dtype=float32), but it was called on an input with incompatible shape (None, None, None, None).\n",
            "1875/1875 [==============================] - 30s 16ms/step - loss: 0.8925 - accuracy: 0.6715 - val_loss: 0.6515 - val_accuracy: 0.7442\n",
            "Epoch 2/30\n",
            "1875/1875 [==============================] - 30s 16ms/step - loss: 0.6876 - accuracy: 0.7421 - val_loss: 0.5841 - val_accuracy: 0.7849\n",
            "Epoch 3/30\n",
            "1875/1875 [==============================] - 31s 16ms/step - loss: 0.6229 - accuracy: 0.7663 - val_loss: 0.5387 - val_accuracy: 0.8095\n",
            "Epoch 4/30\n",
            "1875/1875 [==============================] - 30s 16ms/step - loss: 0.5844 - accuracy: 0.7817 - val_loss: 0.4903 - val_accuracy: 0.8123\n",
            "Epoch 5/30\n",
            "1875/1875 [==============================] - 31s 16ms/step - loss: 0.5521 - accuracy: 0.7944 - val_loss: 0.4897 - val_accuracy: 0.8211\n",
            "Epoch 6/30\n",
            "1875/1875 [==============================] - 30s 16ms/step - loss: 0.5306 - accuracy: 0.8000 - val_loss: 0.4294 - val_accuracy: 0.8380\n",
            "Epoch 7/30\n",
            "1875/1875 [==============================] - 30s 16ms/step - loss: 0.5138 - accuracy: 0.8092 - val_loss: 0.4626 - val_accuracy: 0.8236\n",
            "Epoch 8/30\n",
            "1875/1875 [==============================] - 30s 16ms/step - loss: 0.5021 - accuracy: 0.8140 - val_loss: 0.4424 - val_accuracy: 0.8391\n",
            "Epoch 9/30\n",
            "1875/1875 [==============================] - 30s 16ms/step - loss: 0.4865 - accuracy: 0.8211 - val_loss: 0.4357 - val_accuracy: 0.8356\n",
            "Epoch 10/30\n",
            "1875/1875 [==============================] - 30s 16ms/step - loss: 0.4769 - accuracy: 0.8232 - val_loss: 0.5226 - val_accuracy: 0.8081\n",
            "Epoch 11/30\n",
            "1875/1875 [==============================] - 30s 16ms/step - loss: 0.4672 - accuracy: 0.8271 - val_loss: 0.4402 - val_accuracy: 0.8290\n",
            "Epoch 12/30\n",
            "1875/1875 [==============================] - 30s 16ms/step - loss: 0.4605 - accuracy: 0.8297 - val_loss: 0.5311 - val_accuracy: 0.7940\n",
            "Epoch 13/30\n",
            "1875/1875 [==============================] - 30s 16ms/step - loss: 0.4524 - accuracy: 0.8313 - val_loss: 0.4224 - val_accuracy: 0.8449\n",
            "Epoch 14/30\n",
            "1875/1875 [==============================] - 31s 16ms/step - loss: 0.4470 - accuracy: 0.8344 - val_loss: 0.4344 - val_accuracy: 0.8441\n",
            "Epoch 15/30\n",
            "1875/1875 [==============================] - 30s 16ms/step - loss: 0.4442 - accuracy: 0.8350 - val_loss: 0.3975 - val_accuracy: 0.8550\n",
            "Epoch 16/30\n",
            "1875/1875 [==============================] - 30s 16ms/step - loss: 0.4394 - accuracy: 0.8380 - val_loss: 0.3887 - val_accuracy: 0.8605\n",
            "Epoch 17/30\n",
            "1875/1875 [==============================] - 30s 16ms/step - loss: 0.4368 - accuracy: 0.8390 - val_loss: 0.4083 - val_accuracy: 0.8514\n",
            "Epoch 18/30\n",
            "1875/1875 [==============================] - 30s 16ms/step - loss: 0.4321 - accuracy: 0.8394 - val_loss: 0.4087 - val_accuracy: 0.8494\n",
            "Epoch 19/30\n",
            "1875/1875 [==============================] - 31s 16ms/step - loss: 0.4254 - accuracy: 0.8421 - val_loss: 0.4071 - val_accuracy: 0.8529\n",
            "Epoch 20/30\n",
            "1875/1875 [==============================] - 30s 16ms/step - loss: 0.4253 - accuracy: 0.8438 - val_loss: 0.3778 - val_accuracy: 0.8598\n",
            "Epoch 21/30\n",
            "1875/1875 [==============================] - 31s 16ms/step - loss: 0.4203 - accuracy: 0.8462 - val_loss: 0.3914 - val_accuracy: 0.8578\n",
            "Epoch 22/30\n",
            "1875/1875 [==============================] - 30s 16ms/step - loss: 0.4177 - accuracy: 0.8457 - val_loss: 0.3724 - val_accuracy: 0.8643\n",
            "Epoch 23/30\n",
            "1875/1875 [==============================] - 30s 16ms/step - loss: 0.4111 - accuracy: 0.8488 - val_loss: 0.3974 - val_accuracy: 0.8587\n",
            "Epoch 24/30\n",
            "1875/1875 [==============================] - 31s 17ms/step - loss: 0.4116 - accuracy: 0.8491 - val_loss: 0.5538 - val_accuracy: 0.7853\n",
            "Epoch 25/30\n",
            "1875/1875 [==============================] - 31s 16ms/step - loss: 0.4093 - accuracy: 0.8493 - val_loss: 0.4749 - val_accuracy: 0.8184\n",
            "Epoch 26/30\n",
            "1875/1875 [==============================] - 30s 16ms/step - loss: 0.4080 - accuracy: 0.8499 - val_loss: 0.3590 - val_accuracy: 0.8699\n",
            "Epoch 27/30\n",
            "1875/1875 [==============================] - 30s 16ms/step - loss: 0.4079 - accuracy: 0.8497 - val_loss: 0.3865 - val_accuracy: 0.8577\n",
            "Epoch 28/30\n",
            "1875/1875 [==============================] - 30s 16ms/step - loss: 0.4098 - accuracy: 0.8510 - val_loss: 0.3735 - val_accuracy: 0.8585\n",
            "Epoch 29/30\n",
            "1875/1875 [==============================] - 31s 16ms/step - loss: 0.4033 - accuracy: 0.8507 - val_loss: 0.3665 - val_accuracy: 0.8634\n",
            "Epoch 30/30\n",
            "1875/1875 [==============================] - 30s 16ms/step - loss: 0.4028 - accuracy: 0.8516 - val_loss: 0.3709 - val_accuracy: 0.8642\n"
          ],
          "name": "stdout"
        }
      ]
    },
    {
      "cell_type": "markdown",
      "metadata": {
        "id": "MwQQW5iOJjwq",
        "colab_type": "text"
      },
      "source": [
        "###  Report the final train and validation accuracy"
      ]
    },
    {
      "cell_type": "code",
      "metadata": {
        "id": "c1SrtBEPJjwq",
        "colab_type": "code",
        "colab": {
          "base_uri": "https://localhost:8080/",
          "height": 663
        },
        "outputId": "01e4319f-87f3-4075-f447-3ffb90f48c9b"
      },
      "source": [
        "import matplotlib.pyplot as plt\n",
        "\n",
        "plt.figure(figsize=(20,10))\n",
        "plt.subplot(1, 2, 1)\n",
        "plt.suptitle('Optimizer : Adam', fontsize=10)\n",
        "plt.ylabel('Loss', fontsize=16)\n",
        "plt.plot(history2.history['loss'], label='Training Loss')\n",
        "plt.plot(history2.history['val_loss'], label='Validation Loss')\n",
        "plt.legend(loc='upper right')\n",
        "\n",
        "plt.subplot(1, 2, 2)\n",
        "plt.ylabel('Accuracy', fontsize=16)\n",
        "plt.plot(history2.history['accuracy'], label='Training Accuracy')\n",
        "plt.plot(history2.history['val_accuracy'], label='Validation Accuracy')\n",
        "plt.legend(loc='lower right')\n",
        "plt.show()"
      ],
      "execution_count": 30,
      "outputs": [
        {
          "output_type": "display_data",
          "data": {
            "image/png": "[encoded data removed]",
            "text/plain": [
              "<Figure size 1440x720 with 2 Axes>"
            ]
          },
          "metadata": {
            "tags": [],
            "needs_background": "light"
          }
        }
      ]
    },
    {
      "cell_type": "code",
      "metadata": {
        "id": "aJEi8b-3zH5q",
        "colab_type": "code",
        "colab": {
          "base_uri": "https://localhost:8080/",
          "height": 88
        },
        "outputId": "770309a0-5e37-46b2-aecc-4c493d76f96e"
      },
      "source": [
        "print(history.history)\n",
        "print(history1.history)\n",
        "print(history2.history)"
      ],
      "execution_count": 31,
      "outputs": [
        {
          "output_type": "stream",
          "text": [
            "{'loss': [0.4198013246059418, 0.25377556681632996, 0.19445310533046722, 0.15153324604034424, 0.12123867869377136, 0.09404047578573227, 0.07688084989786148, 0.057708896696567535, 0.05191398411989212, 0.04355201870203018], 'accuracy': [0.8566499948501587, 0.9058499932289124, 0.9284666776657104, 0.9443833231925964, 0.9563833475112915, 0.9662500023841858, 0.9726666808128357, 0.9788833260536194, 0.9815833568572998, 0.9847333431243896], 'val_loss': [0.3333311080932617, 0.30612656474113464, 0.3017843961715698, 0.3367897570133209, 0.3640604317188263, 0.3795468211174011, 0.42657017707824707, 0.4824909567832947, 0.5450251698493958, 0.6169309616088867], 'val_accuracy': [0.880299985408783, 0.8934000134468079, 0.8988000154495239, 0.9031000137329102, 0.9002000093460083, 0.8956999778747559, 0.8986999988555908, 0.8981999754905701, 0.8980000019073486, 0.9009000062942505]}\n",
            "{'loss': [0.04131726175546646, 0.03506796061992645, 0.03183041140437126, 0.027563704177737236, 0.02527594566345215, 0.025850268080830574, 0.026107748970389366, 0.02064313367009163, 0.026310106739401817, 0.021670330315828323], 'accuracy': [0.9858666658401489, 0.9876999855041504, 0.989466667175293, 0.9907166957855225, 0.9912999868392944, 0.9911500215530396, 0.9916999936103821, 0.9928333163261414, 0.9919333457946777, 0.9926499724388123], 'val_loss': [0.5809106826782227, 0.5696214437484741, 0.6565369367599487, 0.735953688621521, 0.8034918904304504, 0.7607563734054565, 0.6883422136306763, 0.7375973463058472, 0.6959359049797058, 0.826729416847229], 'val_accuracy': [0.9039000272750854, 0.9031000137329102, 0.9028000235557556, 0.9053000211715698, 0.9059000015258789, 0.8981999754905701, 0.8992999792098999, 0.8959000110626221, 0.897599995136261, 0.9021000266075134]}\n",
            "{'loss': [0.8924541473388672, 0.6876043081283569, 0.6228842735290527, 0.5844200253486633, 0.5520754456520081, 0.5306279063224792, 0.5137779116630554, 0.5021341443061829, 0.48649218678474426, 0.47693154215812683, 0.4671810567378998, 0.4604644179344177, 0.45240095257759094, 0.44703710079193115, 0.44421955943107605, 0.4394336938858032, 0.43680498003959656, 0.4321235120296478, 0.42535531520843506, 0.42530906200408936, 0.42029717564582825, 0.4176853895187378, 0.4110606014728546, 0.4115634262561798, 0.4092698097229004, 0.40795084834098816, 0.4078858494758606, 0.40979185700416565, 0.4033336937427521, 0.402798593044281], 'accuracy': [0.6714500188827515, 0.7421166896820068, 0.7663499712944031, 0.7816666960716248, 0.7943999767303467, 0.7999500036239624, 0.8092166781425476, 0.8140333294868469, 0.821066677570343, 0.8231666684150696, 0.8270833492279053, 0.829716682434082, 0.8313166499137878, 0.8343833088874817, 0.835016667842865, 0.8380166888237, 0.839033305644989, 0.8394333124160767, 0.8420666456222534, 0.8437666893005371, 0.8461833596229553, 0.845716655254364, 0.848800003528595, 0.8490999937057495, 0.8493333458900452, 0.8499166369438171, 0.8496500253677368, 0.8509500026702881, 0.8507166504859924, 0.8515666723251343], 'val_loss': [0.6515156626701355, 0.5840745568275452, 0.5386688709259033, 0.4903048276901245, 0.489656001329422, 0.4293721318244934, 0.4626021087169647, 0.4423792064189911, 0.43565404415130615, 0.5226237177848816, 0.4401905834674835, 0.5311317443847656, 0.42239853739738464, 0.4343647360801697, 0.3974871039390564, 0.3886936604976654, 0.4082820415496826, 0.4086826741695404, 0.4070667624473572, 0.3778194189071655, 0.39139264822006226, 0.37237992882728577, 0.3973824679851532, 0.553790807723999, 0.47485166788101196, 0.3589860796928406, 0.38651418685913086, 0.37347856163978577, 0.36654049158096313, 0.3708592653274536], 'val_accuracy': [0.7441999912261963, 0.7849000096321106, 0.809499979019165, 0.8123000264167786, 0.8210999965667725, 0.8379999995231628, 0.8235999941825867, 0.8391000032424927, 0.8356000185012817, 0.8080999851226807, 0.8289999961853027, 0.7940000295639038, 0.8449000120162964, 0.8440999984741211, 0.8550000190734863, 0.8604999780654907, 0.8514000177383423, 0.849399983882904, 0.8529000282287598, 0.8597999811172485, 0.8578000068664551, 0.864300012588501, 0.8586999773979187, 0.7853000164031982, 0.8184000253677368, 0.8698999881744385, 0.857699990272522, 0.8585000038146973, 0.8633999824523926, 0.8641999959945679]}\n"
          ],
          "name": "stdout"
        }
      ]
    },
    {
      "cell_type": "code",
      "metadata": {
        "id": "8pgy-sEc_nEK",
        "colab_type": "code",
        "colab": {
          "base_uri": "https://localhost:8080/",
          "height": 51
        },
        "outputId": "42056a39-d5e0-4ce2-ec71-030a6d1fbc61"
      },
      "source": [
        "model2.evaluate(x_test,y_test)"
      ],
      "execution_count": 94,
      "outputs": [
        {
          "output_type": "stream",
          "text": [
            "313/313 [==============================] - 1s 5ms/step - loss: 0.3709 - accuracy: 0.8642\n"
          ],
          "name": "stdout"
        },
        {
          "output_type": "execute_result",
          "data": {
            "text/plain": [
              "[0.3708592653274536, 0.8641999959945679]"
            ]
          },
          "metadata": {
            "tags": []
          },
          "execution_count": 94
        }
      ]
    },
    {
      "cell_type": "code",
      "metadata": {
        "id": "yAfffolO0fjR",
        "colab_type": "code",
        "colab": {
          "base_uri": "https://localhost:8080/",
          "height": 34
        },
        "outputId": "8c7b935b-d37b-4f0f-c605-8dca39b5be06"
      },
      "source": [
        "x_test.shape"
      ],
      "execution_count": 38,
      "outputs": [
        {
          "output_type": "execute_result",
          "data": {
            "text/plain": [
              "(10000, 28, 28)"
            ]
          },
          "metadata": {
            "tags": []
          },
          "execution_count": 38
        }
      ]
    },
    {
      "cell_type": "code",
      "metadata": {
        "id": "UXBPxqi41A_6",
        "colab_type": "code",
        "colab": {}
      },
      "source": [
        "import numpy as np\n",
        "x_test =  np.squeeze(x_test)"
      ],
      "execution_count": 37,
      "outputs": []
    },
    {
      "cell_type": "code",
      "metadata": {
        "id": "Fr9MCL6Nzoik",
        "colab_type": "code",
        "colab": {
          "base_uri": "https://localhost:8080/",
          "height": 294
        },
        "outputId": "89892f9c-8383-47d6-fcf7-4bfe4d363a97"
      },
      "source": [
        "img_num = np.random.randint(0, x_test.shape[0])\n",
        "\n",
        "#Prediction\n",
        "prediction = model2.predict(np.expand_dims(x_test[img_num], axis=0))\n",
        "\n",
        "#class with the highest probability \n",
        "predicted_class = np.argmax(prediction[0])\n",
        "\n",
        "#Show results\n",
        "plt.imshow(x_test[img_num],cmap='gray') #Show the image from test dataset\n",
        "plt.suptitle('Actual: ' + str(np.argmax(y_test[img_num])) + ', Predicted: ' + str(predicted_class))\n",
        "plt.show()"
      ],
      "execution_count": 42,
      "outputs": [
        {
          "output_type": "display_data",
          "data": {
            "image/png": "[encoded data removed]",
            "text/plain": [
              "<Figure size 432x288 with 1 Axes>"
            ]
          },
          "metadata": {
            "tags": [],
            "needs_background": "light"
          }
        }
      ]
    },
    {
      "cell_type": "markdown",
      "metadata": {
        "id": "8KXqmUDW2rM1",
        "colab_type": "text"
      },
      "source": [
        "## **DATA AUGMENTATION ON CIFAR10 DATASET**\n"
      ]
    },
    {
      "cell_type": "markdown",
      "metadata": {
        "id": "8mja6OgQ3L18",
        "colab_type": "text"
      },
      "source": [
        "One of the best ways to improve the performance of a Deep Learning model is to add more data to the training set. Aside from gathering more instances from the wild that are representative of the distinction task, we want to develop a set of methods that enhance the data we already have. There are many ways to augment existing datasets and produce more robust models. In the image domain, these are done to utilize the full power of the convolutional neural network, which is able to capture translational invariance. This translational invariance is what makes image recognition such a difficult task in the first place. You want the dataset to be representative of the many different positions, angles, lightings, and miscellaneous distortions that are of interest to the vision task."
      ]
    },
    {
      "cell_type": "markdown",
      "metadata": {
        "id": "6HzVTPUM3WZJ",
        "colab_type": "text"
      },
      "source": [
        "### **Import neessary libraries for data augmentation**"
      ]
    },
    {
      "cell_type": "code",
      "metadata": {
        "id": "PPM558TX4KMb",
        "colab_type": "code",
        "colab": {}
      },
      "source": [
        "import tensorflow as tf"
      ],
      "execution_count": 43,
      "outputs": []
    },
    {
      "cell_type": "markdown",
      "metadata": {
        "id": "W6hicLwP4SqY",
        "colab_type": "text"
      },
      "source": [
        "### **Load CIFAR10 dataset**"
      ]
    },
    {
      "cell_type": "code",
      "metadata": {
        "id": "NQ1WzrXd4WNk",
        "colab_type": "code",
        "colab": {}
      },
      "source": [
        "#Download the data\n",
        "(trainX, trainY), (testX,testY) = tf.keras.datasets.cifar10.load_data()\n"
      ],
      "execution_count": 57,
      "outputs": []
    },
    {
      "cell_type": "code",
      "metadata": {
        "id": "R9Pht1ggHuiT",
        "colab_type": "code",
        "colab": {
          "base_uri": "https://localhost:8080/",
          "height": 34
        },
        "outputId": "3049aab6-d2cb-41c4-bcec-654218fbb978"
      },
      "source": [
        "trainX.shape"
      ],
      "execution_count": 58,
      "outputs": [
        {
          "output_type": "execute_result",
          "data": {
            "text/plain": [
              "(50000, 32, 32, 3)"
            ]
          },
          "metadata": {
            "tags": []
          },
          "execution_count": 58
        }
      ]
    },
    {
      "cell_type": "code",
      "metadata": {
        "id": "3n28ccU6Hp6s",
        "colab_type": "code",
        "colab": {
          "base_uri": "https://localhost:8080/",
          "height": 34
        },
        "outputId": "d3666918-d672-4824-c6a0-efa3c90293f6"
      },
      "source": [
        "trainY.shape"
      ],
      "execution_count": 59,
      "outputs": [
        {
          "output_type": "execute_result",
          "data": {
            "text/plain": [
              "(50000, 1)"
            ]
          },
          "metadata": {
            "tags": []
          },
          "execution_count": 59
        }
      ]
    },
    {
      "cell_type": "markdown",
      "metadata": {
        "id": "JN3vYYhK4W0u",
        "colab_type": "text"
      },
      "source": [
        "### **Create a data_gen funtion to genererator with image rotation,shifting image horizontally and vertically with random flip horizontally.**"
      ]
    },
    {
      "cell_type": "code",
      "metadata": {
        "id": "JJbekTKi4cmM",
        "colab_type": "code",
        "colab": {}
      },
      "source": [
        "#ImageDataGenerator declaration \n",
        "data_gen = tf.keras.preprocessing.image.ImageDataGenerator(rotation_range=20,\n",
        "                                                               width_shift_range=0.2,\n",
        "                                                               height_shift_range=0.2,\n",
        "                                                               horizontal_flip=True,)"
      ],
      "execution_count": 60,
      "outputs": []
    },
    {
      "cell_type": "markdown",
      "metadata": {
        "id": "e-SLtUhC4dK2",
        "colab_type": "text"
      },
      "source": [
        "### **Prepare/fit the generator.**"
      ]
    },
    {
      "cell_type": "code",
      "metadata": {
        "id": "CSw8Bv2_4hb0",
        "colab_type": "code",
        "colab": {}
      },
      "source": [
        "data_gen.fit(trainX)"
      ],
      "execution_count": 66,
      "outputs": []
    },
    {
      "cell_type": "markdown",
      "metadata": {
        "id": "gYyF-P8O4jQ8",
        "colab_type": "text"
      },
      "source": [
        "### **Generate 5 images for 1 of the image of CIFAR10 train dataset.**"
      ]
    },
    {
      "cell_type": "code",
      "metadata": {
        "id": "s41q3qBc34Np",
        "colab_type": "code",
        "colab": {
          "base_uri": "https://localhost:8080/",
          "height": 89
        },
        "outputId": "6a58975b-17e2-42eb-d6f0-8530a7050552"
      },
      "source": [
        "gen = data_gen.flow(trainX[0:10], batch_size=1)\n",
        "for i in range(1, 5):\n",
        "    plt.subplot(1,5,i)\n",
        "    plt.axis(\"off\")\n",
        "    plt.imshow(gen.next().squeeze().astype(np.uint8), cmap='gray')\n",
        "    plt.plot()\n",
        "plt.show()"
      ],
      "execution_count": 91,
      "outputs": [
        {
          "output_type": "display_data",
          "data": {
            "image/png": "[encoded data removed]",
            "text/plain": [
              "<Figure size 432x288 with 4 Axes>"
            ]
          },
          "metadata": {
            "tags": [],
            "needs_background": "light"
          }
        }
      ]
    },
    {
      "cell_type": "code",
      "metadata": {
        "id": "VwKagaoz9q-g",
        "colab_type": "code",
        "colab": {}
      },
      "source": [
        ""
      ],
      "execution_count": null,
      "outputs": []
    }
  ]
}